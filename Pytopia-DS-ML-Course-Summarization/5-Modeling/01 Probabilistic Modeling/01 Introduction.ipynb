{
 "cells": [
  {
   "cell_type": "markdown",
   "id": "32c4fb52-422c-45ae-9632-84df00c1822b",
   "metadata": {},
   "source": [
    "<img src=\"../../../images/banners/ml.png\" width=\"600\"/>"
   ]
  },
  {
   "cell_type": "markdown",
   "id": "0bb2203f-c2f9-4b73-8937-c087b1117e14",
   "metadata": {},
   "source": [
    "<a class=\"anchor\" id=\"intro_to_data_structures\"></a>\n",
    "# <img src=\"../../../images/logos/ml-logo.png\" width=\"23\"/> Introduction to Probabilistic Modeling"
   ]
  },
  {
   "cell_type": "markdown",
   "id": "c6d27276-167f-4a01-8c47-9f29e6cbff30",
   "metadata": {},
   "source": [
    "## <img src=\"../../../images/logos/toc.png\" width=\"20\"/> Table of Contents \n",
    "* [Referene Books and Materials](#)\n",
    "\n",
    "---"
   ]
  },
  {
   "cell_type": "markdown",
   "id": "5132e855-a97b-472d-b051-f4c4e2615524",
   "metadata": {},
   "source": [
    "## Reference Books and Materials"
   ]
  },
  {
   "cell_type": "markdown",
   "id": "1bb04061-06aa-4715-9db8-46ce3ec711cd",
   "metadata": {},
   "source": [
    "- <img src=\"../../../images/logos/book.png\" width=\"16\"/> [Machine Learning Handbook by Martha White](https://marthawhite.github.io/mlcourse/notes.pdf)\n",
    "- <img src=\"../../../images/logos/book.png\" width=\"16\"/> Pattern Recognition and Machine Learning Book by Christopher Bishop\n",
    "- <img src=\"../../../images/logos/book.png\" width=\"16\"/> [Deep Learning](https://www.deeplearningbook.org/) by Ian Goodfellow and Yoshua Bengio and Aaron Courville\n",
    "- [Scikit Learn User Guide](https://scikit-learn.org/stable/user_guide.html)"
   ]
  },
  {
   "cell_type": "markdown",
   "id": "7d3cd9f2-6022-4e6f-add6-fcdf858d9994",
   "metadata": {},
   "source": [
    "<img src=\"../images/ml-algorithms.png\" width=\"600\"/>"
   ]
  }
 ],
 "metadata": {
  "kernelspec": {
   "display_name": "Python 3 (ipykernel)",
   "language": "python",
   "name": "python3"
  },
  "language_info": {
   "codemirror_mode": {
    "name": "ipython",
    "version": 3
   },
   "file_extension": ".py",
   "mimetype": "text/x-python",
   "name": "python",
   "nbconvert_exporter": "python",
   "pygments_lexer": "ipython3",
   "version": "3.11.8"
  }
 },
 "nbformat": 4,
 "nbformat_minor": 5
}
