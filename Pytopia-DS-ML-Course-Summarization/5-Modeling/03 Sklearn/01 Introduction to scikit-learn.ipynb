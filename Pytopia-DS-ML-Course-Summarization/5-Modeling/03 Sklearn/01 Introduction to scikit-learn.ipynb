{
 "cells": [
  {
   "cell_type": "markdown",
   "id": "8a70ef71-eac6-466c-9cf6-f91d9730b106",
   "metadata": {},
   "source": [
    "<img src=\"../../../images/banners/sklearn.png\" width=\"500\"/>"
   ]
  },
  {
   "cell_type": "markdown",
   "id": "e8afd64e-2431-4282-afc0-8fa6e400ac62",
   "metadata": {},
   "source": [
    "<a class=\"anchor\" id=\"intro_to_data_structures\"></a>\n",
    "# <img src=\"../../../images/logos/sklearn.png\" width=\"40\"/> An introduction to machine learning with scikit-learn"
   ]
  },
  {
   "cell_type": "markdown",
   "id": "2d75a1d0-a0b9-460e-8777-19dafa7b49ce",
   "metadata": {},
   "source": [
    "## <img src=\"../../../images/logos/toc.png\" width=\"20\"/> Table of Contents \n",
    "\n",
    "* [Machine learning: the problem setting](#machine_learning:_the_problem_setting)\n",
    "* [Loading an example dataset](#loading_an_example_dataset)\n",
    "* [Learning and predicting](#learning_and_predicting)\n",
    "* [Conventions](#conventions)\n",
    "    * [Type casting](#type_casting)\n",
    "    * [Refitting and updating parameters](#refitting_and_updating_parameters)\n",
    "    * [Multiclass vs. multilabel fitting](#multiclass_vs._multilabel_fitting)\n",
    "* [FAQ](#faq)\n",
    "---"
   ]
  },
  {
   "cell_type": "markdown",
   "id": "c79d4ef4-de6e-4448-8e47-b08e80789adf",
   "metadata": {},
   "source": [
    "scikit-learn was initially developed by David Cournapeau as a Google Summer of Code project in 2007. Later that year, Matthieu Brucher joined the project and started to use it as a part of his thesis work. In 2010, [INRIA](https://en.wikipedia.org/wiki/French_Institute_for_Research_in_Computer_Science_and_Automation), the French Institute for Research in Computer Science and Automation, got involved and the first public release (v0.1 beta) was published in late January 2010."
   ]
  },
  {
   "cell_type": "markdown",
   "id": "9a22e852-be5d-4061-9eef-fb1c9df6d5e3",
   "metadata": {},
   "source": [
    "Now, `Scikit-learn` is an open source machine learning library that supports supervised and unsupervised learning. It also provides various tools for model fitting, data preprocessing, model selection, model evaluation, and many other utilities."
   ]
  },
  {
   "cell_type": "markdown",
   "id": "15b9592b-bec2-4291-8b74-58966eff8673",
   "metadata": {},
   "source": [
    "## Installing scikit-learn"
   ]
  },
  {
   "cell_type": "markdown",
   "id": "2f167ad1-6b70-496f-887f-845050c92cb4",
   "metadata": {},
   "source": [
    "There are different ways to install scikit-learn. Read [sklearn official documentation](https://scikit-learn.org/stable/install.html) to learn more."
   ]
  },
  {
   "cell_type": "markdown",
   "id": "e1b42f74-b7c4-42fe-90bd-93a5d642c0fb",
   "metadata": {},
   "source": [
    "With `pip`:\n",
    "\n",
    "```bash\n",
    "pip install -U scikit-learn\n",
    "```"
   ]
  },
  {
   "cell_type": "markdown",
   "id": "7e97a6c0-4c8e-4e12-b951-ac438ab74097",
   "metadata": {},
   "source": [
    "With `conda`:\n",
    "\n",
    "```bash\n",
    "$ conda create -n sklearn-env -c conda-forge scikit-learn\n",
    "$ conda activate sklearn-env\n",
    "```"
   ]
  },
  {
   "cell_type": "markdown",
   "id": "6e8531bb-3c74-4c0b-8e57-3ba1ab1b6be6",
   "metadata": {},
   "source": [
    "<a class=\"anchor\" id=\"machine_learning:_the_problem_setting\"></a>\n",
    "## Machine learning: the problem setting"
   ]
  },
  {
   "cell_type": "markdown",
   "id": "23f28fe7-c3e3-4b37-b711-3bd3d5454f71",
   "metadata": {},
   "source": [
    "In general, a learning problem considers a set of n\n",
    "[samples](https://en.wikipedia.org/wiki/Sample_(statistics)) of\n",
    "data and then tries to predict properties of unknown data. If each sample is\n",
    "more than a single number and, for instance, a multi-dimensional entry\n",
    "(aka [multivariate](https://en.wikipedia.org/wiki/Multivariate_random_variable)\n",
    "data), it is said to have several attributes or **features**."
   ]
  },
  {
   "cell_type": "markdown",
   "id": "81608e11-5feb-47f0-82e0-872de08b6847",
   "metadata": {},
   "source": [
    "Learning problems fall into a few categories:"
   ]
  },
  {
   "cell_type": "markdown",
   "id": "61948e3b-cd29-4675-9ec8-1199bcdebe17",
   "metadata": {},
   "source": [
    "- [Supervised Learning](https://en.wikipedia.org/wiki/Supervised_learning), in which the data comes with additional attributes that we want to predict (Click here to go to the scikit-learn supervised learning page).This problem can be either:\n",
    "    - [Classification](https://en.wikipedia.org/wiki/Classification_in_machine_learning): samples belong to two or more classes and we want to learn from already labeled data how to predict the class of unlabeled data. An example of a classification problem would be handwritten digit recognition, in which the aim is to assign each input vector to one of a finite number of discrete categories. Another way to think of classification is as a discrete (as opposed to continuous) form of supervised learning where one has a limited number of categories and for each of the n samples provided, one is to try to label them with the correct category or class.\n",
    "    - [Regression](https://en.wikipedia.org/wiki/Regression_analysis): if the desired output consists of one or more continuous variables, then the task is called regression. An example of a regression problem would be the prediction of the length of a salmon as a function of its age and weight."
   ]
  },
  {
   "cell_type": "markdown",
   "id": "16aef169-917c-44ca-b4dc-c5cba1a7f504",
   "metadata": {},
   "source": [
    "**Training set and testing set**\n",
    "\n",
    "Machine learning is about learning some properties of a data set and then testing those properties against another data set. A common practice in machine learning is to evaluate an algorithm by splitting a data set into two. We call one of those sets the training set, on which we learn some properties; we call the other set the testing set, on which we test the learned properties."
   ]
  },
  {
   "cell_type": "markdown",
   "id": "708a5bfc-085f-4e78-a32f-edece30f31d6",
   "metadata": {},
   "source": [
    "<img src=\"../images/kfold.png\" width=\"600\"/>"
   ]
  },
  {
   "cell_type": "markdown",
   "id": "d23a6e10-f1d3-4165-ad72-ead4a37e89b0",
   "metadata": {},
   "source": [
    "<a class=\"anchor\" id=\"loading_an_example_dataset\"></a>\n",
    "## Loading an example dataset"
   ]
  },
  {
   "cell_type": "markdown",
   "id": "d0c72fc6-5b08-454c-9f19-94a49a1a9610",
   "metadata": {},
   "source": [
    "`scikit-learn` comes with a few standard datasets, for instance the\n",
    "[iris](https://en.wikipedia.org/wiki/Iris_flower_data_set) and [digits](https://archive.ics.uci.edu/ml/datasets/Pen-Based+Recognition+of+Handwritten+Digits)\n",
    "datasets for classification and the [diabetes dataset](https://www4.stat.ncsu.edu/~boos/var.select/diabetes.html) for regression."
   ]
  },
  {
   "cell_type": "code",
   "execution_count": 1,
   "id": "225f7a06-c813-4c78-91d8-97dd2dbc4d80",
   "metadata": {},
   "outputs": [],
   "source": [
    "from sklearn import datasets"
   ]
  },
  {
   "cell_type": "code",
   "execution_count": 2,
   "id": "3b915f82-c5cf-4ce5-8386-4a43e8046956",
   "metadata": {},
   "outputs": [],
   "source": [
    "iris = datasets.load_iris()"
   ]
  },
  {
   "cell_type": "code",
   "execution_count": 3,
   "id": "23fd105a-489b-4698-9f57-8782bc72c8f7",
   "metadata": {},
   "outputs": [],
   "source": [
    "digits = datasets.load_digits()"
   ]
  },
  {
   "cell_type": "markdown",
   "id": "89aa5d92-da65-4a6f-9f0b-e7efe28457fb",
   "metadata": {},
   "source": [
    "A dataset is a dictionary-like object that holds all the data and some\n",
    "metadata about the data. This data is stored in the `.data` member,\n",
    "which is a `n_samples, n_features` array. In the case of supervised\n",
    "problems, one or more response variables are stored in the `.target` member. More\n",
    "details on the different datasets can be found in the [dedicated\n",
    "section](https://scikit-learn.org/stable/datasets.html#datasets)."
   ]
  },
  {
   "cell_type": "markdown",
   "id": "2e3a7bfa-7fee-462a-ae1f-b80f07ed8159",
   "metadata": {},
   "source": [
    "For instance, in the case of the digits dataset, `digits.data` gives\n",
    "access to the features that can be used to classify the digits samples:"
   ]
  },
  {
   "cell_type": "code",
   "execution_count": 4,
   "id": "bd7b1ad4-c9b0-4735-8d69-910e2b4e4915",
   "metadata": {},
   "outputs": [
    {
     "data": {
      "text/plain": [
       "array([[ 0.,  0.,  5., ...,  0.,  0.,  0.],\n",
       "       [ 0.,  0.,  0., ..., 10.,  0.,  0.],\n",
       "       [ 0.,  0.,  0., ..., 16.,  9.,  0.],\n",
       "       ...,\n",
       "       [ 0.,  0.,  1., ...,  6.,  0.,  0.],\n",
       "       [ 0.,  0.,  2., ..., 12.,  0.,  0.],\n",
       "       [ 0.,  0., 10., ..., 12.,  1.,  0.]])"
      ]
     },
     "execution_count": 4,
     "metadata": {},
     "output_type": "execute_result"
    }
   ],
   "source": [
    "digits.data"
   ]
  },
  {
   "cell_type": "markdown",
   "id": "18b39798-b737-4678-af19-8e53fb675a3a",
   "metadata": {},
   "source": [
    "and `digits.target` gives the ground truth for the digit dataset, that\n",
    "is the number corresponding to each digit image that we are trying to\n",
    "learn:"
   ]
  },
  {
   "cell_type": "code",
   "execution_count": 5,
   "id": "8b7f3999-d36b-4570-9bb7-73e74258e18a",
   "metadata": {},
   "outputs": [
    {
     "data": {
      "text/plain": [
       "array([0, 1, 2, ..., 8, 9, 8])"
      ]
     },
     "execution_count": 5,
     "metadata": {},
     "output_type": "execute_result"
    }
   ],
   "source": [
    "digits.target"
   ]
  },
  {
   "cell_type": "code",
   "execution_count": 6,
   "id": "7323c174-3ca9-44dc-a476-0d6d61224f7b",
   "metadata": {},
   "outputs": [
    {
     "data": {
      "text/plain": [
       "dict_keys(['data', 'target', 'frame', 'feature_names', 'target_names', 'images', 'DESCR'])"
      ]
     },
     "execution_count": 6,
     "metadata": {},
     "output_type": "execute_result"
    }
   ],
   "source": [
    "digits.keys()"
   ]
  },
  {
   "cell_type": "markdown",
   "id": "f47f5cba-6e2c-4c4e-8baf-4b943c24495e",
   "metadata": {},
   "source": [
    "**Shape of the data arrays**\n",
    "\n",
    "The data is always a 2D array, shape `(n_samples, n_features)`, although the original data may have had a different shape. In the case of the digits, each original sample is an image of shape `(8, 8)` and can be accessed using:"
   ]
  },
  {
   "cell_type": "code",
   "execution_count": 7,
   "id": "15da9341-c411-4423-b44b-fe59af83db70",
   "metadata": {},
   "outputs": [
    {
     "data": {
      "text/plain": [
       "array([[ 0.,  0.,  5., 13.,  9.,  1.,  0.,  0.],\n",
       "       [ 0.,  0., 13., 15., 10., 15.,  5.,  0.],\n",
       "       [ 0.,  3., 15.,  2.,  0., 11.,  8.,  0.],\n",
       "       [ 0.,  4., 12.,  0.,  0.,  8.,  8.,  0.],\n",
       "       [ 0.,  5.,  8.,  0.,  0.,  9.,  8.,  0.],\n",
       "       [ 0.,  4., 11.,  0.,  1., 12.,  7.,  0.],\n",
       "       [ 0.,  2., 14.,  5., 10., 12.,  0.,  0.],\n",
       "       [ 0.,  0.,  6., 13., 10.,  0.,  0.,  0.]])"
      ]
     },
     "execution_count": 7,
     "metadata": {},
     "output_type": "execute_result"
    }
   ],
   "source": [
    "digits.images[0]"
   ]
  },
  {
   "cell_type": "markdown",
   "id": "14d4d6cc-4483-439e-8b82-53b3bc70eac2",
   "metadata": {},
   "source": [
    "**Loading from external datasets**\n",
    "\n",
    "To load from an external dataset, please refer to [loading external datasets](https://scikit-learn.org/stable/datasets/loading_other_datasets.html#external-datasets)."
   ]
  },
  {
   "cell_type": "markdown",
   "id": "4dc07e65-85b5-4c2d-b5df-c20b862b72fb",
   "metadata": {},
   "source": [
    "<a class=\"anchor\" id=\"learning_and_predicting\"></a>\n",
    "## Learning and predicting"
   ]
  },
  {
   "cell_type": "markdown",
   "id": "92414708-e688-4b6c-8dc6-a004f95f50d8",
   "metadata": {},
   "source": [
    "In the case of the digits dataset, the task is to predict, given an image,\n",
    "which digit it represents. We are given samples of each of the 10\n",
    "possible classes (the digits zero through nine) on which we *fit* an\n",
    "[estimator](https://en.wikipedia.org/wiki/Estimator) to be able to *predict*\n",
    "the classes to which unseen samples belong."
   ]
  },
  {
   "cell_type": "markdown",
   "id": "f2f1d3f0-dd0e-4bfd-a7fb-54bc1f94f0fd",
   "metadata": {},
   "source": [
    "In scikit-learn, an estimator for classification is a Python object that\n",
    "implements the methods `fit(X, y)` and `predict(T)`."
   ]
  },
  {
   "cell_type": "markdown",
   "id": "e06a4419-ac27-4c4d-ad72-9a1563599752",
   "metadata": {},
   "source": [
    "An example of an estimator is the class `sklearn.svm.SVC`, which\n",
    "implements [support vector classification](https://en.wikipedia.org/wiki/Support_vector_machine). The\n",
    "estimator’s constructor takes as arguments the model’s parameters."
   ]
  },
  {
   "cell_type": "code",
   "execution_count": null,
   "id": "07265001-0720-45aa-bd7e-beaf911d853d",
   "metadata": {},
   "outputs": [],
   "source": [
    "import numpy as np\n",
    "from sklearn.linear_model import LinearRegression\n",
    "X = np.array([[1, 1], [1, 2], [2, 2], [2, 3]])\n",
    "# y = 1 * x_0 + 2 * x_1 + 3\n",
    "y = np.dot(X, np.array([1, 2])) + 3\n",
    "reg = LinearRegression().fit(X, y)\n",
    "reg.score(X, y)\n",
    "\n",
    "reg.coef_\n",
    "\n",
    "reg.intercept_\n",
    "\n",
    "reg.predict(np.array([[3, 5]]))"
   ]
  },
  {
   "cell_type": "markdown",
   "id": "550de09a-a96e-400f-930f-5a6c7f2893f7",
   "metadata": {},
   "source": [
    "For now, we will consider the estimator as a black box:"
   ]
  },
  {
   "cell_type": "code",
   "execution_count": 8,
   "id": "88d915c7-0ec1-441a-8eb7-2663fa4dd61b",
   "metadata": {},
   "outputs": [],
   "source": [
    "from sklearn import svm\n",
    "clf = svm.SVC(gamma=0.001, C=100.)"
   ]
  },
  {
   "cell_type": "markdown",
   "id": "436b2e68-3268-4055-9a7a-6204907dbdb6",
   "metadata": {},
   "source": [
    "**Choosing the parameters of the model**\n",
    "\n",
    "In this example, we set the value of gamma manually. To find good values for these parameters, we can use tools such as [grid search](https://scikit-learn.org/stable/modules/grid_search.html#grid-search) and [cross validation](https://scikit-learn.org/stable/modules/cross_validation.html#cross-validation)."
   ]
  },
  {
   "cell_type": "markdown",
   "id": "76b74b9d-9ac1-4b5d-bfdc-5033ceb36503",
   "metadata": {},
   "source": [
    "The `clf` (for classifier) estimator instance is first\n",
    "fitted to the model; that is, it must *learn* from the model. This is\n",
    "done by passing our training set to the `fit` method. For the training\n",
    "set, we’ll use all the images from our dataset, except for the last\n",
    "image, which we’ll reserve for our predicting. We select the training set with\n",
    "the `[:-1]` Python syntax, which produces a new array that contains all but\n",
    "the last item from `digits.data`:"
   ]
  },
  {
   "cell_type": "code",
   "execution_count": 9,
   "id": "f5693f72-c5c5-4b8a-9b91-6c2b505587c9",
   "metadata": {},
   "outputs": [
    {
     "data": {
      "text/plain": [
       "SVC(C=100.0, gamma=0.001)"
      ]
     },
     "execution_count": 9,
     "metadata": {},
     "output_type": "execute_result"
    }
   ],
   "source": [
    "clf.fit(digits.data[:-1], digits.target[:-1])"
   ]
  },
  {
   "cell_type": "markdown",
   "id": "1baf9331-d3f8-4af7-960e-223d07a36bfa",
   "metadata": {},
   "source": [
    "Now you can *predict* new values. In this case, you’ll predict using the last\n",
    "image from `digits.data`. By predicting, you’ll determine the image from the\n",
    "training set that best matches the last image."
   ]
  },
  {
   "cell_type": "code",
   "execution_count": 10,
   "id": "69dc3e88-ca72-4fa5-b977-5d25b4943d19",
   "metadata": {},
   "outputs": [
    {
     "data": {
      "text/plain": [
       "array([0, 8, 9, 8])"
      ]
     },
     "execution_count": 10,
     "metadata": {},
     "output_type": "execute_result"
    }
   ],
   "source": [
    "clf.predict(digits.data[-4:])"
   ]
  },
  {
   "cell_type": "markdown",
   "id": "79aa3361-130e-40c6-9ad3-7a2779f0a522",
   "metadata": {},
   "source": [
    "The corresponding image is:"
   ]
  },
  {
   "cell_type": "code",
   "execution_count": 11,
   "id": "0ea93f11-f5e2-4f0d-9508-2418c2801046",
   "metadata": {},
   "outputs": [
    {
     "data": {
      "image/png": "[encoded data removed]",
      "text/plain": [
       "<Figure size 720x216 with 4 Axes>"
      ]
     },
     "metadata": {
      "needs_background": "light"
     },
     "output_type": "display_data"
    }
   ],
   "source": [
    "import matplotlib.pyplot as plt\n",
    "%matplotlib inline\n",
    "\n",
    "_, axes = plt.subplots(nrows=1, ncols=4, figsize=(10, 3))\n",
    "for ax, image, label in zip(axes, digits.images[-4:], digits.target[-4:]):\n",
    "    ax.set_axis_off()\n",
    "    ax.imshow(image, cmap=plt.cm.gray_r, interpolation=\"nearest\")\n",
    "    ax.set_title(f\"Training: {label}\")"
   ]
  },
  {
   "cell_type": "markdown",
   "id": "be628054-2683-4958-b2b2-b039e4136af8",
   "metadata": {},
   "source": [
    "As you can see, it is a challenging task: after all, the images are of poor\n",
    "resolution. Do you agree with the classifier?"
   ]
  },
  {
   "cell_type": "markdown",
   "id": "e1d30a12-58fe-4a1d-9f06-ec54ad5cf393",
   "metadata": {},
   "source": [
    "A complete example of this classification problem is available as an\n",
    "example that you can run and study:\n",
    "[Recognizing hand-written digits](https://scikit-learn.org/stable/auto_examples/classification/plot_digits_classification.html#sphx-glr-auto-examples-classification-plot-digits-classification-py)."
   ]
  },
  {
   "cell_type": "markdown",
   "id": "4b6a0424-7d07-4208-9b58-47023afafaff",
   "metadata": {},
   "source": [
    "<a class=\"anchor\" id=\"conventions\"></a>\n",
    "## Conventions"
   ]
  },
  {
   "cell_type": "markdown",
   "id": "02148650-1d5b-4f9a-8855-82c5d52301a0",
   "metadata": {},
   "source": [
    "scikit-learn estimators follow certain rules to make their behavior more\n",
    "predictive. These are described in more detail in the [Glossary of Common Terms and API Elements](https://scikit-learn.org/stable/glossary.html#glossary)."
   ]
  },
  {
   "cell_type": "markdown",
   "id": "df2dcf8c-e028-4c21-b7b9-3887e37b5f1c",
   "metadata": {},
   "source": [
    "<a class=\"anchor\" id=\"faq\"></a>\n",
    "## FAQ"
   ]
  },
  {
   "cell_type": "markdown",
   "id": "3f24d521-b801-4486-80f8-3b4fab345cb2",
   "metadata": {},
   "source": [
    "> **Why is there no support for deep or reinforcement learning / Will there be support for deep or reinforcement learning in scikit-learn?**"
   ]
  },
  {
   "cell_type": "markdown",
   "id": "7abda4ef-d5c7-42a1-9f16-e7350ffe59f5",
   "metadata": {},
   "source": [
    "Deep learning and reinforcement learning both require a rich vocabulary to\n",
    "define an architecture, with deep learning additionally requiring\n",
    "GPUs for efficient computing. However, neither of these fit within\n",
    "the design constraints of scikit-learn; as a result, deep learning\n",
    "and reinforcement learning are currently out of scope for what\n",
    "scikit-learn seeks to achieve."
   ]
  },
  {
   "cell_type": "markdown",
   "id": "8209fb07-f22b-4b7e-a14c-fc9b5546506f",
   "metadata": {},
   "source": [
    "You can find more information about addition of gpu support at\n",
    "[Will you add GPU support?](https://scikit-learn.org/stable/#will-you-add-gpu-support)."
   ]
  },
  {
   "cell_type": "markdown",
   "id": "35a9eb39-94ea-480f-8598-35c14611270f",
   "metadata": {},
   "source": [
    "Note that scikit-learn currently implements a simple multilayer perceptron\n",
    "in [`sklearn.neural_network`](https://scikit-learn.org/stable/modules/classes.html#module-sklearn.neural_network \"sklearn.neural_network\"). We will only accept bug fixes for this module.\n",
    "If you want to implement more complex deep learning models, please turn to\n",
    "popular deep learning frameworks such as\n",
    "[tensorflow](https://www.tensorflow.org/),\n",
    "[keras](https://keras.io/)\n",
    "and [pytorch](https://pytorch.org/)."
   ]
  },
  {
   "cell_type": "markdown",
   "id": "e61e2cea-31be-4a90-98d2-32abe68046fa",
   "metadata": {},
   "source": [
    "> **Will you add GPU support?**"
   ]
  },
  {
   "cell_type": "markdown",
   "id": "1821859c-6060-4216-9306-f321ac9a1fd9",
   "metadata": {},
   "source": [
    "No, or at least not in the near future. The main reason is that GPU support will introduce many software dependencies and introduce platform specific issues. scikit-learn is designed to be easy to install on a wide variety of platforms. Outside of neural networks, GPUs don’t play a large role in machine learning today, and much larger gains in speed can often be achieved by a careful choice of algorithms."
   ]
  },
  {
   "cell_type": "markdown",
   "id": "a7a02a5a-4033-4602-bfa2-4960d9e69048",
   "metadata": {},
   "source": [
    "> **Why does Scikit-learn not directly work with, for example, pandas.DataFrame?**"
   ]
  },
  {
   "cell_type": "markdown",
   "id": "cd01d348-2749-414b-ad5d-02e063256838",
   "metadata": {},
   "source": [
    "The homogeneous NumPy and SciPy data objects currently expected are most\n",
    "efficient to process for most operations. Extensive work would also be needed\n",
    "to support Pandas categorical types. Restricting input to homogeneous\n",
    "types therefore reduces maintenance cost and encourages usage of efficient\n",
    "data structures."
   ]
  },
  {
   "cell_type": "markdown",
   "id": "a25ebc54-3b90-44c9-b20e-e17b42113edf",
   "metadata": {},
   "source": [
    "Note however that [`ColumnTransformer`](https://scikit-learn.org/stable/modules/generated/sklearn.compose.ColumnTransformer.html#sklearn.compose.ColumnTransformer \"sklearn.compose.ColumnTransformer\") makes it\n",
    "convenient to handle heterogeneous pandas dataframes by mapping homogeneous subsets of\n",
    "dataframe columns selected by name or dtype to dedicated scikit-learn transformers."
   ]
  },
  {
   "cell_type": "markdown",
   "id": "a8843d9b-31bb-4390-b4bd-d14b1f67b227",
   "metadata": {},
   "source": [
    "Therefore [`ColumnTransformer`](https://scikit-learn.org/stable/modules/generated/sklearn.compose.ColumnTransformer.html#sklearn.compose.ColumnTransformer \"sklearn.compose.ColumnTransformer\") are often used in the first\n",
    "step of scikit-learn pipelines when dealing\n",
    "with heterogeneous dataframes (see [Pipeline: chaining estimators](https://scikit-learn.org/stable/modules/compose.html#pipeline) for more details)."
   ]
  },
  {
   "cell_type": "markdown",
   "id": "b52c734c-ede5-42f2-8689-b49c1bb2d7b3",
   "metadata": {},
   "source": [
    "See also [Column Transformer with Mixed Types](https://scikit-learn.org/stable/auto_examples/compose/plot_column_transformer_mixed_types.html#sphx-glr-auto-examples-compose-plot-column-transformer-mixed-types-py)\n",
    "for an example of working with heterogeneous (e.g. categorical and numeric) data."
   ]
  }
 ],
 "metadata": {
  "kernelspec": {
   "display_name": "Python 3",
   "language": "python",
   "name": "python3"
  },
  "language_info": {
   "codemirror_mode": {
    "name": "ipython",
    "version": 3
   },
   "file_extension": ".py",
   "mimetype": "text/x-python",
   "name": "python",
   "nbconvert_exporter": "python",
   "pygments_lexer": "ipython3",
   "version": "3.8.11"
  }
 },
 "nbformat": 4,
 "nbformat_minor": 5
}
