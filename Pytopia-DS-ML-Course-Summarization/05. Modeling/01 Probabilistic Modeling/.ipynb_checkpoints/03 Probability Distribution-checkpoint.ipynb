{
 "cells": [
  {
   "cell_type": "markdown",
   "id": "d4bb82f2-e3eb-41aa-abd2-3b4f89584031",
   "metadata": {},
   "source": [
    "<img src=\"../../../images/banners/ml.png\" width=\"600\"/>"
   ]
  },
  {
   "cell_type": "markdown",
   "id": "916eb2ab-1bf3-4730-bfc3-be54790e0515",
   "metadata": {},
   "source": [
    "<a class=\"anchor\" id=\"intro_to_data_structures\"></a>\n",
    "# <img src=\"../../../images/logos/ml-logo.png\" width=\"23\"/> Probability Distributions"
   ]
  },
  {
   "cell_type": "markdown",
   "id": "7cbae7ef-63bf-44a9-a206-07cf25be40bb",
   "metadata": {},
   "source": [
    "Key Points:\n",
    "- We turn now to an exploration of some particular examples of **probability distributions** and their properties.\n",
    "- These distributions can form **building blocks for more complex models** and will be used extensively throughout the book.\n",
    "- To model the probability distribution $p(x)$ of a random variable **$x$**, given a finite set **$x_1, ..., x_N$** of\n",
    "observations. This problem is known as **density estimation**."
   ]
  },
  {
   "cell_type": "markdown",
   "id": "b8a7656f-83e6-48e2-b1cb-120ce6982632",
   "metadata": {},
   "source": [
    "- We begin by considering the **binomial and multinomial distributions for discrete random variables** and the **Gaussian distribution for continuous random variables**.\n",
    "- These are specific examples of **parametric distributions**, so-called because they are governed by a small number of adaptive parameters,"
   ]
  },
  {
   "cell_type": "markdown",
   "id": "912b0c34-8b82-445d-a04f-63727a616bd0",
   "metadata": {},
   "source": [
    "- One limitation of the parametric approach is that it assumes a specific functional form for the distribution, which may turn out to be inappropriate for a particular application.\n",
    "- An alternative approach is given by **nonparametric density estimation** methods in which the form of the distribution typically depends on the size of the data set.\n",
    "- non-parametric methods exmaple: histograms, nearest-neighbours, and kernels."
   ]
  },
  {
   "cell_type": "markdown",
   "id": "982f8c02-0222-4c92-9dc4-8259d1cd0bdc",
   "metadata": {},
   "source": [
    "- Parametric\n",
    "    - Discrete\n",
    "        - Binomial\n",
    "        - Multinomial\n",
    "    - Continue\n",
    "        - Gaussian\n",
    "- Non-Parametric\n",
    "    - Histogram\n",
    "    - KDE\n",
    "    - K Nearest Neighbours"
   ]
  },
  {
   "cell_type": "markdown",
   "id": "42679e29-8552-4efb-9ef7-cbd686045dab",
   "metadata": {},
   "source": [
    "|Parametric|Non-Parametric|\n",
    "|:-|:-|\n",
    "|Assumes a specific functional form for the distribution|Controls model complexity ranthe than the form of the distribution|\n",
    "|Binomia, Multinomial, Gaussian|Histogram, KDE, K Nearest Neighbours|"
   ]
  },
  {
   "cell_type": "markdown",
   "id": "f4090a9d-c9d6-4496-8622-df14c76ac7d4",
   "metadata": {},
   "source": [
    "Histogram|KDE|K Nearest Neighbours|\n",
    ":-|:-|:-|\n",
    "Scales with Large Data|Does not Scale with Large Data|Does not Scale with Large Data|\n",
    "Does not Scales with Higher Dimensions|Scales with Higher Dimensions|Scales with Higher Dimensions|\n",
    "Artificial Discontinuity|Artificial Discontinuity|Artificial Discontinuity|"
   ]
  },
  {
   "cell_type": "markdown",
   "id": "77351e70-fc2f-4506-aa49-2980281d16b5",
   "metadata": {},
   "source": [
    "Two Important Lessions from Histograms:\n",
    "- First, to estimate the probability density at a particular location, we should consider the data points that lie within some local neighbourhood of that point.\n",
    "- Second, the value of the smoothing parameter should be neither too large nor too small in order to obtain good results."
   ]
  }
 ],
 "metadata": {
  "kernelspec": {
   "display_name": "Python 3",
   "language": "python",
   "name": "python3"
  },
  "language_info": {
   "codemirror_mode": {
    "name": "ipython",
    "version": 3
   },
   "file_extension": ".py",
   "mimetype": "text/x-python",
   "name": "python",
   "nbconvert_exporter": "python",
   "pygments_lexer": "ipython3",
   "version": "3.8.11"
  }
 },
 "nbformat": 4,
 "nbformat_minor": 5
}
