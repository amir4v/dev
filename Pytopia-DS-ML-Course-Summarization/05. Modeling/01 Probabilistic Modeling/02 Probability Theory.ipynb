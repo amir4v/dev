{
 "cells": [
  {
   "cell_type": "markdown",
   "id": "1c6e75c7-c135-4ede-9441-76ff3abe81c0",
   "metadata": {},
   "source": [
    "<img src=\"../../../images/banners/ml.png\" width=\"600\"/>"
   ]
  },
  {
   "cell_type": "markdown",
   "id": "2f5ee8ef-f2ba-46f5-a304-2622e41cecaa",
   "metadata": {},
   "source": [
    "<a class=\"anchor\" id=\"intro_to_data_structures\"></a>\n",
    "# <img src=\"../../../images/logos/ml-logo.png\" width=\"23\"/> Probability Theory"
   ]
  },
  {
   "cell_type": "markdown",
   "id": "9e582e96-645b-47f8-9bfe-44c3f045acb4",
   "metadata": {},
   "source": [
    "## References"
   ]
  },
  {
   "cell_type": "markdown",
   "id": "bbe5ca8b-4170-4bbf-ac5c-91cfe44c1ea3",
   "metadata": {},
   "source": [
    "- <img src=\"../../../images/logos/book.png\" width=\"16\"/> **Chapter 1** of Pattern Recognition and Machine Learning Book by Christopher Bishop\n",
    "- <img src=\"../../../images/logos/youtube.png\" width=\"15\"/> [Bayes theorem, the geometry of changing beliefs](https://www.youtube.com/watch?v=HZGCoVF3YvM&list=RDCMUCYO_jab_esuFRV4b17AJtAw&index=2)\n",
    "- <img src=\"../../../images/logos/youtube.png\" width=\"15\"/> [The quick proof of Bayes' theorem](https://www.youtube.com/watch?v=U_85TaXbeIo&list=RDCMUCYO_jab_esuFRV4b17AJtAw&index=4)"
   ]
  },
  {
   "cell_type": "markdown",
   "id": "bdb425d1-334c-4dab-9a69-67a7c7dd5576",
   "metadata": {},
   "source": [
    "## Bayes Theorem"
   ]
  },
  {
   "cell_type": "markdown",
   "id": "d444a260-8a07-445c-be4b-4473dafa6b5a",
   "metadata": {},
   "source": [
    "<img src=\"../images/prob-theory.png\" width=\"200\"/>"
   ]
  },
  {
   "cell_type": "markdown",
   "id": "037b49af-c9b6-4dae-90e1-9544fe532e14",
   "metadata": {},
   "source": [
    "<img src=\"../images/prob-theory-table.svg\" width=\"400\"/>"
   ]
  },
  {
   "cell_type": "markdown",
   "id": "6bf69c43-6775-44b6-8bfc-c77ebd95ad52",
   "metadata": {},
   "source": [
    "<hr>"
   ]
  },
  {
   "cell_type": "markdown",
   "id": "3c292143-d31b-469f-ab08-66c75b19f77c",
   "metadata": {},
   "source": [
    "Bayes Probability\n",
    "\n",
    "<img src=\"../images/prior-posterior.jpeg\" width=\"300\"/>"
   ]
  },
  {
   "cell_type": "markdown",
   "id": "845fa385-4f5c-4f2c-a491-e178cba22e63",
   "metadata": {},
   "source": [
    "## Classical vs Frequentist vs Bayesian Probability"
   ]
  },
  {
   "cell_type": "markdown",
   "id": "8f4fb2d6-11a1-47b0-ad08-da9281df8110",
   "metadata": {},
   "source": [
    "- <img src=\"../../../images/logos/youtube.png\" width=\"15\"/> [Frequentist vs Bayes Statistics](https://www.youtube.com/watch?v=CaU1V-C_iZU)\n",
    "- <img src=\"../../../images/logos/youtube.png\" width=\"15\"/> [Classical vs Frequentist vs Bayes Probability](https://youtu.be/dejy4PPCFHY)\n",
    "- <img src=\"../../../images/logos/doc.png\" width=\"14\"/> [Bayesian vs. Frequentist A/B Testing: What’s the Difference?](https://cxl.com/blog/bayesian-frequentist-ab-testing/#:~:text=In%20summary%2C%20the%20difference%20is,without%20being%20assigned%20a%20probability.)"
   ]
  },
  {
   "cell_type": "markdown",
   "id": "cef9cf1c-1906-4139-b146-0ec91c127e1c",
   "metadata": {},
   "source": [
    "<img src=\"../images/freq-bayes-meme.webp\" width=\"400\"/>\n",
    "\n",
    "> Note: This is just a meme. Frequentism approach works in many situations. There is no wrong or right."
   ]
  },
  {
   "cell_type": "markdown",
   "id": "ee8739a6-c714-497d-82a8-3352f7875bae",
   "metadata": {},
   "source": [
    "> The difference is that, in the Bayesian view, a probability is assigned to a hypothesis. In the frequentist view, a hypothesis is tested without being assigned a probability."
   ]
  }
 ],
 "metadata": {
  "kernelspec": {
   "display_name": "Python 3 (ipykernel)",
   "language": "python",
   "name": "python3"
  },
  "language_info": {
   "codemirror_mode": {
    "name": "ipython",
    "version": 3
   },
   "file_extension": ".py",
   "mimetype": "text/x-python",
   "name": "python",
   "nbconvert_exporter": "python",
   "pygments_lexer": "ipython3",
   "version": "3.11.8"
  }
 },
 "nbformat": 4,
 "nbformat_minor": 5
}
