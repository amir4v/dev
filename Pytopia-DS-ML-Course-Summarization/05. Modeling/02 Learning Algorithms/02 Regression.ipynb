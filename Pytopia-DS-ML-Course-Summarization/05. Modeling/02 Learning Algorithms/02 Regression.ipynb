{
 "cells": [
  {
   "cell_type": "markdown",
   "id": "12cf7f7a-23de-4524-8d28-d4f2cc7265fc",
   "metadata": {},
   "source": [
    "<img src=\"../../../images/banners/ml-algorithms.jpg\" width=\"600\"/>"
   ]
  },
  {
   "cell_type": "markdown",
   "id": "6180b914-8b5b-4272-b30e-e7eb4864f60f",
   "metadata": {},
   "source": [
    "<a class=\"anchor\" id=\"intro_to_data_structures\"></a>\n",
    "# <img src=\"../../../images/logos/ml-logo.png\" width=\"23\"/> Regression"
   ]
  },
  {
   "cell_type": "markdown",
   "id": "fcb8d041-386c-4d95-a2fa-44a2eabf6a69",
   "metadata": {},
   "source": [
    "## <img src=\"../../../images/logos/toc.png\" width=\"20\"/> Table of Contents\n",
    "* [Linear Regression](#)\n",
    "* [What is Maximum Likelihood?](#)\n",
    "* [Maximum Likelihood Formulation](#)\n",
    "* [Bias Variance Tradeoff](#)\n",
    "* [Gradient Descent](#)\n",
    "    * [Batch Gradient Descent](#)\n",
    "    * [Mini-Batch Gradient Descent](#)\n",
    "    * [Stochastic Gradient Descent](#)\n",
    "* [Generalized Linear Models](#)\n",
    "---"
   ]
  },
  {
   "cell_type": "markdown",
   "id": "5b2e08d3-6f4e-4177-9595-f5dd5e52e0ca",
   "metadata": {},
   "source": [
    "We turn now to a discussion of supervised learning, starting with regression. The goal of regression is to predict the value of one or more continuous target variables $t$ given the value of a D-dimensional vector $x$ of input variables."
   ]
  },
  {
   "cell_type": "markdown",
   "id": "a3406125-acfe-46f9-a357-c2575ea8c9c5",
   "metadata": {},
   "source": [
    "Given a training data set comprising $N$ observations ${x_n}$, where $n = 1, ... , N$,\n",
    "together with corresponding target values ${t_n}$, the goal is to predict the value of $t$ for a new value of $x$. In the simplest approach, this can be done by directly constructing an appropriate function $y(x)$ whose values for new inputs $x$ constitute the predictions for the corresponding values of $t$."
   ]
  },
  {
   "cell_type": "markdown",
   "id": "c4d2543b-fbef-4c34-aa48-cfb8e4d44ab1",
   "metadata": {},
   "source": [
    "More generally, from a probabilistic perspective, we aim to model the predictive distribution $p(t|x)$ because this expresses our uncertainty about the value of $t$ for each value of $x$. From this conditional distribution we can make predictions of $t$, for any new value of $x$, in such a way as to minimize the expected value of a suitably chosen loss function. A common choice of loss function for real-valued variables is the squared loss, for which the optimal solution is given by the conditional expectation of $t$."
   ]
  },
  {
   "cell_type": "markdown",
   "id": "41739471-9ecd-4d05-89ed-40bd0019431a",
   "metadata": {},
   "source": [
    "Although linear models have significant limitations as practical techniques for\n",
    "pattern recognition, particularly for problems involving input spaces of high dimensionality, they have nice analytical properties and form the foundation for more sophisticated models to be discussed in later sections."
   ]
  },
  {
   "cell_type": "markdown",
   "id": "350ff49a-fc42-4662-90ca-70bd731ff83c",
   "metadata": {},
   "source": [
    "<img src=\"../images/linear-nonlinear.png\" width=\"500\"/>"
   ]
  },
  {
   "cell_type": "markdown",
   "id": "aef797f4-7ff3-4b81-97e9-4d05fd8fb52c",
   "metadata": {},
   "source": [
    "## Linear Regression"
   ]
  },
  {
   "cell_type": "markdown",
   "id": "f0318214-06bd-4678-a799-75fcb59d2ddc",
   "metadata": {},
   "source": [
    "The simplest linear model for regression is one that involves a linear combination of the input variables:\n",
    "\n",
    "\\begin{equation}\n",
    "y(x,w) = w_0 + w_1x_1 + \\cdots + w_Dx_D\n",
    "\\end{equation}\n",
    "\n",
    "where $x = (x_1, \\cdots , x_D)^T$. This is often simply known as linear regression. The key property of this model is that it is a linear function of the parameters $w_0, \\cdots , w_D$. It is also, however, a linear function of the input variables $x_i$, and this imposes significant limitations on the model. We therefore extend the class of models by considering linear combinations of fixed nonlinear functions of the input variables, of the form:\n",
    "\n",
    "\\begin{equation}\n",
    "y(x,w) = w_0 + \\frac{1}{M} \\sum_{j=1}^{M} w_j X_j(x)\n",
    "\\end{equation}\n",
    "\n",
    "By denoting the maximum value of the index j by M − 1, the total number of parameters in this model will be M."
   ]
  },
  {
   "cell_type": "markdown",
   "id": "e1392056-a8c1-4545-9601-4a618222defa",
   "metadata": {},
   "source": [
    "The parameter $w_0$ allows for any fixed offset in the data and is sometimes called a bias parameter (not to be confused with ‘bias’ in a statistical sense)."
   ]
  },
  {
   "cell_type": "markdown",
   "id": "78a4d08a-6dd4-4c66-8f00-1f4223dbd675",
   "metadata": {},
   "source": [
    "It is often convenient to define an additional dummy feature $X_0 = 1$ so that\n",
    "\n",
    "\\begin{equation}\n",
    "y(x,w) = \\sum_{j=0}^{M-1} w_j X_j = w^T X(x)\n",
    "\\end{equation}\n",
    "\n",
    "where $w = (w_0, \\cdots, w_{M-1})^T$ and $X = (X_0, \\cdots, X_{M-1})^T$."
   ]
  },
  {
   "cell_type": "markdown",
   "id": "932a629d-3bc7-4f60-9127-3ed5b57baf04",
   "metadata": {
    "tags": []
   },
   "source": [
    "<img src=\"../images/linear-model-formula.webp\" width=\"200\"/>"
   ]
  },
  {
   "cell_type": "markdown",
   "id": "ffc820e8-fdf3-4f95-838b-a18d71b3c418",
   "metadata": {},
   "source": [
    "## What is Maximum Likelihood?"
   ]
  },
  {
   "cell_type": "markdown",
   "id": "50d84088-42b3-4831-abfb-46a5508f00e5",
   "metadata": {},
   "source": [
    "In statistics, maximum likelihood estimation (MLE) is a method of estimating the parameters of an assumed probability distribution, given some observed data. This is achieved by maximizing a likelihood function so that, under the assumed statistical model, the observed data is most probable."
   ]
  },
  {
   "cell_type": "markdown",
   "id": "55d1caac-7c8f-49fa-9b45-d5e4ede83eaf",
   "metadata": {},
   "source": [
    "Note that maximum likelihood is not probability. Probability corresponds to finding the chance of something given a sample distribution of the data, while on the other hand, Likelihood refers to finding the best distribution of the data given a particular value of some feature or some situation in the data. While probability is used to find the chance of occurrence of a particular situation, likelihood is used to generally maximizing the chances of a particular situation to occur. To learn more, watch:\n",
    "\n",
    "- <img src=\"../../../images/logos/youtube.png\" width=\"15\"/> [Probability is not Likelihood](https://www.youtube.com/watch?v=pYxNSUDSFH4&t=1s)"
   ]
  },
  {
   "cell_type": "markdown",
   "id": "0a40eb20-d964-46e4-9a11-1ddfab2d6b2a",
   "metadata": {},
   "source": [
    "## Maximum Likelihood Formulation"
   ]
  },
  {
   "cell_type": "markdown",
   "id": "2ea7e481-6bc4-4904-a99d-ad870825dd86",
   "metadata": {},
   "source": [
    "This section is covered by:\n",
    "- <img src=\"../../../images/logos/book.png\" width=\"16\"/> [Chapter 5 of Machine Learning Handbook by Martha White](https://marthawhite.github.io/mlcourse/notes.pdf)\n",
    "\n",
    "Read:\n",
    "- 5 Linear Regression\n",
    "- 5.1 Maximum likelihood formulation\n",
    "- 5.2 Ordinary Least-Squares (OLS) Regression\n",
    "- 5.3 Linear regression for non-linear problems\n",
    "\n",
    "Also read:\n",
    "- [Independent and identically distributed random variables (i.i.d)](https://en.wikipedia.org/wiki/Independent_and_identically_distributed_random_variables)\n",
    "- [Vector Norms](https://builtin.com/data-science/vector-norms) which are a way to measure the size of a vector, a matrix, or a tensor. In other words, norms are a class of functions that enable us to quantify the magnitude of a vector."
   ]
  },
  {
   "cell_type": "code",
   "execution_count": 1,
   "id": "672cf856-624a-4d3e-bb69-87bf9df74504",
   "metadata": {},
   "outputs": [
    {
     "data": {
      "text/plain": [
       "<matplotlib.collections.PathCollection at 0x7fa7f057bfa0>"
      ]
     },
     "execution_count": 1,
     "metadata": {},
     "output_type": "execute_result"
    },
    {
     "data": {
      "image/png": "[encoded data removed]",
      "text/plain": [
       "<Figure size 432x288 with 1 Axes>"
      ]
     },
     "metadata": {
      "needs_background": "light"
     },
     "output_type": "display_data"
    }
   ],
   "source": [
    "import numpy as np\n",
    "import matplotlib.pyplot as plt\n",
    "%matplotlib inline\n",
    "\n",
    "x = np.array(sorted(np.random.rand(10)))\n",
    "y = 2 * x + 3\n",
    "plt.plot(y, x, color='red')\n",
    "plt.scatter(y + np.random.randn(10) / 3, x)"
   ]
  },
  {
   "cell_type": "markdown",
   "id": "4660f84f-a843-41e3-b62d-831e63e14f40",
   "metadata": {},
   "source": [
    "<img src=\"../images/convex-non-convex.png\" width=\"400\"/>"
   ]
  },
  {
   "cell_type": "code",
   "execution_count": 2,
   "id": "fc011b5b-3682-4bab-bfb8-07401c3034b5",
   "metadata": {},
   "outputs": [],
   "source": [
    "import seaborn as sns"
   ]
  },
  {
   "cell_type": "code",
   "execution_count": 3,
   "id": "f1909ce9-dce8-4fa3-94e6-a7668176ebf6",
   "metadata": {},
   "outputs": [
    {
     "data": {
      "text/html": [
       "<div>\n",
       "<style scoped>\n",
       "    .dataframe tbody tr th:only-of-type {\n",
       "        vertical-align: middle;\n",
       "    }\n",
       "\n",
       "    .dataframe tbody tr th {\n",
       "        vertical-align: top;\n",
       "    }\n",
       "\n",
       "    .dataframe thead th {\n",
       "        text-align: right;\n",
       "    }\n",
       "</style>\n",
       "<table border=\"1\" class=\"dataframe\">\n",
       "  <thead>\n",
       "    <tr style=\"text-align: right;\">\n",
       "      <th></th>\n",
       "      <th>sepal_length</th>\n",
       "      <th>sepal_width</th>\n",
       "      <th>petal_length</th>\n",
       "      <th>petal_width</th>\n",
       "      <th>species</th>\n",
       "    </tr>\n",
       "  </thead>\n",
       "  <tbody>\n",
       "    <tr>\n",
       "      <th>0</th>\n",
       "      <td>5.1</td>\n",
       "      <td>3.5</td>\n",
       "      <td>1.4</td>\n",
       "      <td>0.2</td>\n",
       "      <td>setosa</td>\n",
       "    </tr>\n",
       "    <tr>\n",
       "      <th>1</th>\n",
       "      <td>4.9</td>\n",
       "      <td>3.0</td>\n",
       "      <td>1.4</td>\n",
       "      <td>0.2</td>\n",
       "      <td>setosa</td>\n",
       "    </tr>\n",
       "    <tr>\n",
       "      <th>2</th>\n",
       "      <td>4.7</td>\n",
       "      <td>3.2</td>\n",
       "      <td>1.3</td>\n",
       "      <td>0.2</td>\n",
       "      <td>setosa</td>\n",
       "    </tr>\n",
       "    <tr>\n",
       "      <th>3</th>\n",
       "      <td>4.6</td>\n",
       "      <td>3.1</td>\n",
       "      <td>1.5</td>\n",
       "      <td>0.2</td>\n",
       "      <td>setosa</td>\n",
       "    </tr>\n",
       "    <tr>\n",
       "      <th>4</th>\n",
       "      <td>5.0</td>\n",
       "      <td>3.6</td>\n",
       "      <td>1.4</td>\n",
       "      <td>0.2</td>\n",
       "      <td>setosa</td>\n",
       "    </tr>\n",
       "    <tr>\n",
       "      <th>...</th>\n",
       "      <td>...</td>\n",
       "      <td>...</td>\n",
       "      <td>...</td>\n",
       "      <td>...</td>\n",
       "      <td>...</td>\n",
       "    </tr>\n",
       "    <tr>\n",
       "      <th>145</th>\n",
       "      <td>6.7</td>\n",
       "      <td>3.0</td>\n",
       "      <td>5.2</td>\n",
       "      <td>2.3</td>\n",
       "      <td>virginica</td>\n",
       "    </tr>\n",
       "    <tr>\n",
       "      <th>146</th>\n",
       "      <td>6.3</td>\n",
       "      <td>2.5</td>\n",
       "      <td>5.0</td>\n",
       "      <td>1.9</td>\n",
       "      <td>virginica</td>\n",
       "    </tr>\n",
       "    <tr>\n",
       "      <th>147</th>\n",
       "      <td>6.5</td>\n",
       "      <td>3.0</td>\n",
       "      <td>5.2</td>\n",
       "      <td>2.0</td>\n",
       "      <td>virginica</td>\n",
       "    </tr>\n",
       "    <tr>\n",
       "      <th>148</th>\n",
       "      <td>6.2</td>\n",
       "      <td>3.4</td>\n",
       "      <td>5.4</td>\n",
       "      <td>2.3</td>\n",
       "      <td>virginica</td>\n",
       "    </tr>\n",
       "    <tr>\n",
       "      <th>149</th>\n",
       "      <td>5.9</td>\n",
       "      <td>3.0</td>\n",
       "      <td>5.1</td>\n",
       "      <td>1.8</td>\n",
       "      <td>virginica</td>\n",
       "    </tr>\n",
       "  </tbody>\n",
       "</table>\n",
       "<p>150 rows × 5 columns</p>\n",
       "</div>"
      ],
      "text/plain": [
       "     sepal_length  sepal_width  petal_length  petal_width    species\n",
       "0             5.1          3.5           1.4          0.2     setosa\n",
       "1             4.9          3.0           1.4          0.2     setosa\n",
       "2             4.7          3.2           1.3          0.2     setosa\n",
       "3             4.6          3.1           1.5          0.2     setosa\n",
       "4             5.0          3.6           1.4          0.2     setosa\n",
       "..            ...          ...           ...          ...        ...\n",
       "145           6.7          3.0           5.2          2.3  virginica\n",
       "146           6.3          2.5           5.0          1.9  virginica\n",
       "147           6.5          3.0           5.2          2.0  virginica\n",
       "148           6.2          3.4           5.4          2.3  virginica\n",
       "149           5.9          3.0           5.1          1.8  virginica\n",
       "\n",
       "[150 rows x 5 columns]"
      ]
     },
     "execution_count": 3,
     "metadata": {},
     "output_type": "execute_result"
    }
   ],
   "source": [
    "sns.load_dataset('iris')"
   ]
  },
  {
   "cell_type": "markdown",
   "id": "a7244c3f-9349-40f4-b5a2-8265177e5f8d",
   "metadata": {},
   "source": [
    "### Example 01"
   ]
  },
  {
   "cell_type": "code",
   "execution_count": 4,
   "id": "10cf717f-4dac-4bcd-b839-388b659d9741",
   "metadata": {},
   "outputs": [],
   "source": [
    "import numpy as np\n",
    "from numpy.linalg import inv"
   ]
  },
  {
   "cell_type": "code",
   "execution_count": 5,
   "id": "b30a6364-8d96-45a2-bc2b-2bd7d0468ee7",
   "metadata": {},
   "outputs": [],
   "source": [
    "X = np.array(\n",
    "    [\n",
    "        [1, 1],\n",
    "        [1, 2],\n",
    "        [1, 3],\n",
    "        [1, 4],\n",
    "    ]\n",
    ")\n",
    "\n",
    "y = np.array([1.2, 2.3, 2.3, 3.3])"
   ]
  },
  {
   "cell_type": "code",
   "execution_count": 6,
   "id": "d40c6943-c141-414d-bd0b-d8e336a79083",
   "metadata": {},
   "outputs": [],
   "source": [
    "w_mle = inv(X.T @ X) @ X.T @ y"
   ]
  },
  {
   "cell_type": "code",
   "execution_count": 7,
   "id": "f266d2c5-f19d-4361-8dcd-19ea75b6b347",
   "metadata": {},
   "outputs": [
    {
     "data": {
      "text/plain": [
       "array([0.7 , 0.63])"
      ]
     },
     "execution_count": 7,
     "metadata": {},
     "output_type": "execute_result"
    }
   ],
   "source": [
    "w_mle"
   ]
  },
  {
   "cell_type": "markdown",
   "id": "5756401a-0a8d-4735-97a4-7bfc785ad8e4",
   "metadata": {},
   "source": [
    "### Example 02: $w$ vs. $w_{mle}$"
   ]
  },
  {
   "cell_type": "code",
   "execution_count": 8,
   "id": "19d085b6-b878-4d05-ad86-1ae86a36d7b6",
   "metadata": {},
   "outputs": [],
   "source": [
    "e = [-0.3, 0.3, -0.2, 0.3]"
   ]
  },
  {
   "cell_type": "code",
   "execution_count": 9,
   "id": "cd546151-9ac1-4df0-9bef-d1c3ed216555",
   "metadata": {},
   "outputs": [],
   "source": [
    "w = np.array([1, 0.5])\n",
    "y = X @ w + e"
   ]
  },
  {
   "cell_type": "code",
   "execution_count": 10,
   "id": "8b8df58e-ce80-4dde-9f9f-ca2ea53e5cd9",
   "metadata": {},
   "outputs": [
    {
     "data": {
      "text/plain": [
       "(array([1. , 0.5]), array([0.7 , 0.63]))"
      ]
     },
     "execution_count": 10,
     "metadata": {},
     "output_type": "execute_result"
    }
   ],
   "source": [
    "w, w_mle"
   ]
  },
  {
   "cell_type": "code",
   "execution_count": 11,
   "id": "a5a510e5-ad4c-4982-afe8-fb1a77c7d416",
   "metadata": {},
   "outputs": [
    {
     "data": {
      "text/plain": [
       "array([1.2, 2.3, 2.3, 3.3])"
      ]
     },
     "execution_count": 11,
     "metadata": {},
     "output_type": "execute_result"
    }
   ],
   "source": [
    "y"
   ]
  },
  {
   "cell_type": "markdown",
   "id": "d611f34a-d513-4ba2-8388-00a977b87835",
   "metadata": {},
   "source": [
    "### Example 03: Polynomial Curve Fitting"
   ]
  },
  {
   "cell_type": "markdown",
   "id": "1092029e-709c-4941-9958-5b2bb162927e",
   "metadata": {},
   "source": [
    "#### $p = 2$ (Train)"
   ]
  },
  {
   "cell_type": "code",
   "execution_count": 12,
   "id": "9e493f9f-1cc1-4353-b5e3-ad350f79c505",
   "metadata": {},
   "outputs": [],
   "source": [
    "PHI2 = np.array([\n",
    "    [1, 1, 1],\n",
    "    [1, 2, 4],\n",
    "    [1, 3, 9],\n",
    "    [1, 4, 16],\n",
    "])"
   ]
  },
  {
   "cell_type": "code",
   "execution_count": 13,
   "id": "8f6d571c-809f-46aa-92de-2f64331d1fc0",
   "metadata": {},
   "outputs": [],
   "source": [
    "w_mle = inv(PHI2.T @ PHI2) @ PHI2.T @ y"
   ]
  },
  {
   "cell_type": "code",
   "execution_count": 14,
   "id": "14b4f5bd-fc26-4885-97e8-a741662e5007",
   "metadata": {},
   "outputs": [
    {
     "data": {
      "text/plain": [
       "array([ 0.575,  0.755, -0.025])"
      ]
     },
     "execution_count": 14,
     "metadata": {},
     "output_type": "execute_result"
    }
   ],
   "source": [
    "w_mle"
   ]
  },
  {
   "cell_type": "code",
   "execution_count": 15,
   "id": "4f77f06d-6aa8-402d-b8c7-42919fa682bf",
   "metadata": {},
   "outputs": [],
   "source": [
    "e_train = np.sum((y - PHI2 @ w_mle) ** 2)"
   ]
  },
  {
   "cell_type": "code",
   "execution_count": 16,
   "id": "dbcca8ff-2e33-45ad-8b07-3f57e5105362",
   "metadata": {},
   "outputs": [
    {
     "data": {
      "text/plain": [
       "0.2205000000000002"
      ]
     },
     "execution_count": 16,
     "metadata": {},
     "output_type": "execute_result"
    }
   ],
   "source": [
    "e_train"
   ]
  },
  {
   "cell_type": "markdown",
   "id": "4324ba97-ee3a-4314-988f-f04fd1be93aa",
   "metadata": {
    "tags": []
   },
   "source": [
    "#### $p=3$"
   ]
  },
  {
   "cell_type": "code",
   "execution_count": 17,
   "id": "43b225b1-3b7f-4a5b-826c-65d56c5af0aa",
   "metadata": {},
   "outputs": [],
   "source": [
    "PHI3 = np.array([\n",
    "    [1, 1, 1, 1],\n",
    "    [1, 2, 4, 8],\n",
    "    [1, 3, 9, 27],\n",
    "    [1, 4, 16, 64],\n",
    "])"
   ]
  },
  {
   "cell_type": "code",
   "execution_count": 18,
   "id": "98d36b08-9795-46e1-8a83-b49b5de3da29",
   "metadata": {},
   "outputs": [],
   "source": [
    "w_mle = inv(PHI3.T @ PHI3) @ PHI3.T @ y"
   ]
  },
  {
   "cell_type": "code",
   "execution_count": 19,
   "id": "d1c71c84-62da-4dd9-a8dc-d135cabc18b2",
   "metadata": {},
   "outputs": [
    {
     "data": {
      "text/plain": [
       "array([-3.1 ,  6.6 , -2.65,  0.35])"
      ]
     },
     "execution_count": 19,
     "metadata": {},
     "output_type": "execute_result"
    }
   ],
   "source": [
    "w_mle"
   ]
  },
  {
   "cell_type": "code",
   "execution_count": 20,
   "id": "2c59bbd4-1fab-4b50-a41b-d77154ae3bd9",
   "metadata": {},
   "outputs": [
    {
     "data": {
      "text/plain": [
       "1.3286854124644085e-22"
      ]
     },
     "execution_count": 20,
     "metadata": {},
     "output_type": "execute_result"
    }
   ],
   "source": [
    "e = np.sum((y - PHI3 @ w_mle) ** 2)\n",
    "e"
   ]
  },
  {
   "cell_type": "code",
   "execution_count": 21,
   "id": "7e3e7097-c25f-4d69-bd82-7f42280ff9e4",
   "metadata": {},
   "outputs": [
    {
     "data": {
      "text/plain": [
       "True"
      ]
     },
     "execution_count": 21,
     "metadata": {},
     "output_type": "execute_result"
    }
   ],
   "source": [
    "# overfitting\n",
    "np.isclose(e, 0)"
   ]
  },
  {
   "cell_type": "markdown",
   "id": "a3a200af-b36d-4222-8302-cd1b991123a7",
   "metadata": {
    "tags": []
   },
   "source": [
    "### Example 04: $p=3$ with Regularization ($\\lambda = 1$)"
   ]
  },
  {
   "cell_type": "code",
   "execution_count": 22,
   "id": "a473866a-b805-4e28-a66f-a1e1e1a46fd6",
   "metadata": {},
   "outputs": [],
   "source": [
    "PHI3 = np.array([\n",
    "    [1, 1, 1, 1],\n",
    "    [1, 2, 4, 8],\n",
    "    [1, 3, 9, 27],\n",
    "    [1, 4, 16, 64],\n",
    "])"
   ]
  },
  {
   "cell_type": "code",
   "execution_count": 23,
   "id": "178ad0f4-2150-4133-9a34-96c7570457ee",
   "metadata": {},
   "outputs": [],
   "source": [
    "l = 1"
   ]
  },
  {
   "cell_type": "code",
   "execution_count": 24,
   "id": "5048ee5a-bf7d-4ca1-9078-bafa23865ebd",
   "metadata": {},
   "outputs": [],
   "source": [
    "w_mle = inv(PHI3.T @ PHI3 + l * np.eye(4)) @ PHI3.T @ y"
   ]
  },
  {
   "cell_type": "code",
   "execution_count": 25,
   "id": "1341a5ed-c2e9-4071-aa9b-d832fc438ba1",
   "metadata": {},
   "outputs": [
    {
     "data": {
      "text/plain": [
       "array([ 0.39185822,  0.40195489,  0.24646617, -0.04272825])"
      ]
     },
     "execution_count": 25,
     "metadata": {},
     "output_type": "execute_result"
    }
   ],
   "source": [
    "w_mle"
   ]
  },
  {
   "cell_type": "code",
   "execution_count": 26,
   "id": "4247fc80-1c9e-43c3-a8cc-3d8b3acad425",
   "metadata": {},
   "outputs": [
    {
     "data": {
      "text/plain": [
       "0.3923596899260681"
      ]
     },
     "execution_count": 26,
     "metadata": {},
     "output_type": "execute_result"
    }
   ],
   "source": [
    "e = np.sum((y - PHI3 @ w_mle) ** 2)\n",
    "e"
   ]
  },
  {
   "cell_type": "markdown",
   "id": "a03fc737-ab43-4a4a-a6bb-5b1ce3884034",
   "metadata": {},
   "source": [
    "## Bias Variance Tradeoff"
   ]
  },
  {
   "cell_type": "markdown",
   "id": "f2677c9f-4b40-4cd8-9b50-6a6d67d1d355",
   "metadata": {},
   "source": [
    "<img src=\"../images/bias-variance.png\" width=\"400\"/>"
   ]
  },
  {
   "cell_type": "markdown",
   "id": "c9046b8f-04a9-4846-afb9-f1d2344b55ce",
   "metadata": {},
   "source": [
    "<img src=\"../images/bias-variance-2.jpeg\" width=\"400\"/>"
   ]
  },
  {
   "cell_type": "markdown",
   "id": "d2816a29-3355-431b-bb97-8077786ecf31",
   "metadata": {},
   "source": [
    "<img src=\"../images/bias-variance-3.png\" width=\"500\"/>"
   ]
  },
  {
   "cell_type": "markdown",
   "id": "290b5e98-b3e8-40ad-9bfe-e308f93b2207",
   "metadata": {},
   "source": [
    "<img src=\"../images/bias-variance-4.jpeg\" width=\"500\"/>"
   ]
  },
  {
   "cell_type": "markdown",
   "id": "83631472-5866-44d5-a3e5-1e6e641b42da",
   "metadata": {},
   "source": [
    "## Gradient Descent"
   ]
  },
  {
   "cell_type": "markdown",
   "id": "38620f2c-98fc-4eb7-aba4-715c3bccb945",
   "metadata": {},
   "source": [
    "### Batch Gradient Descent (with Line Search)"
   ]
  },
  {
   "cell_type": "markdown",
   "id": "71116451-64fe-4169-b40e-1edc6d3e8661",
   "metadata": {},
   "source": [
    "In this example, we first define the cost function and the gradient function for linear regression. We then define the line search function, which performs the backtracking line search to find the optimal step size for gradient descent. Finally, we define the gradient descent function, which uses the line search function to perform gradient descent to find the optimal parameters for the linear regression model."
   ]
  },
  {
   "cell_type": "markdown",
   "id": "66e7804c-27f1-46c3-85a1-b12b5c397237",
   "metadata": {},
   "source": [
    "To use this program, you would need to provide your own data in the form of an input matrix `X` and a target vector `y`, as well as the hyperparameters `alpha`, `beta` and `num_iters` for gradient descent. The program will return the learned parameters theta for the linear regression model."
   ]
  },
  {
   "cell_type": "markdown",
   "id": "08b41f49-8e33-4200-85b2-e064716e93ef",
   "metadata": {},
   "source": [
    "Sample Data:"
   ]
  },
  {
   "cell_type": "code",
   "execution_count": 27,
   "id": "d887b5d9-ec4b-494b-9f72-fa8ec830e048",
   "metadata": {},
   "outputs": [],
   "source": [
    "import numpy as np"
   ]
  },
  {
   "cell_type": "code",
   "execution_count": 28,
   "id": "e01dff39-4688-4745-a2e9-29dfa112b35f",
   "metadata": {},
   "outputs": [],
   "source": [
    "np.random.seed(0)\n",
    "X = np.random.rand(100, 3)\n",
    "y = np.dot(X, np.array([1, 2, 3]).reshape(-1, 1)) + np.random.randn(100, 1)"
   ]
  },
  {
   "cell_type": "code",
   "execution_count": 29,
   "id": "25702b8f-070e-41b0-90c1-6ff4e2dacab5",
   "metadata": {},
   "outputs": [],
   "source": [
    "# Add a column of ones to X for the intercept term\n",
    "X = np.hstack((np.ones((len(y), 1)), X))"
   ]
  },
  {
   "cell_type": "markdown",
   "id": "f999db05-ab13-495e-96db-63bd7cdf5939",
   "metadata": {},
   "source": [
    "Algorithm implementation:"
   ]
  },
  {
   "cell_type": "code",
   "execution_count": 30,
   "id": "53947516-7ee3-453e-b239-624e259a63de",
   "metadata": {},
   "outputs": [],
   "source": [
    "# Define the cost function\n",
    "def cost_function(X, y, w):\n",
    "    n, d = X.shape\n",
    "    y_pred = X @ w\n",
    "    return np.sum((y - y_pred) ** 2) / (2 * n)"
   ]
  },
  {
   "cell_type": "code",
   "execution_count": 31,
   "id": "a5d15f51-f952-48b5-a73d-4785895f1b52",
   "metadata": {},
   "outputs": [],
   "source": [
    "# Define the gradient function\n",
    "def gradient(X, y, w):\n",
    "    n, d = X.shape\n",
    "    grad = X.T @ ((X @ w) - y) / n\n",
    "    return grad"
   ]
  },
  {
   "cell_type": "code",
   "execution_count": 32,
   "id": "7619a501-7391-49ef-91a3-df4b218ca504",
   "metadata": {},
   "outputs": [],
   "source": [
    "# Define the line search function\n",
    "def line_search(X, y, w, alpha=0.001, beta=0.7):\n",
    "    cost = cost_function(X, y, w)\n",
    "    grad = gradient(X, y, w)\n",
    "    step_size = 5\n",
    "\n",
    "    while cost_function(X, y, w - step_size * grad) > cost + alpha:\n",
    "        step_size = beta * step_size\n",
    "\n",
    "    return step_size"
   ]
  },
  {
   "cell_type": "code",
   "execution_count": 33,
   "id": "f7d5b891-7c43-456d-be13-2cefcd652b1b",
   "metadata": {},
   "outputs": [],
   "source": [
    "# Define the gradient descent function\n",
    "def gradient_descent(X, y, alpha=0.001, beta=0.7, num_iters=100):\n",
    "    n, d = X.shape\n",
    "    w = np.zeros((d, 1))\n",
    "\n",
    "    costs = []\n",
    "    for i in range(num_iters):\n",
    "        step_size = line_search(X, y, w, alpha, beta)\n",
    "        w = w - step_size * gradient(X, y, w)\n",
    "        costs.append(cost_function(X, y, w))\n",
    "        \n",
    "    return w, costs"
   ]
  },
  {
   "cell_type": "code",
   "execution_count": 34,
   "id": "2639b1e7-7d4c-439c-83b8-881987970a6c",
   "metadata": {},
   "outputs": [],
   "source": [
    "# Run gradient descent\n",
    "w, gd_costs = gradient_descent(X, y, num_iters=10)"
   ]
  },
  {
   "cell_type": "code",
   "execution_count": 35,
   "id": "19074416-a7c9-4f03-a396-d1db67f0c637",
   "metadata": {},
   "outputs": [
    {
     "name": "stdout",
     "output_type": "stream",
     "text": [
      "Learned parameters: [[0.89522167]\n",
      " [0.58296974]\n",
      " [1.16294572]\n",
      " [1.87724787]]\n"
     ]
    }
   ],
   "source": [
    "# Print the learned parameters\n",
    "print(\"Learned parameters:\", w)"
   ]
  },
  {
   "cell_type": "code",
   "execution_count": 36,
   "id": "07282707-2970-42fc-b242-6ec904c581c9",
   "metadata": {},
   "outputs": [
    {
     "name": "stdout",
     "output_type": "stream",
     "text": [
      "Closed form parameters: [[-0.0497861 ]\n",
      " [ 0.59132477]\n",
      " [ 1.97995663]\n",
      " [ 3.25323099]]\n"
     ]
    }
   ],
   "source": [
    "w_mle = np.linalg.inv(X.T @ X) @ X.T @ y\n",
    "print(\"Closed form parameters:\", w_mle)"
   ]
  },
  {
   "cell_type": "code",
   "execution_count": 37,
   "id": "7db3f8c5-9858-47e2-958d-6d1a435246c2",
   "metadata": {},
   "outputs": [
    {
     "name": "stdout",
     "output_type": "stream",
     "text": [
      "Final Cost: 0.5425178480550611\n"
     ]
    }
   ],
   "source": [
    "print(f'Final Cost: {cost_function(X, y, w)}')"
   ]
  },
  {
   "cell_type": "code",
   "execution_count": 38,
   "id": "e51c83a5-30cf-44f6-9d2d-304bf868efcd",
   "metadata": {},
   "outputs": [],
   "source": [
    "import matplotlib.pyplot as plt\n",
    "%matplotlib inline"
   ]
  },
  {
   "cell_type": "code",
   "execution_count": 39,
   "id": "8a5d0725-20dc-492f-a5e2-6249ad89a7ae",
   "metadata": {},
   "outputs": [
    {
     "data": {
      "text/plain": [
       "[<matplotlib.lines.Line2D at 0x7fa7d0ab2490>]"
      ]
     },
     "execution_count": 39,
     "metadata": {},
     "output_type": "execute_result"
    },
    {
     "data": {
      "image/png": "[encoded data removed]",
      "text/plain": [
       "<Figure size 432x288 with 1 Axes>"
      ]
     },
     "metadata": {
      "needs_background": "light"
     },
     "output_type": "display_data"
    }
   ],
   "source": [
    "plt.plot(\n",
    "    range(len(gd_costs)),\n",
    "    gd_costs\n",
    ")"
   ]
  },
  {
   "cell_type": "markdown",
   "id": "e5c97937-e6d6-464e-9f57-9b217159a38d",
   "metadata": {},
   "source": [
    "## Mini-Batch Gradient Descent"
   ]
  },
  {
   "cell_type": "markdown",
   "id": "34b926fe-4baf-4c30-9198-6e42f6552bc0",
   "metadata": {},
   "source": [
    "> MGD is a variation of the gradient descent algorithm that splits the training datasets into small batches that are used to calculate model error and update model coefficients."
   ]
  },
  {
   "cell_type": "markdown",
   "id": "beffa11a-f5a3-447d-82da-a4e35ace6b16",
   "metadata": {},
   "source": [
    "Let us understand like this, suppose I have 1000 records and my batch size = 50, I will choose randomly 50 records, then calculate summation of loss and then send the loss to optimizer to find dE/dw."
   ]
  },
  {
   "cell_type": "markdown",
   "id": "2294cec0-583a-45ae-9979-a2ef4b512bb2",
   "metadata": {},
   "source": [
    "<img src=\"../images/mgd.webp\" width=\"500\"/>"
   ]
  },
  {
   "cell_type": "code",
   "execution_count": 40,
   "id": "c0d5a74b-5386-462d-a80c-4d6c047507a7",
   "metadata": {},
   "outputs": [],
   "source": [
    "# Define the batch gradient descent function with line search\n",
    "def minibatch_gradient_descent(X, y, batch_size, alpha=0.01, beta=0.7, num_epochs=1000):\n",
    "    n, d = X.shape\n",
    "    w = np.zeros((d, 1))\n",
    "    print(f'Baseline Cost: {cost_function(X, y, w)}')\n",
    "\n",
    "    costs = []\n",
    "    for _ in range(num_epochs):\n",
    "        # randomly shuffle the indices of the training data\n",
    "        indices = np.random.permutation(n)\n",
    "        \n",
    "        # split the indices into batches of size batch_size\n",
    "        for j in range(0, n, batch_size):\n",
    "            batch_indices = indices[j: j + batch_size]\n",
    "            X_batch = X[batch_indices]\n",
    "            y_batch = y[batch_indices]\n",
    "            \n",
    "            # perform line search to find the optimal step size for the batch\n",
    "            step_size = line_search(X_batch, y_batch, w, alpha, beta)\n",
    "            \n",
    "            # update the parameters using the optimal step size and search direction\n",
    "            w = w - step_size * gradient(X, y, w)\n",
    "    \n",
    "        costs.append(cost_function(X, y, w))\n",
    "\n",
    "    return w, costs"
   ]
  },
  {
   "cell_type": "code",
   "execution_count": 41,
   "id": "78b3617f-e6f4-42ce-8d88-319e070b8942",
   "metadata": {},
   "outputs": [
    {
     "name": "stdout",
     "output_type": "stream",
     "text": [
      "Baseline Cost: 5.239743328483836\n"
     ]
    }
   ],
   "source": [
    "# Run batch gradient descent\n",
    "w, bgd_costs = minibatch_gradient_descent(X, y, batch_size=50, alpha=0.01, num_epochs=10)"
   ]
  },
  {
   "cell_type": "code",
   "execution_count": 42,
   "id": "4ba1047d-5414-481d-a921-4f99e677eed4",
   "metadata": {},
   "outputs": [
    {
     "name": "stdout",
     "output_type": "stream",
     "text": [
      "Learned parameters: [[0.49184752]\n",
      " [0.51822229]\n",
      " [1.47910697]\n",
      " [2.5122863 ]]\n"
     ]
    }
   ],
   "source": [
    "# Print the learned parameters\n",
    "print(\"Learned parameters:\", w)"
   ]
  },
  {
   "cell_type": "code",
   "execution_count": 43,
   "id": "5d40d3d2-8c09-47f5-a24a-cc03bf3ea948",
   "metadata": {},
   "outputs": [
    {
     "name": "stdout",
     "output_type": "stream",
     "text": [
      "Final Cost: 0.4708304155469588\n"
     ]
    }
   ],
   "source": [
    "print(f'Final Cost: {cost_function(X, y, w)}')"
   ]
  },
  {
   "cell_type": "code",
   "execution_count": 44,
   "id": "dfaf33ea-ab0f-48ca-b8bf-ba10dc3a9799",
   "metadata": {},
   "outputs": [
    {
     "data": {
      "text/plain": [
       "[<matplotlib.lines.Line2D at 0x7fa7f0835760>]"
      ]
     },
     "execution_count": 44,
     "metadata": {},
     "output_type": "execute_result"
    },
    {
     "data": {
      "image/png": "[encoded data removed]",
      "text/plain": [
       "<Figure size 432x288 with 1 Axes>"
      ]
     },
     "metadata": {
      "needs_background": "light"
     },
     "output_type": "display_data"
    }
   ],
   "source": [
    "plt.plot(\n",
    "    range(len(bgd_costs)),\n",
    "    bgd_costs\n",
    ")"
   ]
  },
  {
   "cell_type": "markdown",
   "id": "18cea288-f136-4d04-b9aa-1036b1fddccf",
   "metadata": {},
   "source": [
    "Advantages:\n",
    "\n",
    "- The model update frequency is higher than BGD (Batch Gradient Descent): In MGD(Stochastic Gradient descent), we are not waiting for entire data, we are just passing 50 records or 200 or 100 or 256, then we are passing for optimization.\n",
    "- The batching allows both efficiency of not having all training data in memory and algorithms implementations. We are controlling memory consumption as well to store losses for each and every datasets.\n",
    "- The batches updates provide a computationally more efficient process than SGD."
   ]
  },
  {
   "cell_type": "markdown",
   "id": "9b2f9a64-b6e0-4e38-9d08-f3765a0ec055",
   "metadata": {},
   "source": [
    "Disadvantages:\n",
    "\n",
    "- No guarantee of convergence of a error in a better way.\n",
    "- Since the 50 sample records we take , are not representing the properties (or variance) of entire datasets. Do, this is the reason that we will not be able to get an convergence i.e., we won’t get absolute global or local minima at any point of a time.\n",
    "- While using MGD, since we are taking records in batches, so, it might happen that in some batches, we get some error and in dome other batches, we get some other error. So, we will have to control the learning rate by our-self , whenever we use MGD. If learning rate is very low, so the convergence rate will also fall. If learning rate is too high, we won’t get an absolute global or local minima. So we need to control the learning rate."
   ]
  },
  {
   "cell_type": "markdown",
   "id": "6a4e8cb0-3325-48d8-bcad-1201dfced9eb",
   "metadata": {},
   "source": [
    "## Stochastic Gradient Descent"
   ]
  },
  {
   "cell_type": "code",
   "execution_count": 45,
   "id": "b1ad1372-9628-4f05-825e-aedda9a17fde",
   "metadata": {},
   "outputs": [],
   "source": [
    "# Define the line search function\n",
    "def line_search(X, y, w, grad, alpha=0.01, beta=0.5):\n",
    "    step_size = 1.0\n",
    "\n",
    "    while cost_function(X, y, w - step_size * grad) > cost_function(X, y, w) + alpha * step_size * np.dot(-grad.T, gradient(X, y, w)):\n",
    "        step_size = beta * step_size\n",
    "\n",
    "    return step_size"
   ]
  },
  {
   "cell_type": "code",
   "execution_count": 46,
   "id": "2ac93826-8129-4070-b3b3-8481e4043a54",
   "metadata": {},
   "outputs": [],
   "source": [
    "# Define the stochastic gradient descent function with line search\n",
    "def stochastic_gradient_descent(X, y, alpha=0.01, num_epochs=1000):\n",
    "    n, d = X.shape\n",
    "    w = np.zeros((d, 1))\n",
    "    \n",
    "    costs = []\n",
    "    for _ in range(num_epochs):\n",
    "        # randomly shuffle the indices of the training data\n",
    "        indices = np.random.permutation(n)\n",
    "\n",
    "        # iterate through the shuffled indices\n",
    "        for j in indices:\n",
    "            Xj = X[j,:].reshape(1,-1)\n",
    "            yj = y[j].reshape(1,-1)\n",
    "\n",
    "            # compute the gradient of the cost function for the jth training example\n",
    "            grad = gradient(Xj, yj, w)\n",
    "\n",
    "            # perform line search to find the optimal step size for the jth training example\n",
    "            t = line_search(Xj, yj, w, grad)\n",
    "\n",
    "            # update the parameters using the optimal step size and search direction\n",
    "            w = w - t * grad\n",
    "            \n",
    "        costs.append(cost_function(X, y, w))\n",
    "    return w, costs"
   ]
  },
  {
   "cell_type": "code",
   "execution_count": 47,
   "id": "3071df85-d428-4569-b2d0-6508353519e7",
   "metadata": {},
   "outputs": [],
   "source": [
    "# Run batch gradient descent\n",
    "w, sgd_costs = stochastic_gradient_descent(X, y, alpha=0.01, num_epochs=100)"
   ]
  },
  {
   "cell_type": "code",
   "execution_count": 48,
   "id": "51b6b404-4251-4787-a2e1-24e74c6d6155",
   "metadata": {},
   "outputs": [
    {
     "name": "stdout",
     "output_type": "stream",
     "text": [
      "Learned parameters: [[ 0.44466866]\n",
      " [-1.56689061]\n",
      " [ 2.12543968]\n",
      " [ 3.58705883]]\n"
     ]
    }
   ],
   "source": [
    "# Print the learned parameters\n",
    "print(\"Learned parameters:\", w)"
   ]
  },
  {
   "cell_type": "code",
   "execution_count": 49,
   "id": "f9a39291-2543-47ea-b5ad-f33b4e72af52",
   "metadata": {},
   "outputs": [
    {
     "name": "stdout",
     "output_type": "stream",
     "text": [
      "Final Cost: 0.6917658840353026\n"
     ]
    }
   ],
   "source": [
    "print(f'Final Cost: {cost_function(X, y, w)}')"
   ]
  },
  {
   "cell_type": "code",
   "execution_count": 50,
   "id": "8fc23bf7-83a8-402a-ab21-24da5c0a9190",
   "metadata": {},
   "outputs": [
    {
     "data": {
      "text/plain": [
       "[<matplotlib.lines.Line2D at 0x7fa7c0ac7e20>]"
      ]
     },
     "execution_count": 50,
     "metadata": {},
     "output_type": "execute_result"
    },
    {
     "data": {
      "image/png": "[encoded data removed]",
      "text/plain": [
       "<Figure size 432x288 with 1 Axes>"
      ]
     },
     "metadata": {
      "needs_background": "light"
     },
     "output_type": "display_data"
    }
   ],
   "source": [
    "plt.plot(\n",
    "    range(len(sgd_costs)),\n",
    "    sgd_costs\n",
    ")"
   ]
  },
  {
   "cell_type": "markdown",
   "id": "7c0772be-f952-4293-8539-5dae1993e285",
   "metadata": {},
   "source": [
    "> SGD converges faster for larger datasets. But, since in SGD we use only one example at a time, we cannot implement the vectorized implementation on it. This can slow down the computations."
   ]
  },
  {
   "cell_type": "markdown",
   "id": "6c160072-fd88-4287-a27d-5886a68affde",
   "metadata": {},
   "source": [
    "### With `sklearn`"
   ]
  },
  {
   "cell_type": "code",
   "execution_count": 51,
   "id": "5edeae1f-4086-446c-9d22-3b43ae244d7b",
   "metadata": {},
   "outputs": [],
   "source": [
    "import numpy as np\n",
    "from sklearn.linear_model import LinearRegression"
   ]
  },
  {
   "cell_type": "code",
   "execution_count": 52,
   "id": "2903d1f4-d1bd-48cd-88f0-b44d31e302f9",
   "metadata": {},
   "outputs": [
    {
     "data": {
      "text/plain": [
       "0.5708610537993171"
      ]
     },
     "execution_count": 52,
     "metadata": {},
     "output_type": "execute_result"
    }
   ],
   "source": [
    "reg = LinearRegression().fit(X, y)\n",
    "reg.score(X, y)"
   ]
  },
  {
   "cell_type": "code",
   "execution_count": 53,
   "id": "67817423-9af6-4767-b6cf-477f8ca96cba",
   "metadata": {},
   "outputs": [],
   "source": [
    "w = reg.coef_[0].reshape(4, -1)"
   ]
  },
  {
   "cell_type": "code",
   "execution_count": 54,
   "id": "ae0349fa-0a80-47c1-ad7c-e6bc5efc7485",
   "metadata": {},
   "outputs": [
    {
     "name": "stdout",
     "output_type": "stream",
     "text": [
      "Final Cost: 0.43371704737729516\n"
     ]
    }
   ],
   "source": [
    "print(f'Final Cost: {cost_function(X, y, w)}')"
   ]
  },
  {
   "cell_type": "markdown",
   "id": "eb5edcbb-16e2-4fb6-98d4-11132295c0e5",
   "metadata": {},
   "source": [
    "<img src=\"../images/mgd_sgd_compare.webp\" width=\"800\"/>"
   ]
  },
  {
   "cell_type": "markdown",
   "id": "8edbfbad-7c9d-43bd-ba7e-0b9f467c041d",
   "metadata": {},
   "source": [
    "## Generalized Linear Models"
   ]
  },
  {
   "cell_type": "markdown",
   "id": "53c87653-ac8d-4e6a-9b16-a1892fff39d6",
   "metadata": {},
   "source": [
    "In this section, we introduce generalized linear models (GLMs) which extend ordinary\n",
    "least-squares regression beyond Gaussian probability distributions and linear dependencies\n",
    "between the features and the target.\n",
    "\n",
    "GLMs include three widely used models: linear regression, Poisson regression\n",
    "and logistic regression."
   ]
  },
  {
   "cell_type": "markdown",
   "id": "4a947d52-1c35-4e37-8c48-8e50bc88339b",
   "metadata": {},
   "source": [
    "|Probability Distribution|Link Function|\n",
    "|:--|:--|\n",
    "|Normal Distribution|Identity function|\n",
    "|Binomial Distribution|Logit/Sigmoid function|\n",
    "|Poisson Distribution|Log function (aka log-linear, log-link)|"
   ]
  },
  {
   "cell_type": "code",
   "execution_count": 3,
   "id": "4230f3e3-9fa3-4395-ba58-29b847dbf4ec",
   "metadata": {},
   "outputs": [],
   "source": [
    "from sklearn import linear_model\n",
    "clf = linear_model.PoissonRegressor()"
   ]
  },
  {
   "cell_type": "code",
   "execution_count": 4,
   "id": "31d85d39-f0d0-4cad-b708-f3d83004c557",
   "metadata": {},
   "outputs": [
    {
     "data": {
      "text/plain": [
       "PoissonRegressor()"
      ]
     },
     "execution_count": 4,
     "metadata": {},
     "output_type": "execute_result"
    }
   ],
   "source": [
    "X = [[1, 2], [2, 3], [3, 4], [4, 3]]\n",
    "y = [12, 17, 22, 21]\n",
    "clf.fit(X, y)"
   ]
  },
  {
   "cell_type": "code",
   "execution_count": 5,
   "id": "7ae103ee-2d14-45b2-91d2-f6b357c4641e",
   "metadata": {},
   "outputs": [
    {
     "data": {
      "text/plain": [
       "0.9904855148891613"
      ]
     },
     "execution_count": 5,
     "metadata": {},
     "output_type": "execute_result"
    }
   ],
   "source": [
    "clf.score(X, y)"
   ]
  },
  {
   "cell_type": "code",
   "execution_count": 6,
   "id": "3301ca11-ff35-47fd-a1d8-b9608a0f049a",
   "metadata": {},
   "outputs": [
    {
     "data": {
      "text/plain": [
       "array([0.12109212, 0.15836976])"
      ]
     },
     "execution_count": 6,
     "metadata": {},
     "output_type": "execute_result"
    }
   ],
   "source": [
    "clf.coef_"
   ]
  },
  {
   "cell_type": "code",
   "execution_count": 7,
   "id": "a7b7d073-2d77-4863-84e8-9547a29564cd",
   "metadata": {},
   "outputs": [
    {
     "data": {
      "text/plain": [
       "2.0885914156053205"
      ]
     },
     "execution_count": 7,
     "metadata": {},
     "output_type": "execute_result"
    }
   ],
   "source": [
    "clf.intercept_"
   ]
  },
  {
   "cell_type": "code",
   "execution_count": 10,
   "id": "8b6ea14d-0398-422c-ae85-501ea4ade5dd",
   "metadata": {},
   "outputs": [
    {
     "data": {
      "text/plain": [
       "array([12.50868306, 16.54170759])"
      ]
     },
     "execution_count": 10,
     "metadata": {},
     "output_type": "execute_result"
    }
   ],
   "source": [
    "clf.predict([[1, 2], [2, 3]])"
   ]
  },
  {
   "cell_type": "code",
   "execution_count": 11,
   "id": "abb68ace-807b-41dc-af26-2b492a29b8aa",
   "metadata": {},
   "outputs": [
    {
     "data": {
      "text/plain": [
       "array([12.50868306, 16.54170759, 21.87505182, 21.07461353])"
      ]
     },
     "execution_count": 11,
     "metadata": {},
     "output_type": "execute_result"
    }
   ],
   "source": [
    "clf.predict(X)"
   ]
  },
  {
   "cell_type": "code",
   "execution_count": null,
   "id": "a9449ca4-6f2a-4192-aef6-155a43fb1370",
   "metadata": {},
   "outputs": [],
   "source": []
  }
 ],
 "metadata": {
  "kernelspec": {
   "display_name": "Python 3",
   "language": "python",
   "name": "python3"
  },
  "language_info": {
   "codemirror_mode": {
    "name": "ipython",
    "version": 3
   },
   "file_extension": ".py",
   "mimetype": "text/x-python",
   "name": "python",
   "nbconvert_exporter": "python",
   "pygments_lexer": "ipython3",
   "version": "3.8.11"
  }
 },
 "nbformat": 4,
 "nbformat_minor": 5
}
