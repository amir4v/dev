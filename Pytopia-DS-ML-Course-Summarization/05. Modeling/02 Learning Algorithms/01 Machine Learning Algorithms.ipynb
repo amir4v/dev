{
 "cells": [
  {
   "cell_type": "markdown",
   "id": "454641b6-59bb-4477-b4d8-6e9bc0df89ac",
   "metadata": {},
   "source": [
    "<img src=\"../../../images/banners/ml-algorithms.jpg\" width=\"600\"/>"
   ]
  },
  {
   "cell_type": "markdown",
   "id": "3529116e-05a5-414b-9d66-58ccbda8b688",
   "metadata": {},
   "source": [
    "<a class=\"anchor\" id=\"intro_to_data_structures\"></a>\n",
    "# <img src=\"../../../images/logos/ml-logo.png\" width=\"23\"/> Machine Learning Algorithms"
   ]
  },
  {
   "cell_type": "markdown",
   "id": "0e598878-f6af-4a16-ad9c-196feaecba77",
   "metadata": {},
   "source": [
    "## <img src=\"../../../images/logos/toc.png\" width=\"20\"/> Table of Contents \n",
    "* [Learning Algorithms](#)\n",
    "    * [The Task, T](#)\n",
    "    * [The Performance Measure, P](#)\n",
    "    * [The Experience, E](#)\n",
    "\n",
    "---"
   ]
  },
  {
   "cell_type": "markdown",
   "id": "26956cbd-7402-4b02-97af-1bf05fcf9215",
   "metadata": {},
   "source": [
    "These section series covers some perspectives on traditional machine learning techniques that have strongly inﬂuenced the development of deep learning algorithms. Most machine learning algorithms can be divided into the categories of **supervised learning and unsupervised learning**; we describe these categories and give some examples of simple learning algorithms from each category."
   ]
  },
  {
   "cell_type": "markdown",
   "id": "ab0d4ea5-9d7a-4043-b5cd-f76635799025",
   "metadata": {},
   "source": [
    "We describe how to combine various algorithm components, such as an optimization algorithm, a cost function, a model, and a dataset, to build amachine learning algorithm. Finally, we describe some of the factors that have limited the ability of traditional machine learning to generalize. These challenges have motivated the development of deep learning algorithms that overcome these obstacles."
   ]
  },
  {
   "cell_type": "markdown",
   "id": "bc93aa47-1375-48e4-a291-67ec4d12cd2f",
   "metadata": {},
   "source": [
    "## Learning Algorithms\n",
    "\n",
    "A machine learning algorithm is an algorithm that is able to learn from data. But what do we mean by learning? Mitchell (1997) provides a succinct deﬁnition: “A computer program is said to learn from experience **E** with respect to some class of tasks **T** and performance measure **P**, if its performance at tasks in **T**, as measured by **P**, improves with experience **E**.” One can imagine a wide variety of experiences **E**, tasks **T**, and performance measures **P**. In the following sections, we provide intuitive descriptions and examples of the different kinds of tasks, performance measures, and experiences that can be used to construct machine learning algorithms.\n",
    "\n",
    "- Experience\n",
    "- Task\n",
    "- Performance"
   ]
  },
  {
   "cell_type": "markdown",
   "id": "29ea98e8-9d35-435b-a629-004f1fd1fae0",
   "metadata": {},
   "source": [
    "<img src=\"../images/task.png\" width=\"400\"/>"
   ]
  },
  {
   "cell_type": "markdown",
   "id": "2c600f14-588e-4267-ba3c-2e3931f100a6",
   "metadata": {},
   "source": [
    "### The Task, T"
   ]
  },
  {
   "cell_type": "markdown",
   "id": "15fb686d-4336-412f-9b08-ffba326b6629",
   "metadata": {},
   "source": [
    "Machine learning enables us to tackle tasks that are too diﬃcult to solve with ﬁxed programs written and designed by human beings. From a scientiﬁc and philosophical point of view, machine learning is interesting because developing our understanding of it entails developing our understanding of the principles that underlie intelligence."
   ]
  },
  {
   "cell_type": "markdown",
   "id": "0f9bdb99-6824-44b1-9076-13d0d33023c0",
   "metadata": {},
   "source": [
    "In this relatively formal deﬁnition of the word “task,” the process of learning itself is not the task. Learning is our means of attaining the ability to perform the task. For example, if we want a robot to be able to walk, then walking is the task. We could program the robot to learn to walk, or we could attempt to directly write a program that speciﬁes how to walk manually."
   ]
  },
  {
   "cell_type": "markdown",
   "id": "e0d43868-852a-4278-ace7-7ab24f3e6f5b",
   "metadata": {},
   "source": [
    "**Machine learning tasks are usually described in terms of how the machine learning system should process an example**. An example is a collection of features that have been quantitatively measured from some object or event that we want the machine learning system to process. We typically represent an example as avector $x \\in R^n$ where each entry $x_i$ of the vector is another feature. For example, the features of an image are usually the values of the pixels in the image."
   ]
  },
  {
   "cell_type": "markdown",
   "id": "1f846b34-56a6-4c13-83f5-eb14d609248d",
   "metadata": {},
   "source": [
    "Many kinds of tasks can be solved with machine learning. Some of the most common machine learning tasks include the following:"
   ]
  },
  {
   "cell_type": "markdown",
   "id": "4751ceaa-6bc7-4ce2-9629-8ec823c770f0",
   "metadata": {},
   "source": [
    "- **Classiﬁcation:** In this type of task, the computer program is asked to specify which of `k` categories some input belongs to. To solve this task, the learning algorithm is usually asked to produce a function $f:R^n → \\{1, . . . , k\\}$. When $y=f(x)$, the model assigns an input described by vector $x$ to a category identiﬁed by numeric codey. An example of a classiﬁcation task is object recognition, where the inputis an image (usually described as a set of pixel brightness values), and the output is a numeric code identifying the object in the image."
   ]
  },
  {
   "cell_type": "markdown",
   "id": "4da07224-a669-466b-bde1-226b4f0fd364",
   "metadata": {},
   "source": [
    "<img src=\"../images/classification.png\" width=\"300\"/>"
   ]
  },
  {
   "cell_type": "markdown",
   "id": "32f5d842-bc2d-4ae3-98e1-c95bb32ce0b6",
   "metadata": {},
   "source": [
    "- **Regression:** In this type of task, the computer program is asked to predict anumerical value given some input. To solve this task, the learning algorithm is asked to output a function $f: R^n → R$. This type of task is similar to classiﬁcation, except that the format of output is different. An example of a regression task is the prediction of the expected claim amount that an insured person will make (used to set insurance premiums), or the prediction of future prices of securities. These kinds of predictions are also used for algorithmic trading."
   ]
  },
  {
   "cell_type": "markdown",
   "id": "8763ea90-4fcd-4e96-951b-2abd39cc3479",
   "metadata": {},
   "source": [
    "<img src=\"../images/regression-vs-classification.png\" width=\"400\"/>"
   ]
  },
  {
   "cell_type": "markdown",
   "id": "3814f58e-c28d-4478-a174-a73c1123de04",
   "metadata": {},
   "source": [
    "Of course, many other tasks and types of tasks are possible such as Transcription, Anomaly Detection, Denoising, etc."
   ]
  },
  {
   "cell_type": "markdown",
   "id": "5d8ba9f6-2d5a-4294-8514-adef8f19bb1b",
   "metadata": {},
   "source": [
    "### The Performance Measure, P"
   ]
  },
  {
   "cell_type": "markdown",
   "id": "b95c4641-eabd-4ba7-b067-2c11d42aa4ae",
   "metadata": {},
   "source": [
    "To evaluate the abilities of a machine learning algorithm, we must design a quantitative measure of its performance. **Usually this performance measure P is speciﬁc to the task T being carried out by the system.**"
   ]
  },
  {
   "cell_type": "markdown",
   "id": "d0ca0995-f35a-4fec-847d-5d622fd6eb4c",
   "metadata": {},
   "source": [
    "For tasks such as classiﬁcation and transcription, we often measure the accuracy of the model. Accuracy is just the proportion of examples for which the model produces the correct output. We can also obtain equivalent information by measuring the error rate, the proportion of examples for which the model produces an incorrect output. We often refer to the error rate as the expected 0-1 loss. The 0-1 loss on a particular example is 0 if it is correctly classiﬁed and 1 if it is not."
   ]
  },
  {
   "cell_type": "markdown",
   "id": "9ff7f0fb-0007-41f7-8a07-08692c0c688f",
   "metadata": {},
   "source": [
    "Usually we are interested in how well the machine learning algorithm performs on data that it has not seen before, since this determines how well it will work when deployed in the real world. We therefore evaluate these performance measures using a **test set** of data that is separate from the data used for training the machine learning system."
   ]
  },
  {
   "cell_type": "markdown",
   "id": "bda7ef8b-3c62-4f06-95ae-737c5e2e8814",
   "metadata": {},
   "source": [
    "<img src=\"../images/train-test-set.png\" width=\"400\"/>"
   ]
  },
  {
   "cell_type": "markdown",
   "id": "0902175b-d31c-45d8-8207-5b73f447fb9d",
   "metadata": {},
   "source": [
    "The choice of performance measure may seem straightforward and objective, but it is often diﬃcult to choose a performance measure that corresponds well to the desired behavior of the system."
   ]
  },
  {
   "cell_type": "markdown",
   "id": "9e5e98a9-0239-4f92-90af-b2a621878a6a",
   "metadata": {},
   "source": [
    "In some cases, this is because it is diﬃcult to decide what should be measured .For example, when performing a transcription task, should we measure the accuracy of the system at transcribing entire sequences, or should we use a more ﬁne-grained performance measure that gives partial credit for getting some elements of the sequence correct? When performing a regression task, should we penalize the system more if it frequently makes medium-sized mistakes or if it rarely makesvery large mistakes? These kinds of design choices depend on the application."
   ]
  },
  {
   "cell_type": "markdown",
   "id": "59310c12-4a86-4370-a5ed-41667e5969ee",
   "metadata": {},
   "source": [
    "### The Experience, E"
   ]
  },
  {
   "cell_type": "markdown",
   "id": "87e6a0f5-2905-4717-b7c1-b6313b8572d2",
   "metadata": {},
   "source": [
    "Machine learning algorithms can be broadly categorized as unsupervised or supervised by what kind of experience they are allowed to have during thelearning process."
   ]
  },
  {
   "cell_type": "markdown",
   "id": "8c5cc052-18a3-47a5-85a7-ba4276a58d6c",
   "metadata": {},
   "source": [
    "Most of the learning algorithms we learn can be understood as being allowed to experience an entire dataset. A dataset is a collection of many examples. Sometimes we call examples data points."
   ]
  },
  {
   "cell_type": "markdown",
   "id": "4207d142-5d1b-411c-b270-08fd4789f65b",
   "metadata": {},
   "source": [
    "- **Unsupervised learning algorithms** experience a dataset containing manyfeatures, then learn useful properties of the structure of this dataset. Some unsupervised learning algorithms perform other roles, like clustering, which consists of dividing the dataset intoclusters of similar examples.\n",
    "\n",
    "- **Supervised learning algorithms** experience a dataset containing features,but each example is also associated with a label or target. For example, the Irisdataset is annotated with the species of each iris plant. A supervised learningalgorithm can study the Iris dataset and learn to classify iris plants into threediﬀerent species based on their measurements."
   ]
  },
  {
   "cell_type": "markdown",
   "id": "3aec91d5-4bb5-4b2d-84b7-0b269f279023",
   "metadata": {},
   "source": [
    "<img src=\"../images/supervised-vs-unsupervised.png\" width=\"400\"/>"
   ]
  },
  {
   "cell_type": "markdown",
   "id": "29d9f8ce-7a4b-428b-91c1-2242cd9c9096",
   "metadata": {},
   "source": [
    "Roughly speaking, unsupervised learning involves observing several examples of a random vector $x$ and attempting to implicitly or explicitly learn the probability distribution $p(x)$, or some interesting properties of that distribution; while supervised learning involves observing several examples of a random vector $x$ and an associated value or vectory, then learning to predict $y$ from $x$, usually by estimating $p(y|x)$."
   ]
  },
  {
   "cell_type": "markdown",
   "id": "c6249239-1ac7-4161-82db-726ef7823e4a",
   "metadata": {},
   "source": [
    "The term supervised learning originates from the view of the target $y$ being provided by an instructor or teacher who shows the machine learning system what to do. In unsupervised learning, there is no instructor or teacher, and the algorithm must learn to make sense of the data without this guide."
   ]
  },
  {
   "cell_type": "markdown",
   "id": "0dd5855f-cc6e-457a-87a9-bc97cfd75328",
   "metadata": {},
   "source": [
    "Traditionally, people refer to regression, classiﬁcation and structured output problems as supervised learning. Density estimation in support of other tasks is usually considered unsupervised learning."
   ]
  },
  {
   "cell_type": "markdown",
   "id": "e45aef97-053e-4684-a91a-c65459a16840",
   "metadata": {},
   "source": [
    "Other variants of the learning paradigm are possible. For example, in semi-supervised learning, some examples include a supervision target but others do not."
   ]
  },
  {
   "cell_type": "markdown",
   "id": "b3829fbd-c0c9-4619-bc80-a48d937f9b57",
   "metadata": {},
   "source": [
    "Some machine learning algorithms do not just experience a ﬁxed dataset. For example, **reinforcement learning** algorithms interact with an environment, so there is a feedback loop between the learning system and its experiences. Such algorithms are beyond the scope of this course."
   ]
  },
  {
   "cell_type": "markdown",
   "id": "83c31052-dd66-456c-9cdf-5229586408ef",
   "metadata": {},
   "source": [
    "<img src=\"../images/supervised-unsupervised-reinforcement.png\" width=\"500\"/>"
   ]
  },
  {
   "cell_type": "markdown",
   "id": "0573680a-e8d8-41ef-8ef5-e3105567c94a",
   "metadata": {},
   "source": [
    "One common way of describing a dataset is with a **design matrix**. A design matrix is a matrix containing a different example in each row. Each column of the matrix corresponds to a different feature. For instance, the Iris dataset contains 150 examples with four features for each example. This means we can representthe dataset with a design matrix $X \\in R^{150 \\times 4}$, where $X_{i,1}$ is the sepal length of plant $i$, $X_{i,2}$ is the sepal width of plant $i$, etc. We describe most of the learning algorithms in this course in terms of how they operate on design matrix datasets."
   ]
  },
  {
   "cell_type": "code",
   "execution_count": 1,
   "id": "f13c4db2-8e37-4208-9b2c-23ea7a020262",
   "metadata": {},
   "outputs": [],
   "source": [
    "import seaborn as sns"
   ]
  },
  {
   "cell_type": "code",
   "execution_count": 2,
   "id": "1c3a7ddd-fb5a-4154-8eb1-743721b2c2ea",
   "metadata": {},
   "outputs": [
    {
     "data": {
      "text/html": [
       "<div>\n",
       "<style scoped>\n",
       "    .dataframe tbody tr th:only-of-type {\n",
       "        vertical-align: middle;\n",
       "    }\n",
       "\n",
       "    .dataframe tbody tr th {\n",
       "        vertical-align: top;\n",
       "    }\n",
       "\n",
       "    .dataframe thead th {\n",
       "        text-align: right;\n",
       "    }\n",
       "</style>\n",
       "<table border=\"1\" class=\"dataframe\">\n",
       "  <thead>\n",
       "    <tr style=\"text-align: right;\">\n",
       "      <th></th>\n",
       "      <th>sepal_length</th>\n",
       "      <th>sepal_width</th>\n",
       "      <th>petal_length</th>\n",
       "      <th>petal_width</th>\n",
       "      <th>species</th>\n",
       "    </tr>\n",
       "  </thead>\n",
       "  <tbody>\n",
       "    <tr>\n",
       "      <th>0</th>\n",
       "      <td>5.1</td>\n",
       "      <td>3.5</td>\n",
       "      <td>1.4</td>\n",
       "      <td>0.2</td>\n",
       "      <td>setosa</td>\n",
       "    </tr>\n",
       "    <tr>\n",
       "      <th>1</th>\n",
       "      <td>4.9</td>\n",
       "      <td>3.0</td>\n",
       "      <td>1.4</td>\n",
       "      <td>0.2</td>\n",
       "      <td>setosa</td>\n",
       "    </tr>\n",
       "    <tr>\n",
       "      <th>2</th>\n",
       "      <td>4.7</td>\n",
       "      <td>3.2</td>\n",
       "      <td>1.3</td>\n",
       "      <td>0.2</td>\n",
       "      <td>setosa</td>\n",
       "    </tr>\n",
       "    <tr>\n",
       "      <th>3</th>\n",
       "      <td>4.6</td>\n",
       "      <td>3.1</td>\n",
       "      <td>1.5</td>\n",
       "      <td>0.2</td>\n",
       "      <td>setosa</td>\n",
       "    </tr>\n",
       "    <tr>\n",
       "      <th>4</th>\n",
       "      <td>5.0</td>\n",
       "      <td>3.6</td>\n",
       "      <td>1.4</td>\n",
       "      <td>0.2</td>\n",
       "      <td>setosa</td>\n",
       "    </tr>\n",
       "    <tr>\n",
       "      <th>...</th>\n",
       "      <td>...</td>\n",
       "      <td>...</td>\n",
       "      <td>...</td>\n",
       "      <td>...</td>\n",
       "      <td>...</td>\n",
       "    </tr>\n",
       "    <tr>\n",
       "      <th>145</th>\n",
       "      <td>6.7</td>\n",
       "      <td>3.0</td>\n",
       "      <td>5.2</td>\n",
       "      <td>2.3</td>\n",
       "      <td>virginica</td>\n",
       "    </tr>\n",
       "    <tr>\n",
       "      <th>146</th>\n",
       "      <td>6.3</td>\n",
       "      <td>2.5</td>\n",
       "      <td>5.0</td>\n",
       "      <td>1.9</td>\n",
       "      <td>virginica</td>\n",
       "    </tr>\n",
       "    <tr>\n",
       "      <th>147</th>\n",
       "      <td>6.5</td>\n",
       "      <td>3.0</td>\n",
       "      <td>5.2</td>\n",
       "      <td>2.0</td>\n",
       "      <td>virginica</td>\n",
       "    </tr>\n",
       "    <tr>\n",
       "      <th>148</th>\n",
       "      <td>6.2</td>\n",
       "      <td>3.4</td>\n",
       "      <td>5.4</td>\n",
       "      <td>2.3</td>\n",
       "      <td>virginica</td>\n",
       "    </tr>\n",
       "    <tr>\n",
       "      <th>149</th>\n",
       "      <td>5.9</td>\n",
       "      <td>3.0</td>\n",
       "      <td>5.1</td>\n",
       "      <td>1.8</td>\n",
       "      <td>virginica</td>\n",
       "    </tr>\n",
       "  </tbody>\n",
       "</table>\n",
       "<p>150 rows × 5 columns</p>\n",
       "</div>"
      ],
      "text/plain": [
       "     sepal_length  sepal_width  petal_length  petal_width    species\n",
       "0             5.1          3.5           1.4          0.2     setosa\n",
       "1             4.9          3.0           1.4          0.2     setosa\n",
       "2             4.7          3.2           1.3          0.2     setosa\n",
       "3             4.6          3.1           1.5          0.2     setosa\n",
       "4             5.0          3.6           1.4          0.2     setosa\n",
       "..            ...          ...           ...          ...        ...\n",
       "145           6.7          3.0           5.2          2.3  virginica\n",
       "146           6.3          2.5           5.0          1.9  virginica\n",
       "147           6.5          3.0           5.2          2.0  virginica\n",
       "148           6.2          3.4           5.4          2.3  virginica\n",
       "149           5.9          3.0           5.1          1.8  virginica\n",
       "\n",
       "[150 rows x 5 columns]"
      ]
     },
     "execution_count": 2,
     "metadata": {},
     "output_type": "execute_result"
    }
   ],
   "source": [
    "sns.load_dataset('iris')"
   ]
  },
  {
   "cell_type": "markdown",
   "id": "c9e39ab8-1b63-40b5-94f9-7b0d46e4763f",
   "metadata": {},
   "source": [
    "In the case of supervised learning, the example contains a label or target as well as a collection of features. For example, if we want to use a learning algorithm to perform object recognition from photographs, we need to specify which object appears in each of the photos. We might do this with a numeric code, with $0$ signifying a person, $1$ signifying a car, $2$ signifying a cat, and so forth. Often when working with a dataset containing a design matrix of feature observations $X$, we also provide a vector of labels $y$, with $y_i$ providing the label for example $i$."
   ]
  },
  {
   "cell_type": "markdown",
   "id": "e6ae7b4d-ace3-44f4-9270-96cf0f7f671f",
   "metadata": {},
   "source": [
    "**Just as there is no formal deﬁnition of supervised and unsupervised learning, there is no rigid taxonomy of datasets or experiences**. The structures described here cover most cases, but it is always possible to design new ones for new applications."
   ]
  }
 ],
 "metadata": {
  "kernelspec": {
   "display_name": "Python 3",
   "language": "python",
   "name": "python3"
  },
  "language_info": {
   "codemirror_mode": {
    "name": "ipython",
    "version": 3
   },
   "file_extension": ".py",
   "mimetype": "text/x-python",
   "name": "python",
   "nbconvert_exporter": "python",
   "pygments_lexer": "ipython3",
   "version": "3.8.11"
  }
 },
 "nbformat": 4,
 "nbformat_minor": 5
}
