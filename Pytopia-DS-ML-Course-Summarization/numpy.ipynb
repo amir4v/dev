{
 "cells": [
  {
   "cell_type": "code",
   "execution_count": 1,
   "metadata": {},
   "outputs": [],
   "source": [
    "import numpy as np"
   ]
  },
  {
   "cell_type": "code",
   "execution_count": 2,
   "metadata": {},
   "outputs": [],
   "source": [
    "x = np.arange(8, dtype=np.int8)"
   ]
  },
  {
   "cell_type": "code",
   "execution_count": 3,
   "metadata": {},
   "outputs": [
    {
     "data": {
      "text/plain": [
       "(1,)"
      ]
     },
     "execution_count": 3,
     "metadata": {},
     "output_type": "execute_result"
    }
   ],
   "source": [
    "x.strides"
   ]
  },
  {
   "cell_type": "code",
   "execution_count": 4,
   "metadata": {},
   "outputs": [],
   "source": [
    "x.shape = 4, 2"
   ]
  },
  {
   "cell_type": "code",
   "execution_count": 5,
   "metadata": {},
   "outputs": [
    {
     "data": {
      "text/plain": [
       "(2, 1)"
      ]
     },
     "execution_count": 5,
     "metadata": {},
     "output_type": "execute_result"
    }
   ],
   "source": [
    "x.strides"
   ]
  },
  {
   "cell_type": "code",
   "execution_count": 6,
   "metadata": {},
   "outputs": [
    {
     "data": {
      "text/plain": [
       "True"
      ]
     },
     "execution_count": 6,
     "metadata": {},
     "output_type": "execute_result"
    }
   ],
   "source": [
    "(x == x).all()"
   ]
  },
  {
   "cell_type": "code",
   "execution_count": 7,
   "metadata": {},
   "outputs": [
    {
     "data": {
      "text/plain": [
       "8"
      ]
     },
     "execution_count": 7,
     "metadata": {},
     "output_type": "execute_result"
    }
   ],
   "source": [
    "(x == x).sum()"
   ]
  },
  {
   "cell_type": "code",
   "execution_count": 8,
   "metadata": {},
   "outputs": [
    {
     "data": {
      "text/plain": [
       "28"
      ]
     },
     "execution_count": 8,
     "metadata": {},
     "output_type": "execute_result"
    }
   ],
   "source": [
    "x.sum()"
   ]
  },
  {
   "cell_type": "code",
   "execution_count": 9,
   "metadata": {},
   "outputs": [
    {
     "data": {
      "text/plain": [
       "1"
      ]
     },
     "execution_count": 9,
     "metadata": {},
     "output_type": "execute_result"
    }
   ],
   "source": [
    "x.itemsize"
   ]
  },
  {
   "cell_type": "code",
   "execution_count": 10,
   "metadata": {},
   "outputs": [
    {
     "data": {
      "text/plain": [
       "8"
      ]
     },
     "execution_count": 10,
     "metadata": {},
     "output_type": "execute_result"
    }
   ],
   "source": [
    "x.nbytes"
   ]
  },
  {
   "cell_type": "code",
   "execution_count": 11,
   "metadata": {},
   "outputs": [
    {
     "data": {
      "text/plain": [
       "array([[0, 1],\n",
       "       [2, 3],\n",
       "       [4, 5],\n",
       "       [6, 7]], dtype=int8)"
      ]
     },
     "execution_count": 11,
     "metadata": {},
     "output_type": "execute_result"
    }
   ],
   "source": [
    "x"
   ]
  },
  {
   "cell_type": "code",
   "execution_count": 12,
   "metadata": {},
   "outputs": [
    {
     "data": {
      "text/plain": [
       "(4, 2)"
      ]
     },
     "execution_count": 12,
     "metadata": {},
     "output_type": "execute_result"
    }
   ],
   "source": [
    "x.shape"
   ]
  },
  {
   "cell_type": "code",
   "execution_count": 13,
   "metadata": {},
   "outputs": [
    {
     "data": {
      "text/plain": [
       "(2, 1)"
      ]
     },
     "execution_count": 13,
     "metadata": {},
     "output_type": "execute_result"
    }
   ],
   "source": [
    "x.strides"
   ]
  },
  {
   "cell_type": "code",
   "execution_count": 16,
   "metadata": {},
   "outputs": [
    {
     "data": {
      "text/plain": [
       "array([0, 1, 2, 3, 4, 5, 6, 7], dtype=int8)"
      ]
     },
     "execution_count": 16,
     "metadata": {},
     "output_type": "execute_result"
    }
   ],
   "source": [
    "x.flatten()"
   ]
  },
  {
   "cell_type": "code",
   "execution_count": 19,
   "metadata": {},
   "outputs": [
    {
     "data": {
      "text/plain": [
       "array([0, 1, 2, 3, 4, 5, 6, 7], dtype=int8)"
      ]
     },
     "execution_count": 19,
     "metadata": {},
     "output_type": "execute_result"
    }
   ],
   "source": [
    "np.array(\n",
    "    x.flat\n",
    ")"
   ]
  },
  {
   "cell_type": "code",
   "execution_count": 20,
   "metadata": {},
   "outputs": [
    {
     "data": {
      "text/plain": [
       "array([[0, 1],\n",
       "       [2, 3],\n",
       "       [4, 5],\n",
       "       [6, 7]], dtype=int8)"
      ]
     },
     "execution_count": 20,
     "metadata": {},
     "output_type": "execute_result"
    }
   ],
   "source": [
    "x"
   ]
  },
  {
   "cell_type": "code",
   "execution_count": 23,
   "metadata": {},
   "outputs": [
    {
     "data": {
      "text/plain": [
       "array([[0, 2, 4, 6],\n",
       "       [1, 3, 5, 7]], dtype=int8)"
      ]
     },
     "execution_count": 23,
     "metadata": {},
     "output_type": "execute_result"
    }
   ],
   "source": [
    "np.swapaxes(x, 0, 1)"
   ]
  },
  {
   "cell_type": "code",
   "execution_count": 24,
   "metadata": {},
   "outputs": [
    {
     "data": {
      "text/plain": [
       "7"
      ]
     },
     "execution_count": 24,
     "metadata": {},
     "output_type": "execute_result"
    }
   ],
   "source": [
    "x.max()"
   ]
  },
  {
   "cell_type": "code",
   "execution_count": 25,
   "metadata": {},
   "outputs": [
    {
     "data": {
      "text/plain": [
       "array([6, 7], dtype=int8)"
      ]
     },
     "execution_count": 25,
     "metadata": {},
     "output_type": "execute_result"
    }
   ],
   "source": [
    "x.max(axis=0)"
   ]
  },
  {
   "cell_type": "code",
   "execution_count": 27,
   "metadata": {},
   "outputs": [
    {
     "data": {
      "text/plain": [
       "array([0, 2, 4, 6], dtype=int8)"
      ]
     },
     "execution_count": 27,
     "metadata": {},
     "output_type": "execute_result"
    }
   ],
   "source": [
    "x.min(axis=1)"
   ]
  },
  {
   "cell_type": "code",
   "execution_count": 28,
   "metadata": {},
   "outputs": [
    {
     "data": {
      "text/plain": [
       "array([[ 0,  1],\n",
       "       [ 4,  9],\n",
       "       [16, 25],\n",
       "       [36, 49]], dtype=int8)"
      ]
     },
     "execution_count": 28,
     "metadata": {},
     "output_type": "execute_result"
    }
   ],
   "source": [
    "x * x"
   ]
  },
  {
   "cell_type": "code",
   "execution_count": 29,
   "metadata": {},
   "outputs": [
    {
     "data": {
      "text/plain": [
       "array([[ 0,  2],\n",
       "       [ 4,  6],\n",
       "       [ 8, 10],\n",
       "       [12, 14]], dtype=int8)"
      ]
     },
     "execution_count": 29,
     "metadata": {},
     "output_type": "execute_result"
    }
   ],
   "source": [
    "x * 2"
   ]
  },
  {
   "cell_type": "code",
   "execution_count": 30,
   "metadata": {},
   "outputs": [
    {
     "data": {
      "text/plain": [
       "array([[ 0,  2],\n",
       "       [ 4,  6],\n",
       "       [ 8, 10],\n",
       "       [12, 14]])"
      ]
     },
     "execution_count": 30,
     "metadata": {},
     "output_type": "execute_result"
    }
   ],
   "source": [
    "x * [2]"
   ]
  },
  {
   "cell_type": "code",
   "execution_count": 31,
   "metadata": {},
   "outputs": [
    {
     "data": {
      "text/plain": [
       "array([[ 0,  2],\n",
       "       [ 4,  6],\n",
       "       [ 8, 10],\n",
       "       [12, 14]])"
      ]
     },
     "execution_count": 31,
     "metadata": {},
     "output_type": "execute_result"
    }
   ],
   "source": [
    "x * [2,2]"
   ]
  },
  {
   "cell_type": "code",
   "execution_count": 32,
   "metadata": {},
   "outputs": [
    {
     "ename": "ValueError",
     "evalue": "operands could not be broadcast together with shapes (4,2) (4,) ",
     "output_type": "error",
     "traceback": [
      "\u001b[1;31m---------------------------------------------------------------------------\u001b[0m",
      "\u001b[1;31mValueError\u001b[0m                                Traceback (most recent call last)",
      "Cell \u001b[1;32mIn[32], line 1\u001b[0m\n\u001b[1;32m----> 1\u001b[0m \u001b[43mx\u001b[49m\u001b[43m \u001b[49m\u001b[38;5;241;43m*\u001b[39;49m\u001b[43m \u001b[49m\u001b[43m[\u001b[49m\u001b[38;5;241;43m2\u001b[39;49m\u001b[43m,\u001b[49m\u001b[38;5;241;43m2\u001b[39;49m\u001b[43m,\u001b[49m\u001b[38;5;241;43m2\u001b[39;49m\u001b[43m,\u001b[49m\u001b[38;5;241;43m2\u001b[39;49m\u001b[43m]\u001b[49m\n",
      "\u001b[1;31mValueError\u001b[0m: operands could not be broadcast together with shapes (4,2) (4,) "
     ]
    }
   ],
   "source": [
    "x * [2,2,2,2]"
   ]
  },
  {
   "cell_type": "code",
   "execution_count": 33,
   "metadata": {},
   "outputs": [
    {
     "ename": "ValueError",
     "evalue": "operands could not be broadcast together with shapes (4,2) (3,) ",
     "output_type": "error",
     "traceback": [
      "\u001b[1;31m---------------------------------------------------------------------------\u001b[0m",
      "\u001b[1;31mValueError\u001b[0m                                Traceback (most recent call last)",
      "Cell \u001b[1;32mIn[33], line 1\u001b[0m\n\u001b[1;32m----> 1\u001b[0m \u001b[43mx\u001b[49m\u001b[43m \u001b[49m\u001b[38;5;241;43m*\u001b[39;49m\u001b[43m \u001b[49m\u001b[43m[\u001b[49m\u001b[38;5;241;43m2\u001b[39;49m\u001b[43m,\u001b[49m\u001b[38;5;241;43m2\u001b[39;49m\u001b[43m,\u001b[49m\u001b[38;5;241;43m2\u001b[39;49m\u001b[43m]\u001b[49m\n",
      "\u001b[1;31mValueError\u001b[0m: operands could not be broadcast together with shapes (4,2) (3,) "
     ]
    }
   ],
   "source": [
    "x * [2,2,2]"
   ]
  },
  {
   "cell_type": "code",
   "execution_count": 34,
   "metadata": {},
   "outputs": [
    {
     "data": {
      "text/plain": [
       "array([[0, 1],\n",
       "       [2, 3],\n",
       "       [4, 5],\n",
       "       [6, 7]], dtype=int8)"
      ]
     },
     "execution_count": 34,
     "metadata": {},
     "output_type": "execute_result"
    }
   ],
   "source": [
    "x"
   ]
  },
  {
   "cell_type": "code",
   "execution_count": 35,
   "metadata": {},
   "outputs": [
    {
     "data": {
      "text/plain": [
       "[1, 2, 3, 4]"
      ]
     },
     "execution_count": 35,
     "metadata": {},
     "output_type": "execute_result"
    }
   ],
   "source": [
    "l = [1,2,3,4]\n",
    "l"
   ]
  },
  {
   "cell_type": "code",
   "execution_count": 36,
   "metadata": {},
   "outputs": [
    {
     "data": {
      "text/plain": [
       "[2, 3]"
      ]
     },
     "execution_count": 36,
     "metadata": {},
     "output_type": "execute_result"
    }
   ],
   "source": [
    "ll = l[1:-1]\n",
    "ll"
   ]
  },
  {
   "cell_type": "code",
   "execution_count": 37,
   "metadata": {},
   "outputs": [
    {
     "data": {
      "text/plain": [
       "[99, 3]"
      ]
     },
     "execution_count": 37,
     "metadata": {},
     "output_type": "execute_result"
    }
   ],
   "source": [
    "ll[0] = 99\n",
    "ll"
   ]
  },
  {
   "cell_type": "code",
   "execution_count": 38,
   "metadata": {},
   "outputs": [
    {
     "data": {
      "text/plain": [
       "[1, 2, 3, 4]"
      ]
     },
     "execution_count": 38,
     "metadata": {},
     "output_type": "execute_result"
    }
   ],
   "source": [
    "l"
   ]
  },
  {
   "cell_type": "code",
   "execution_count": 40,
   "metadata": {},
   "outputs": [
    {
     "data": {
      "text/plain": [
       "7"
      ]
     },
     "execution_count": 40,
     "metadata": {},
     "output_type": "execute_result"
    }
   ],
   "source": [
    "np.random.randint(10)"
   ]
  },
  {
   "cell_type": "code",
   "execution_count": 41,
   "metadata": {},
   "outputs": [
    {
     "data": {
      "text/plain": [
       "array([[ 3,  2,  5],\n",
       "       [11,  1, 19],\n",
       "       [11,  4,  7]])"
      ]
     },
     "execution_count": 41,
     "metadata": {},
     "output_type": "execute_result"
    }
   ],
   "source": [
    "np.random.randint(1,20, (3,3))"
   ]
  },
  {
   "cell_type": "code",
   "execution_count": 42,
   "metadata": {},
   "outputs": [
    {
     "data": {
      "text/plain": [
       "array([[0, 1],\n",
       "       [2, 3],\n",
       "       [4, 5],\n",
       "       [6, 7]], dtype=int8)"
      ]
     },
     "execution_count": 42,
     "metadata": {},
     "output_type": "execute_result"
    }
   ],
   "source": [
    "x"
   ]
  },
  {
   "cell_type": "code",
   "execution_count": 45,
   "metadata": {},
   "outputs": [],
   "source": [
    "x[0, :] = 8"
   ]
  },
  {
   "cell_type": "code",
   "execution_count": 46,
   "metadata": {},
   "outputs": [
    {
     "data": {
      "text/plain": [
       "array([[8, 8],\n",
       "       [2, 3],\n",
       "       [4, 5],\n",
       "       [6, 7]], dtype=int8)"
      ]
     },
     "execution_count": 46,
     "metadata": {},
     "output_type": "execute_result"
    }
   ],
   "source": [
    "x"
   ]
  },
  {
   "cell_type": "code",
   "execution_count": 47,
   "metadata": {},
   "outputs": [],
   "source": [
    "x[ : , 0 ] = 8"
   ]
  },
  {
   "cell_type": "code",
   "execution_count": 48,
   "metadata": {},
   "outputs": [
    {
     "data": {
      "text/plain": [
       "array([[8, 8],\n",
       "       [8, 3],\n",
       "       [8, 5],\n",
       "       [8, 7]], dtype=int8)"
      ]
     },
     "execution_count": 48,
     "metadata": {},
     "output_type": "execute_result"
    }
   ],
   "source": [
    "x"
   ]
  },
  {
   "cell_type": "code",
   "execution_count": 49,
   "metadata": {},
   "outputs": [
    {
     "data": {
      "text/plain": [
       "slice"
      ]
     },
     "execution_count": 49,
     "metadata": {},
     "output_type": "execute_result"
    }
   ],
   "source": [
    "slice"
   ]
  },
  {
   "cell_type": "code",
   "execution_count": 50,
   "metadata": {},
   "outputs": [
    {
     "data": {
      "text/plain": [
       "2"
      ]
     },
     "execution_count": 50,
     "metadata": {},
     "output_type": "execute_result"
    }
   ],
   "source": [
    "x.ndim"
   ]
  },
  {
   "cell_type": "code",
   "execution_count": 51,
   "metadata": {},
   "outputs": [
    {
     "data": {
      "text/plain": [
       "Ellipsis"
      ]
     },
     "execution_count": 51,
     "metadata": {},
     "output_type": "execute_result"
    }
   ],
   "source": [
    "Ellipsis"
   ]
  },
  {
   "cell_type": "code",
   "execution_count": 52,
   "metadata": {},
   "outputs": [
    {
     "data": {
      "text/plain": [
       "True"
      ]
     },
     "execution_count": 52,
     "metadata": {},
     "output_type": "execute_result"
    }
   ],
   "source": [
    "Ellipsis == ..."
   ]
  },
  {
   "cell_type": "code",
   "execution_count": 53,
   "metadata": {},
   "outputs": [
    {
     "data": {
      "text/plain": [
       "array([8, 8, 8, 8], dtype=int8)"
      ]
     },
     "execution_count": 53,
     "metadata": {},
     "output_type": "execute_result"
    }
   ],
   "source": [
    "x[..., 0]"
   ]
  },
  {
   "cell_type": "code",
   "execution_count": 54,
   "metadata": {},
   "outputs": [
    {
     "data": {
      "text/plain": [
       "array([8, 8], dtype=int8)"
      ]
     },
     "execution_count": 54,
     "metadata": {},
     "output_type": "execute_result"
    }
   ],
   "source": [
    "x[0, ...]"
   ]
  },
  {
   "cell_type": "code",
   "execution_count": 55,
   "metadata": {},
   "outputs": [
    {
     "data": {
      "text/plain": [
       "Ellipsis"
      ]
     },
     "execution_count": 55,
     "metadata": {},
     "output_type": "execute_result"
    }
   ],
   "source": [
    "..."
   ]
  },
  {
   "cell_type": "code",
   "execution_count": 59,
   "metadata": {},
   "outputs": [
    {
     "data": {
      "text/plain": [
       "array([[[[[8]],\n",
       "\n",
       "         [[8]]],\n",
       "\n",
       "\n",
       "        [[[8]],\n",
       "\n",
       "         [[3]]],\n",
       "\n",
       "\n",
       "        [[[8]],\n",
       "\n",
       "         [[5]]],\n",
       "\n",
       "\n",
       "        [[[8]],\n",
       "\n",
       "         [[7]]]]], dtype=int8)"
      ]
     },
     "execution_count": 59,
     "metadata": {},
     "output_type": "execute_result"
    }
   ],
   "source": [
    "x[None, ..., np.newaxis, None]"
   ]
  },
  {
   "cell_type": "code",
   "execution_count": 60,
   "metadata": {},
   "outputs": [],
   "source": [
    "a = np.arange(10)"
   ]
  },
  {
   "cell_type": "code",
   "execution_count": 61,
   "metadata": {},
   "outputs": [
    {
     "data": {
      "text/plain": [
       "array([0, 1, 2, 3, 4, 5, 6, 7, 8, 9])"
      ]
     },
     "execution_count": 61,
     "metadata": {},
     "output_type": "execute_result"
    }
   ],
   "source": [
    "a"
   ]
  },
  {
   "cell_type": "code",
   "execution_count": 62,
   "metadata": {},
   "outputs": [
    {
     "data": {
      "text/plain": [
       "array([[0],\n",
       "       [1],\n",
       "       [2],\n",
       "       [3],\n",
       "       [4],\n",
       "       [5],\n",
       "       [6],\n",
       "       [7],\n",
       "       [8],\n",
       "       [9]])"
      ]
     },
     "execution_count": 62,
     "metadata": {},
     "output_type": "execute_result"
    }
   ],
   "source": [
    "a[:, None]"
   ]
  },
  {
   "cell_type": "code",
   "execution_count": 63,
   "metadata": {},
   "outputs": [
    {
     "data": {
      "text/plain": [
       "array([[0],\n",
       "       [1],\n",
       "       [2],\n",
       "       [3],\n",
       "       [4],\n",
       "       [5],\n",
       "       [6],\n",
       "       [7],\n",
       "       [8],\n",
       "       [9]])"
      ]
     },
     "execution_count": 63,
     "metadata": {},
     "output_type": "execute_result"
    }
   ],
   "source": [
    "a[:, np.newaxis]"
   ]
  },
  {
   "cell_type": "code",
   "execution_count": 64,
   "metadata": {},
   "outputs": [
    {
     "data": {
      "text/plain": [
       "array([[0, 1, 2, 3, 4, 5, 6, 7, 8, 9]])"
      ]
     },
     "execution_count": 64,
     "metadata": {},
     "output_type": "execute_result"
    }
   ],
   "source": [
    "a[None, :]"
   ]
  },
  {
   "cell_type": "code",
   "execution_count": 65,
   "metadata": {},
   "outputs": [
    {
     "data": {
      "text/plain": [
       "array([[[0]],\n",
       "\n",
       "       [[1]],\n",
       "\n",
       "       [[2]],\n",
       "\n",
       "       [[3]],\n",
       "\n",
       "       [[4]],\n",
       "\n",
       "       [[5]],\n",
       "\n",
       "       [[6]],\n",
       "\n",
       "       [[7]],\n",
       "\n",
       "       [[8]],\n",
       "\n",
       "       [[9]]])"
      ]
     },
     "execution_count": 65,
     "metadata": {},
     "output_type": "execute_result"
    }
   ],
   "source": [
    "a[:, np.newaxis, None]"
   ]
  },
  {
   "cell_type": "code",
   "execution_count": 66,
   "metadata": {},
   "outputs": [
    {
     "data": {
      "text/plain": [
       "array([[ 0,  1,  2,  3,  4,  5,  6,  7,  8,  9],\n",
       "       [ 1,  2,  3,  4,  5,  6,  7,  8,  9, 10],\n",
       "       [ 2,  3,  4,  5,  6,  7,  8,  9, 10, 11],\n",
       "       [ 3,  4,  5,  6,  7,  8,  9, 10, 11, 12],\n",
       "       [ 4,  5,  6,  7,  8,  9, 10, 11, 12, 13],\n",
       "       [ 5,  6,  7,  8,  9, 10, 11, 12, 13, 14],\n",
       "       [ 6,  7,  8,  9, 10, 11, 12, 13, 14, 15],\n",
       "       [ 7,  8,  9, 10, 11, 12, 13, 14, 15, 16],\n",
       "       [ 8,  9, 10, 11, 12, 13, 14, 15, 16, 17],\n",
       "       [ 9, 10, 11, 12, 13, 14, 15, 16, 17, 18]])"
      ]
     },
     "execution_count": 66,
     "metadata": {},
     "output_type": "execute_result"
    }
   ],
   "source": [
    "a[:, None] + a[None, :]"
   ]
  },
  {
   "cell_type": "code",
   "execution_count": 67,
   "metadata": {},
   "outputs": [
    {
     "data": {
      "text/plain": [
       "array([], dtype=int32)"
      ]
     },
     "execution_count": 67,
     "metadata": {},
     "output_type": "execute_result"
    }
   ],
   "source": [
    "np.arange(0,9,-1)"
   ]
  },
  {
   "cell_type": "code",
   "execution_count": 68,
   "metadata": {},
   "outputs": [
    {
     "data": {
      "text/plain": [
       "array([10,  9,  8,  7,  6,  5,  4,  3,  2,  1])"
      ]
     },
     "execution_count": 68,
     "metadata": {},
     "output_type": "execute_result"
    }
   ],
   "source": [
    "np.arange(10, 0, -1)"
   ]
  },
  {
   "cell_type": "code",
   "execution_count": 69,
   "metadata": {},
   "outputs": [
    {
     "data": {
      "text/plain": [
       "array([0, 1, 2, 3, 4, 5, 6, 7, 8, 9])"
      ]
     },
     "execution_count": 69,
     "metadata": {},
     "output_type": "execute_result"
    }
   ],
   "source": [
    "a"
   ]
  },
  {
   "cell_type": "code",
   "execution_count": 70,
   "metadata": {},
   "outputs": [
    {
     "data": {
      "text/plain": [
       "array([1, 2, 3, 4])"
      ]
     },
     "execution_count": 70,
     "metadata": {},
     "output_type": "execute_result"
    }
   ],
   "source": [
    "a[ [1,2,3,4] ]"
   ]
  },
  {
   "cell_type": "code",
   "execution_count": 71,
   "metadata": {},
   "outputs": [
    {
     "ename": "IndexError",
     "evalue": "too many indices for array: array is 1-dimensional, but 4 were indexed",
     "output_type": "error",
     "traceback": [
      "\u001b[1;31m---------------------------------------------------------------------------\u001b[0m",
      "\u001b[1;31mIndexError\u001b[0m                                Traceback (most recent call last)",
      "Cell \u001b[1;32mIn[71], line 1\u001b[0m\n\u001b[1;32m----> 1\u001b[0m \u001b[43ma\u001b[49m\u001b[43m[\u001b[49m\u001b[43m(\u001b[49m\u001b[38;5;241;43m1\u001b[39;49m\u001b[43m,\u001b[49m\u001b[38;5;241;43m2\u001b[39;49m\u001b[43m,\u001b[49m\u001b[38;5;241;43m3\u001b[39;49m\u001b[43m,\u001b[49m\u001b[38;5;241;43m4\u001b[39;49m\u001b[43m)\u001b[49m\u001b[43m]\u001b[49m\n",
      "\u001b[1;31mIndexError\u001b[0m: too many indices for array: array is 1-dimensional, but 4 were indexed"
     ]
    }
   ],
   "source": [
    "a[(1,2,3,4)]"
   ]
  },
  {
   "cell_type": "code",
   "execution_count": 72,
   "metadata": {},
   "outputs": [
    {
     "data": {
      "text/plain": [
       "array([1, 2, 3, 4])"
      ]
     },
     "execution_count": 72,
     "metadata": {},
     "output_type": "execute_result"
    }
   ],
   "source": [
    "a[np.array([1,2,3,4])]"
   ]
  },
  {
   "cell_type": "code",
   "execution_count": 73,
   "metadata": {},
   "outputs": [
    {
     "data": {
      "text/plain": [
       "array([1, 2, 3, 4])"
      ]
     },
     "execution_count": 73,
     "metadata": {},
     "output_type": "execute_result"
    }
   ],
   "source": [
    "a[ (1,2,3,4), ]"
   ]
  },
  {
   "cell_type": "code",
   "execution_count": 74,
   "metadata": {},
   "outputs": [
    {
     "data": {
      "text/plain": [
       "array([0, 1, 2, 3, 4, 5, 6, 7, 8, 9])"
      ]
     },
     "execution_count": 74,
     "metadata": {},
     "output_type": "execute_result"
    }
   ],
   "source": [
    "a"
   ]
  },
  {
   "cell_type": "code",
   "execution_count": 75,
   "metadata": {},
   "outputs": [],
   "source": [
    "a.shape = 2, 5"
   ]
  },
  {
   "cell_type": "code",
   "execution_count": 76,
   "metadata": {},
   "outputs": [
    {
     "data": {
      "text/plain": [
       "array([[0, 1, 2, 3, 4],\n",
       "       [5, 6, 7, 8, 9]])"
      ]
     },
     "execution_count": 76,
     "metadata": {},
     "output_type": "execute_result"
    }
   ],
   "source": [
    "a"
   ]
  },
  {
   "cell_type": "code",
   "execution_count": 77,
   "metadata": {},
   "outputs": [
    {
     "data": {
      "text/plain": [
       "array([[0, 1, 2, 3, 4],\n",
       "       [5, 6, 7, 8, 9]])"
      ]
     },
     "execution_count": 77,
     "metadata": {},
     "output_type": "execute_result"
    }
   ],
   "source": [
    "a[ [True, True], : ]"
   ]
  },
  {
   "cell_type": "code",
   "execution_count": 78,
   "metadata": {},
   "outputs": [
    {
     "data": {
      "text/plain": [
       "array([], shape=(0, 5), dtype=int32)"
      ]
     },
     "execution_count": 78,
     "metadata": {},
     "output_type": "execute_result"
    }
   ],
   "source": [
    "a[ [False, False], : ]"
   ]
  },
  {
   "cell_type": "code",
   "execution_count": 80,
   "metadata": {},
   "outputs": [
    {
     "ename": "IndexError",
     "evalue": "boolean index did not match indexed array along dimension 0; dimension is 2 but corresponding boolean dimension is 4",
     "output_type": "error",
     "traceback": [
      "\u001b[1;31m---------------------------------------------------------------------------\u001b[0m",
      "\u001b[1;31mIndexError\u001b[0m                                Traceback (most recent call last)",
      "Cell \u001b[1;32mIn[80], line 1\u001b[0m\n\u001b[1;32m----> 1\u001b[0m \u001b[43ma\u001b[49m\u001b[43m[\u001b[49m\u001b[43m \u001b[49m\u001b[43m[\u001b[49m\u001b[38;5;28;43;01mTrue\u001b[39;49;00m\u001b[43m,\u001b[49m\u001b[43m \u001b[49m\u001b[38;5;28;43;01mTrue\u001b[39;49;00m\u001b[43m,\u001b[49m\u001b[43m \u001b[49m\u001b[38;5;28;43;01mFalse\u001b[39;49;00m\u001b[43m,\u001b[49m\u001b[43m \u001b[49m\u001b[38;5;28;43;01mFalse\u001b[39;49;00m\u001b[43m]\u001b[49m\u001b[43m,\u001b[49m\u001b[43m \u001b[49m\u001b[43m:\u001b[49m\u001b[43m \u001b[49m\u001b[43m]\u001b[49m\n",
      "\u001b[1;31mIndexError\u001b[0m: boolean index did not match indexed array along dimension 0; dimension is 2 but corresponding boolean dimension is 4"
     ]
    }
   ],
   "source": [
    "a[ [True, True, False, False], : ]"
   ]
  },
  {
   "cell_type": "code",
   "execution_count": 81,
   "metadata": {},
   "outputs": [
    {
     "data": {
      "text/plain": [
       "array([[0, 1, 2, 3, 4]])"
      ]
     },
     "execution_count": 81,
     "metadata": {},
     "output_type": "execute_result"
    }
   ],
   "source": [
    "a[ [True, False], : ]"
   ]
  },
  {
   "cell_type": "code",
   "execution_count": 82,
   "metadata": {},
   "outputs": [
    {
     "data": {
      "text/plain": [
       "nan"
      ]
     },
     "execution_count": 82,
     "metadata": {},
     "output_type": "execute_result"
    }
   ],
   "source": [
    "np.nan"
   ]
  },
  {
   "cell_type": "code",
   "execution_count": 83,
   "metadata": {},
   "outputs": [
    {
     "data": {
      "text/plain": [
       "array([0, 1, 2, 3, 4])"
      ]
     },
     "execution_count": 83,
     "metadata": {},
     "output_type": "execute_result"
    }
   ],
   "source": [
    "a[a<5]"
   ]
  },
  {
   "cell_type": "code",
   "execution_count": 85,
   "metadata": {},
   "outputs": [
    {
     "data": {
      "text/plain": [
       "(array([1, 2, 3, 4], dtype=int64),)"
      ]
     },
     "execution_count": 85,
     "metadata": {},
     "output_type": "execute_result"
    }
   ],
   "source": [
    "a[a<5].nonzero()"
   ]
  },
  {
   "cell_type": "code",
   "execution_count": 88,
   "metadata": {},
   "outputs": [
    {
     "data": {
      "text/plain": [
       "array([3.  , 3.25, 3.5 , 3.75, 4.  ])"
      ]
     },
     "execution_count": 88,
     "metadata": {},
     "output_type": "execute_result"
    }
   ],
   "source": [
    "np.linspace(3,4,5)"
   ]
  },
  {
   "cell_type": "code",
   "execution_count": 89,
   "metadata": {},
   "outputs": [
    {
     "data": {
      "text/plain": [
       "array([[ 1.        ,  3.13043478,  5.26086957,  7.39130435,  9.52173913,\n",
       "        11.65217391],\n",
       "       [13.7826087 , 15.91304348, 18.04347826, 20.17391304, 22.30434783,\n",
       "        24.43478261],\n",
       "       [26.56521739, 28.69565217, 30.82608696, 32.95652174, 35.08695652,\n",
       "        37.2173913 ],\n",
       "       [39.34782609, 41.47826087, 43.60869565, 45.73913043, 47.86956522,\n",
       "        50.        ]])"
      ]
     },
     "execution_count": 89,
     "metadata": {},
     "output_type": "execute_result"
    }
   ],
   "source": [
    "numbers = np.linspace(1, 50, 24).reshape(4, -1)\n",
    "numbers"
   ]
  },
  {
   "cell_type": "code",
   "execution_count": 90,
   "metadata": {},
   "outputs": [
    {
     "data": {
      "text/plain": [
       "array([[ 1,  3,  5,  7,  9, 11],\n",
       "       [13, 15, 18, 20, 22, 24],\n",
       "       [26, 28, 30, 32, 35, 37],\n",
       "       [39, 41, 43, 45, 47, 50]], dtype=int8)"
      ]
     },
     "execution_count": 90,
     "metadata": {},
     "output_type": "execute_result"
    }
   ],
   "source": [
    "numbers = np.linspace(1, 50, 24, dtype=np.int8).reshape(4, -1)\n",
    "numbers"
   ]
  },
  {
   "cell_type": "code",
   "execution_count": 91,
   "metadata": {},
   "outputs": [],
   "source": [
    "mask = numbers % 4 == 0"
   ]
  },
  {
   "cell_type": "code",
   "execution_count": 92,
   "metadata": {},
   "outputs": [
    {
     "data": {
      "text/plain": [
       "array([[False, False, False, False, False, False],\n",
       "       [False, False, False,  True, False,  True],\n",
       "       [False,  True, False,  True, False, False],\n",
       "       [False, False, False, False, False, False]])"
      ]
     },
     "execution_count": 92,
     "metadata": {},
     "output_type": "execute_result"
    }
   ],
   "source": [
    "mask"
   ]
  },
  {
   "cell_type": "code",
   "execution_count": 93,
   "metadata": {},
   "outputs": [
    {
     "data": {
      "text/plain": [
       "array([20, 24, 28, 32], dtype=int8)"
      ]
     },
     "execution_count": 93,
     "metadata": {},
     "output_type": "execute_result"
    }
   ],
   "source": [
    "numbers[mask]"
   ]
  },
  {
   "cell_type": "code",
   "execution_count": 95,
   "metadata": {},
   "outputs": [
    {
     "data": {
      "text/plain": [
       "1.0037480739115765"
      ]
     },
     "execution_count": 95,
     "metadata": {},
     "output_type": "execute_result"
    }
   ],
   "source": [
    "np.random.default_rng().standard_normal(1000).std()"
   ]
  },
  {
   "cell_type": "code",
   "execution_count": 96,
   "metadata": {},
   "outputs": [
    {
     "data": {
      "text/plain": [
       "array([-0.71542903, -0.55030224,  1.11074803,  0.23466803, -1.91453917])"
      ]
     },
     "execution_count": 96,
     "metadata": {},
     "output_type": "execute_result"
    }
   ],
   "source": [
    "np.random.default_rng().standard_normal(1000)[:5]"
   ]
  },
  {
   "cell_type": "code",
   "execution_count": 97,
   "metadata": {},
   "outputs": [
    {
     "data": {
      "text/plain": [
       "array([[0, 1, 2, 3, 4],\n",
       "       [5, 6, 7, 8, 9]])"
      ]
     },
     "execution_count": 97,
     "metadata": {},
     "output_type": "execute_result"
    }
   ],
   "source": [
    "a"
   ]
  },
  {
   "cell_type": "code",
   "execution_count": 98,
   "metadata": {},
   "outputs": [
    {
     "data": {
      "text/plain": [
       "array([[0, 5],\n",
       "       [1, 6],\n",
       "       [2, 7],\n",
       "       [3, 8],\n",
       "       [4, 9]])"
      ]
     },
     "execution_count": 98,
     "metadata": {},
     "output_type": "execute_result"
    }
   ],
   "source": [
    "a.T"
   ]
  },
  {
   "cell_type": "code",
   "execution_count": 99,
   "metadata": {},
   "outputs": [
    {
     "data": {
      "text/plain": [
       "array([[0, 5],\n",
       "       [1, 6],\n",
       "       [2, 7],\n",
       "       [3, 8],\n",
       "       [4, 9]])"
      ]
     },
     "execution_count": 99,
     "metadata": {},
     "output_type": "execute_result"
    }
   ],
   "source": [
    "a.transpose()"
   ]
  },
  {
   "cell_type": "code",
   "execution_count": 100,
   "metadata": {},
   "outputs": [
    {
     "data": {
      "text/plain": [
       "array([[0, 1, 2, 3, 4],\n",
       "       [5, 6, 7, 8, 9]])"
      ]
     },
     "execution_count": 100,
     "metadata": {},
     "output_type": "execute_result"
    }
   ],
   "source": [
    "np.sort(a)"
   ]
  },
  {
   "cell_type": "code",
   "execution_count": 101,
   "metadata": {},
   "outputs": [
    {
     "data": {
      "text/plain": [
       "array([0, 1, 2, 3, 4, 5, 6, 7, 8, 9])"
      ]
     },
     "execution_count": 101,
     "metadata": {},
     "output_type": "execute_result"
    }
   ],
   "source": [
    "np.sort(a, axis=None)"
   ]
  },
  {
   "cell_type": "code",
   "execution_count": 102,
   "metadata": {},
   "outputs": [
    {
     "data": {
      "text/plain": [
       "array([[0, 1, 2, 3, 4],\n",
       "       [5, 6, 7, 8, 9]])"
      ]
     },
     "execution_count": 102,
     "metadata": {},
     "output_type": "execute_result"
    }
   ],
   "source": [
    "a"
   ]
  },
  {
   "cell_type": "code",
   "execution_count": 103,
   "metadata": {},
   "outputs": [
    {
     "data": {
      "text/plain": [
       "array([[0, 1, 2, 3, 4],\n",
       "       [5, 6, 7, 8, 9]])"
      ]
     },
     "execution_count": 103,
     "metadata": {},
     "output_type": "execute_result"
    }
   ],
   "source": [
    "np.sort(a, axis=0)"
   ]
  },
  {
   "cell_type": "code",
   "execution_count": null,
   "metadata": {},
   "outputs": [],
   "source": []
  },
  {
   "cell_type": "code",
   "execution_count": 104,
   "metadata": {},
   "outputs": [
    {
     "data": {
      "text/plain": [
       "array([[0, 1, 2, 3, 4],\n",
       "       [5, 6, 7, 8, 9]])"
      ]
     },
     "execution_count": 104,
     "metadata": {},
     "output_type": "execute_result"
    }
   ],
   "source": [
    "np.sort(a, axis=1)"
   ]
  },
  {
   "cell_type": "code",
   "execution_count": 105,
   "metadata": {},
   "outputs": [],
   "source": [
    "a = np.array([\n",
    "    [1,2,5,1,8,4,3],\n",
    "    [6,1,7,9,2,0,3]\n",
    "])"
   ]
  },
  {
   "cell_type": "code",
   "execution_count": 106,
   "metadata": {},
   "outputs": [
    {
     "data": {
      "text/plain": [
       "array([[1, 1, 2, 3, 4, 5, 8],\n",
       "       [0, 1, 2, 3, 6, 7, 9]])"
      ]
     },
     "execution_count": 106,
     "metadata": {},
     "output_type": "execute_result"
    }
   ],
   "source": [
    "np.sort(a, axis=1)"
   ]
  },
  {
   "cell_type": "code",
   "execution_count": 107,
   "metadata": {},
   "outputs": [
    {
     "data": {
      "text/plain": [
       "array([[1, 1, 5, 1, 2, 0, 3],\n",
       "       [6, 2, 7, 9, 8, 4, 3]])"
      ]
     },
     "execution_count": 107,
     "metadata": {},
     "output_type": "execute_result"
    }
   ],
   "source": [
    "np.sort(a, axis=0)"
   ]
  },
  {
   "cell_type": "code",
   "execution_count": 109,
   "metadata": {},
   "outputs": [
    {
     "data": {
      "text/plain": [
       "array([[1, 2, 5, 1, 8, 4, 3],\n",
       "       [6, 1, 7, 9, 2, 0, 3],\n",
       "       [1, 2, 5, 1, 8, 4, 3],\n",
       "       [6, 1, 7, 9, 2, 0, 3]])"
      ]
     },
     "execution_count": 109,
     "metadata": {},
     "output_type": "execute_result"
    }
   ],
   "source": [
    "np.concatenate((a,a))"
   ]
  },
  {
   "cell_type": "code",
   "execution_count": 110,
   "metadata": {},
   "outputs": [
    {
     "data": {
      "text/plain": [
       "array([[1, 2, 5, 1, 8, 4, 3],\n",
       "       [6, 1, 7, 9, 2, 0, 3]])"
      ]
     },
     "execution_count": 110,
     "metadata": {},
     "output_type": "execute_result"
    }
   ],
   "source": [
    "a"
   ]
  },
  {
   "cell_type": "code",
   "execution_count": 111,
   "metadata": {},
   "outputs": [
    {
     "data": {
      "text/plain": [
       "array([[1, 1, 2, 3, 4, 5, 8],\n",
       "       [0, 1, 2, 3, 6, 7, 9]])"
      ]
     },
     "execution_count": 111,
     "metadata": {},
     "output_type": "execute_result"
    }
   ],
   "source": [
    "np.sort(a)"
   ]
  },
  {
   "cell_type": "code",
   "execution_count": 112,
   "metadata": {},
   "outputs": [
    {
     "data": {
      "text/plain": [
       "array([[1, 1, 2, 3, 4, 5, 8],\n",
       "       [0, 1, 2, 3, 6, 7, 9]])"
      ]
     },
     "execution_count": 112,
     "metadata": {},
     "output_type": "execute_result"
    }
   ],
   "source": [
    "np.sort(a, axis=1)"
   ]
  },
  {
   "cell_type": "code",
   "execution_count": 115,
   "metadata": {},
   "outputs": [
    {
     "data": {
      "text/plain": [
       "array([[1, 2, 5, 1, 8, 4, 3],\n",
       "       [6, 1, 7, 9, 2, 0, 3],\n",
       "       [1, 2, 5, 1, 8, 4, 3],\n",
       "       [6, 1, 7, 9, 2, 0, 3]])"
      ]
     },
     "execution_count": 115,
     "metadata": {},
     "output_type": "execute_result"
    }
   ],
   "source": [
    "np.concatenate((a,a))"
   ]
  },
  {
   "cell_type": "code",
   "execution_count": 116,
   "metadata": {},
   "outputs": [
    {
     "data": {
      "text/plain": [
       "array([[1, 2, 5, 1, 8, 4, 3],\n",
       "       [6, 1, 7, 9, 2, 0, 3],\n",
       "       [1, 2, 5, 1, 8, 4, 3],\n",
       "       [6, 1, 7, 9, 2, 0, 3]])"
      ]
     },
     "execution_count": 116,
     "metadata": {},
     "output_type": "execute_result"
    }
   ],
   "source": [
    "np.concatenate((a,a),axis=0)"
   ]
  },
  {
   "cell_type": "code",
   "execution_count": 117,
   "metadata": {},
   "outputs": [
    {
     "data": {
      "text/plain": [
       "array([[1, 2, 5, 1, 8, 4, 3, 1, 2, 5, 1, 8, 4, 3],\n",
       "       [6, 1, 7, 9, 2, 0, 3, 6, 1, 7, 9, 2, 0, 3]])"
      ]
     },
     "execution_count": 117,
     "metadata": {},
     "output_type": "execute_result"
    }
   ],
   "source": [
    "np.concatenate((a,a),axis=1)"
   ]
  },
  {
   "cell_type": "code",
   "execution_count": 118,
   "metadata": {},
   "outputs": [
    {
     "data": {
      "text/plain": [
       "array([[ True,  True,  True,  True,  True,  True,  True],\n",
       "       [ True,  True,  True,  True,  True,  True,  True]])"
      ]
     },
     "execution_count": 118,
     "metadata": {},
     "output_type": "execute_result"
    }
   ],
   "source": [
    "np.sort(a, axis=1) == np.sort(a)"
   ]
  },
  {
   "cell_type": "code",
   "execution_count": 119,
   "metadata": {},
   "outputs": [
    {
     "data": {
      "text/plain": [
       "array([1, 2, 5, 1, 8, 4, 3, 6, 1, 7, 9, 2, 0, 3, 1, 2, 5, 1, 8, 4, 3, 6,\n",
       "       1, 7, 9, 2, 0, 3, 1, 2, 5, 1, 8, 4, 3, 6, 1, 7, 9, 2, 0, 3])"
      ]
     },
     "execution_count": 119,
     "metadata": {},
     "output_type": "execute_result"
    }
   ],
   "source": [
    "np.concatenate((a,a,a), axis=None)"
   ]
  },
  {
   "cell_type": "code",
   "execution_count": 120,
   "metadata": {},
   "outputs": [
    {
     "data": {
      "text/plain": [
       "array([[1, 2, 5, 1, 8, 4, 3],\n",
       "       [6, 1, 7, 9, 2, 0, 3]])"
      ]
     },
     "execution_count": 120,
     "metadata": {},
     "output_type": "execute_result"
    }
   ],
   "source": [
    "a"
   ]
  },
  {
   "cell_type": "code",
   "execution_count": 121,
   "metadata": {},
   "outputs": [
    {
     "data": {
      "text/plain": [
       "52"
      ]
     },
     "execution_count": 121,
     "metadata": {},
     "output_type": "execute_result"
    }
   ],
   "source": [
    "a.sum()"
   ]
  },
  {
   "cell_type": "code",
   "execution_count": 122,
   "metadata": {},
   "outputs": [
    {
     "data": {
      "text/plain": [
       "dtype('>i4')"
      ]
     },
     "execution_count": 122,
     "metadata": {},
     "output_type": "execute_result"
    }
   ],
   "source": [
    "np.dtype('>i4')"
   ]
  },
  {
   "cell_type": "code",
   "execution_count": 123,
   "metadata": {},
   "outputs": [
    {
     "data": {
      "text/plain": [
       "'>'"
      ]
     },
     "execution_count": 123,
     "metadata": {},
     "output_type": "execute_result"
    }
   ],
   "source": [
    "np.dtype('>i4').byteorder"
   ]
  },
  {
   "cell_type": "code",
   "execution_count": 124,
   "metadata": {},
   "outputs": [
    {
     "data": {
      "text/plain": [
       "4"
      ]
     },
     "execution_count": 124,
     "metadata": {},
     "output_type": "execute_result"
    }
   ],
   "source": [
    "np.dtype('>i4').itemsize"
   ]
  },
  {
   "cell_type": "code",
   "execution_count": 125,
   "metadata": {},
   "outputs": [
    {
     "data": {
      "text/plain": [
       "'int32'"
      ]
     },
     "execution_count": 125,
     "metadata": {},
     "output_type": "execute_result"
    }
   ],
   "source": [
    "np.dtype('>i4').name"
   ]
  },
  {
   "cell_type": "code",
   "execution_count": 126,
   "metadata": {},
   "outputs": [
    {
     "data": {
      "text/plain": [
       "numpy.int32"
      ]
     },
     "execution_count": 126,
     "metadata": {},
     "output_type": "execute_result"
    }
   ],
   "source": [
    "np.dtype('>i4').type"
   ]
  },
  {
   "cell_type": "code",
   "execution_count": 127,
   "metadata": {},
   "outputs": [
    {
     "data": {
      "text/plain": [
       "True"
      ]
     },
     "execution_count": 127,
     "metadata": {},
     "output_type": "execute_result"
    }
   ],
   "source": [
    "np.dtype('>i4').type is np.int32"
   ]
  },
  {
   "cell_type": "code",
   "execution_count": 128,
   "metadata": {},
   "outputs": [
    {
     "data": {
      "text/plain": [
       "dtype([('name', '<U16'), ('grade', '<f8', (2,))])"
      ]
     },
     "execution_count": 128,
     "metadata": {},
     "output_type": "execute_result"
    }
   ],
   "source": [
    "dt = np.dtype([('name', np.unicode_, 16), ('grade', np.float64, (2,))])\n",
    "dt"
   ]
  },
  {
   "cell_type": "code",
   "execution_count": 130,
   "metadata": {},
   "outputs": [
    {
     "data": {
      "text/plain": [
       "array([('Sarah', [4., 5.]), ('Amir', [3., 7.])],\n",
       "      dtype=[('name', '<U16'), ('grade', '<f8', (2,))])"
      ]
     },
     "execution_count": 130,
     "metadata": {},
     "output_type": "execute_result"
    }
   ],
   "source": [
    "x"
   ]
  },
  {
   "cell_type": "code",
   "execution_count": 131,
   "metadata": {},
   "outputs": [
    {
     "data": {
      "text/plain": [
       "('Sarah', [4., 5.])"
      ]
     },
     "execution_count": 131,
     "metadata": {},
     "output_type": "execute_result"
    }
   ],
   "source": [
    "x[0]"
   ]
  },
  {
   "cell_type": "code",
   "execution_count": 132,
   "metadata": {},
   "outputs": [
    {
     "data": {
      "text/plain": [
       "array([4., 5.])"
      ]
     },
     "execution_count": 132,
     "metadata": {},
     "output_type": "execute_result"
    }
   ],
   "source": [
    "x[0]['grade']"
   ]
  },
  {
   "cell_type": "code",
   "execution_count": 133,
   "metadata": {},
   "outputs": [
    {
     "data": {
      "text/plain": [
       "numpy.complex128"
      ]
     },
     "execution_count": 133,
     "metadata": {},
     "output_type": "execute_result"
    }
   ],
   "source": [
    "np.complex128"
   ]
  },
  {
   "cell_type": "code",
   "execution_count": 136,
   "metadata": {},
   "outputs": [
    {
     "data": {
      "text/plain": [
       "'Create a complex number from a real part and an optional imaginary part.\\n\\nThis is equivalent to (real + imag*1j) where imag defaults to 0.'"
      ]
     },
     "execution_count": 136,
     "metadata": {},
     "output_type": "execute_result"
    }
   ],
   "source": [
    "complex.__doc__"
   ]
  },
  {
   "cell_type": "code",
   "execution_count": 137,
   "metadata": {},
   "outputs": [
    {
     "data": {
      "text/plain": [
       "(3.4454+0j)"
      ]
     },
     "execution_count": 137,
     "metadata": {},
     "output_type": "execute_result"
    }
   ],
   "source": [
    "complex(3.4454)"
   ]
  },
  {
   "cell_type": "code",
   "execution_count": 140,
   "metadata": {},
   "outputs": [
    {
     "data": {
      "text/plain": [
       "True"
      ]
     },
     "execution_count": 140,
     "metadata": {},
     "output_type": "execute_result"
    }
   ],
   "source": [
    "np.dtype(int) == np.int32"
   ]
  },
  {
   "cell_type": "code",
   "execution_count": 139,
   "metadata": {},
   "outputs": [
    {
     "data": {
      "text/plain": [
       "dtype('float64')"
      ]
     },
     "execution_count": 139,
     "metadata": {},
     "output_type": "execute_result"
    }
   ],
   "source": [
    "np.dtype(float)"
   ]
  },
  {
   "cell_type": "code",
   "execution_count": 141,
   "metadata": {},
   "outputs": [
    {
     "data": {
      "text/plain": [
       "array(['amir', 'sarah', 'reza'], dtype='<U5')"
      ]
     },
     "execution_count": 141,
     "metadata": {},
     "output_type": "execute_result"
    }
   ],
   "source": [
    "np.array(['amir', 'sarah', 'reza'], dtype=str)"
   ]
  },
  {
   "cell_type": "code",
   "execution_count": 142,
   "metadata": {},
   "outputs": [
    {
     "data": {
      "text/plain": [
       "20"
      ]
     },
     "execution_count": 142,
     "metadata": {},
     "output_type": "execute_result"
    }
   ],
   "source": [
    "np.array(['amir', 'sarah', 'reza'], dtype=str).itemsize"
   ]
  },
  {
   "cell_type": "code",
   "execution_count": 143,
   "metadata": {},
   "outputs": [
    {
     "data": {
      "text/plain": [
       "b'\\x01\\x00\\x00\\x00\\x02\\x00\\x00\\x00\\x05\\x00\\x00\\x00\\x01\\x00\\x00\\x00\\x08\\x00\\x00\\x00\\x04\\x00\\x00\\x00\\x03\\x00\\x00\\x00\\x06\\x00\\x00\\x00\\x01\\x00\\x00\\x00\\x07\\x00\\x00\\x00\\t\\x00\\x00\\x00\\x02\\x00\\x00\\x00\\x00\\x00\\x00\\x00\\x03\\x00\\x00\\x00'"
      ]
     },
     "execution_count": 143,
     "metadata": {},
     "output_type": "execute_result"
    }
   ],
   "source": [
    "a.tobytes()"
   ]
  },
  {
   "cell_type": "code",
   "execution_count": 150,
   "metadata": {},
   "outputs": [],
   "source": [
    "x = np.empty( (2,), dtype=('i4, f4, U10') )"
   ]
  },
  {
   "cell_type": "code",
   "execution_count": 151,
   "metadata": {},
   "outputs": [],
   "source": [
    "x[:] = [(123,123,'13'), (123,123,'1232')]"
   ]
  },
  {
   "cell_type": "code",
   "execution_count": 152,
   "metadata": {},
   "outputs": [
    {
     "data": {
      "text/plain": [
       "array([(123, 123., '13'), (123, 123., '1232')],\n",
       "      dtype=[('f0', '<i4'), ('f1', '<f4'), ('f2', '<U10')])"
      ]
     },
     "execution_count": 152,
     "metadata": {},
     "output_type": "execute_result"
    }
   ],
   "source": [
    "x"
   ]
  },
  {
   "cell_type": "code",
   "execution_count": 154,
   "metadata": {},
   "outputs": [
    {
     "data": {
      "text/plain": [
       "(123, 123., '13')"
      ]
     },
     "execution_count": 154,
     "metadata": {},
     "output_type": "execute_result"
    }
   ],
   "source": [
    "x[0]"
   ]
  },
  {
   "cell_type": "code",
   "execution_count": 155,
   "metadata": {},
   "outputs": [
    {
     "data": {
      "text/plain": [
       "array([123, 123])"
      ]
     },
     "execution_count": 155,
     "metadata": {},
     "output_type": "execute_result"
    }
   ],
   "source": [
    "x['f0']"
   ]
  },
  {
   "cell_type": "code",
   "execution_count": 157,
   "metadata": {},
   "outputs": [
    {
     "data": {
      "text/plain": [
       "array([([      2258754946472,                 208,                   0], [[0.00000000e+000, 0.00000000e+000, 5.02034658e+175, 1.52078483e-051], [5.24338193e+174, 2.57320246e+184, 9.14240774e-043, 1.53074269e-047], [6.46700306e-144, 3.59751658e+252, 3.96046095e+246, 1.04918621e-153]]),\n",
       "       ([7881702260482471202, 7310315409582465637, 2318265727211105906], [[9.08366793e+223, 1.52078483e-051, 5.24338193e+174, 2.57320246e+184], [9.14240774e-043, 1.04914795e-153, 1.94918966e-153, 3.93230821e-062], [2.26402178e-076, 2.17698259e-076, 2.59027896e-144, 7.79952704e-143]])],\n",
       "      dtype=[('f0', '<i8', (3,)), ('f1', '<f8', (3, 4))])"
      ]
     },
     "execution_count": 157,
     "metadata": {},
     "output_type": "execute_result"
    }
   ],
   "source": [
    "np.empty((2), dtype='3i8, (3,4)f8')"
   ]
  },
  {
   "cell_type": "code",
   "execution_count": 158,
   "metadata": {},
   "outputs": [
    {
     "data": {
      "text/plain": [
       "array([([1, 1, 1], [[1., 1., 1., 1.], [1., 1., 1., 1.], [1., 1., 1., 1.]]),\n",
       "       ([1, 1, 1], [[1., 1., 1., 1.], [1., 1., 1., 1.], [1., 1., 1., 1.]])],\n",
       "      dtype=[('f0', '<i8', (3,)), ('f1', '<f8', (3, 4))])"
      ]
     },
     "execution_count": 158,
     "metadata": {},
     "output_type": "execute_result"
    }
   ],
   "source": [
    "np.ones((2), dtype='3i8, (3,4)f8')"
   ]
  },
  {
   "cell_type": "code",
   "execution_count": 161,
   "metadata": {},
   "outputs": [
    {
     "data": {
      "text/plain": [
       "('f0', 'f1', 'f2')"
      ]
     },
     "execution_count": 161,
     "metadata": {},
     "output_type": "execute_result"
    }
   ],
   "source": [
    "x.dtype.names"
   ]
  },
  {
   "cell_type": "code",
   "execution_count": 162,
   "metadata": {},
   "outputs": [
    {
     "data": {
      "text/plain": [
       "array([[([[1, 1, 1], [1, 1, 1]], '1'), ([[1, 1, 1], [1, 1, 1]], '1'),\n",
       "        ([[1, 1, 1], [1, 1, 1]], '1')],\n",
       "       [([[1, 1, 1], [1, 1, 1]], '1'), ([[1, 1, 1], [1, 1, 1]], '1'),\n",
       "        ([[1, 1, 1], [1, 1, 1]], '1')]],\n",
       "      dtype=[('id', '<i8', (2, 3)), ('name', '<U10')])"
      ]
     },
     "execution_count": 162,
     "metadata": {},
     "output_type": "execute_result"
    }
   ],
   "source": [
    "np.ones((2,3), dtype=[('id', 'i8', (2,3)), ('name', 'U10')])"
   ]
  },
  {
   "cell_type": "code",
   "execution_count": 164,
   "metadata": {},
   "outputs": [
    {
     "data": {
      "text/plain": [
       "array([(1, 1.), (1, 1.), (1, 1.), (1, 1.), (1, 1.), (1, 1.), (1, 1.),\n",
       "       (1, 1.), (1, 1.)], dtype=[('id', '<i4'), ('grade', '<f4')])"
      ]
     },
     "execution_count": 164,
     "metadata": {},
     "output_type": "execute_result"
    }
   ],
   "source": [
    "np.ones((9,), dtype={'names':['id', 'grade'], 'formats':['i4', 'f4']})"
   ]
  },
  {
   "cell_type": "code",
   "execution_count": 165,
   "metadata": {},
   "outputs": [
    {
     "data": {
      "text/plain": [
       "array([(123, 123., '13'), (123, 123., '1232')],\n",
       "      dtype=[('f0', '<i4'), ('f1', '<f4'), ('f2', '<U10')])"
      ]
     },
     "execution_count": 165,
     "metadata": {},
     "output_type": "execute_result"
    }
   ],
   "source": [
    "x"
   ]
  },
  {
   "cell_type": "code",
   "execution_count": 166,
   "metadata": {},
   "outputs": [
    {
     "data": {
      "text/plain": [
       "array([(123, 123.), (123, 123.)],\n",
       "      dtype={'names': ['f0', 'f1'], 'formats': ['<i4', '<f4'], 'offsets': [0, 4], 'itemsize': 48})"
      ]
     },
     "execution_count": 166,
     "metadata": {},
     "output_type": "execute_result"
    }
   ],
   "source": [
    "x[['f0', 'f1']]"
   ]
  },
  {
   "cell_type": "code",
   "execution_count": 169,
   "metadata": {},
   "outputs": [
    {
     "data": {
      "text/plain": [
       "array([('a', 1, 2), ('b', 2, 3), ('c', 3, 4), ('d', 4, 5)],\n",
       "      dtype=[('name', '<U3'), ('age', '<i4'), ('power', '<i4')])"
      ]
     },
     "execution_count": 169,
     "metadata": {},
     "output_type": "execute_result"
    }
   ],
   "source": [
    "names = np.array(\n",
    "    [\n",
    "        ('a', 1, 2),\n",
    "        ('b', 2, 3),\n",
    "        ('c', 3, 4),\n",
    "        ('d', 4, 5),\n",
    "    ],\n",
    "    dtype=[\n",
    "        ('name', str, 3),\n",
    "        ('age', int),\n",
    "        ('power', int)\n",
    "    ]\n",
    ")\n",
    "\n",
    "names"
   ]
  },
  {
   "cell_type": "code",
   "execution_count": 170,
   "metadata": {},
   "outputs": [
    {
     "data": {
      "text/plain": [
       "array(['a'], dtype='<U3')"
      ]
     },
     "execution_count": 170,
     "metadata": {},
     "output_type": "execute_result"
    }
   ],
   "source": [
    "names[names['power']==2]['name']"
   ]
  },
  {
   "cell_type": "code",
   "execution_count": 171,
   "metadata": {},
   "outputs": [
    {
     "data": {
      "text/plain": [
       "numpy.datetime64('2012-11-11')"
      ]
     },
     "execution_count": 171,
     "metadata": {},
     "output_type": "execute_result"
    }
   ],
   "source": [
    "dt = np.datetime64('2012-11-11')\n",
    "dt"
   ]
  },
  {
   "cell_type": "code",
   "execution_count": 172,
   "metadata": {},
   "outputs": [
    {
     "data": {
      "text/plain": [
       "dtype('<M8[D]')"
      ]
     },
     "execution_count": 172,
     "metadata": {},
     "output_type": "execute_result"
    }
   ],
   "source": [
    "dt.dtype"
   ]
  },
  {
   "cell_type": "code",
   "execution_count": 174,
   "metadata": {},
   "outputs": [
    {
     "data": {
      "text/plain": [
       "numpy.datetime64('2012-01-01')"
      ]
     },
     "execution_count": 174,
     "metadata": {},
     "output_type": "execute_result"
    }
   ],
   "source": [
    "dt = np.datetime64('2012-01-01')\n",
    "dt"
   ]
  },
  {
   "cell_type": "code",
   "execution_count": 177,
   "metadata": {},
   "outputs": [
    {
     "data": {
      "text/plain": [
       "array(['2012-01', '2012-02', '2012-03', '2012-04', '2012-05', '2012-06',\n",
       "       '2012-07', '2012-08', '2012-09', '2012-10', '2012-11', '2012-12',\n",
       "       '2013-01', '2013-02', '2013-03', '2013-04', '2013-05', '2013-06',\n",
       "       '2013-07', '2013-08', '2013-09', '2013-10', '2013-11', '2013-12',\n",
       "       '2014-01', '2014-02', '2014-03', '2014-04', '2014-05', '2014-06',\n",
       "       '2014-07', '2014-08', '2014-09', '2014-10', '2014-11', '2014-12',\n",
       "       '2015-01', '2015-02', '2015-03', '2015-04', '2015-05', '2015-06',\n",
       "       '2015-07', '2015-08', '2015-09', '2015-10', '2015-11', '2015-12',\n",
       "       '2016-01', '2016-02', '2016-03', '2016-04', '2016-05', '2016-06',\n",
       "       '2016-07', '2016-08', '2016-09', '2016-10', '2016-11', '2016-12',\n",
       "       '2017-01', '2017-02', '2017-03', '2017-04', '2017-05', '2017-06',\n",
       "       '2017-07', '2017-08', '2017-09', '2017-10', '2017-11', '2017-12',\n",
       "       '2018-01', '2018-02', '2018-03', '2018-04', '2018-05', '2018-06',\n",
       "       '2018-07', '2018-08', '2018-09', '2018-10', '2018-11', '2018-12',\n",
       "       '2019-01', '2019-02', '2019-03', '2019-04', '2019-05', '2019-06',\n",
       "       '2019-07', '2019-08', '2019-09', '2019-10', '2019-11', '2019-12'],\n",
       "      dtype='datetime64[M]')"
      ]
     },
     "execution_count": 177,
     "metadata": {},
     "output_type": "execute_result"
    }
   ],
   "source": [
    "np.arange('2012-01-01', '2020-01-01', dtype='<M8[M]')"
   ]
  },
  {
   "cell_type": "code",
   "execution_count": 184,
   "metadata": {},
   "outputs": [],
   "source": [
    "x = np.arange('2012-01-01', '2020-01-01', dtype='datetime64[M]')"
   ]
  },
  {
   "cell_type": "code",
   "execution_count": 181,
   "metadata": {},
   "outputs": [
    {
     "data": {
      "text/plain": [
       "numpy.datetime64('2000-01-01')"
      ]
     },
     "execution_count": 181,
     "metadata": {},
     "output_type": "execute_result"
    }
   ],
   "source": [
    "y = np.datetime64('2000-01-01')\n",
    "y"
   ]
  },
  {
   "cell_type": "code",
   "execution_count": 182,
   "metadata": {},
   "outputs": [
    {
     "data": {
      "text/plain": [
       "array([4383, 4414, 4443, 4474, 4504, 4535, 4565, 4596, 4627, 4657, 4688,\n",
       "       4718, 4749, 4780, 4808, 4839, 4869, 4900, 4930, 4961, 4992, 5022,\n",
       "       5053, 5083, 5114, 5145, 5173, 5204, 5234, 5265, 5295, 5326, 5357,\n",
       "       5387, 5418, 5448, 5479, 5510, 5538, 5569, 5599, 5630, 5660, 5691,\n",
       "       5722, 5752, 5783, 5813, 5844, 5875, 5904, 5935, 5965, 5996, 6026,\n",
       "       6057, 6088, 6118, 6149, 6179, 6210, 6241, 6269, 6300, 6330, 6361,\n",
       "       6391, 6422, 6453, 6483, 6514, 6544, 6575, 6606, 6634, 6665, 6695,\n",
       "       6726, 6756, 6787, 6818, 6848, 6879, 6909, 6940, 6971, 6999, 7030,\n",
       "       7060, 7091, 7121, 7152, 7183, 7213, 7244, 7274],\n",
       "      dtype='timedelta64[D]')"
      ]
     },
     "execution_count": 182,
     "metadata": {},
     "output_type": "execute_result"
    }
   ],
   "source": [
    "x - y"
   ]
  },
  {
   "cell_type": "code",
   "execution_count": 183,
   "metadata": {},
   "outputs": [
    {
     "data": {
      "text/plain": [
       "[datetime.timedelta(days=4383),\n",
       " datetime.timedelta(days=4414),\n",
       " datetime.timedelta(days=4443),\n",
       " datetime.timedelta(days=4474),\n",
       " datetime.timedelta(days=4504),\n",
       " datetime.timedelta(days=4535),\n",
       " datetime.timedelta(days=4565),\n",
       " datetime.timedelta(days=4596),\n",
       " datetime.timedelta(days=4627),\n",
       " datetime.timedelta(days=4657),\n",
       " datetime.timedelta(days=4688),\n",
       " datetime.timedelta(days=4718),\n",
       " datetime.timedelta(days=4749),\n",
       " datetime.timedelta(days=4780),\n",
       " datetime.timedelta(days=4808),\n",
       " datetime.timedelta(days=4839),\n",
       " datetime.timedelta(days=4869),\n",
       " datetime.timedelta(days=4900),\n",
       " datetime.timedelta(days=4930),\n",
       " datetime.timedelta(days=4961),\n",
       " datetime.timedelta(days=4992),\n",
       " datetime.timedelta(days=5022),\n",
       " datetime.timedelta(days=5053),\n",
       " datetime.timedelta(days=5083),\n",
       " datetime.timedelta(days=5114),\n",
       " datetime.timedelta(days=5145),\n",
       " datetime.timedelta(days=5173),\n",
       " datetime.timedelta(days=5204),\n",
       " datetime.timedelta(days=5234),\n",
       " datetime.timedelta(days=5265),\n",
       " datetime.timedelta(days=5295),\n",
       " datetime.timedelta(days=5326),\n",
       " datetime.timedelta(days=5357),\n",
       " datetime.timedelta(days=5387),\n",
       " datetime.timedelta(days=5418),\n",
       " datetime.timedelta(days=5448),\n",
       " datetime.timedelta(days=5479),\n",
       " datetime.timedelta(days=5510),\n",
       " datetime.timedelta(days=5538),\n",
       " datetime.timedelta(days=5569),\n",
       " datetime.timedelta(days=5599),\n",
       " datetime.timedelta(days=5630),\n",
       " datetime.timedelta(days=5660),\n",
       " datetime.timedelta(days=5691),\n",
       " datetime.timedelta(days=5722),\n",
       " datetime.timedelta(days=5752),\n",
       " datetime.timedelta(days=5783),\n",
       " datetime.timedelta(days=5813),\n",
       " datetime.timedelta(days=5844),\n",
       " datetime.timedelta(days=5875),\n",
       " datetime.timedelta(days=5904),\n",
       " datetime.timedelta(days=5935),\n",
       " datetime.timedelta(days=5965),\n",
       " datetime.timedelta(days=5996),\n",
       " datetime.timedelta(days=6026),\n",
       " datetime.timedelta(days=6057),\n",
       " datetime.timedelta(days=6088),\n",
       " datetime.timedelta(days=6118),\n",
       " datetime.timedelta(days=6149),\n",
       " datetime.timedelta(days=6179),\n",
       " datetime.timedelta(days=6210),\n",
       " datetime.timedelta(days=6241),\n",
       " datetime.timedelta(days=6269),\n",
       " datetime.timedelta(days=6300),\n",
       " datetime.timedelta(days=6330),\n",
       " datetime.timedelta(days=6361),\n",
       " datetime.timedelta(days=6391),\n",
       " datetime.timedelta(days=6422),\n",
       " datetime.timedelta(days=6453),\n",
       " datetime.timedelta(days=6483),\n",
       " datetime.timedelta(days=6514),\n",
       " datetime.timedelta(days=6544),\n",
       " datetime.timedelta(days=6575),\n",
       " datetime.timedelta(days=6606),\n",
       " datetime.timedelta(days=6634),\n",
       " datetime.timedelta(days=6665),\n",
       " datetime.timedelta(days=6695),\n",
       " datetime.timedelta(days=6726),\n",
       " datetime.timedelta(days=6756),\n",
       " datetime.timedelta(days=6787),\n",
       " datetime.timedelta(days=6818),\n",
       " datetime.timedelta(days=6848),\n",
       " datetime.timedelta(days=6879),\n",
       " datetime.timedelta(days=6909),\n",
       " datetime.timedelta(days=6940),\n",
       " datetime.timedelta(days=6971),\n",
       " datetime.timedelta(days=6999),\n",
       " datetime.timedelta(days=7030),\n",
       " datetime.timedelta(days=7060),\n",
       " datetime.timedelta(days=7091),\n",
       " datetime.timedelta(days=7121),\n",
       " datetime.timedelta(days=7152),\n",
       " datetime.timedelta(days=7183),\n",
       " datetime.timedelta(days=7213),\n",
       " datetime.timedelta(days=7244),\n",
       " datetime.timedelta(days=7274)]"
      ]
     },
     "execution_count": 183,
     "metadata": {},
     "output_type": "execute_result"
    }
   ],
   "source": [
    "(x - y).tolist()"
   ]
  },
  {
   "cell_type": "code",
   "execution_count": 185,
   "metadata": {},
   "outputs": [
    {
     "data": {
      "text/plain": [
       "[datetime.date(2012, 1, 1),\n",
       " datetime.date(2012, 2, 1),\n",
       " datetime.date(2012, 3, 1),\n",
       " datetime.date(2012, 4, 1),\n",
       " datetime.date(2012, 5, 1),\n",
       " datetime.date(2012, 6, 1),\n",
       " datetime.date(2012, 7, 1),\n",
       " datetime.date(2012, 8, 1),\n",
       " datetime.date(2012, 9, 1),\n",
       " datetime.date(2012, 10, 1),\n",
       " datetime.date(2012, 11, 1),\n",
       " datetime.date(2012, 12, 1),\n",
       " datetime.date(2013, 1, 1),\n",
       " datetime.date(2013, 2, 1),\n",
       " datetime.date(2013, 3, 1),\n",
       " datetime.date(2013, 4, 1),\n",
       " datetime.date(2013, 5, 1),\n",
       " datetime.date(2013, 6, 1),\n",
       " datetime.date(2013, 7, 1),\n",
       " datetime.date(2013, 8, 1),\n",
       " datetime.date(2013, 9, 1),\n",
       " datetime.date(2013, 10, 1),\n",
       " datetime.date(2013, 11, 1),\n",
       " datetime.date(2013, 12, 1),\n",
       " datetime.date(2014, 1, 1),\n",
       " datetime.date(2014, 2, 1),\n",
       " datetime.date(2014, 3, 1),\n",
       " datetime.date(2014, 4, 1),\n",
       " datetime.date(2014, 5, 1),\n",
       " datetime.date(2014, 6, 1),\n",
       " datetime.date(2014, 7, 1),\n",
       " datetime.date(2014, 8, 1),\n",
       " datetime.date(2014, 9, 1),\n",
       " datetime.date(2014, 10, 1),\n",
       " datetime.date(2014, 11, 1),\n",
       " datetime.date(2014, 12, 1),\n",
       " datetime.date(2015, 1, 1),\n",
       " datetime.date(2015, 2, 1),\n",
       " datetime.date(2015, 3, 1),\n",
       " datetime.date(2015, 4, 1),\n",
       " datetime.date(2015, 5, 1),\n",
       " datetime.date(2015, 6, 1),\n",
       " datetime.date(2015, 7, 1),\n",
       " datetime.date(2015, 8, 1),\n",
       " datetime.date(2015, 9, 1),\n",
       " datetime.date(2015, 10, 1),\n",
       " datetime.date(2015, 11, 1),\n",
       " datetime.date(2015, 12, 1),\n",
       " datetime.date(2016, 1, 1),\n",
       " datetime.date(2016, 2, 1),\n",
       " datetime.date(2016, 3, 1),\n",
       " datetime.date(2016, 4, 1),\n",
       " datetime.date(2016, 5, 1),\n",
       " datetime.date(2016, 6, 1),\n",
       " datetime.date(2016, 7, 1),\n",
       " datetime.date(2016, 8, 1),\n",
       " datetime.date(2016, 9, 1),\n",
       " datetime.date(2016, 10, 1),\n",
       " datetime.date(2016, 11, 1),\n",
       " datetime.date(2016, 12, 1),\n",
       " datetime.date(2017, 1, 1),\n",
       " datetime.date(2017, 2, 1),\n",
       " datetime.date(2017, 3, 1),\n",
       " datetime.date(2017, 4, 1),\n",
       " datetime.date(2017, 5, 1),\n",
       " datetime.date(2017, 6, 1),\n",
       " datetime.date(2017, 7, 1),\n",
       " datetime.date(2017, 8, 1),\n",
       " datetime.date(2017, 9, 1),\n",
       " datetime.date(2017, 10, 1),\n",
       " datetime.date(2017, 11, 1),\n",
       " datetime.date(2017, 12, 1),\n",
       " datetime.date(2018, 1, 1),\n",
       " datetime.date(2018, 2, 1),\n",
       " datetime.date(2018, 3, 1),\n",
       " datetime.date(2018, 4, 1),\n",
       " datetime.date(2018, 5, 1),\n",
       " datetime.date(2018, 6, 1),\n",
       " datetime.date(2018, 7, 1),\n",
       " datetime.date(2018, 8, 1),\n",
       " datetime.date(2018, 9, 1),\n",
       " datetime.date(2018, 10, 1),\n",
       " datetime.date(2018, 11, 1),\n",
       " datetime.date(2018, 12, 1),\n",
       " datetime.date(2019, 1, 1),\n",
       " datetime.date(2019, 2, 1),\n",
       " datetime.date(2019, 3, 1),\n",
       " datetime.date(2019, 4, 1),\n",
       " datetime.date(2019, 5, 1),\n",
       " datetime.date(2019, 6, 1),\n",
       " datetime.date(2019, 7, 1),\n",
       " datetime.date(2019, 8, 1),\n",
       " datetime.date(2019, 9, 1),\n",
       " datetime.date(2019, 10, 1),\n",
       " datetime.date(2019, 11, 1),\n",
       " datetime.date(2019, 12, 1)]"
      ]
     },
     "execution_count": 185,
     "metadata": {},
     "output_type": "execute_result"
    }
   ],
   "source": [
    "x.tolist()"
   ]
  },
  {
   "cell_type": "code",
   "execution_count": 186,
   "metadata": {},
   "outputs": [
    {
     "data": {
      "text/plain": [
       "datetime.date(2012, 1, 1)"
      ]
     },
     "execution_count": 186,
     "metadata": {},
     "output_type": "execute_result"
    }
   ],
   "source": [
    "x[0].item()"
   ]
  },
  {
   "cell_type": "code",
   "execution_count": 188,
   "metadata": {},
   "outputs": [
    {
     "data": {
      "text/plain": [
       "array(['2011-01-01T00:00:00.000000'], dtype='datetime64[us]')"
      ]
     },
     "execution_count": 188,
     "metadata": {},
     "output_type": "execute_result"
    }
   ],
   "source": [
    "import datetime\n",
    "np.array([datetime.datetime(2011,1,1)], dtype=np.datetime64)"
   ]
  },
  {
   "cell_type": "code",
   "execution_count": 190,
   "metadata": {},
   "outputs": [],
   "source": [
    "_id = np.arange(1000)\n",
    "_value = np.random.random(1000)\n",
    "_date = np.random.randint(0, 365, 1000) + np.datetime64('2020-01-01')"
   ]
  },
  {
   "cell_type": "code",
   "execution_count": 192,
   "metadata": {},
   "outputs": [],
   "source": [
    "x = np.core.records.fromarrays(\n",
    "    [_id, _value, _date],\n",
    "    names='id, value, date',\n",
    "    formats='i4, f4, a10'\n",
    ")"
   ]
  },
  {
   "cell_type": "code",
   "execution_count": 193,
   "metadata": {},
   "outputs": [],
   "source": [
    "np.savetxt('./records.csv', x, fmt='%i, %.4f, %s')"
   ]
  },
  {
   "cell_type": "code",
   "execution_count": 194,
   "metadata": {},
   "outputs": [],
   "source": [
    "\n",
    "x = np.genfromtxt(\n",
    "    './records.csv',\n",
    "    dtype='i4, f4, a10',\n",
    "    delimiter=',',\n",
    "    skip_header=0\n",
    ")\n"
   ]
  },
  {
   "cell_type": "code",
   "execution_count": 195,
   "metadata": {},
   "outputs": [
    {
     "data": {
      "text/plain": [
       "array([(  0, 3.363e-01, b\" b'2020-01\"), (  1, 3.415e-01, b\" b'2020-04\"),\n",
       "       (  2, 4.200e-02, b\" b'2020-02\"), (  3, 2.433e-01, b\" b'2020-09\"),\n",
       "       (  4, 2.100e-03, b\" b'2020-07\"), (  5, 1.264e-01, b\" b'2020-05\"),\n",
       "       (  6, 2.657e-01, b\" b'2020-04\"), (  7, 1.952e-01, b\" b'2020-06\"),\n",
       "       (  8, 7.788e-01, b\" b'2020-11\"), (  9, 9.068e-01, b\" b'2020-06\"),\n",
       "       ( 10, 3.172e-01, b\" b'2020-07\"), ( 11, 5.982e-01, b\" b'2020-04\"),\n",
       "       ( 12, 1.163e-01, b\" b'2020-11\"), ( 13, 3.502e-01, b\" b'2020-11\"),\n",
       "       ( 14, 7.134e-01, b\" b'2020-08\"), ( 15, 7.919e-01, b\" b'2020-02\"),\n",
       "       ( 16, 2.879e-01, b\" b'2020-04\"), ( 17, 6.707e-01, b\" b'2020-05\"),\n",
       "       ( 18, 1.695e-01, b\" b'2020-08\"), ( 19, 5.240e-01, b\" b'2020-01\"),\n",
       "       ( 20, 4.419e-01, b\" b'2020-12\"), ( 21, 7.211e-01, b\" b'2020-10\"),\n",
       "       ( 22, 2.294e-01, b\" b'2020-07\"), ( 23, 4.031e-01, b\" b'2020-02\"),\n",
       "       ( 24, 9.990e-01, b\" b'2020-02\"), ( 25, 7.969e-01, b\" b'2020-11\"),\n",
       "       ( 26, 6.301e-01, b\" b'2020-10\"), ( 27, 6.550e-02, b\" b'2020-12\"),\n",
       "       ( 28, 7.114e-01, b\" b'2020-11\"), ( 29, 2.970e-02, b\" b'2020-11\"),\n",
       "       ( 30, 8.484e-01, b\" b'2020-05\"), ( 31, 4.147e-01, b\" b'2020-12\"),\n",
       "       ( 32, 4.576e-01, b\" b'2020-03\"), ( 33, 1.332e-01, b\" b'2020-08\"),\n",
       "       ( 34, 3.770e-02, b\" b'2020-06\"), ( 35, 4.821e-01, b\" b'2020-09\"),\n",
       "       ( 36, 6.720e-02, b\" b'2020-05\"), ( 37, 4.543e-01, b\" b'2020-03\"),\n",
       "       ( 38, 1.265e-01, b\" b'2020-12\"), ( 39, 5.557e-01, b\" b'2020-10\"),\n",
       "       ( 40, 8.844e-01, b\" b'2020-07\"), ( 41, 9.657e-01, b\" b'2020-07\"),\n",
       "       ( 42, 1.979e-01, b\" b'2020-04\"), ( 43, 4.587e-01, b\" b'2020-07\"),\n",
       "       ( 44, 3.784e-01, b\" b'2020-09\"), ( 45, 5.301e-01, b\" b'2020-07\"),\n",
       "       ( 46, 3.074e-01, b\" b'2020-06\"), ( 47, 4.586e-01, b\" b'2020-03\"),\n",
       "       ( 48, 7.657e-01, b\" b'2020-07\"), ( 49, 8.210e-02, b\" b'2020-07\"),\n",
       "       ( 50, 2.001e-01, b\" b'2020-12\"), ( 51, 1.189e-01, b\" b'2020-04\"),\n",
       "       ( 52, 7.459e-01, b\" b'2020-06\"), ( 53, 7.912e-01, b\" b'2020-04\"),\n",
       "       ( 54, 4.748e-01, b\" b'2020-03\"), ( 55, 8.386e-01, b\" b'2020-08\"),\n",
       "       ( 56, 9.645e-01, b\" b'2020-11\"), ( 57, 5.870e-01, b\" b'2020-06\"),\n",
       "       ( 58, 2.687e-01, b\" b'2020-01\"), ( 59, 4.361e-01, b\" b'2020-11\"),\n",
       "       ( 60, 7.103e-01, b\" b'2020-06\"), ( 61, 4.694e-01, b\" b'2020-05\"),\n",
       "       ( 62, 1.761e-01, b\" b'2020-11\"), ( 63, 9.652e-01, b\" b'2020-03\"),\n",
       "       ( 64, 2.303e-01, b\" b'2020-07\"), ( 65, 7.820e-01, b\" b'2020-03\"),\n",
       "       ( 66, 2.911e-01, b\" b'2020-12\"), ( 67, 6.821e-01, b\" b'2020-02\"),\n",
       "       ( 68, 6.244e-01, b\" b'2020-03\"), ( 69, 3.356e-01, b\" b'2020-10\"),\n",
       "       ( 70, 4.531e-01, b\" b'2020-04\"), ( 71, 8.893e-01, b\" b'2020-02\"),\n",
       "       ( 72, 8.851e-01, b\" b'2020-06\"), ( 73, 1.016e-01, b\" b'2020-04\"),\n",
       "       ( 74, 1.529e-01, b\" b'2020-12\"), ( 75, 9.499e-01, b\" b'2020-09\"),\n",
       "       ( 76, 9.790e-02, b\" b'2020-09\"), ( 77, 9.973e-01, b\" b'2020-02\"),\n",
       "       ( 78, 7.066e-01, b\" b'2020-09\"), ( 79, 8.790e-01, b\" b'2020-05\"),\n",
       "       ( 80, 7.763e-01, b\" b'2020-04\"), ( 81, 6.345e-01, b\" b'2020-11\"),\n",
       "       ( 82, 6.864e-01, b\" b'2020-08\"), ( 83, 8.577e-01, b\" b'2020-06\"),\n",
       "       ( 84, 5.235e-01, b\" b'2020-02\"), ( 85, 1.981e-01, b\" b'2020-11\"),\n",
       "       ( 86, 6.720e-02, b\" b'2020-09\"), ( 87, 6.129e-01, b\" b'2020-04\"),\n",
       "       ( 88, 9.913e-01, b\" b'2020-06\"), ( 89, 1.541e-01, b\" b'2020-02\"),\n",
       "       ( 90, 5.992e-01, b\" b'2020-05\"), ( 91, 4.152e-01, b\" b'2020-06\"),\n",
       "       ( 92, 5.551e-01, b\" b'2020-08\"), ( 93, 1.592e-01, b\" b'2020-05\"),\n",
       "       ( 94, 7.597e-01, b\" b'2020-11\"), ( 95, 4.589e-01, b\" b'2020-07\"),\n",
       "       ( 96, 8.302e-01, b\" b'2020-05\"), ( 97, 5.815e-01, b\" b'2020-08\"),\n",
       "       ( 98, 3.895e-01, b\" b'2020-03\"), ( 99, 5.743e-01, b\" b'2020-06\"),\n",
       "       (100, 6.560e-01, b\" b'2020-09\"), (101, 4.271e-01, b\" b'2020-01\"),\n",
       "       (102, 9.340e-01, b\" b'2020-01\"), (103, 8.288e-01, b\" b'2020-01\"),\n",
       "       (104, 5.540e-02, b\" b'2020-03\"), (105, 7.700e-03, b\" b'2020-03\"),\n",
       "       (106, 9.194e-01, b\" b'2020-07\"), (107, 1.233e-01, b\" b'2020-10\"),\n",
       "       (108, 8.705e-01, b\" b'2020-07\"), (109, 5.607e-01, b\" b'2020-02\"),\n",
       "       (110, 1.045e-01, b\" b'2020-07\"), (111, 8.642e-01, b\" b'2020-08\"),\n",
       "       (112, 1.196e-01, b\" b'2020-03\"), (113, 9.068e-01, b\" b'2020-02\"),\n",
       "       (114, 7.760e-01, b\" b'2020-11\"), (115, 9.482e-01, b\" b'2020-04\"),\n",
       "       (116, 5.275e-01, b\" b'2020-12\"), (117, 6.364e-01, b\" b'2020-07\"),\n",
       "       (118, 3.176e-01, b\" b'2020-09\"), (119, 6.092e-01, b\" b'2020-07\"),\n",
       "       (120, 6.745e-01, b\" b'2020-06\"), (121, 4.667e-01, b\" b'2020-05\"),\n",
       "       (122, 8.003e-01, b\" b'2020-06\"), (123, 6.882e-01, b\" b'2020-06\"),\n",
       "       (124, 1.113e-01, b\" b'2020-04\"), (125, 5.220e-02, b\" b'2020-08\"),\n",
       "       (126, 8.463e-01, b\" b'2020-09\"), (127, 1.360e-02, b\" b'2020-10\"),\n",
       "       (128, 9.656e-01, b\" b'2020-04\"), (129, 6.510e-01, b\" b'2020-04\"),\n",
       "       (130, 3.444e-01, b\" b'2020-04\"), (131, 8.124e-01, b\" b'2020-03\"),\n",
       "       (132, 5.221e-01, b\" b'2020-07\"), (133, 2.648e-01, b\" b'2020-11\"),\n",
       "       (134, 3.481e-01, b\" b'2020-05\"), (135, 5.782e-01, b\" b'2020-12\"),\n",
       "       (136, 7.724e-01, b\" b'2020-10\"), (137, 8.200e-03, b\" b'2020-11\"),\n",
       "       (138, 4.283e-01, b\" b'2020-10\"), (139, 2.797e-01, b\" b'2020-10\"),\n",
       "       (140, 4.510e-02, b\" b'2020-07\"), (141, 2.153e-01, b\" b'2020-10\"),\n",
       "       (142, 7.422e-01, b\" b'2020-10\"), (143, 9.106e-01, b\" b'2020-05\"),\n",
       "       (144, 2.318e-01, b\" b'2020-07\"), (145, 7.393e-01, b\" b'2020-01\"),\n",
       "       (146, 2.205e-01, b\" b'2020-09\"), (147, 6.959e-01, b\" b'2020-10\"),\n",
       "       (148, 9.288e-01, b\" b'2020-10\"), (149, 3.350e-02, b\" b'2020-04\"),\n",
       "       (150, 2.839e-01, b\" b'2020-06\"), (151, 2.061e-01, b\" b'2020-02\"),\n",
       "       (152, 9.180e-01, b\" b'2020-11\"), (153, 6.079e-01, b\" b'2020-08\"),\n",
       "       (154, 9.264e-01, b\" b'2020-11\"), (155, 5.927e-01, b\" b'2020-10\"),\n",
       "       (156, 7.793e-01, b\" b'2020-10\"), (157, 6.128e-01, b\" b'2020-02\"),\n",
       "       (158, 6.720e-01, b\" b'2020-06\"), (159, 3.018e-01, b\" b'2020-09\"),\n",
       "       (160, 4.917e-01, b\" b'2020-06\"), (161, 6.047e-01, b\" b'2020-07\"),\n",
       "       (162, 5.548e-01, b\" b'2020-08\"), (163, 1.298e-01, b\" b'2020-07\"),\n",
       "       (164, 5.031e-01, b\" b'2020-01\"), (165, 8.438e-01, b\" b'2020-11\"),\n",
       "       (166, 7.054e-01, b\" b'2020-08\"), (167, 5.555e-01, b\" b'2020-09\"),\n",
       "       (168, 5.771e-01, b\" b'2020-01\"), (169, 9.441e-01, b\" b'2020-09\"),\n",
       "       (170, 4.177e-01, b\" b'2020-01\"), (171, 6.759e-01, b\" b'2020-03\"),\n",
       "       (172, 8.040e-02, b\" b'2020-03\"), (173, 9.164e-01, b\" b'2020-04\"),\n",
       "       (174, 9.594e-01, b\" b'2020-02\"), (175, 8.860e-02, b\" b'2020-07\"),\n",
       "       (176, 6.234e-01, b\" b'2020-06\"), (177, 6.380e-02, b\" b'2020-08\"),\n",
       "       (178, 6.268e-01, b\" b'2020-09\"), (179, 2.469e-01, b\" b'2020-03\"),\n",
       "       (180, 6.823e-01, b\" b'2020-10\"), (181, 3.205e-01, b\" b'2020-03\"),\n",
       "       (182, 1.137e-01, b\" b'2020-08\"), (183, 6.872e-01, b\" b'2020-08\"),\n",
       "       (184, 6.590e-01, b\" b'2020-03\"), (185, 9.942e-01, b\" b'2020-10\"),\n",
       "       (186, 5.579e-01, b\" b'2020-01\"), (187, 1.680e-02, b\" b'2020-05\"),\n",
       "       (188, 3.542e-01, b\" b'2020-04\"), (189, 7.954e-01, b\" b'2020-01\"),\n",
       "       (190, 3.325e-01, b\" b'2020-12\"), (191, 6.380e-01, b\" b'2020-10\"),\n",
       "       (192, 5.354e-01, b\" b'2020-08\"), (193, 3.883e-01, b\" b'2020-07\"),\n",
       "       (194, 3.077e-01, b\" b'2020-11\"), (195, 7.796e-01, b\" b'2020-10\"),\n",
       "       (196, 8.800e-03, b\" b'2020-07\"), (197, 3.810e-01, b\" b'2020-10\"),\n",
       "       (198, 1.672e-01, b\" b'2020-11\"), (199, 2.423e-01, b\" b'2020-07\"),\n",
       "       (200, 2.349e-01, b\" b'2020-07\"), (201, 6.807e-01, b\" b'2020-01\"),\n",
       "       (202, 9.341e-01, b\" b'2020-04\"), (203, 3.965e-01, b\" b'2020-01\"),\n",
       "       (204, 2.455e-01, b\" b'2020-11\"), (205, 1.212e-01, b\" b'2020-09\"),\n",
       "       (206, 7.837e-01, b\" b'2020-06\"), (207, 3.181e-01, b\" b'2020-03\"),\n",
       "       (208, 9.622e-01, b\" b'2020-05\"), (209, 4.375e-01, b\" b'2020-07\"),\n",
       "       (210, 7.853e-01, b\" b'2020-01\"), (211, 6.421e-01, b\" b'2020-08\"),\n",
       "       (212, 8.272e-01, b\" b'2020-07\"), (213, 1.003e-01, b\" b'2020-05\"),\n",
       "       (214, 3.141e-01, b\" b'2020-09\"), (215, 3.614e-01, b\" b'2020-09\"),\n",
       "       (216, 8.176e-01, b\" b'2020-04\"), (217, 7.967e-01, b\" b'2020-01\"),\n",
       "       (218, 4.890e-02, b\" b'2020-11\"), (219, 6.333e-01, b\" b'2020-04\"),\n",
       "       (220, 6.442e-01, b\" b'2020-08\"), (221, 7.230e-02, b\" b'2020-10\"),\n",
       "       (222, 8.234e-01, b\" b'2020-07\"), (223, 5.110e-02, b\" b'2020-04\"),\n",
       "       (224, 5.044e-01, b\" b'2020-10\"), (225, 8.635e-01, b\" b'2020-04\"),\n",
       "       (226, 3.310e-01, b\" b'2020-03\"), (227, 9.892e-01, b\" b'2020-05\"),\n",
       "       (228, 2.239e-01, b\" b'2020-02\"), (229, 5.921e-01, b\" b'2020-02\"),\n",
       "       (230, 1.070e-02, b\" b'2020-04\"), (231, 7.345e-01, b\" b'2020-05\"),\n",
       "       (232, 6.380e-01, b\" b'2020-04\"), (233, 2.212e-01, b\" b'2020-01\"),\n",
       "       (234, 5.349e-01, b\" b'2020-10\"), (235, 1.891e-01, b\" b'2020-03\"),\n",
       "       (236, 5.746e-01, b\" b'2020-11\"), (237, 3.797e-01, b\" b'2020-06\"),\n",
       "       (238, 5.199e-01, b\" b'2020-12\"), (239, 4.826e-01, b\" b'2020-11\"),\n",
       "       (240, 5.202e-01, b\" b'2020-05\"), (241, 6.375e-01, b\" b'2020-05\"),\n",
       "       (242, 7.559e-01, b\" b'2020-07\"), (243, 6.328e-01, b\" b'2020-08\"),\n",
       "       (244, 4.445e-01, b\" b'2020-06\"), (245, 2.649e-01, b\" b'2020-04\"),\n",
       "       (246, 9.212e-01, b\" b'2020-02\"), (247, 5.408e-01, b\" b'2020-11\"),\n",
       "       (248, 5.398e-01, b\" b'2020-06\"), (249, 5.105e-01, b\" b'2020-07\"),\n",
       "       (250, 5.180e-02, b\" b'2020-03\"), (251, 2.886e-01, b\" b'2020-03\"),\n",
       "       (252, 8.743e-01, b\" b'2020-06\"), (253, 5.122e-01, b\" b'2020-09\"),\n",
       "       (254, 8.820e-02, b\" b'2020-01\"), (255, 5.818e-01, b\" b'2020-02\"),\n",
       "       (256, 9.256e-01, b\" b'2020-07\"), (257, 8.874e-01, b\" b'2020-02\"),\n",
       "       (258, 7.436e-01, b\" b'2020-01\"), (259, 5.776e-01, b\" b'2020-05\"),\n",
       "       (260, 4.461e-01, b\" b'2020-03\"), (261, 1.835e-01, b\" b'2020-01\"),\n",
       "       (262, 6.335e-01, b\" b'2020-11\"), (263, 5.218e-01, b\" b'2020-02\"),\n",
       "       (264, 1.225e-01, b\" b'2020-12\"), (265, 2.762e-01, b\" b'2020-02\"),\n",
       "       (266, 6.413e-01, b\" b'2020-09\"), (267, 4.087e-01, b\" b'2020-07\"),\n",
       "       (268, 6.384e-01, b\" b'2020-07\"), (269, 7.382e-01, b\" b'2020-11\"),\n",
       "       (270, 3.640e-01, b\" b'2020-02\"), (271, 6.552e-01, b\" b'2020-01\"),\n",
       "       (272, 7.537e-01, b\" b'2020-06\"), (273, 8.464e-01, b\" b'2020-06\"),\n",
       "       (274, 7.897e-01, b\" b'2020-08\"), (275, 6.620e-02, b\" b'2020-05\"),\n",
       "       (276, 9.841e-01, b\" b'2020-04\"), (277, 3.925e-01, b\" b'2020-01\"),\n",
       "       (278, 2.600e-03, b\" b'2020-11\"), (279, 1.859e-01, b\" b'2020-01\"),\n",
       "       (280, 4.225e-01, b\" b'2020-02\"), (281, 8.160e-02, b\" b'2020-07\"),\n",
       "       (282, 4.880e-01, b\" b'2020-10\"), (283, 1.432e-01, b\" b'2020-06\"),\n",
       "       (284, 9.955e-01, b\" b'2020-04\"), (285, 5.597e-01, b\" b'2020-06\"),\n",
       "       (286, 6.350e-02, b\" b'2020-08\"), (287, 9.385e-01, b\" b'2020-08\"),\n",
       "       (288, 8.110e-01, b\" b'2020-06\"), (289, 3.646e-01, b\" b'2020-05\"),\n",
       "       (290, 1.138e-01, b\" b'2020-06\"), (291, 7.604e-01, b\" b'2020-11\"),\n",
       "       (292, 4.900e-02, b\" b'2020-07\"), (293, 3.876e-01, b\" b'2020-11\"),\n",
       "       (294, 4.976e-01, b\" b'2020-05\"), (295, 1.528e-01, b\" b'2020-12\"),\n",
       "       (296, 8.986e-01, b\" b'2020-11\"), (297, 3.985e-01, b\" b'2020-09\"),\n",
       "       (298, 8.688e-01, b\" b'2020-06\"), (299, 8.032e-01, b\" b'2020-07\"),\n",
       "       (300, 4.181e-01, b\" b'2020-10\"), (301, 3.843e-01, b\" b'2020-07\"),\n",
       "       (302, 7.383e-01, b\" b'2020-07\"), (303, 3.267e-01, b\" b'2020-05\"),\n",
       "       (304, 7.468e-01, b\" b'2020-10\"), (305, 8.708e-01, b\" b'2020-02\"),\n",
       "       (306, 7.668e-01, b\" b'2020-06\"), (307, 8.601e-01, b\" b'2020-04\"),\n",
       "       (308, 2.377e-01, b\" b'2020-09\"), (309, 4.540e-02, b\" b'2020-08\"),\n",
       "       (310, 4.388e-01, b\" b'2020-03\"), (311, 4.238e-01, b\" b'2020-04\"),\n",
       "       (312, 1.578e-01, b\" b'2020-08\"), (313, 3.870e-01, b\" b'2020-05\"),\n",
       "       (314, 9.342e-01, b\" b'2020-10\"), (315, 3.847e-01, b\" b'2020-06\"),\n",
       "       (316, 8.388e-01, b\" b'2020-04\"), (317, 3.017e-01, b\" b'2020-01\"),\n",
       "       (318, 7.119e-01, b\" b'2020-10\"), (319, 5.915e-01, b\" b'2020-11\"),\n",
       "       (320, 9.322e-01, b\" b'2020-10\"), (321, 2.391e-01, b\" b'2020-01\"),\n",
       "       (322, 8.455e-01, b\" b'2020-05\"), (323, 6.808e-01, b\" b'2020-06\"),\n",
       "       (324, 9.162e-01, b\" b'2020-11\"), (325, 1.553e-01, b\" b'2020-12\"),\n",
       "       (326, 1.989e-01, b\" b'2020-01\"), (327, 9.296e-01, b\" b'2020-08\"),\n",
       "       (328, 4.618e-01, b\" b'2020-09\"), (329, 1.822e-01, b\" b'2020-10\"),\n",
       "       (330, 9.794e-01, b\" b'2020-10\"), (331, 2.593e-01, b\" b'2020-08\"),\n",
       "       (332, 5.302e-01, b\" b'2020-09\"), (333, 4.437e-01, b\" b'2020-07\"),\n",
       "       (334, 7.527e-01, b\" b'2020-08\"), (335, 3.036e-01, b\" b'2020-11\"),\n",
       "       (336, 7.270e-02, b\" b'2020-06\"), (337, 5.340e-01, b\" b'2020-05\"),\n",
       "       (338, 3.713e-01, b\" b'2020-06\"), (339, 1.012e-01, b\" b'2020-07\"),\n",
       "       (340, 5.623e-01, b\" b'2020-03\"), (341, 6.372e-01, b\" b'2020-02\"),\n",
       "       (342, 2.221e-01, b\" b'2020-01\"), (343, 9.212e-01, b\" b'2020-04\"),\n",
       "       (344, 4.111e-01, b\" b'2020-02\"), (345, 6.072e-01, b\" b'2020-07\"),\n",
       "       (346, 4.611e-01, b\" b'2020-07\"), (347, 8.027e-01, b\" b'2020-04\"),\n",
       "       (348, 3.425e-01, b\" b'2020-12\"), (349, 3.748e-01, b\" b'2020-04\"),\n",
       "       (350, 5.233e-01, b\" b'2020-06\"), (351, 3.780e-02, b\" b'2020-07\"),\n",
       "       (352, 8.802e-01, b\" b'2020-11\"), (353, 6.418e-01, b\" b'2020-10\"),\n",
       "       (354, 3.172e-01, b\" b'2020-02\"), (355, 6.908e-01, b\" b'2020-01\"),\n",
       "       (356, 1.703e-01, b\" b'2020-04\"), (357, 4.090e-01, b\" b'2020-01\"),\n",
       "       (358, 5.834e-01, b\" b'2020-05\"), (359, 5.652e-01, b\" b'2020-06\"),\n",
       "       (360, 7.847e-01, b\" b'2020-11\"), (361, 3.378e-01, b\" b'2020-07\"),\n",
       "       (362, 2.516e-01, b\" b'2020-12\"), (363, 6.136e-01, b\" b'2020-11\"),\n",
       "       (364, 5.270e-02, b\" b'2020-10\"), (365, 8.831e-01, b\" b'2020-06\"),\n",
       "       (366, 2.434e-01, b\" b'2020-05\"), (367, 2.818e-01, b\" b'2020-03\"),\n",
       "       (368, 3.153e-01, b\" b'2020-07\"), (369, 6.273e-01, b\" b'2020-05\"),\n",
       "       (370, 6.069e-01, b\" b'2020-10\"), (371, 8.038e-01, b\" b'2020-05\"),\n",
       "       (372, 8.532e-01, b\" b'2020-05\"), (373, 9.393e-01, b\" b'2020-08\"),\n",
       "       (374, 4.775e-01, b\" b'2020-07\"), (375, 6.940e-02, b\" b'2020-05\"),\n",
       "       (376, 5.007e-01, b\" b'2020-12\"), (377, 9.915e-01, b\" b'2020-12\"),\n",
       "       (378, 8.322e-01, b\" b'2020-07\"), (379, 6.053e-01, b\" b'2020-06\"),\n",
       "       (380, 7.110e-02, b\" b'2020-01\"), (381, 9.995e-01, b\" b'2020-05\"),\n",
       "       (382, 7.724e-01, b\" b'2020-02\"), (383, 8.985e-01, b\" b'2020-03\"),\n",
       "       (384, 6.967e-01, b\" b'2020-06\"), (385, 6.592e-01, b\" b'2020-03\"),\n",
       "       (386, 4.139e-01, b\" b'2020-01\"), (387, 7.781e-01, b\" b'2020-03\"),\n",
       "       (388, 8.891e-01, b\" b'2020-12\"), (389, 2.101e-01, b\" b'2020-11\"),\n",
       "       (390, 2.584e-01, b\" b'2020-05\"), (391, 7.983e-01, b\" b'2020-05\"),\n",
       "       (392, 3.112e-01, b\" b'2020-04\"), (393, 7.319e-01, b\" b'2020-08\"),\n",
       "       (394, 9.275e-01, b\" b'2020-10\"), (395, 5.745e-01, b\" b'2020-02\"),\n",
       "       (396, 9.820e-02, b\" b'2020-10\"), (397, 5.033e-01, b\" b'2020-08\"),\n",
       "       (398, 1.459e-01, b\" b'2020-08\"), (399, 9.827e-01, b\" b'2020-05\"),\n",
       "       (400, 3.693e-01, b\" b'2020-04\"), (401, 4.380e-01, b\" b'2020-05\"),\n",
       "       (402, 4.023e-01, b\" b'2020-03\"), (403, 9.981e-01, b\" b'2020-12\"),\n",
       "       (404, 1.523e-01, b\" b'2020-05\"), (405, 1.055e-01, b\" b'2020-08\"),\n",
       "       (406, 7.199e-01, b\" b'2020-10\"), (407, 6.400e-02, b\" b'2020-06\"),\n",
       "       (408, 5.274e-01, b\" b'2020-04\"), (409, 4.192e-01, b\" b'2020-03\"),\n",
       "       (410, 9.803e-01, b\" b'2020-03\"), (411, 7.040e-01, b\" b'2020-11\"),\n",
       "       (412, 1.467e-01, b\" b'2020-07\"), (413, 5.475e-01, b\" b'2020-09\"),\n",
       "       (414, 8.760e-01, b\" b'2020-05\"), (415, 2.176e-01, b\" b'2020-01\"),\n",
       "       (416, 1.102e-01, b\" b'2020-10\"), (417, 8.544e-01, b\" b'2020-01\"),\n",
       "       (418, 8.463e-01, b\" b'2020-05\"), (419, 1.032e-01, b\" b'2020-11\"),\n",
       "       (420, 8.665e-01, b\" b'2020-06\"), (421, 9.801e-01, b\" b'2020-08\"),\n",
       "       (422, 6.048e-01, b\" b'2020-06\"), (423, 2.997e-01, b\" b'2020-08\"),\n",
       "       (424, 1.192e-01, b\" b'2020-11\"), (425, 4.352e-01, b\" b'2020-03\"),\n",
       "       (426, 2.774e-01, b\" b'2020-04\"), (427, 6.866e-01, b\" b'2020-11\"),\n",
       "       (428, 4.692e-01, b\" b'2020-12\"), (429, 9.573e-01, b\" b'2020-10\"),\n",
       "       (430, 3.439e-01, b\" b'2020-02\"), (431, 9.300e-03, b\" b'2020-07\"),\n",
       "       (432, 8.650e-02, b\" b'2020-02\"), (433, 9.334e-01, b\" b'2020-09\"),\n",
       "       (434, 3.483e-01, b\" b'2020-09\"), (435, 6.960e-02, b\" b'2020-12\"),\n",
       "       (436, 9.342e-01, b\" b'2020-04\"), (437, 1.100e-03, b\" b'2020-04\"),\n",
       "       (438, 8.370e-01, b\" b'2020-05\"), (439, 5.760e-01, b\" b'2020-12\"),\n",
       "       (440, 6.650e-02, b\" b'2020-02\"), (441, 7.235e-01, b\" b'2020-04\"),\n",
       "       (442, 4.801e-01, b\" b'2020-09\"), (443, 7.438e-01, b\" b'2020-04\"),\n",
       "       (444, 4.923e-01, b\" b'2020-02\"), (445, 5.420e-02, b\" b'2020-07\"),\n",
       "       (446, 5.711e-01, b\" b'2020-02\"), (447, 4.056e-01, b\" b'2020-06\"),\n",
       "       (448, 6.037e-01, b\" b'2020-09\"), (449, 4.290e-01, b\" b'2020-09\"),\n",
       "       (450, 5.300e-03, b\" b'2020-12\"), (451, 7.755e-01, b\" b'2020-05\"),\n",
       "       (452, 8.236e-01, b\" b'2020-01\"), (453, 5.656e-01, b\" b'2020-04\"),\n",
       "       (454, 7.988e-01, b\" b'2020-12\"), (455, 4.418e-01, b\" b'2020-11\"),\n",
       "       (456, 4.940e-01, b\" b'2020-08\"), (457, 4.131e-01, b\" b'2020-02\"),\n",
       "       (458, 6.889e-01, b\" b'2020-01\"), (459, 2.151e-01, b\" b'2020-04\"),\n",
       "       (460, 2.200e-02, b\" b'2020-08\"), (461, 4.687e-01, b\" b'2020-06\"),\n",
       "       (462, 2.752e-01, b\" b'2020-11\"), (463, 8.778e-01, b\" b'2020-10\"),\n",
       "       (464, 3.350e-01, b\" b'2020-12\"), (465, 7.840e-02, b\" b'2020-05\"),\n",
       "       (466, 4.667e-01, b\" b'2020-09\"), (467, 3.566e-01, b\" b'2020-05\"),\n",
       "       (468, 2.850e-01, b\" b'2020-01\"), (469, 1.005e-01, b\" b'2020-05\"),\n",
       "       (470, 3.531e-01, b\" b'2020-04\"), (471, 4.090e-01, b\" b'2020-02\"),\n",
       "       (472, 9.777e-01, b\" b'2020-03\"), (473, 6.808e-01, b\" b'2020-07\"),\n",
       "       (474, 2.382e-01, b\" b'2020-08\"), (475, 6.421e-01, b\" b'2020-01\"),\n",
       "       (476, 3.724e-01, b\" b'2020-03\"), (477, 6.848e-01, b\" b'2020-05\"),\n",
       "       (478, 3.105e-01, b\" b'2020-03\"), (479, 9.448e-01, b\" b'2020-12\"),\n",
       "       (480, 8.319e-01, b\" b'2020-12\"), (481, 7.173e-01, b\" b'2020-07\"),\n",
       "       (482, 2.601e-01, b\" b'2020-01\"), (483, 1.205e-01, b\" b'2020-04\"),\n",
       "       (484, 8.223e-01, b\" b'2020-08\"), (485, 3.975e-01, b\" b'2020-07\"),\n",
       "       (486, 6.391e-01, b\" b'2020-09\"), (487, 7.889e-01, b\" b'2020-10\"),\n",
       "       (488, 7.659e-01, b\" b'2020-10\"), (489, 3.581e-01, b\" b'2020-04\"),\n",
       "       (490, 6.858e-01, b\" b'2020-06\"), (491, 1.230e-02, b\" b'2020-08\"),\n",
       "       (492, 3.732e-01, b\" b'2020-05\"), (493, 1.806e-01, b\" b'2020-05\"),\n",
       "       (494, 4.547e-01, b\" b'2020-01\"), (495, 4.469e-01, b\" b'2020-09\"),\n",
       "       (496, 2.869e-01, b\" b'2020-09\"), (497, 4.347e-01, b\" b'2020-10\"),\n",
       "       (498, 9.227e-01, b\" b'2020-10\"), (499, 7.085e-01, b\" b'2020-10\"),\n",
       "       (500, 2.309e-01, b\" b'2020-09\"), (501, 9.630e-02, b\" b'2020-01\"),\n",
       "       (502, 1.857e-01, b\" b'2020-05\"), (503, 3.000e-04, b\" b'2020-12\"),\n",
       "       (504, 9.165e-01, b\" b'2020-04\"), (505, 7.546e-01, b\" b'2020-08\"),\n",
       "       (506, 7.695e-01, b\" b'2020-05\"), (507, 9.720e-02, b\" b'2020-12\"),\n",
       "       (508, 3.098e-01, b\" b'2020-06\"), (509, 1.840e-01, b\" b'2020-10\"),\n",
       "       (510, 4.301e-01, b\" b'2020-01\"), (511, 8.255e-01, b\" b'2020-08\"),\n",
       "       (512, 6.129e-01, b\" b'2020-02\"), (513, 5.508e-01, b\" b'2020-01\"),\n",
       "       (514, 6.665e-01, b\" b'2020-08\"), (515, 6.759e-01, b\" b'2020-05\"),\n",
       "       (516, 4.302e-01, b\" b'2020-12\"), (517, 4.503e-01, b\" b'2020-01\"),\n",
       "       (518, 3.800e-02, b\" b'2020-04\"), (519, 6.227e-01, b\" b'2020-10\"),\n",
       "       (520, 3.860e-02, b\" b'2020-06\"), (521, 5.035e-01, b\" b'2020-12\"),\n",
       "       (522, 2.720e-02, b\" b'2020-07\"), (523, 2.626e-01, b\" b'2020-11\"),\n",
       "       (524, 3.112e-01, b\" b'2020-09\"), (525, 3.631e-01, b\" b'2020-02\"),\n",
       "       (526, 5.040e-02, b\" b'2020-03\"), (527, 7.194e-01, b\" b'2020-12\"),\n",
       "       (528, 7.084e-01, b\" b'2020-09\"), (529, 3.619e-01, b\" b'2020-12\"),\n",
       "       (530, 6.568e-01, b\" b'2020-09\"), (531, 4.009e-01, b\" b'2020-03\"),\n",
       "       (532, 2.925e-01, b\" b'2020-01\"), (533, 4.663e-01, b\" b'2020-08\"),\n",
       "       (534, 6.164e-01, b\" b'2020-03\"), (535, 3.763e-01, b\" b'2020-05\"),\n",
       "       (536, 4.631e-01, b\" b'2020-01\"), (537, 6.181e-01, b\" b'2020-12\"),\n",
       "       (538, 8.750e-02, b\" b'2020-10\"), (539, 5.390e-01, b\" b'2020-09\"),\n",
       "       (540, 4.920e-02, b\" b'2020-05\"), (541, 7.983e-01, b\" b'2020-10\"),\n",
       "       (542, 1.679e-01, b\" b'2020-01\"), (543, 3.378e-01, b\" b'2020-07\"),\n",
       "       (544, 6.708e-01, b\" b'2020-01\"), (545, 7.519e-01, b\" b'2020-12\"),\n",
       "       (546, 8.401e-01, b\" b'2020-10\"), (547, 9.738e-01, b\" b'2020-06\"),\n",
       "       (548, 8.143e-01, b\" b'2020-06\"), (549, 6.762e-01, b\" b'2020-10\"),\n",
       "       (550, 9.539e-01, b\" b'2020-03\"), (551, 1.992e-01, b\" b'2020-08\"),\n",
       "       (552, 1.939e-01, b\" b'2020-01\"), (553, 9.509e-01, b\" b'2020-09\"),\n",
       "       (554, 5.114e-01, b\" b'2020-01\"), (555, 7.114e-01, b\" b'2020-01\"),\n",
       "       (556, 3.410e-01, b\" b'2020-12\"), (557, 8.160e-02, b\" b'2020-06\"),\n",
       "       (558, 5.000e-03, b\" b'2020-01\"), (559, 6.460e-01, b\" b'2020-12\"),\n",
       "       (560, 8.900e-01, b\" b'2020-07\"), (561, 6.744e-01, b\" b'2020-03\"),\n",
       "       (562, 2.008e-01, b\" b'2020-09\"), (563, 7.766e-01, b\" b'2020-11\"),\n",
       "       (564, 2.502e-01, b\" b'2020-11\"), (565, 8.951e-01, b\" b'2020-10\"),\n",
       "       (566, 6.666e-01, b\" b'2020-06\"), (567, 7.759e-01, b\" b'2020-01\"),\n",
       "       (568, 7.960e-02, b\" b'2020-10\"), (569, 3.681e-01, b\" b'2020-06\"),\n",
       "       (570, 5.859e-01, b\" b'2020-03\"), (571, 5.465e-01, b\" b'2020-10\"),\n",
       "       (572, 2.031e-01, b\" b'2020-07\"), (573, 5.377e-01, b\" b'2020-06\"),\n",
       "       (574, 9.984e-01, b\" b'2020-04\"), (575, 9.827e-01, b\" b'2020-05\"),\n",
       "       (576, 6.716e-01, b\" b'2020-01\"), (577, 2.369e-01, b\" b'2020-10\"),\n",
       "       (578, 5.710e-02, b\" b'2020-12\"), (579, 6.287e-01, b\" b'2020-05\"),\n",
       "       (580, 2.657e-01, b\" b'2020-07\"), (581, 6.563e-01, b\" b'2020-07\"),\n",
       "       (582, 7.068e-01, b\" b'2020-06\"), (583, 9.533e-01, b\" b'2020-08\"),\n",
       "       (584, 4.662e-01, b\" b'2020-05\"), (585, 2.691e-01, b\" b'2020-12\"),\n",
       "       (586, 9.121e-01, b\" b'2020-08\"), (587, 8.147e-01, b\" b'2020-02\"),\n",
       "       (588, 2.751e-01, b\" b'2020-04\"), (589, 9.724e-01, b\" b'2020-07\"),\n",
       "       (590, 8.323e-01, b\" b'2020-08\"), (591, 4.540e-01, b\" b'2020-08\"),\n",
       "       (592, 4.440e-01, b\" b'2020-09\"), (593, 1.551e-01, b\" b'2020-12\"),\n",
       "       (594, 9.051e-01, b\" b'2020-03\"), (595, 7.848e-01, b\" b'2020-02\"),\n",
       "       (596, 7.769e-01, b\" b'2020-10\"), (597, 7.140e-02, b\" b'2020-04\"),\n",
       "       (598, 2.360e-01, b\" b'2020-11\"), (599, 6.230e-02, b\" b'2020-08\"),\n",
       "       (600, 4.260e-02, b\" b'2020-04\"), (601, 7.340e-02, b\" b'2020-02\"),\n",
       "       (602, 9.684e-01, b\" b'2020-12\"), (603, 2.197e-01, b\" b'2020-10\"),\n",
       "       (604, 4.750e-01, b\" b'2020-04\"), (605, 9.047e-01, b\" b'2020-01\"),\n",
       "       (606, 3.186e-01, b\" b'2020-03\"), (607, 6.454e-01, b\" b'2020-03\"),\n",
       "       (608, 9.412e-01, b\" b'2020-02\"), (609, 6.540e-02, b\" b'2020-11\"),\n",
       "       (610, 8.897e-01, b\" b'2020-10\"), (611, 1.628e-01, b\" b'2020-01\"),\n",
       "       (612, 2.376e-01, b\" b'2020-07\"), (613, 6.102e-01, b\" b'2020-10\"),\n",
       "       (614, 2.920e-01, b\" b'2020-08\"), (615, 4.124e-01, b\" b'2020-04\"),\n",
       "       (616, 6.057e-01, b\" b'2020-04\"), (617, 6.435e-01, b\" b'2020-12\"),\n",
       "       (618, 7.664e-01, b\" b'2020-02\"), (619, 9.585e-01, b\" b'2020-04\"),\n",
       "       (620, 6.749e-01, b\" b'2020-03\"), (621, 2.118e-01, b\" b'2020-12\"),\n",
       "       (622, 9.181e-01, b\" b'2020-11\"), (623, 9.476e-01, b\" b'2020-12\"),\n",
       "       (624, 1.139e-01, b\" b'2020-04\"), (625, 2.142e-01, b\" b'2020-12\"),\n",
       "       (626, 1.745e-01, b\" b'2020-09\"), (627, 8.522e-01, b\" b'2020-05\"),\n",
       "       (628, 6.701e-01, b\" b'2020-08\"), (629, 5.532e-01, b\" b'2020-06\"),\n",
       "       (630, 8.696e-01, b\" b'2020-11\"), (631, 3.328e-01, b\" b'2020-04\"),\n",
       "       (632, 5.429e-01, b\" b'2020-04\"), (633, 4.471e-01, b\" b'2020-01\"),\n",
       "       (634, 2.604e-01, b\" b'2020-04\"), (635, 7.004e-01, b\" b'2020-12\"),\n",
       "       (636, 3.202e-01, b\" b'2020-08\"), (637, 6.568e-01, b\" b'2020-09\"),\n",
       "       (638, 7.310e-01, b\" b'2020-02\"), (639, 3.999e-01, b\" b'2020-06\"),\n",
       "       (640, 9.576e-01, b\" b'2020-08\"), (641, 7.897e-01, b\" b'2020-09\"),\n",
       "       (642, 4.624e-01, b\" b'2020-08\"), (643, 1.588e-01, b\" b'2020-08\"),\n",
       "       (644, 1.143e-01, b\" b'2020-04\"), (645, 3.525e-01, b\" b'2020-11\"),\n",
       "       (646, 8.161e-01, b\" b'2020-04\"), (647, 2.807e-01, b\" b'2020-11\"),\n",
       "       (648, 8.459e-01, b\" b'2020-08\"), (649, 3.174e-01, b\" b'2020-04\"),\n",
       "       (650, 5.187e-01, b\" b'2020-12\"), (651, 7.889e-01, b\" b'2020-08\"),\n",
       "       (652, 6.473e-01, b\" b'2020-06\"), (653, 7.426e-01, b\" b'2020-06\"),\n",
       "       (654, 6.048e-01, b\" b'2020-03\"), (655, 1.890e-01, b\" b'2020-03\"),\n",
       "       (656, 3.960e-01, b\" b'2020-03\"), (657, 2.276e-01, b\" b'2020-04\"),\n",
       "       (658, 5.386e-01, b\" b'2020-11\"), (659, 6.825e-01, b\" b'2020-11\"),\n",
       "       (660, 7.310e-02, b\" b'2020-02\"), (661, 7.780e-01, b\" b'2020-11\"),\n",
       "       (662, 2.562e-01, b\" b'2020-05\"), (663, 8.156e-01, b\" b'2020-01\"),\n",
       "       (664, 2.136e-01, b\" b'2020-05\"), (665, 2.312e-01, b\" b'2020-06\"),\n",
       "       (666, 9.925e-01, b\" b'2020-03\"), (667, 8.256e-01, b\" b'2020-12\"),\n",
       "       (668, 4.165e-01, b\" b'2020-05\"), (669, 9.914e-01, b\" b'2020-11\"),\n",
       "       (670, 9.499e-01, b\" b'2020-07\"), (671, 9.337e-01, b\" b'2020-02\"),\n",
       "       (672, 7.862e-01, b\" b'2020-05\"), (673, 7.008e-01, b\" b'2020-04\"),\n",
       "       (674, 8.842e-01, b\" b'2020-05\"), (675, 1.997e-01, b\" b'2020-08\"),\n",
       "       (676, 5.099e-01, b\" b'2020-11\"), (677, 3.637e-01, b\" b'2020-09\"),\n",
       "       (678, 5.400e-03, b\" b'2020-01\"), (679, 3.982e-01, b\" b'2020-06\"),\n",
       "       (680, 2.288e-01, b\" b'2020-02\"), (681, 1.921e-01, b\" b'2020-08\"),\n",
       "       (682, 3.149e-01, b\" b'2020-07\"), (683, 9.676e-01, b\" b'2020-01\"),\n",
       "       (684, 3.736e-01, b\" b'2020-11\"), (685, 9.400e-01, b\" b'2020-10\"),\n",
       "       (686, 5.685e-01, b\" b'2020-08\"), (687, 3.683e-01, b\" b'2020-11\"),\n",
       "       (688, 1.542e-01, b\" b'2020-08\"), (689, 8.265e-01, b\" b'2020-10\"),\n",
       "       (690, 8.110e-01, b\" b'2020-12\"), (691, 2.017e-01, b\" b'2020-06\"),\n",
       "       (692, 6.674e-01, b\" b'2020-01\"), (693, 9.055e-01, b\" b'2020-10\"),\n",
       "       (694, 6.810e-01, b\" b'2020-06\"), (695, 2.414e-01, b\" b'2020-04\"),\n",
       "       (696, 8.410e-02, b\" b'2020-10\"), (697, 6.328e-01, b\" b'2020-06\"),\n",
       "       (698, 8.152e-01, b\" b'2020-02\"), (699, 7.059e-01, b\" b'2020-04\"),\n",
       "       (700, 9.387e-01, b\" b'2020-01\"), (701, 6.893e-01, b\" b'2020-06\"),\n",
       "       (702, 9.245e-01, b\" b'2020-11\"), (703, 7.490e-01, b\" b'2020-10\"),\n",
       "       (704, 5.226e-01, b\" b'2020-11\"), (705, 9.476e-01, b\" b'2020-09\"),\n",
       "       (706, 2.955e-01, b\" b'2020-01\"), (707, 8.200e-03, b\" b'2020-11\"),\n",
       "       (708, 3.522e-01, b\" b'2020-12\"), (709, 6.075e-01, b\" b'2020-11\"),\n",
       "       (710, 1.781e-01, b\" b'2020-09\"), (711, 1.199e-01, b\" b'2020-11\"),\n",
       "       (712, 1.848e-01, b\" b'2020-04\"), (713, 7.384e-01, b\" b'2020-01\"),\n",
       "       (714, 5.887e-01, b\" b'2020-04\"), (715, 2.151e-01, b\" b'2020-08\"),\n",
       "       (716, 1.849e-01, b\" b'2020-08\"), (717, 2.935e-01, b\" b'2020-03\"),\n",
       "       (718, 7.447e-01, b\" b'2020-05\"), (719, 4.214e-01, b\" b'2020-10\"),\n",
       "       (720, 8.696e-01, b\" b'2020-04\"), (721, 4.790e-02, b\" b'2020-10\"),\n",
       "       (722, 9.458e-01, b\" b'2020-09\"), (723, 3.707e-01, b\" b'2020-01\"),\n",
       "       (724, 1.452e-01, b\" b'2020-04\"), (725, 4.138e-01, b\" b'2020-11\"),\n",
       "       (726, 2.178e-01, b\" b'2020-12\"), (727, 1.496e-01, b\" b'2020-06\"),\n",
       "       (728, 2.089e-01, b\" b'2020-08\"), (729, 9.959e-01, b\" b'2020-06\"),\n",
       "       (730, 8.667e-01, b\" b'2020-07\"), (731, 9.030e-01, b\" b'2020-10\"),\n",
       "       (732, 5.327e-01, b\" b'2020-01\"), (733, 3.207e-01, b\" b'2020-01\"),\n",
       "       (734, 6.176e-01, b\" b'2020-05\"), (735, 7.955e-01, b\" b'2020-05\"),\n",
       "       (736, 5.459e-01, b\" b'2020-01\"), (737, 5.000e-01, b\" b'2020-04\"),\n",
       "       (738, 5.724e-01, b\" b'2020-02\"), (739, 6.288e-01, b\" b'2020-09\"),\n",
       "       (740, 4.380e-01, b\" b'2020-04\"), (741, 3.307e-01, b\" b'2020-10\"),\n",
       "       (742, 8.432e-01, b\" b'2020-06\"), (743, 2.280e-02, b\" b'2020-10\"),\n",
       "       (744, 8.735e-01, b\" b'2020-04\"), (745, 9.644e-01, b\" b'2020-03\"),\n",
       "       (746, 6.140e-02, b\" b'2020-10\"), (747, 6.379e-01, b\" b'2020-09\"),\n",
       "       (748, 1.751e-01, b\" b'2020-03\"), (749, 5.111e-01, b\" b'2020-02\"),\n",
       "       (750, 1.838e-01, b\" b'2020-10\"), (751, 2.634e-01, b\" b'2020-03\"),\n",
       "       (752, 1.060e-01, b\" b'2020-04\"), (753, 7.966e-01, b\" b'2020-03\"),\n",
       "       (754, 5.765e-01, b\" b'2020-07\"), (755, 8.910e-01, b\" b'2020-06\"),\n",
       "       (756, 6.607e-01, b\" b'2020-11\"), (757, 4.812e-01, b\" b'2020-01\"),\n",
       "       (758, 9.450e-02, b\" b'2020-09\"), (759, 6.594e-01, b\" b'2020-03\"),\n",
       "       (760, 8.093e-01, b\" b'2020-05\"), (761, 8.564e-01, b\" b'2020-05\"),\n",
       "       (762, 5.755e-01, b\" b'2020-07\"), (763, 1.171e-01, b\" b'2020-12\"),\n",
       "       (764, 1.380e-01, b\" b'2020-01\"), (765, 2.330e-01, b\" b'2020-11\"),\n",
       "       (766, 1.356e-01, b\" b'2020-03\"), (767, 8.683e-01, b\" b'2020-03\"),\n",
       "       (768, 6.642e-01, b\" b'2020-12\"), (769, 5.726e-01, b\" b'2020-12\"),\n",
       "       (770, 3.849e-01, b\" b'2020-12\"), (771, 5.392e-01, b\" b'2020-02\"),\n",
       "       (772, 9.190e-01, b\" b'2020-10\"), (773, 9.076e-01, b\" b'2020-02\"),\n",
       "       (774, 3.282e-01, b\" b'2020-11\"), (775, 7.725e-01, b\" b'2020-07\"),\n",
       "       (776, 9.139e-01, b\" b'2020-05\"), (777, 9.382e-01, b\" b'2020-10\"),\n",
       "       (778, 6.232e-01, b\" b'2020-03\"), (779, 6.843e-01, b\" b'2020-05\"),\n",
       "       (780, 4.730e-01, b\" b'2020-08\"), (781, 5.620e-02, b\" b'2020-05\"),\n",
       "       (782, 8.272e-01, b\" b'2020-12\"), (783, 1.362e-01, b\" b'2020-02\"),\n",
       "       (784, 5.346e-01, b\" b'2020-12\"), (785, 6.257e-01, b\" b'2020-01\"),\n",
       "       (786, 1.062e-01, b\" b'2020-10\"), (787, 2.187e-01, b\" b'2020-04\"),\n",
       "       (788, 4.710e-02, b\" b'2020-07\"), (789, 2.563e-01, b\" b'2020-07\"),\n",
       "       (790, 6.515e-01, b\" b'2020-09\"), (791, 7.245e-01, b\" b'2020-08\"),\n",
       "       (792, 3.000e-04, b\" b'2020-03\"), (793, 8.922e-01, b\" b'2020-03\"),\n",
       "       (794, 5.800e-03, b\" b'2020-11\"), (795, 8.267e-01, b\" b'2020-09\"),\n",
       "       (796, 1.705e-01, b\" b'2020-08\"), (797, 8.424e-01, b\" b'2020-06\"),\n",
       "       (798, 6.853e-01, b\" b'2020-09\"), (799, 6.327e-01, b\" b'2020-10\"),\n",
       "       (800, 3.590e-02, b\" b'2020-09\"), (801, 1.812e-01, b\" b'2020-08\"),\n",
       "       (802, 7.025e-01, b\" b'2020-04\"), (803, 7.425e-01, b\" b'2020-09\"),\n",
       "       (804, 4.288e-01, b\" b'2020-08\"), (805, 3.340e-01, b\" b'2020-08\"),\n",
       "       (806, 2.583e-01, b\" b'2020-01\"), (807, 8.605e-01, b\" b'2020-06\"),\n",
       "       (808, 9.300e-02, b\" b'2020-09\"), (809, 5.658e-01, b\" b'2020-11\"),\n",
       "       (810, 2.014e-01, b\" b'2020-03\"), (811, 8.988e-01, b\" b'2020-06\"),\n",
       "       (812, 8.002e-01, b\" b'2020-10\"), (813, 4.789e-01, b\" b'2020-02\"),\n",
       "       (814, 6.378e-01, b\" b'2020-03\"), (815, 2.884e-01, b\" b'2020-09\"),\n",
       "       (816, 1.323e-01, b\" b'2020-02\"), (817, 9.811e-01, b\" b'2020-04\"),\n",
       "       (818, 7.611e-01, b\" b'2020-05\"), (819, 9.655e-01, b\" b'2020-01\"),\n",
       "       (820, 5.439e-01, b\" b'2020-05\"), (821, 3.766e-01, b\" b'2020-03\"),\n",
       "       (822, 8.262e-01, b\" b'2020-02\"), (823, 9.767e-01, b\" b'2020-01\"),\n",
       "       (824, 2.979e-01, b\" b'2020-05\"), (825, 4.368e-01, b\" b'2020-05\"),\n",
       "       (826, 4.699e-01, b\" b'2020-08\"), (827, 9.900e-01, b\" b'2020-12\"),\n",
       "       (828, 4.596e-01, b\" b'2020-07\"), (829, 2.439e-01, b\" b'2020-03\"),\n",
       "       (830, 4.726e-01, b\" b'2020-05\"), (831, 5.254e-01, b\" b'2020-06\"),\n",
       "       (832, 2.638e-01, b\" b'2020-01\"), (833, 6.952e-01, b\" b'2020-03\"),\n",
       "       (834, 5.251e-01, b\" b'2020-06\"), (835, 2.670e-01, b\" b'2020-02\"),\n",
       "       (836, 3.155e-01, b\" b'2020-02\"), (837, 6.776e-01, b\" b'2020-08\"),\n",
       "       (838, 2.104e-01, b\" b'2020-09\"), (839, 4.479e-01, b\" b'2020-11\"),\n",
       "       (840, 9.286e-01, b\" b'2020-02\"), (841, 6.777e-01, b\" b'2020-05\"),\n",
       "       (842, 5.697e-01, b\" b'2020-05\"), (843, 1.269e-01, b\" b'2020-10\"),\n",
       "       (844, 4.408e-01, b\" b'2020-02\"), (845, 3.784e-01, b\" b'2020-11\"),\n",
       "       (846, 4.916e-01, b\" b'2020-03\"), (847, 1.926e-01, b\" b'2020-05\"),\n",
       "       (848, 7.666e-01, b\" b'2020-12\"), (849, 8.050e-02, b\" b'2020-12\"),\n",
       "       (850, 8.325e-01, b\" b'2020-09\"), (851, 2.741e-01, b\" b'2020-06\"),\n",
       "       (852, 1.159e-01, b\" b'2020-07\"), (853, 2.951e-01, b\" b'2020-05\"),\n",
       "       (854, 8.985e-01, b\" b'2020-11\"), (855, 2.785e-01, b\" b'2020-12\"),\n",
       "       (856, 4.363e-01, b\" b'2020-11\"), (857, 7.024e-01, b\" b'2020-01\"),\n",
       "       (858, 8.660e-02, b\" b'2020-04\"), (859, 7.390e-02, b\" b'2020-02\"),\n",
       "       (860, 8.214e-01, b\" b'2020-10\"), (861, 4.090e-02, b\" b'2020-02\"),\n",
       "       (862, 9.559e-01, b\" b'2020-05\"), (863, 9.525e-01, b\" b'2020-09\"),\n",
       "       (864, 8.696e-01, b\" b'2020-11\"), (865, 8.290e-01, b\" b'2020-02\"),\n",
       "       (866, 7.906e-01, b\" b'2020-12\"), (867, 8.787e-01, b\" b'2020-09\"),\n",
       "       (868, 7.310e-02, b\" b'2020-02\"), (869, 3.075e-01, b\" b'2020-04\"),\n",
       "       (870, 1.250e-02, b\" b'2020-09\"), (871, 8.148e-01, b\" b'2020-10\"),\n",
       "       (872, 9.754e-01, b\" b'2020-05\"), (873, 5.671e-01, b\" b'2020-04\"),\n",
       "       (874, 7.871e-01, b\" b'2020-01\"), (875, 4.743e-01, b\" b'2020-12\"),\n",
       "       (876, 4.172e-01, b\" b'2020-05\"), (877, 8.006e-01, b\" b'2020-05\"),\n",
       "       (878, 2.225e-01, b\" b'2020-10\"), (879, 2.057e-01, b\" b'2020-03\"),\n",
       "       (880, 8.256e-01, b\" b'2020-03\"), (881, 6.662e-01, b\" b'2020-09\"),\n",
       "       (882, 4.582e-01, b\" b'2020-08\"), (883, 1.125e-01, b\" b'2020-07\"),\n",
       "       (884, 2.236e-01, b\" b'2020-08\"), (885, 5.439e-01, b\" b'2020-09\"),\n",
       "       (886, 9.040e-01, b\" b'2020-08\"), (887, 9.898e-01, b\" b'2020-06\"),\n",
       "       (888, 2.041e-01, b\" b'2020-05\"), (889, 7.903e-01, b\" b'2020-09\"),\n",
       "       (890, 2.913e-01, b\" b'2020-07\"), (891, 1.840e-01, b\" b'2020-02\"),\n",
       "       (892, 6.191e-01, b\" b'2020-04\"), (893, 4.626e-01, b\" b'2020-06\"),\n",
       "       (894, 4.204e-01, b\" b'2020-03\"), (895, 1.521e-01, b\" b'2020-03\"),\n",
       "       (896, 5.781e-01, b\" b'2020-07\"), (897, 3.258e-01, b\" b'2020-11\"),\n",
       "       (898, 3.086e-01, b\" b'2020-08\"), (899, 8.854e-01, b\" b'2020-08\"),\n",
       "       (900, 7.800e-02, b\" b'2020-02\"), (901, 4.000e-04, b\" b'2020-07\"),\n",
       "       (902, 1.590e-02, b\" b'2020-04\"), (903, 4.693e-01, b\" b'2020-01\"),\n",
       "       (904, 7.575e-01, b\" b'2020-06\"), (905, 6.780e-01, b\" b'2020-11\"),\n",
       "       (906, 9.962e-01, b\" b'2020-08\"), (907, 8.861e-01, b\" b'2020-01\"),\n",
       "       (908, 5.561e-01, b\" b'2020-05\"), (909, 9.169e-01, b\" b'2020-07\"),\n",
       "       (910, 4.920e-01, b\" b'2020-06\"), (911, 5.662e-01, b\" b'2020-12\"),\n",
       "       (912, 9.072e-01, b\" b'2020-08\"), (913, 1.925e-01, b\" b'2020-07\"),\n",
       "       (914, 8.053e-01, b\" b'2020-02\"), (915, 7.210e-02, b\" b'2020-05\"),\n",
       "       (916, 9.285e-01, b\" b'2020-09\"), (917, 2.247e-01, b\" b'2020-07\"),\n",
       "       (918, 1.148e-01, b\" b'2020-05\"), (919, 7.542e-01, b\" b'2020-02\"),\n",
       "       (920, 1.138e-01, b\" b'2020-10\"), (921, 5.792e-01, b\" b'2020-04\"),\n",
       "       (922, 2.103e-01, b\" b'2020-09\"), (923, 9.264e-01, b\" b'2020-12\"),\n",
       "       (924, 4.922e-01, b\" b'2020-09\"), (925, 6.805e-01, b\" b'2020-12\"),\n",
       "       (926, 8.276e-01, b\" b'2020-05\"), (927, 9.929e-01, b\" b'2020-04\"),\n",
       "       (928, 2.824e-01, b\" b'2020-03\"), (929, 3.231e-01, b\" b'2020-08\"),\n",
       "       (930, 6.616e-01, b\" b'2020-11\"), (931, 9.840e-01, b\" b'2020-12\"),\n",
       "       (932, 9.307e-01, b\" b'2020-02\"), (933, 1.205e-01, b\" b'2020-07\"),\n",
       "       (934, 7.988e-01, b\" b'2020-01\"), (935, 2.638e-01, b\" b'2020-06\"),\n",
       "       (936, 1.420e-02, b\" b'2020-06\"), (937, 6.080e-02, b\" b'2020-04\"),\n",
       "       (938, 7.845e-01, b\" b'2020-03\"), (939, 1.562e-01, b\" b'2020-08\"),\n",
       "       (940, 3.227e-01, b\" b'2020-01\"), (941, 4.474e-01, b\" b'2020-12\"),\n",
       "       (942, 5.113e-01, b\" b'2020-08\"), (943, 9.360e-01, b\" b'2020-04\"),\n",
       "       (944, 9.597e-01, b\" b'2020-07\"), (945, 4.288e-01, b\" b'2020-10\"),\n",
       "       (946, 8.404e-01, b\" b'2020-01\"), (947, 5.264e-01, b\" b'2020-03\"),\n",
       "       (948, 7.446e-01, b\" b'2020-01\"), (949, 4.780e-01, b\" b'2020-07\"),\n",
       "       (950, 4.000e-03, b\" b'2020-04\"), (951, 1.321e-01, b\" b'2020-04\"),\n",
       "       (952, 7.556e-01, b\" b'2020-01\"), (953, 6.016e-01, b\" b'2020-08\"),\n",
       "       (954, 7.535e-01, b\" b'2020-05\"), (955, 3.412e-01, b\" b'2020-07\"),\n",
       "       (956, 6.273e-01, b\" b'2020-07\"), (957, 4.821e-01, b\" b'2020-06\"),\n",
       "       (958, 5.500e-02, b\" b'2020-11\"), (959, 8.835e-01, b\" b'2020-04\"),\n",
       "       (960, 8.880e-01, b\" b'2020-05\"), (961, 2.938e-01, b\" b'2020-03\"),\n",
       "       (962, 2.670e-01, b\" b'2020-10\"), (963, 9.637e-01, b\" b'2020-02\"),\n",
       "       (964, 9.210e-01, b\" b'2020-12\"), (965, 6.389e-01, b\" b'2020-11\"),\n",
       "       (966, 1.068e-01, b\" b'2020-01\"), (967, 3.442e-01, b\" b'2020-05\"),\n",
       "       (968, 6.560e-02, b\" b'2020-05\"), (969, 7.000e-02, b\" b'2020-01\"),\n",
       "       (970, 6.847e-01, b\" b'2020-01\"), (971, 9.825e-01, b\" b'2020-06\"),\n",
       "       (972, 9.434e-01, b\" b'2020-06\"), (973, 5.600e-01, b\" b'2020-05\"),\n",
       "       (974, 8.859e-01, b\" b'2020-10\"), (975, 1.740e-02, b\" b'2020-03\"),\n",
       "       (976, 3.956e-01, b\" b'2020-01\"), (977, 5.805e-01, b\" b'2020-12\"),\n",
       "       (978, 3.717e-01, b\" b'2020-12\"), (979, 9.055e-01, b\" b'2020-01\"),\n",
       "       (980, 8.911e-01, b\" b'2020-12\"), (981, 3.271e-01, b\" b'2020-03\"),\n",
       "       (982, 2.612e-01, b\" b'2020-11\"), (983, 6.843e-01, b\" b'2020-04\"),\n",
       "       (984, 3.876e-01, b\" b'2020-01\"), (985, 6.886e-01, b\" b'2020-08\"),\n",
       "       (986, 2.989e-01, b\" b'2020-02\"), (987, 5.642e-01, b\" b'2020-03\"),\n",
       "       (988, 3.422e-01, b\" b'2020-02\"), (989, 1.126e-01, b\" b'2020-05\"),\n",
       "       (990, 3.030e-01, b\" b'2020-07\"), (991, 5.440e-02, b\" b'2020-05\"),\n",
       "       (992, 9.784e-01, b\" b'2020-05\"), (993, 1.710e-01, b\" b'2020-10\"),\n",
       "       (994, 1.095e-01, b\" b'2020-11\"), (995, 9.056e-01, b\" b'2020-09\"),\n",
       "       (996, 9.630e-01, b\" b'2020-05\"), (997, 7.315e-01, b\" b'2020-10\"),\n",
       "       (998, 4.008e-01, b\" b'2020-01\"), (999, 3.294e-01, b\" b'2020-01\")],\n",
       "      dtype=[('f0', '<i4'), ('f1', '<f4'), ('f2', 'S10')])"
      ]
     },
     "execution_count": 195,
     "metadata": {},
     "output_type": "execute_result"
    }
   ],
   "source": [
    "x"
   ]
  },
  {
   "cell_type": "code",
   "execution_count": 196,
   "metadata": {},
   "outputs": [
    {
     "data": {
      "text/plain": [
       "dtype([('f0', '<i4'), ('f1', '<f4'), ('f2', 'S10')])"
      ]
     },
     "execution_count": 196,
     "metadata": {},
     "output_type": "execute_result"
    }
   ],
   "source": [
    "x.dtype"
   ]
  },
  {
   "cell_type": "code",
   "execution_count": 197,
   "metadata": {},
   "outputs": [
    {
     "data": {
      "text/plain": [
       "array([(  0, 3.363e-01, b\" b'2020-01\"), (  1, 3.415e-01, b\" b'2020-04\"),\n",
       "       (  2, 4.200e-02, b\" b'2020-02\"), (  3, 2.433e-01, b\" b'2020-09\"),\n",
       "       (  4, 2.100e-03, b\" b'2020-07\"), (  5, 1.264e-01, b\" b'2020-05\"),\n",
       "       (  6, 2.657e-01, b\" b'2020-04\"), (  7, 1.952e-01, b\" b'2020-06\"),\n",
       "       (  8, 7.788e-01, b\" b'2020-11\"), (  9, 9.068e-01, b\" b'2020-06\"),\n",
       "       ( 10, 3.172e-01, b\" b'2020-07\"), ( 11, 5.982e-01, b\" b'2020-04\"),\n",
       "       ( 12, 1.163e-01, b\" b'2020-11\"), ( 13, 3.502e-01, b\" b'2020-11\"),\n",
       "       ( 14, 7.134e-01, b\" b'2020-08\"), ( 15, 7.919e-01, b\" b'2020-02\"),\n",
       "       ( 16, 2.879e-01, b\" b'2020-04\"), ( 17, 6.707e-01, b\" b'2020-05\"),\n",
       "       ( 18, 1.695e-01, b\" b'2020-08\"), ( 19, 5.240e-01, b\" b'2020-01\"),\n",
       "       ( 20, 4.419e-01, b\" b'2020-12\"), ( 21, 7.211e-01, b\" b'2020-10\"),\n",
       "       ( 22, 2.294e-01, b\" b'2020-07\"), ( 23, 4.031e-01, b\" b'2020-02\"),\n",
       "       ( 24, 9.990e-01, b\" b'2020-02\"), ( 25, 7.969e-01, b\" b'2020-11\"),\n",
       "       ( 26, 6.301e-01, b\" b'2020-10\"), ( 27, 6.550e-02, b\" b'2020-12\"),\n",
       "       ( 28, 7.114e-01, b\" b'2020-11\"), ( 29, 2.970e-02, b\" b'2020-11\"),\n",
       "       ( 30, 8.484e-01, b\" b'2020-05\"), ( 31, 4.147e-01, b\" b'2020-12\"),\n",
       "       ( 32, 4.576e-01, b\" b'2020-03\"), ( 33, 1.332e-01, b\" b'2020-08\"),\n",
       "       ( 34, 3.770e-02, b\" b'2020-06\"), ( 35, 4.821e-01, b\" b'2020-09\"),\n",
       "       ( 36, 6.720e-02, b\" b'2020-05\"), ( 37, 4.543e-01, b\" b'2020-03\"),\n",
       "       ( 38, 1.265e-01, b\" b'2020-12\"), ( 39, 5.557e-01, b\" b'2020-10\"),\n",
       "       ( 40, 8.844e-01, b\" b'2020-07\"), ( 41, 9.657e-01, b\" b'2020-07\"),\n",
       "       ( 42, 1.979e-01, b\" b'2020-04\"), ( 43, 4.587e-01, b\" b'2020-07\"),\n",
       "       ( 44, 3.784e-01, b\" b'2020-09\"), ( 45, 5.301e-01, b\" b'2020-07\"),\n",
       "       ( 46, 3.074e-01, b\" b'2020-06\"), ( 47, 4.586e-01, b\" b'2020-03\"),\n",
       "       ( 48, 7.657e-01, b\" b'2020-07\"), ( 49, 8.210e-02, b\" b'2020-07\"),\n",
       "       ( 50, 2.001e-01, b\" b'2020-12\"), ( 51, 1.189e-01, b\" b'2020-04\"),\n",
       "       ( 52, 7.459e-01, b\" b'2020-06\"), ( 53, 7.912e-01, b\" b'2020-04\"),\n",
       "       ( 54, 4.748e-01, b\" b'2020-03\"), ( 55, 8.386e-01, b\" b'2020-08\"),\n",
       "       ( 56, 9.645e-01, b\" b'2020-11\"), ( 57, 5.870e-01, b\" b'2020-06\"),\n",
       "       ( 58, 2.687e-01, b\" b'2020-01\"), ( 59, 4.361e-01, b\" b'2020-11\"),\n",
       "       ( 60, 7.103e-01, b\" b'2020-06\"), ( 61, 4.694e-01, b\" b'2020-05\"),\n",
       "       ( 62, 1.761e-01, b\" b'2020-11\"), ( 63, 9.652e-01, b\" b'2020-03\"),\n",
       "       ( 64, 2.303e-01, b\" b'2020-07\"), ( 65, 7.820e-01, b\" b'2020-03\"),\n",
       "       ( 66, 2.911e-01, b\" b'2020-12\"), ( 67, 6.821e-01, b\" b'2020-02\"),\n",
       "       ( 68, 6.244e-01, b\" b'2020-03\"), ( 69, 3.356e-01, b\" b'2020-10\"),\n",
       "       ( 70, 4.531e-01, b\" b'2020-04\"), ( 71, 8.893e-01, b\" b'2020-02\"),\n",
       "       ( 72, 8.851e-01, b\" b'2020-06\"), ( 73, 1.016e-01, b\" b'2020-04\"),\n",
       "       ( 74, 1.529e-01, b\" b'2020-12\"), ( 75, 9.499e-01, b\" b'2020-09\"),\n",
       "       ( 76, 9.790e-02, b\" b'2020-09\"), ( 77, 9.973e-01, b\" b'2020-02\"),\n",
       "       ( 78, 7.066e-01, b\" b'2020-09\"), ( 79, 8.790e-01, b\" b'2020-05\"),\n",
       "       ( 80, 7.763e-01, b\" b'2020-04\"), ( 81, 6.345e-01, b\" b'2020-11\"),\n",
       "       ( 82, 6.864e-01, b\" b'2020-08\"), ( 83, 8.577e-01, b\" b'2020-06\"),\n",
       "       ( 84, 5.235e-01, b\" b'2020-02\"), ( 85, 1.981e-01, b\" b'2020-11\"),\n",
       "       ( 86, 6.720e-02, b\" b'2020-09\"), ( 87, 6.129e-01, b\" b'2020-04\"),\n",
       "       ( 88, 9.913e-01, b\" b'2020-06\"), ( 89, 1.541e-01, b\" b'2020-02\"),\n",
       "       ( 90, 5.992e-01, b\" b'2020-05\"), ( 91, 4.152e-01, b\" b'2020-06\"),\n",
       "       ( 92, 5.551e-01, b\" b'2020-08\"), ( 93, 1.592e-01, b\" b'2020-05\"),\n",
       "       ( 94, 7.597e-01, b\" b'2020-11\"), ( 95, 4.589e-01, b\" b'2020-07\"),\n",
       "       ( 96, 8.302e-01, b\" b'2020-05\"), ( 97, 5.815e-01, b\" b'2020-08\"),\n",
       "       ( 98, 3.895e-01, b\" b'2020-03\"), ( 99, 5.743e-01, b\" b'2020-06\"),\n",
       "       (100, 6.560e-01, b\" b'2020-09\"), (101, 4.271e-01, b\" b'2020-01\"),\n",
       "       (102, 9.340e-01, b\" b'2020-01\"), (103, 8.288e-01, b\" b'2020-01\"),\n",
       "       (104, 5.540e-02, b\" b'2020-03\"), (105, 7.700e-03, b\" b'2020-03\"),\n",
       "       (106, 9.194e-01, b\" b'2020-07\"), (107, 1.233e-01, b\" b'2020-10\"),\n",
       "       (108, 8.705e-01, b\" b'2020-07\"), (109, 5.607e-01, b\" b'2020-02\"),\n",
       "       (110, 1.045e-01, b\" b'2020-07\"), (111, 8.642e-01, b\" b'2020-08\"),\n",
       "       (112, 1.196e-01, b\" b'2020-03\"), (113, 9.068e-01, b\" b'2020-02\"),\n",
       "       (114, 7.760e-01, b\" b'2020-11\"), (115, 9.482e-01, b\" b'2020-04\"),\n",
       "       (116, 5.275e-01, b\" b'2020-12\"), (117, 6.364e-01, b\" b'2020-07\"),\n",
       "       (118, 3.176e-01, b\" b'2020-09\"), (119, 6.092e-01, b\" b'2020-07\"),\n",
       "       (120, 6.745e-01, b\" b'2020-06\"), (121, 4.667e-01, b\" b'2020-05\"),\n",
       "       (122, 8.003e-01, b\" b'2020-06\"), (123, 6.882e-01, b\" b'2020-06\"),\n",
       "       (124, 1.113e-01, b\" b'2020-04\"), (125, 5.220e-02, b\" b'2020-08\"),\n",
       "       (126, 8.463e-01, b\" b'2020-09\"), (127, 1.360e-02, b\" b'2020-10\"),\n",
       "       (128, 9.656e-01, b\" b'2020-04\"), (129, 6.510e-01, b\" b'2020-04\"),\n",
       "       (130, 3.444e-01, b\" b'2020-04\"), (131, 8.124e-01, b\" b'2020-03\"),\n",
       "       (132, 5.221e-01, b\" b'2020-07\"), (133, 2.648e-01, b\" b'2020-11\"),\n",
       "       (134, 3.481e-01, b\" b'2020-05\"), (135, 5.782e-01, b\" b'2020-12\"),\n",
       "       (136, 7.724e-01, b\" b'2020-10\"), (137, 8.200e-03, b\" b'2020-11\"),\n",
       "       (138, 4.283e-01, b\" b'2020-10\"), (139, 2.797e-01, b\" b'2020-10\"),\n",
       "       (140, 4.510e-02, b\" b'2020-07\"), (141, 2.153e-01, b\" b'2020-10\"),\n",
       "       (142, 7.422e-01, b\" b'2020-10\"), (143, 9.106e-01, b\" b'2020-05\"),\n",
       "       (144, 2.318e-01, b\" b'2020-07\"), (145, 7.393e-01, b\" b'2020-01\"),\n",
       "       (146, 2.205e-01, b\" b'2020-09\"), (147, 6.959e-01, b\" b'2020-10\"),\n",
       "       (148, 9.288e-01, b\" b'2020-10\"), (149, 3.350e-02, b\" b'2020-04\"),\n",
       "       (150, 2.839e-01, b\" b'2020-06\"), (151, 2.061e-01, b\" b'2020-02\"),\n",
       "       (152, 9.180e-01, b\" b'2020-11\"), (153, 6.079e-01, b\" b'2020-08\"),\n",
       "       (154, 9.264e-01, b\" b'2020-11\"), (155, 5.927e-01, b\" b'2020-10\"),\n",
       "       (156, 7.793e-01, b\" b'2020-10\"), (157, 6.128e-01, b\" b'2020-02\"),\n",
       "       (158, 6.720e-01, b\" b'2020-06\"), (159, 3.018e-01, b\" b'2020-09\"),\n",
       "       (160, 4.917e-01, b\" b'2020-06\"), (161, 6.047e-01, b\" b'2020-07\"),\n",
       "       (162, 5.548e-01, b\" b'2020-08\"), (163, 1.298e-01, b\" b'2020-07\"),\n",
       "       (164, 5.031e-01, b\" b'2020-01\"), (165, 8.438e-01, b\" b'2020-11\"),\n",
       "       (166, 7.054e-01, b\" b'2020-08\"), (167, 5.555e-01, b\" b'2020-09\"),\n",
       "       (168, 5.771e-01, b\" b'2020-01\"), (169, 9.441e-01, b\" b'2020-09\"),\n",
       "       (170, 4.177e-01, b\" b'2020-01\"), (171, 6.759e-01, b\" b'2020-03\"),\n",
       "       (172, 8.040e-02, b\" b'2020-03\"), (173, 9.164e-01, b\" b'2020-04\"),\n",
       "       (174, 9.594e-01, b\" b'2020-02\"), (175, 8.860e-02, b\" b'2020-07\"),\n",
       "       (176, 6.234e-01, b\" b'2020-06\"), (177, 6.380e-02, b\" b'2020-08\"),\n",
       "       (178, 6.268e-01, b\" b'2020-09\"), (179, 2.469e-01, b\" b'2020-03\"),\n",
       "       (180, 6.823e-01, b\" b'2020-10\"), (181, 3.205e-01, b\" b'2020-03\"),\n",
       "       (182, 1.137e-01, b\" b'2020-08\"), (183, 6.872e-01, b\" b'2020-08\"),\n",
       "       (184, 6.590e-01, b\" b'2020-03\"), (185, 9.942e-01, b\" b'2020-10\"),\n",
       "       (186, 5.579e-01, b\" b'2020-01\"), (187, 1.680e-02, b\" b'2020-05\"),\n",
       "       (188, 3.542e-01, b\" b'2020-04\"), (189, 7.954e-01, b\" b'2020-01\"),\n",
       "       (190, 3.325e-01, b\" b'2020-12\"), (191, 6.380e-01, b\" b'2020-10\"),\n",
       "       (192, 5.354e-01, b\" b'2020-08\"), (193, 3.883e-01, b\" b'2020-07\"),\n",
       "       (194, 3.077e-01, b\" b'2020-11\"), (195, 7.796e-01, b\" b'2020-10\"),\n",
       "       (196, 8.800e-03, b\" b'2020-07\"), (197, 3.810e-01, b\" b'2020-10\"),\n",
       "       (198, 1.672e-01, b\" b'2020-11\"), (199, 2.423e-01, b\" b'2020-07\"),\n",
       "       (200, 2.349e-01, b\" b'2020-07\"), (201, 6.807e-01, b\" b'2020-01\"),\n",
       "       (202, 9.341e-01, b\" b'2020-04\"), (203, 3.965e-01, b\" b'2020-01\"),\n",
       "       (204, 2.455e-01, b\" b'2020-11\"), (205, 1.212e-01, b\" b'2020-09\"),\n",
       "       (206, 7.837e-01, b\" b'2020-06\"), (207, 3.181e-01, b\" b'2020-03\"),\n",
       "       (208, 9.622e-01, b\" b'2020-05\"), (209, 4.375e-01, b\" b'2020-07\"),\n",
       "       (210, 7.853e-01, b\" b'2020-01\"), (211, 6.421e-01, b\" b'2020-08\"),\n",
       "       (212, 8.272e-01, b\" b'2020-07\"), (213, 1.003e-01, b\" b'2020-05\"),\n",
       "       (214, 3.141e-01, b\" b'2020-09\"), (215, 3.614e-01, b\" b'2020-09\"),\n",
       "       (216, 8.176e-01, b\" b'2020-04\"), (217, 7.967e-01, b\" b'2020-01\"),\n",
       "       (218, 4.890e-02, b\" b'2020-11\"), (219, 6.333e-01, b\" b'2020-04\"),\n",
       "       (220, 6.442e-01, b\" b'2020-08\"), (221, 7.230e-02, b\" b'2020-10\"),\n",
       "       (222, 8.234e-01, b\" b'2020-07\"), (223, 5.110e-02, b\" b'2020-04\"),\n",
       "       (224, 5.044e-01, b\" b'2020-10\"), (225, 8.635e-01, b\" b'2020-04\"),\n",
       "       (226, 3.310e-01, b\" b'2020-03\"), (227, 9.892e-01, b\" b'2020-05\"),\n",
       "       (228, 2.239e-01, b\" b'2020-02\"), (229, 5.921e-01, b\" b'2020-02\"),\n",
       "       (230, 1.070e-02, b\" b'2020-04\"), (231, 7.345e-01, b\" b'2020-05\"),\n",
       "       (232, 6.380e-01, b\" b'2020-04\"), (233, 2.212e-01, b\" b'2020-01\"),\n",
       "       (234, 5.349e-01, b\" b'2020-10\"), (235, 1.891e-01, b\" b'2020-03\"),\n",
       "       (236, 5.746e-01, b\" b'2020-11\"), (237, 3.797e-01, b\" b'2020-06\"),\n",
       "       (238, 5.199e-01, b\" b'2020-12\"), (239, 4.826e-01, b\" b'2020-11\"),\n",
       "       (240, 5.202e-01, b\" b'2020-05\"), (241, 6.375e-01, b\" b'2020-05\"),\n",
       "       (242, 7.559e-01, b\" b'2020-07\"), (243, 6.328e-01, b\" b'2020-08\"),\n",
       "       (244, 4.445e-01, b\" b'2020-06\"), (245, 2.649e-01, b\" b'2020-04\"),\n",
       "       (246, 9.212e-01, b\" b'2020-02\"), (247, 5.408e-01, b\" b'2020-11\"),\n",
       "       (248, 5.398e-01, b\" b'2020-06\"), (249, 5.105e-01, b\" b'2020-07\"),\n",
       "       (250, 5.180e-02, b\" b'2020-03\"), (251, 2.886e-01, b\" b'2020-03\"),\n",
       "       (252, 8.743e-01, b\" b'2020-06\"), (253, 5.122e-01, b\" b'2020-09\"),\n",
       "       (254, 8.820e-02, b\" b'2020-01\"), (255, 5.818e-01, b\" b'2020-02\"),\n",
       "       (256, 9.256e-01, b\" b'2020-07\"), (257, 8.874e-01, b\" b'2020-02\"),\n",
       "       (258, 7.436e-01, b\" b'2020-01\"), (259, 5.776e-01, b\" b'2020-05\"),\n",
       "       (260, 4.461e-01, b\" b'2020-03\"), (261, 1.835e-01, b\" b'2020-01\"),\n",
       "       (262, 6.335e-01, b\" b'2020-11\"), (263, 5.218e-01, b\" b'2020-02\"),\n",
       "       (264, 1.225e-01, b\" b'2020-12\"), (265, 2.762e-01, b\" b'2020-02\"),\n",
       "       (266, 6.413e-01, b\" b'2020-09\"), (267, 4.087e-01, b\" b'2020-07\"),\n",
       "       (268, 6.384e-01, b\" b'2020-07\"), (269, 7.382e-01, b\" b'2020-11\"),\n",
       "       (270, 3.640e-01, b\" b'2020-02\"), (271, 6.552e-01, b\" b'2020-01\"),\n",
       "       (272, 7.537e-01, b\" b'2020-06\"), (273, 8.464e-01, b\" b'2020-06\"),\n",
       "       (274, 7.897e-01, b\" b'2020-08\"), (275, 6.620e-02, b\" b'2020-05\"),\n",
       "       (276, 9.841e-01, b\" b'2020-04\"), (277, 3.925e-01, b\" b'2020-01\"),\n",
       "       (278, 2.600e-03, b\" b'2020-11\"), (279, 1.859e-01, b\" b'2020-01\"),\n",
       "       (280, 4.225e-01, b\" b'2020-02\"), (281, 8.160e-02, b\" b'2020-07\"),\n",
       "       (282, 4.880e-01, b\" b'2020-10\"), (283, 1.432e-01, b\" b'2020-06\"),\n",
       "       (284, 9.955e-01, b\" b'2020-04\"), (285, 5.597e-01, b\" b'2020-06\"),\n",
       "       (286, 6.350e-02, b\" b'2020-08\"), (287, 9.385e-01, b\" b'2020-08\"),\n",
       "       (288, 8.110e-01, b\" b'2020-06\"), (289, 3.646e-01, b\" b'2020-05\"),\n",
       "       (290, 1.138e-01, b\" b'2020-06\"), (291, 7.604e-01, b\" b'2020-11\"),\n",
       "       (292, 4.900e-02, b\" b'2020-07\"), (293, 3.876e-01, b\" b'2020-11\"),\n",
       "       (294, 4.976e-01, b\" b'2020-05\"), (295, 1.528e-01, b\" b'2020-12\"),\n",
       "       (296, 8.986e-01, b\" b'2020-11\"), (297, 3.985e-01, b\" b'2020-09\"),\n",
       "       (298, 8.688e-01, b\" b'2020-06\"), (299, 8.032e-01, b\" b'2020-07\"),\n",
       "       (300, 4.181e-01, b\" b'2020-10\"), (301, 3.843e-01, b\" b'2020-07\"),\n",
       "       (302, 7.383e-01, b\" b'2020-07\"), (303, 3.267e-01, b\" b'2020-05\"),\n",
       "       (304, 7.468e-01, b\" b'2020-10\"), (305, 8.708e-01, b\" b'2020-02\"),\n",
       "       (306, 7.668e-01, b\" b'2020-06\"), (307, 8.601e-01, b\" b'2020-04\"),\n",
       "       (308, 2.377e-01, b\" b'2020-09\"), (309, 4.540e-02, b\" b'2020-08\"),\n",
       "       (310, 4.388e-01, b\" b'2020-03\"), (311, 4.238e-01, b\" b'2020-04\"),\n",
       "       (312, 1.578e-01, b\" b'2020-08\"), (313, 3.870e-01, b\" b'2020-05\"),\n",
       "       (314, 9.342e-01, b\" b'2020-10\"), (315, 3.847e-01, b\" b'2020-06\"),\n",
       "       (316, 8.388e-01, b\" b'2020-04\"), (317, 3.017e-01, b\" b'2020-01\"),\n",
       "       (318, 7.119e-01, b\" b'2020-10\"), (319, 5.915e-01, b\" b'2020-11\"),\n",
       "       (320, 9.322e-01, b\" b'2020-10\"), (321, 2.391e-01, b\" b'2020-01\"),\n",
       "       (322, 8.455e-01, b\" b'2020-05\"), (323, 6.808e-01, b\" b'2020-06\"),\n",
       "       (324, 9.162e-01, b\" b'2020-11\"), (325, 1.553e-01, b\" b'2020-12\"),\n",
       "       (326, 1.989e-01, b\" b'2020-01\"), (327, 9.296e-01, b\" b'2020-08\"),\n",
       "       (328, 4.618e-01, b\" b'2020-09\"), (329, 1.822e-01, b\" b'2020-10\"),\n",
       "       (330, 9.794e-01, b\" b'2020-10\"), (331, 2.593e-01, b\" b'2020-08\"),\n",
       "       (332, 5.302e-01, b\" b'2020-09\"), (333, 4.437e-01, b\" b'2020-07\"),\n",
       "       (334, 7.527e-01, b\" b'2020-08\"), (335, 3.036e-01, b\" b'2020-11\"),\n",
       "       (336, 7.270e-02, b\" b'2020-06\"), (337, 5.340e-01, b\" b'2020-05\"),\n",
       "       (338, 3.713e-01, b\" b'2020-06\"), (339, 1.012e-01, b\" b'2020-07\"),\n",
       "       (340, 5.623e-01, b\" b'2020-03\"), (341, 6.372e-01, b\" b'2020-02\"),\n",
       "       (342, 2.221e-01, b\" b'2020-01\"), (343, 9.212e-01, b\" b'2020-04\"),\n",
       "       (344, 4.111e-01, b\" b'2020-02\"), (345, 6.072e-01, b\" b'2020-07\"),\n",
       "       (346, 4.611e-01, b\" b'2020-07\"), (347, 8.027e-01, b\" b'2020-04\"),\n",
       "       (348, 3.425e-01, b\" b'2020-12\"), (349, 3.748e-01, b\" b'2020-04\"),\n",
       "       (350, 5.233e-01, b\" b'2020-06\"), (351, 3.780e-02, b\" b'2020-07\"),\n",
       "       (352, 8.802e-01, b\" b'2020-11\"), (353, 6.418e-01, b\" b'2020-10\"),\n",
       "       (354, 3.172e-01, b\" b'2020-02\"), (355, 6.908e-01, b\" b'2020-01\"),\n",
       "       (356, 1.703e-01, b\" b'2020-04\"), (357, 4.090e-01, b\" b'2020-01\"),\n",
       "       (358, 5.834e-01, b\" b'2020-05\"), (359, 5.652e-01, b\" b'2020-06\"),\n",
       "       (360, 7.847e-01, b\" b'2020-11\"), (361, 3.378e-01, b\" b'2020-07\"),\n",
       "       (362, 2.516e-01, b\" b'2020-12\"), (363, 6.136e-01, b\" b'2020-11\"),\n",
       "       (364, 5.270e-02, b\" b'2020-10\"), (365, 8.831e-01, b\" b'2020-06\"),\n",
       "       (366, 2.434e-01, b\" b'2020-05\"), (367, 2.818e-01, b\" b'2020-03\"),\n",
       "       (368, 3.153e-01, b\" b'2020-07\"), (369, 6.273e-01, b\" b'2020-05\"),\n",
       "       (370, 6.069e-01, b\" b'2020-10\"), (371, 8.038e-01, b\" b'2020-05\"),\n",
       "       (372, 8.532e-01, b\" b'2020-05\"), (373, 9.393e-01, b\" b'2020-08\"),\n",
       "       (374, 4.775e-01, b\" b'2020-07\"), (375, 6.940e-02, b\" b'2020-05\"),\n",
       "       (376, 5.007e-01, b\" b'2020-12\"), (377, 9.915e-01, b\" b'2020-12\"),\n",
       "       (378, 8.322e-01, b\" b'2020-07\"), (379, 6.053e-01, b\" b'2020-06\"),\n",
       "       (380, 7.110e-02, b\" b'2020-01\"), (381, 9.995e-01, b\" b'2020-05\"),\n",
       "       (382, 7.724e-01, b\" b'2020-02\"), (383, 8.985e-01, b\" b'2020-03\"),\n",
       "       (384, 6.967e-01, b\" b'2020-06\"), (385, 6.592e-01, b\" b'2020-03\"),\n",
       "       (386, 4.139e-01, b\" b'2020-01\"), (387, 7.781e-01, b\" b'2020-03\"),\n",
       "       (388, 8.891e-01, b\" b'2020-12\"), (389, 2.101e-01, b\" b'2020-11\"),\n",
       "       (390, 2.584e-01, b\" b'2020-05\"), (391, 7.983e-01, b\" b'2020-05\"),\n",
       "       (392, 3.112e-01, b\" b'2020-04\"), (393, 7.319e-01, b\" b'2020-08\"),\n",
       "       (394, 9.275e-01, b\" b'2020-10\"), (395, 5.745e-01, b\" b'2020-02\"),\n",
       "       (396, 9.820e-02, b\" b'2020-10\"), (397, 5.033e-01, b\" b'2020-08\"),\n",
       "       (398, 1.459e-01, b\" b'2020-08\"), (399, 9.827e-01, b\" b'2020-05\"),\n",
       "       (400, 3.693e-01, b\" b'2020-04\"), (401, 4.380e-01, b\" b'2020-05\"),\n",
       "       (402, 4.023e-01, b\" b'2020-03\"), (403, 9.981e-01, b\" b'2020-12\"),\n",
       "       (404, 1.523e-01, b\" b'2020-05\"), (405, 1.055e-01, b\" b'2020-08\"),\n",
       "       (406, 7.199e-01, b\" b'2020-10\"), (407, 6.400e-02, b\" b'2020-06\"),\n",
       "       (408, 5.274e-01, b\" b'2020-04\"), (409, 4.192e-01, b\" b'2020-03\"),\n",
       "       (410, 9.803e-01, b\" b'2020-03\"), (411, 7.040e-01, b\" b'2020-11\"),\n",
       "       (412, 1.467e-01, b\" b'2020-07\"), (413, 5.475e-01, b\" b'2020-09\"),\n",
       "       (414, 8.760e-01, b\" b'2020-05\"), (415, 2.176e-01, b\" b'2020-01\"),\n",
       "       (416, 1.102e-01, b\" b'2020-10\"), (417, 8.544e-01, b\" b'2020-01\"),\n",
       "       (418, 8.463e-01, b\" b'2020-05\"), (419, 1.032e-01, b\" b'2020-11\"),\n",
       "       (420, 8.665e-01, b\" b'2020-06\"), (421, 9.801e-01, b\" b'2020-08\"),\n",
       "       (422, 6.048e-01, b\" b'2020-06\"), (423, 2.997e-01, b\" b'2020-08\"),\n",
       "       (424, 1.192e-01, b\" b'2020-11\"), (425, 4.352e-01, b\" b'2020-03\"),\n",
       "       (426, 2.774e-01, b\" b'2020-04\"), (427, 6.866e-01, b\" b'2020-11\"),\n",
       "       (428, 4.692e-01, b\" b'2020-12\"), (429, 9.573e-01, b\" b'2020-10\"),\n",
       "       (430, 3.439e-01, b\" b'2020-02\"), (431, 9.300e-03, b\" b'2020-07\"),\n",
       "       (432, 8.650e-02, b\" b'2020-02\"), (433, 9.334e-01, b\" b'2020-09\"),\n",
       "       (434, 3.483e-01, b\" b'2020-09\"), (435, 6.960e-02, b\" b'2020-12\"),\n",
       "       (436, 9.342e-01, b\" b'2020-04\"), (437, 1.100e-03, b\" b'2020-04\"),\n",
       "       (438, 8.370e-01, b\" b'2020-05\"), (439, 5.760e-01, b\" b'2020-12\"),\n",
       "       (440, 6.650e-02, b\" b'2020-02\"), (441, 7.235e-01, b\" b'2020-04\"),\n",
       "       (442, 4.801e-01, b\" b'2020-09\"), (443, 7.438e-01, b\" b'2020-04\"),\n",
       "       (444, 4.923e-01, b\" b'2020-02\"), (445, 5.420e-02, b\" b'2020-07\"),\n",
       "       (446, 5.711e-01, b\" b'2020-02\"), (447, 4.056e-01, b\" b'2020-06\"),\n",
       "       (448, 6.037e-01, b\" b'2020-09\"), (449, 4.290e-01, b\" b'2020-09\"),\n",
       "       (450, 5.300e-03, b\" b'2020-12\"), (451, 7.755e-01, b\" b'2020-05\"),\n",
       "       (452, 8.236e-01, b\" b'2020-01\"), (453, 5.656e-01, b\" b'2020-04\"),\n",
       "       (454, 7.988e-01, b\" b'2020-12\"), (455, 4.418e-01, b\" b'2020-11\"),\n",
       "       (456, 4.940e-01, b\" b'2020-08\"), (457, 4.131e-01, b\" b'2020-02\"),\n",
       "       (458, 6.889e-01, b\" b'2020-01\"), (459, 2.151e-01, b\" b'2020-04\"),\n",
       "       (460, 2.200e-02, b\" b'2020-08\"), (461, 4.687e-01, b\" b'2020-06\"),\n",
       "       (462, 2.752e-01, b\" b'2020-11\"), (463, 8.778e-01, b\" b'2020-10\"),\n",
       "       (464, 3.350e-01, b\" b'2020-12\"), (465, 7.840e-02, b\" b'2020-05\"),\n",
       "       (466, 4.667e-01, b\" b'2020-09\"), (467, 3.566e-01, b\" b'2020-05\"),\n",
       "       (468, 2.850e-01, b\" b'2020-01\"), (469, 1.005e-01, b\" b'2020-05\"),\n",
       "       (470, 3.531e-01, b\" b'2020-04\"), (471, 4.090e-01, b\" b'2020-02\"),\n",
       "       (472, 9.777e-01, b\" b'2020-03\"), (473, 6.808e-01, b\" b'2020-07\"),\n",
       "       (474, 2.382e-01, b\" b'2020-08\"), (475, 6.421e-01, b\" b'2020-01\"),\n",
       "       (476, 3.724e-01, b\" b'2020-03\"), (477, 6.848e-01, b\" b'2020-05\"),\n",
       "       (478, 3.105e-01, b\" b'2020-03\"), (479, 9.448e-01, b\" b'2020-12\"),\n",
       "       (480, 8.319e-01, b\" b'2020-12\"), (481, 7.173e-01, b\" b'2020-07\"),\n",
       "       (482, 2.601e-01, b\" b'2020-01\"), (483, 1.205e-01, b\" b'2020-04\"),\n",
       "       (484, 8.223e-01, b\" b'2020-08\"), (485, 3.975e-01, b\" b'2020-07\"),\n",
       "       (486, 6.391e-01, b\" b'2020-09\"), (487, 7.889e-01, b\" b'2020-10\"),\n",
       "       (488, 7.659e-01, b\" b'2020-10\"), (489, 3.581e-01, b\" b'2020-04\"),\n",
       "       (490, 6.858e-01, b\" b'2020-06\"), (491, 1.230e-02, b\" b'2020-08\"),\n",
       "       (492, 3.732e-01, b\" b'2020-05\"), (493, 1.806e-01, b\" b'2020-05\"),\n",
       "       (494, 4.547e-01, b\" b'2020-01\"), (495, 4.469e-01, b\" b'2020-09\"),\n",
       "       (496, 2.869e-01, b\" b'2020-09\"), (497, 4.347e-01, b\" b'2020-10\"),\n",
       "       (498, 9.227e-01, b\" b'2020-10\"), (499, 7.085e-01, b\" b'2020-10\"),\n",
       "       (500, 2.309e-01, b\" b'2020-09\"), (501, 9.630e-02, b\" b'2020-01\"),\n",
       "       (502, 1.857e-01, b\" b'2020-05\"), (503, 3.000e-04, b\" b'2020-12\"),\n",
       "       (504, 9.165e-01, b\" b'2020-04\"), (505, 7.546e-01, b\" b'2020-08\"),\n",
       "       (506, 7.695e-01, b\" b'2020-05\"), (507, 9.720e-02, b\" b'2020-12\"),\n",
       "       (508, 3.098e-01, b\" b'2020-06\"), (509, 1.840e-01, b\" b'2020-10\"),\n",
       "       (510, 4.301e-01, b\" b'2020-01\"), (511, 8.255e-01, b\" b'2020-08\"),\n",
       "       (512, 6.129e-01, b\" b'2020-02\"), (513, 5.508e-01, b\" b'2020-01\"),\n",
       "       (514, 6.665e-01, b\" b'2020-08\"), (515, 6.759e-01, b\" b'2020-05\"),\n",
       "       (516, 4.302e-01, b\" b'2020-12\"), (517, 4.503e-01, b\" b'2020-01\"),\n",
       "       (518, 3.800e-02, b\" b'2020-04\"), (519, 6.227e-01, b\" b'2020-10\"),\n",
       "       (520, 3.860e-02, b\" b'2020-06\"), (521, 5.035e-01, b\" b'2020-12\"),\n",
       "       (522, 2.720e-02, b\" b'2020-07\"), (523, 2.626e-01, b\" b'2020-11\"),\n",
       "       (524, 3.112e-01, b\" b'2020-09\"), (525, 3.631e-01, b\" b'2020-02\"),\n",
       "       (526, 5.040e-02, b\" b'2020-03\"), (527, 7.194e-01, b\" b'2020-12\"),\n",
       "       (528, 7.084e-01, b\" b'2020-09\"), (529, 3.619e-01, b\" b'2020-12\"),\n",
       "       (530, 6.568e-01, b\" b'2020-09\"), (531, 4.009e-01, b\" b'2020-03\"),\n",
       "       (532, 2.925e-01, b\" b'2020-01\"), (533, 4.663e-01, b\" b'2020-08\"),\n",
       "       (534, 6.164e-01, b\" b'2020-03\"), (535, 3.763e-01, b\" b'2020-05\"),\n",
       "       (536, 4.631e-01, b\" b'2020-01\"), (537, 6.181e-01, b\" b'2020-12\"),\n",
       "       (538, 8.750e-02, b\" b'2020-10\"), (539, 5.390e-01, b\" b'2020-09\"),\n",
       "       (540, 4.920e-02, b\" b'2020-05\"), (541, 7.983e-01, b\" b'2020-10\"),\n",
       "       (542, 1.679e-01, b\" b'2020-01\"), (543, 3.378e-01, b\" b'2020-07\"),\n",
       "       (544, 6.708e-01, b\" b'2020-01\"), (545, 7.519e-01, b\" b'2020-12\"),\n",
       "       (546, 8.401e-01, b\" b'2020-10\"), (547, 9.738e-01, b\" b'2020-06\"),\n",
       "       (548, 8.143e-01, b\" b'2020-06\"), (549, 6.762e-01, b\" b'2020-10\"),\n",
       "       (550, 9.539e-01, b\" b'2020-03\"), (551, 1.992e-01, b\" b'2020-08\"),\n",
       "       (552, 1.939e-01, b\" b'2020-01\"), (553, 9.509e-01, b\" b'2020-09\"),\n",
       "       (554, 5.114e-01, b\" b'2020-01\"), (555, 7.114e-01, b\" b'2020-01\"),\n",
       "       (556, 3.410e-01, b\" b'2020-12\"), (557, 8.160e-02, b\" b'2020-06\"),\n",
       "       (558, 5.000e-03, b\" b'2020-01\"), (559, 6.460e-01, b\" b'2020-12\"),\n",
       "       (560, 8.900e-01, b\" b'2020-07\"), (561, 6.744e-01, b\" b'2020-03\"),\n",
       "       (562, 2.008e-01, b\" b'2020-09\"), (563, 7.766e-01, b\" b'2020-11\"),\n",
       "       (564, 2.502e-01, b\" b'2020-11\"), (565, 8.951e-01, b\" b'2020-10\"),\n",
       "       (566, 6.666e-01, b\" b'2020-06\"), (567, 7.759e-01, b\" b'2020-01\"),\n",
       "       (568, 7.960e-02, b\" b'2020-10\"), (569, 3.681e-01, b\" b'2020-06\"),\n",
       "       (570, 5.859e-01, b\" b'2020-03\"), (571, 5.465e-01, b\" b'2020-10\"),\n",
       "       (572, 2.031e-01, b\" b'2020-07\"), (573, 5.377e-01, b\" b'2020-06\"),\n",
       "       (574, 9.984e-01, b\" b'2020-04\"), (575, 9.827e-01, b\" b'2020-05\"),\n",
       "       (576, 6.716e-01, b\" b'2020-01\"), (577, 2.369e-01, b\" b'2020-10\"),\n",
       "       (578, 5.710e-02, b\" b'2020-12\"), (579, 6.287e-01, b\" b'2020-05\"),\n",
       "       (580, 2.657e-01, b\" b'2020-07\"), (581, 6.563e-01, b\" b'2020-07\"),\n",
       "       (582, 7.068e-01, b\" b'2020-06\"), (583, 9.533e-01, b\" b'2020-08\"),\n",
       "       (584, 4.662e-01, b\" b'2020-05\"), (585, 2.691e-01, b\" b'2020-12\"),\n",
       "       (586, 9.121e-01, b\" b'2020-08\"), (587, 8.147e-01, b\" b'2020-02\"),\n",
       "       (588, 2.751e-01, b\" b'2020-04\"), (589, 9.724e-01, b\" b'2020-07\"),\n",
       "       (590, 8.323e-01, b\" b'2020-08\"), (591, 4.540e-01, b\" b'2020-08\"),\n",
       "       (592, 4.440e-01, b\" b'2020-09\"), (593, 1.551e-01, b\" b'2020-12\"),\n",
       "       (594, 9.051e-01, b\" b'2020-03\"), (595, 7.848e-01, b\" b'2020-02\"),\n",
       "       (596, 7.769e-01, b\" b'2020-10\"), (597, 7.140e-02, b\" b'2020-04\"),\n",
       "       (598, 2.360e-01, b\" b'2020-11\"), (599, 6.230e-02, b\" b'2020-08\"),\n",
       "       (600, 4.260e-02, b\" b'2020-04\"), (601, 7.340e-02, b\" b'2020-02\"),\n",
       "       (602, 9.684e-01, b\" b'2020-12\"), (603, 2.197e-01, b\" b'2020-10\"),\n",
       "       (604, 4.750e-01, b\" b'2020-04\"), (605, 9.047e-01, b\" b'2020-01\"),\n",
       "       (606, 3.186e-01, b\" b'2020-03\"), (607, 6.454e-01, b\" b'2020-03\"),\n",
       "       (608, 9.412e-01, b\" b'2020-02\"), (609, 6.540e-02, b\" b'2020-11\"),\n",
       "       (610, 8.897e-01, b\" b'2020-10\"), (611, 1.628e-01, b\" b'2020-01\"),\n",
       "       (612, 2.376e-01, b\" b'2020-07\"), (613, 6.102e-01, b\" b'2020-10\"),\n",
       "       (614, 2.920e-01, b\" b'2020-08\"), (615, 4.124e-01, b\" b'2020-04\"),\n",
       "       (616, 6.057e-01, b\" b'2020-04\"), (617, 6.435e-01, b\" b'2020-12\"),\n",
       "       (618, 7.664e-01, b\" b'2020-02\"), (619, 9.585e-01, b\" b'2020-04\"),\n",
       "       (620, 6.749e-01, b\" b'2020-03\"), (621, 2.118e-01, b\" b'2020-12\"),\n",
       "       (622, 9.181e-01, b\" b'2020-11\"), (623, 9.476e-01, b\" b'2020-12\"),\n",
       "       (624, 1.139e-01, b\" b'2020-04\"), (625, 2.142e-01, b\" b'2020-12\"),\n",
       "       (626, 1.745e-01, b\" b'2020-09\"), (627, 8.522e-01, b\" b'2020-05\"),\n",
       "       (628, 6.701e-01, b\" b'2020-08\"), (629, 5.532e-01, b\" b'2020-06\"),\n",
       "       (630, 8.696e-01, b\" b'2020-11\"), (631, 3.328e-01, b\" b'2020-04\"),\n",
       "       (632, 5.429e-01, b\" b'2020-04\"), (633, 4.471e-01, b\" b'2020-01\"),\n",
       "       (634, 2.604e-01, b\" b'2020-04\"), (635, 7.004e-01, b\" b'2020-12\"),\n",
       "       (636, 3.202e-01, b\" b'2020-08\"), (637, 6.568e-01, b\" b'2020-09\"),\n",
       "       (638, 7.310e-01, b\" b'2020-02\"), (639, 3.999e-01, b\" b'2020-06\"),\n",
       "       (640, 9.576e-01, b\" b'2020-08\"), (641, 7.897e-01, b\" b'2020-09\"),\n",
       "       (642, 4.624e-01, b\" b'2020-08\"), (643, 1.588e-01, b\" b'2020-08\"),\n",
       "       (644, 1.143e-01, b\" b'2020-04\"), (645, 3.525e-01, b\" b'2020-11\"),\n",
       "       (646, 8.161e-01, b\" b'2020-04\"), (647, 2.807e-01, b\" b'2020-11\"),\n",
       "       (648, 8.459e-01, b\" b'2020-08\"), (649, 3.174e-01, b\" b'2020-04\"),\n",
       "       (650, 5.187e-01, b\" b'2020-12\"), (651, 7.889e-01, b\" b'2020-08\"),\n",
       "       (652, 6.473e-01, b\" b'2020-06\"), (653, 7.426e-01, b\" b'2020-06\"),\n",
       "       (654, 6.048e-01, b\" b'2020-03\"), (655, 1.890e-01, b\" b'2020-03\"),\n",
       "       (656, 3.960e-01, b\" b'2020-03\"), (657, 2.276e-01, b\" b'2020-04\"),\n",
       "       (658, 5.386e-01, b\" b'2020-11\"), (659, 6.825e-01, b\" b'2020-11\"),\n",
       "       (660, 7.310e-02, b\" b'2020-02\"), (661, 7.780e-01, b\" b'2020-11\"),\n",
       "       (662, 2.562e-01, b\" b'2020-05\"), (663, 8.156e-01, b\" b'2020-01\"),\n",
       "       (664, 2.136e-01, b\" b'2020-05\"), (665, 2.312e-01, b\" b'2020-06\"),\n",
       "       (666, 9.925e-01, b\" b'2020-03\"), (667, 8.256e-01, b\" b'2020-12\"),\n",
       "       (668, 4.165e-01, b\" b'2020-05\"), (669, 9.914e-01, b\" b'2020-11\"),\n",
       "       (670, 9.499e-01, b\" b'2020-07\"), (671, 9.337e-01, b\" b'2020-02\"),\n",
       "       (672, 7.862e-01, b\" b'2020-05\"), (673, 7.008e-01, b\" b'2020-04\"),\n",
       "       (674, 8.842e-01, b\" b'2020-05\"), (675, 1.997e-01, b\" b'2020-08\"),\n",
       "       (676, 5.099e-01, b\" b'2020-11\"), (677, 3.637e-01, b\" b'2020-09\"),\n",
       "       (678, 5.400e-03, b\" b'2020-01\"), (679, 3.982e-01, b\" b'2020-06\"),\n",
       "       (680, 2.288e-01, b\" b'2020-02\"), (681, 1.921e-01, b\" b'2020-08\"),\n",
       "       (682, 3.149e-01, b\" b'2020-07\"), (683, 9.676e-01, b\" b'2020-01\"),\n",
       "       (684, 3.736e-01, b\" b'2020-11\"), (685, 9.400e-01, b\" b'2020-10\"),\n",
       "       (686, 5.685e-01, b\" b'2020-08\"), (687, 3.683e-01, b\" b'2020-11\"),\n",
       "       (688, 1.542e-01, b\" b'2020-08\"), (689, 8.265e-01, b\" b'2020-10\"),\n",
       "       (690, 8.110e-01, b\" b'2020-12\"), (691, 2.017e-01, b\" b'2020-06\"),\n",
       "       (692, 6.674e-01, b\" b'2020-01\"), (693, 9.055e-01, b\" b'2020-10\"),\n",
       "       (694, 6.810e-01, b\" b'2020-06\"), (695, 2.414e-01, b\" b'2020-04\"),\n",
       "       (696, 8.410e-02, b\" b'2020-10\"), (697, 6.328e-01, b\" b'2020-06\"),\n",
       "       (698, 8.152e-01, b\" b'2020-02\"), (699, 7.059e-01, b\" b'2020-04\"),\n",
       "       (700, 9.387e-01, b\" b'2020-01\"), (701, 6.893e-01, b\" b'2020-06\"),\n",
       "       (702, 9.245e-01, b\" b'2020-11\"), (703, 7.490e-01, b\" b'2020-10\"),\n",
       "       (704, 5.226e-01, b\" b'2020-11\"), (705, 9.476e-01, b\" b'2020-09\"),\n",
       "       (706, 2.955e-01, b\" b'2020-01\"), (707, 8.200e-03, b\" b'2020-11\"),\n",
       "       (708, 3.522e-01, b\" b'2020-12\"), (709, 6.075e-01, b\" b'2020-11\"),\n",
       "       (710, 1.781e-01, b\" b'2020-09\"), (711, 1.199e-01, b\" b'2020-11\"),\n",
       "       (712, 1.848e-01, b\" b'2020-04\"), (713, 7.384e-01, b\" b'2020-01\"),\n",
       "       (714, 5.887e-01, b\" b'2020-04\"), (715, 2.151e-01, b\" b'2020-08\"),\n",
       "       (716, 1.849e-01, b\" b'2020-08\"), (717, 2.935e-01, b\" b'2020-03\"),\n",
       "       (718, 7.447e-01, b\" b'2020-05\"), (719, 4.214e-01, b\" b'2020-10\"),\n",
       "       (720, 8.696e-01, b\" b'2020-04\"), (721, 4.790e-02, b\" b'2020-10\"),\n",
       "       (722, 9.458e-01, b\" b'2020-09\"), (723, 3.707e-01, b\" b'2020-01\"),\n",
       "       (724, 1.452e-01, b\" b'2020-04\"), (725, 4.138e-01, b\" b'2020-11\"),\n",
       "       (726, 2.178e-01, b\" b'2020-12\"), (727, 1.496e-01, b\" b'2020-06\"),\n",
       "       (728, 2.089e-01, b\" b'2020-08\"), (729, 9.959e-01, b\" b'2020-06\"),\n",
       "       (730, 8.667e-01, b\" b'2020-07\"), (731, 9.030e-01, b\" b'2020-10\"),\n",
       "       (732, 5.327e-01, b\" b'2020-01\"), (733, 3.207e-01, b\" b'2020-01\"),\n",
       "       (734, 6.176e-01, b\" b'2020-05\"), (735, 7.955e-01, b\" b'2020-05\"),\n",
       "       (736, 5.459e-01, b\" b'2020-01\"), (737, 5.000e-01, b\" b'2020-04\"),\n",
       "       (738, 5.724e-01, b\" b'2020-02\"), (739, 6.288e-01, b\" b'2020-09\"),\n",
       "       (740, 4.380e-01, b\" b'2020-04\"), (741, 3.307e-01, b\" b'2020-10\"),\n",
       "       (742, 8.432e-01, b\" b'2020-06\"), (743, 2.280e-02, b\" b'2020-10\"),\n",
       "       (744, 8.735e-01, b\" b'2020-04\"), (745, 9.644e-01, b\" b'2020-03\"),\n",
       "       (746, 6.140e-02, b\" b'2020-10\"), (747, 6.379e-01, b\" b'2020-09\"),\n",
       "       (748, 1.751e-01, b\" b'2020-03\"), (749, 5.111e-01, b\" b'2020-02\"),\n",
       "       (750, 1.838e-01, b\" b'2020-10\"), (751, 2.634e-01, b\" b'2020-03\"),\n",
       "       (752, 1.060e-01, b\" b'2020-04\"), (753, 7.966e-01, b\" b'2020-03\"),\n",
       "       (754, 5.765e-01, b\" b'2020-07\"), (755, 8.910e-01, b\" b'2020-06\"),\n",
       "       (756, 6.607e-01, b\" b'2020-11\"), (757, 4.812e-01, b\" b'2020-01\"),\n",
       "       (758, 9.450e-02, b\" b'2020-09\"), (759, 6.594e-01, b\" b'2020-03\"),\n",
       "       (760, 8.093e-01, b\" b'2020-05\"), (761, 8.564e-01, b\" b'2020-05\"),\n",
       "       (762, 5.755e-01, b\" b'2020-07\"), (763, 1.171e-01, b\" b'2020-12\"),\n",
       "       (764, 1.380e-01, b\" b'2020-01\"), (765, 2.330e-01, b\" b'2020-11\"),\n",
       "       (766, 1.356e-01, b\" b'2020-03\"), (767, 8.683e-01, b\" b'2020-03\"),\n",
       "       (768, 6.642e-01, b\" b'2020-12\"), (769, 5.726e-01, b\" b'2020-12\"),\n",
       "       (770, 3.849e-01, b\" b'2020-12\"), (771, 5.392e-01, b\" b'2020-02\"),\n",
       "       (772, 9.190e-01, b\" b'2020-10\"), (773, 9.076e-01, b\" b'2020-02\"),\n",
       "       (774, 3.282e-01, b\" b'2020-11\"), (775, 7.725e-01, b\" b'2020-07\"),\n",
       "       (776, 9.139e-01, b\" b'2020-05\"), (777, 9.382e-01, b\" b'2020-10\"),\n",
       "       (778, 6.232e-01, b\" b'2020-03\"), (779, 6.843e-01, b\" b'2020-05\"),\n",
       "       (780, 4.730e-01, b\" b'2020-08\"), (781, 5.620e-02, b\" b'2020-05\"),\n",
       "       (782, 8.272e-01, b\" b'2020-12\"), (783, 1.362e-01, b\" b'2020-02\"),\n",
       "       (784, 5.346e-01, b\" b'2020-12\"), (785, 6.257e-01, b\" b'2020-01\"),\n",
       "       (786, 1.062e-01, b\" b'2020-10\"), (787, 2.187e-01, b\" b'2020-04\"),\n",
       "       (788, 4.710e-02, b\" b'2020-07\"), (789, 2.563e-01, b\" b'2020-07\"),\n",
       "       (790, 6.515e-01, b\" b'2020-09\"), (791, 7.245e-01, b\" b'2020-08\"),\n",
       "       (792, 3.000e-04, b\" b'2020-03\"), (793, 8.922e-01, b\" b'2020-03\"),\n",
       "       (794, 5.800e-03, b\" b'2020-11\"), (795, 8.267e-01, b\" b'2020-09\"),\n",
       "       (796, 1.705e-01, b\" b'2020-08\"), (797, 8.424e-01, b\" b'2020-06\"),\n",
       "       (798, 6.853e-01, b\" b'2020-09\"), (799, 6.327e-01, b\" b'2020-10\"),\n",
       "       (800, 3.590e-02, b\" b'2020-09\"), (801, 1.812e-01, b\" b'2020-08\"),\n",
       "       (802, 7.025e-01, b\" b'2020-04\"), (803, 7.425e-01, b\" b'2020-09\"),\n",
       "       (804, 4.288e-01, b\" b'2020-08\"), (805, 3.340e-01, b\" b'2020-08\"),\n",
       "       (806, 2.583e-01, b\" b'2020-01\"), (807, 8.605e-01, b\" b'2020-06\"),\n",
       "       (808, 9.300e-02, b\" b'2020-09\"), (809, 5.658e-01, b\" b'2020-11\"),\n",
       "       (810, 2.014e-01, b\" b'2020-03\"), (811, 8.988e-01, b\" b'2020-06\"),\n",
       "       (812, 8.002e-01, b\" b'2020-10\"), (813, 4.789e-01, b\" b'2020-02\"),\n",
       "       (814, 6.378e-01, b\" b'2020-03\"), (815, 2.884e-01, b\" b'2020-09\"),\n",
       "       (816, 1.323e-01, b\" b'2020-02\"), (817, 9.811e-01, b\" b'2020-04\"),\n",
       "       (818, 7.611e-01, b\" b'2020-05\"), (819, 9.655e-01, b\" b'2020-01\"),\n",
       "       (820, 5.439e-01, b\" b'2020-05\"), (821, 3.766e-01, b\" b'2020-03\"),\n",
       "       (822, 8.262e-01, b\" b'2020-02\"), (823, 9.767e-01, b\" b'2020-01\"),\n",
       "       (824, 2.979e-01, b\" b'2020-05\"), (825, 4.368e-01, b\" b'2020-05\"),\n",
       "       (826, 4.699e-01, b\" b'2020-08\"), (827, 9.900e-01, b\" b'2020-12\"),\n",
       "       (828, 4.596e-01, b\" b'2020-07\"), (829, 2.439e-01, b\" b'2020-03\"),\n",
       "       (830, 4.726e-01, b\" b'2020-05\"), (831, 5.254e-01, b\" b'2020-06\"),\n",
       "       (832, 2.638e-01, b\" b'2020-01\"), (833, 6.952e-01, b\" b'2020-03\"),\n",
       "       (834, 5.251e-01, b\" b'2020-06\"), (835, 2.670e-01, b\" b'2020-02\"),\n",
       "       (836, 3.155e-01, b\" b'2020-02\"), (837, 6.776e-01, b\" b'2020-08\"),\n",
       "       (838, 2.104e-01, b\" b'2020-09\"), (839, 4.479e-01, b\" b'2020-11\"),\n",
       "       (840, 9.286e-01, b\" b'2020-02\"), (841, 6.777e-01, b\" b'2020-05\"),\n",
       "       (842, 5.697e-01, b\" b'2020-05\"), (843, 1.269e-01, b\" b'2020-10\"),\n",
       "       (844, 4.408e-01, b\" b'2020-02\"), (845, 3.784e-01, b\" b'2020-11\"),\n",
       "       (846, 4.916e-01, b\" b'2020-03\"), (847, 1.926e-01, b\" b'2020-05\"),\n",
       "       (848, 7.666e-01, b\" b'2020-12\"), (849, 8.050e-02, b\" b'2020-12\"),\n",
       "       (850, 8.325e-01, b\" b'2020-09\"), (851, 2.741e-01, b\" b'2020-06\"),\n",
       "       (852, 1.159e-01, b\" b'2020-07\"), (853, 2.951e-01, b\" b'2020-05\"),\n",
       "       (854, 8.985e-01, b\" b'2020-11\"), (855, 2.785e-01, b\" b'2020-12\"),\n",
       "       (856, 4.363e-01, b\" b'2020-11\"), (857, 7.024e-01, b\" b'2020-01\"),\n",
       "       (858, 8.660e-02, b\" b'2020-04\"), (859, 7.390e-02, b\" b'2020-02\"),\n",
       "       (860, 8.214e-01, b\" b'2020-10\"), (861, 4.090e-02, b\" b'2020-02\"),\n",
       "       (862, 9.559e-01, b\" b'2020-05\"), (863, 9.525e-01, b\" b'2020-09\"),\n",
       "       (864, 8.696e-01, b\" b'2020-11\"), (865, 8.290e-01, b\" b'2020-02\"),\n",
       "       (866, 7.906e-01, b\" b'2020-12\"), (867, 8.787e-01, b\" b'2020-09\"),\n",
       "       (868, 7.310e-02, b\" b'2020-02\"), (869, 3.075e-01, b\" b'2020-04\"),\n",
       "       (870, 1.250e-02, b\" b'2020-09\"), (871, 8.148e-01, b\" b'2020-10\"),\n",
       "       (872, 9.754e-01, b\" b'2020-05\"), (873, 5.671e-01, b\" b'2020-04\"),\n",
       "       (874, 7.871e-01, b\" b'2020-01\"), (875, 4.743e-01, b\" b'2020-12\"),\n",
       "       (876, 4.172e-01, b\" b'2020-05\"), (877, 8.006e-01, b\" b'2020-05\"),\n",
       "       (878, 2.225e-01, b\" b'2020-10\"), (879, 2.057e-01, b\" b'2020-03\"),\n",
       "       (880, 8.256e-01, b\" b'2020-03\"), (881, 6.662e-01, b\" b'2020-09\"),\n",
       "       (882, 4.582e-01, b\" b'2020-08\"), (883, 1.125e-01, b\" b'2020-07\"),\n",
       "       (884, 2.236e-01, b\" b'2020-08\"), (885, 5.439e-01, b\" b'2020-09\"),\n",
       "       (886, 9.040e-01, b\" b'2020-08\"), (887, 9.898e-01, b\" b'2020-06\"),\n",
       "       (888, 2.041e-01, b\" b'2020-05\"), (889, 7.903e-01, b\" b'2020-09\"),\n",
       "       (890, 2.913e-01, b\" b'2020-07\"), (891, 1.840e-01, b\" b'2020-02\"),\n",
       "       (892, 6.191e-01, b\" b'2020-04\"), (893, 4.626e-01, b\" b'2020-06\"),\n",
       "       (894, 4.204e-01, b\" b'2020-03\"), (895, 1.521e-01, b\" b'2020-03\"),\n",
       "       (896, 5.781e-01, b\" b'2020-07\"), (897, 3.258e-01, b\" b'2020-11\"),\n",
       "       (898, 3.086e-01, b\" b'2020-08\"), (899, 8.854e-01, b\" b'2020-08\"),\n",
       "       (900, 7.800e-02, b\" b'2020-02\"), (901, 4.000e-04, b\" b'2020-07\"),\n",
       "       (902, 1.590e-02, b\" b'2020-04\"), (903, 4.693e-01, b\" b'2020-01\"),\n",
       "       (904, 7.575e-01, b\" b'2020-06\"), (905, 6.780e-01, b\" b'2020-11\"),\n",
       "       (906, 9.962e-01, b\" b'2020-08\"), (907, 8.861e-01, b\" b'2020-01\"),\n",
       "       (908, 5.561e-01, b\" b'2020-05\"), (909, 9.169e-01, b\" b'2020-07\"),\n",
       "       (910, 4.920e-01, b\" b'2020-06\"), (911, 5.662e-01, b\" b'2020-12\"),\n",
       "       (912, 9.072e-01, b\" b'2020-08\"), (913, 1.925e-01, b\" b'2020-07\"),\n",
       "       (914, 8.053e-01, b\" b'2020-02\"), (915, 7.210e-02, b\" b'2020-05\"),\n",
       "       (916, 9.285e-01, b\" b'2020-09\"), (917, 2.247e-01, b\" b'2020-07\"),\n",
       "       (918, 1.148e-01, b\" b'2020-05\"), (919, 7.542e-01, b\" b'2020-02\"),\n",
       "       (920, 1.138e-01, b\" b'2020-10\"), (921, 5.792e-01, b\" b'2020-04\"),\n",
       "       (922, 2.103e-01, b\" b'2020-09\"), (923, 9.264e-01, b\" b'2020-12\"),\n",
       "       (924, 4.922e-01, b\" b'2020-09\"), (925, 6.805e-01, b\" b'2020-12\"),\n",
       "       (926, 8.276e-01, b\" b'2020-05\"), (927, 9.929e-01, b\" b'2020-04\"),\n",
       "       (928, 2.824e-01, b\" b'2020-03\"), (929, 3.231e-01, b\" b'2020-08\"),\n",
       "       (930, 6.616e-01, b\" b'2020-11\"), (931, 9.840e-01, b\" b'2020-12\"),\n",
       "       (932, 9.307e-01, b\" b'2020-02\"), (933, 1.205e-01, b\" b'2020-07\"),\n",
       "       (934, 7.988e-01, b\" b'2020-01\"), (935, 2.638e-01, b\" b'2020-06\"),\n",
       "       (936, 1.420e-02, b\" b'2020-06\"), (937, 6.080e-02, b\" b'2020-04\"),\n",
       "       (938, 7.845e-01, b\" b'2020-03\"), (939, 1.562e-01, b\" b'2020-08\"),\n",
       "       (940, 3.227e-01, b\" b'2020-01\"), (941, 4.474e-01, b\" b'2020-12\"),\n",
       "       (942, 5.113e-01, b\" b'2020-08\"), (943, 9.360e-01, b\" b'2020-04\"),\n",
       "       (944, 9.597e-01, b\" b'2020-07\"), (945, 4.288e-01, b\" b'2020-10\"),\n",
       "       (946, 8.404e-01, b\" b'2020-01\"), (947, 5.264e-01, b\" b'2020-03\"),\n",
       "       (948, 7.446e-01, b\" b'2020-01\"), (949, 4.780e-01, b\" b'2020-07\"),\n",
       "       (950, 4.000e-03, b\" b'2020-04\"), (951, 1.321e-01, b\" b'2020-04\"),\n",
       "       (952, 7.556e-01, b\" b'2020-01\"), (953, 6.016e-01, b\" b'2020-08\"),\n",
       "       (954, 7.535e-01, b\" b'2020-05\"), (955, 3.412e-01, b\" b'2020-07\"),\n",
       "       (956, 6.273e-01, b\" b'2020-07\"), (957, 4.821e-01, b\" b'2020-06\"),\n",
       "       (958, 5.500e-02, b\" b'2020-11\"), (959, 8.835e-01, b\" b'2020-04\"),\n",
       "       (960, 8.880e-01, b\" b'2020-05\"), (961, 2.938e-01, b\" b'2020-03\"),\n",
       "       (962, 2.670e-01, b\" b'2020-10\"), (963, 9.637e-01, b\" b'2020-02\"),\n",
       "       (964, 9.210e-01, b\" b'2020-12\"), (965, 6.389e-01, b\" b'2020-11\"),\n",
       "       (966, 1.068e-01, b\" b'2020-01\"), (967, 3.442e-01, b\" b'2020-05\"),\n",
       "       (968, 6.560e-02, b\" b'2020-05\"), (969, 7.000e-02, b\" b'2020-01\"),\n",
       "       (970, 6.847e-01, b\" b'2020-01\"), (971, 9.825e-01, b\" b'2020-06\"),\n",
       "       (972, 9.434e-01, b\" b'2020-06\"), (973, 5.600e-01, b\" b'2020-05\"),\n",
       "       (974, 8.859e-01, b\" b'2020-10\"), (975, 1.740e-02, b\" b'2020-03\"),\n",
       "       (976, 3.956e-01, b\" b'2020-01\"), (977, 5.805e-01, b\" b'2020-12\"),\n",
       "       (978, 3.717e-01, b\" b'2020-12\"), (979, 9.055e-01, b\" b'2020-01\"),\n",
       "       (980, 8.911e-01, b\" b'2020-12\"), (981, 3.271e-01, b\" b'2020-03\"),\n",
       "       (982, 2.612e-01, b\" b'2020-11\"), (983, 6.843e-01, b\" b'2020-04\"),\n",
       "       (984, 3.876e-01, b\" b'2020-01\"), (985, 6.886e-01, b\" b'2020-08\"),\n",
       "       (986, 2.989e-01, b\" b'2020-02\"), (987, 5.642e-01, b\" b'2020-03\"),\n",
       "       (988, 3.422e-01, b\" b'2020-02\"), (989, 1.126e-01, b\" b'2020-05\"),\n",
       "       (990, 3.030e-01, b\" b'2020-07\"), (991, 5.440e-02, b\" b'2020-05\"),\n",
       "       (992, 9.784e-01, b\" b'2020-05\"), (993, 1.710e-01, b\" b'2020-10\"),\n",
       "       (994, 1.095e-01, b\" b'2020-11\"), (995, 9.056e-01, b\" b'2020-09\"),\n",
       "       (996, 9.630e-01, b\" b'2020-05\"), (997, 7.315e-01, b\" b'2020-10\"),\n",
       "       (998, 4.008e-01, b\" b'2020-01\"), (999, 3.294e-01, b\" b'2020-01\")],\n",
       "      dtype=[('id', '<i4'), ('value', '<f4'), ('date', 'S10')])"
      ]
     },
     "execution_count": 197,
     "metadata": {},
     "output_type": "execute_result"
    }
   ],
   "source": [
    "x.dtype.names = 'id', 'value', 'date'\n",
    "x"
   ]
  },
  {
   "cell_type": "code",
   "execution_count": 198,
   "metadata": {},
   "outputs": [],
   "source": [
    "np.save('x.npy', x, allow_pickle=False)"
   ]
  },
  {
   "cell_type": "code",
   "execution_count": 199,
   "metadata": {},
   "outputs": [
    {
     "data": {
      "text/plain": [
       "array([(  0, 3.363e-01, b\" b'2020-01\"), (  1, 3.415e-01, b\" b'2020-04\"),\n",
       "       (  2, 4.200e-02, b\" b'2020-02\"), (  3, 2.433e-01, b\" b'2020-09\"),\n",
       "       (  4, 2.100e-03, b\" b'2020-07\"), (  5, 1.264e-01, b\" b'2020-05\"),\n",
       "       (  6, 2.657e-01, b\" b'2020-04\"), (  7, 1.952e-01, b\" b'2020-06\"),\n",
       "       (  8, 7.788e-01, b\" b'2020-11\"), (  9, 9.068e-01, b\" b'2020-06\"),\n",
       "       ( 10, 3.172e-01, b\" b'2020-07\"), ( 11, 5.982e-01, b\" b'2020-04\"),\n",
       "       ( 12, 1.163e-01, b\" b'2020-11\"), ( 13, 3.502e-01, b\" b'2020-11\"),\n",
       "       ( 14, 7.134e-01, b\" b'2020-08\"), ( 15, 7.919e-01, b\" b'2020-02\"),\n",
       "       ( 16, 2.879e-01, b\" b'2020-04\"), ( 17, 6.707e-01, b\" b'2020-05\"),\n",
       "       ( 18, 1.695e-01, b\" b'2020-08\"), ( 19, 5.240e-01, b\" b'2020-01\"),\n",
       "       ( 20, 4.419e-01, b\" b'2020-12\"), ( 21, 7.211e-01, b\" b'2020-10\"),\n",
       "       ( 22, 2.294e-01, b\" b'2020-07\"), ( 23, 4.031e-01, b\" b'2020-02\"),\n",
       "       ( 24, 9.990e-01, b\" b'2020-02\"), ( 25, 7.969e-01, b\" b'2020-11\"),\n",
       "       ( 26, 6.301e-01, b\" b'2020-10\"), ( 27, 6.550e-02, b\" b'2020-12\"),\n",
       "       ( 28, 7.114e-01, b\" b'2020-11\"), ( 29, 2.970e-02, b\" b'2020-11\"),\n",
       "       ( 30, 8.484e-01, b\" b'2020-05\"), ( 31, 4.147e-01, b\" b'2020-12\"),\n",
       "       ( 32, 4.576e-01, b\" b'2020-03\"), ( 33, 1.332e-01, b\" b'2020-08\"),\n",
       "       ( 34, 3.770e-02, b\" b'2020-06\"), ( 35, 4.821e-01, b\" b'2020-09\"),\n",
       "       ( 36, 6.720e-02, b\" b'2020-05\"), ( 37, 4.543e-01, b\" b'2020-03\"),\n",
       "       ( 38, 1.265e-01, b\" b'2020-12\"), ( 39, 5.557e-01, b\" b'2020-10\"),\n",
       "       ( 40, 8.844e-01, b\" b'2020-07\"), ( 41, 9.657e-01, b\" b'2020-07\"),\n",
       "       ( 42, 1.979e-01, b\" b'2020-04\"), ( 43, 4.587e-01, b\" b'2020-07\"),\n",
       "       ( 44, 3.784e-01, b\" b'2020-09\"), ( 45, 5.301e-01, b\" b'2020-07\"),\n",
       "       ( 46, 3.074e-01, b\" b'2020-06\"), ( 47, 4.586e-01, b\" b'2020-03\"),\n",
       "       ( 48, 7.657e-01, b\" b'2020-07\"), ( 49, 8.210e-02, b\" b'2020-07\"),\n",
       "       ( 50, 2.001e-01, b\" b'2020-12\"), ( 51, 1.189e-01, b\" b'2020-04\"),\n",
       "       ( 52, 7.459e-01, b\" b'2020-06\"), ( 53, 7.912e-01, b\" b'2020-04\"),\n",
       "       ( 54, 4.748e-01, b\" b'2020-03\"), ( 55, 8.386e-01, b\" b'2020-08\"),\n",
       "       ( 56, 9.645e-01, b\" b'2020-11\"), ( 57, 5.870e-01, b\" b'2020-06\"),\n",
       "       ( 58, 2.687e-01, b\" b'2020-01\"), ( 59, 4.361e-01, b\" b'2020-11\"),\n",
       "       ( 60, 7.103e-01, b\" b'2020-06\"), ( 61, 4.694e-01, b\" b'2020-05\"),\n",
       "       ( 62, 1.761e-01, b\" b'2020-11\"), ( 63, 9.652e-01, b\" b'2020-03\"),\n",
       "       ( 64, 2.303e-01, b\" b'2020-07\"), ( 65, 7.820e-01, b\" b'2020-03\"),\n",
       "       ( 66, 2.911e-01, b\" b'2020-12\"), ( 67, 6.821e-01, b\" b'2020-02\"),\n",
       "       ( 68, 6.244e-01, b\" b'2020-03\"), ( 69, 3.356e-01, b\" b'2020-10\"),\n",
       "       ( 70, 4.531e-01, b\" b'2020-04\"), ( 71, 8.893e-01, b\" b'2020-02\"),\n",
       "       ( 72, 8.851e-01, b\" b'2020-06\"), ( 73, 1.016e-01, b\" b'2020-04\"),\n",
       "       ( 74, 1.529e-01, b\" b'2020-12\"), ( 75, 9.499e-01, b\" b'2020-09\"),\n",
       "       ( 76, 9.790e-02, b\" b'2020-09\"), ( 77, 9.973e-01, b\" b'2020-02\"),\n",
       "       ( 78, 7.066e-01, b\" b'2020-09\"), ( 79, 8.790e-01, b\" b'2020-05\"),\n",
       "       ( 80, 7.763e-01, b\" b'2020-04\"), ( 81, 6.345e-01, b\" b'2020-11\"),\n",
       "       ( 82, 6.864e-01, b\" b'2020-08\"), ( 83, 8.577e-01, b\" b'2020-06\"),\n",
       "       ( 84, 5.235e-01, b\" b'2020-02\"), ( 85, 1.981e-01, b\" b'2020-11\"),\n",
       "       ( 86, 6.720e-02, b\" b'2020-09\"), ( 87, 6.129e-01, b\" b'2020-04\"),\n",
       "       ( 88, 9.913e-01, b\" b'2020-06\"), ( 89, 1.541e-01, b\" b'2020-02\"),\n",
       "       ( 90, 5.992e-01, b\" b'2020-05\"), ( 91, 4.152e-01, b\" b'2020-06\"),\n",
       "       ( 92, 5.551e-01, b\" b'2020-08\"), ( 93, 1.592e-01, b\" b'2020-05\"),\n",
       "       ( 94, 7.597e-01, b\" b'2020-11\"), ( 95, 4.589e-01, b\" b'2020-07\"),\n",
       "       ( 96, 8.302e-01, b\" b'2020-05\"), ( 97, 5.815e-01, b\" b'2020-08\"),\n",
       "       ( 98, 3.895e-01, b\" b'2020-03\"), ( 99, 5.743e-01, b\" b'2020-06\"),\n",
       "       (100, 6.560e-01, b\" b'2020-09\"), (101, 4.271e-01, b\" b'2020-01\"),\n",
       "       (102, 9.340e-01, b\" b'2020-01\"), (103, 8.288e-01, b\" b'2020-01\"),\n",
       "       (104, 5.540e-02, b\" b'2020-03\"), (105, 7.700e-03, b\" b'2020-03\"),\n",
       "       (106, 9.194e-01, b\" b'2020-07\"), (107, 1.233e-01, b\" b'2020-10\"),\n",
       "       (108, 8.705e-01, b\" b'2020-07\"), (109, 5.607e-01, b\" b'2020-02\"),\n",
       "       (110, 1.045e-01, b\" b'2020-07\"), (111, 8.642e-01, b\" b'2020-08\"),\n",
       "       (112, 1.196e-01, b\" b'2020-03\"), (113, 9.068e-01, b\" b'2020-02\"),\n",
       "       (114, 7.760e-01, b\" b'2020-11\"), (115, 9.482e-01, b\" b'2020-04\"),\n",
       "       (116, 5.275e-01, b\" b'2020-12\"), (117, 6.364e-01, b\" b'2020-07\"),\n",
       "       (118, 3.176e-01, b\" b'2020-09\"), (119, 6.092e-01, b\" b'2020-07\"),\n",
       "       (120, 6.745e-01, b\" b'2020-06\"), (121, 4.667e-01, b\" b'2020-05\"),\n",
       "       (122, 8.003e-01, b\" b'2020-06\"), (123, 6.882e-01, b\" b'2020-06\"),\n",
       "       (124, 1.113e-01, b\" b'2020-04\"), (125, 5.220e-02, b\" b'2020-08\"),\n",
       "       (126, 8.463e-01, b\" b'2020-09\"), (127, 1.360e-02, b\" b'2020-10\"),\n",
       "       (128, 9.656e-01, b\" b'2020-04\"), (129, 6.510e-01, b\" b'2020-04\"),\n",
       "       (130, 3.444e-01, b\" b'2020-04\"), (131, 8.124e-01, b\" b'2020-03\"),\n",
       "       (132, 5.221e-01, b\" b'2020-07\"), (133, 2.648e-01, b\" b'2020-11\"),\n",
       "       (134, 3.481e-01, b\" b'2020-05\"), (135, 5.782e-01, b\" b'2020-12\"),\n",
       "       (136, 7.724e-01, b\" b'2020-10\"), (137, 8.200e-03, b\" b'2020-11\"),\n",
       "       (138, 4.283e-01, b\" b'2020-10\"), (139, 2.797e-01, b\" b'2020-10\"),\n",
       "       (140, 4.510e-02, b\" b'2020-07\"), (141, 2.153e-01, b\" b'2020-10\"),\n",
       "       (142, 7.422e-01, b\" b'2020-10\"), (143, 9.106e-01, b\" b'2020-05\"),\n",
       "       (144, 2.318e-01, b\" b'2020-07\"), (145, 7.393e-01, b\" b'2020-01\"),\n",
       "       (146, 2.205e-01, b\" b'2020-09\"), (147, 6.959e-01, b\" b'2020-10\"),\n",
       "       (148, 9.288e-01, b\" b'2020-10\"), (149, 3.350e-02, b\" b'2020-04\"),\n",
       "       (150, 2.839e-01, b\" b'2020-06\"), (151, 2.061e-01, b\" b'2020-02\"),\n",
       "       (152, 9.180e-01, b\" b'2020-11\"), (153, 6.079e-01, b\" b'2020-08\"),\n",
       "       (154, 9.264e-01, b\" b'2020-11\"), (155, 5.927e-01, b\" b'2020-10\"),\n",
       "       (156, 7.793e-01, b\" b'2020-10\"), (157, 6.128e-01, b\" b'2020-02\"),\n",
       "       (158, 6.720e-01, b\" b'2020-06\"), (159, 3.018e-01, b\" b'2020-09\"),\n",
       "       (160, 4.917e-01, b\" b'2020-06\"), (161, 6.047e-01, b\" b'2020-07\"),\n",
       "       (162, 5.548e-01, b\" b'2020-08\"), (163, 1.298e-01, b\" b'2020-07\"),\n",
       "       (164, 5.031e-01, b\" b'2020-01\"), (165, 8.438e-01, b\" b'2020-11\"),\n",
       "       (166, 7.054e-01, b\" b'2020-08\"), (167, 5.555e-01, b\" b'2020-09\"),\n",
       "       (168, 5.771e-01, b\" b'2020-01\"), (169, 9.441e-01, b\" b'2020-09\"),\n",
       "       (170, 4.177e-01, b\" b'2020-01\"), (171, 6.759e-01, b\" b'2020-03\"),\n",
       "       (172, 8.040e-02, b\" b'2020-03\"), (173, 9.164e-01, b\" b'2020-04\"),\n",
       "       (174, 9.594e-01, b\" b'2020-02\"), (175, 8.860e-02, b\" b'2020-07\"),\n",
       "       (176, 6.234e-01, b\" b'2020-06\"), (177, 6.380e-02, b\" b'2020-08\"),\n",
       "       (178, 6.268e-01, b\" b'2020-09\"), (179, 2.469e-01, b\" b'2020-03\"),\n",
       "       (180, 6.823e-01, b\" b'2020-10\"), (181, 3.205e-01, b\" b'2020-03\"),\n",
       "       (182, 1.137e-01, b\" b'2020-08\"), (183, 6.872e-01, b\" b'2020-08\"),\n",
       "       (184, 6.590e-01, b\" b'2020-03\"), (185, 9.942e-01, b\" b'2020-10\"),\n",
       "       (186, 5.579e-01, b\" b'2020-01\"), (187, 1.680e-02, b\" b'2020-05\"),\n",
       "       (188, 3.542e-01, b\" b'2020-04\"), (189, 7.954e-01, b\" b'2020-01\"),\n",
       "       (190, 3.325e-01, b\" b'2020-12\"), (191, 6.380e-01, b\" b'2020-10\"),\n",
       "       (192, 5.354e-01, b\" b'2020-08\"), (193, 3.883e-01, b\" b'2020-07\"),\n",
       "       (194, 3.077e-01, b\" b'2020-11\"), (195, 7.796e-01, b\" b'2020-10\"),\n",
       "       (196, 8.800e-03, b\" b'2020-07\"), (197, 3.810e-01, b\" b'2020-10\"),\n",
       "       (198, 1.672e-01, b\" b'2020-11\"), (199, 2.423e-01, b\" b'2020-07\"),\n",
       "       (200, 2.349e-01, b\" b'2020-07\"), (201, 6.807e-01, b\" b'2020-01\"),\n",
       "       (202, 9.341e-01, b\" b'2020-04\"), (203, 3.965e-01, b\" b'2020-01\"),\n",
       "       (204, 2.455e-01, b\" b'2020-11\"), (205, 1.212e-01, b\" b'2020-09\"),\n",
       "       (206, 7.837e-01, b\" b'2020-06\"), (207, 3.181e-01, b\" b'2020-03\"),\n",
       "       (208, 9.622e-01, b\" b'2020-05\"), (209, 4.375e-01, b\" b'2020-07\"),\n",
       "       (210, 7.853e-01, b\" b'2020-01\"), (211, 6.421e-01, b\" b'2020-08\"),\n",
       "       (212, 8.272e-01, b\" b'2020-07\"), (213, 1.003e-01, b\" b'2020-05\"),\n",
       "       (214, 3.141e-01, b\" b'2020-09\"), (215, 3.614e-01, b\" b'2020-09\"),\n",
       "       (216, 8.176e-01, b\" b'2020-04\"), (217, 7.967e-01, b\" b'2020-01\"),\n",
       "       (218, 4.890e-02, b\" b'2020-11\"), (219, 6.333e-01, b\" b'2020-04\"),\n",
       "       (220, 6.442e-01, b\" b'2020-08\"), (221, 7.230e-02, b\" b'2020-10\"),\n",
       "       (222, 8.234e-01, b\" b'2020-07\"), (223, 5.110e-02, b\" b'2020-04\"),\n",
       "       (224, 5.044e-01, b\" b'2020-10\"), (225, 8.635e-01, b\" b'2020-04\"),\n",
       "       (226, 3.310e-01, b\" b'2020-03\"), (227, 9.892e-01, b\" b'2020-05\"),\n",
       "       (228, 2.239e-01, b\" b'2020-02\"), (229, 5.921e-01, b\" b'2020-02\"),\n",
       "       (230, 1.070e-02, b\" b'2020-04\"), (231, 7.345e-01, b\" b'2020-05\"),\n",
       "       (232, 6.380e-01, b\" b'2020-04\"), (233, 2.212e-01, b\" b'2020-01\"),\n",
       "       (234, 5.349e-01, b\" b'2020-10\"), (235, 1.891e-01, b\" b'2020-03\"),\n",
       "       (236, 5.746e-01, b\" b'2020-11\"), (237, 3.797e-01, b\" b'2020-06\"),\n",
       "       (238, 5.199e-01, b\" b'2020-12\"), (239, 4.826e-01, b\" b'2020-11\"),\n",
       "       (240, 5.202e-01, b\" b'2020-05\"), (241, 6.375e-01, b\" b'2020-05\"),\n",
       "       (242, 7.559e-01, b\" b'2020-07\"), (243, 6.328e-01, b\" b'2020-08\"),\n",
       "       (244, 4.445e-01, b\" b'2020-06\"), (245, 2.649e-01, b\" b'2020-04\"),\n",
       "       (246, 9.212e-01, b\" b'2020-02\"), (247, 5.408e-01, b\" b'2020-11\"),\n",
       "       (248, 5.398e-01, b\" b'2020-06\"), (249, 5.105e-01, b\" b'2020-07\"),\n",
       "       (250, 5.180e-02, b\" b'2020-03\"), (251, 2.886e-01, b\" b'2020-03\"),\n",
       "       (252, 8.743e-01, b\" b'2020-06\"), (253, 5.122e-01, b\" b'2020-09\"),\n",
       "       (254, 8.820e-02, b\" b'2020-01\"), (255, 5.818e-01, b\" b'2020-02\"),\n",
       "       (256, 9.256e-01, b\" b'2020-07\"), (257, 8.874e-01, b\" b'2020-02\"),\n",
       "       (258, 7.436e-01, b\" b'2020-01\"), (259, 5.776e-01, b\" b'2020-05\"),\n",
       "       (260, 4.461e-01, b\" b'2020-03\"), (261, 1.835e-01, b\" b'2020-01\"),\n",
       "       (262, 6.335e-01, b\" b'2020-11\"), (263, 5.218e-01, b\" b'2020-02\"),\n",
       "       (264, 1.225e-01, b\" b'2020-12\"), (265, 2.762e-01, b\" b'2020-02\"),\n",
       "       (266, 6.413e-01, b\" b'2020-09\"), (267, 4.087e-01, b\" b'2020-07\"),\n",
       "       (268, 6.384e-01, b\" b'2020-07\"), (269, 7.382e-01, b\" b'2020-11\"),\n",
       "       (270, 3.640e-01, b\" b'2020-02\"), (271, 6.552e-01, b\" b'2020-01\"),\n",
       "       (272, 7.537e-01, b\" b'2020-06\"), (273, 8.464e-01, b\" b'2020-06\"),\n",
       "       (274, 7.897e-01, b\" b'2020-08\"), (275, 6.620e-02, b\" b'2020-05\"),\n",
       "       (276, 9.841e-01, b\" b'2020-04\"), (277, 3.925e-01, b\" b'2020-01\"),\n",
       "       (278, 2.600e-03, b\" b'2020-11\"), (279, 1.859e-01, b\" b'2020-01\"),\n",
       "       (280, 4.225e-01, b\" b'2020-02\"), (281, 8.160e-02, b\" b'2020-07\"),\n",
       "       (282, 4.880e-01, b\" b'2020-10\"), (283, 1.432e-01, b\" b'2020-06\"),\n",
       "       (284, 9.955e-01, b\" b'2020-04\"), (285, 5.597e-01, b\" b'2020-06\"),\n",
       "       (286, 6.350e-02, b\" b'2020-08\"), (287, 9.385e-01, b\" b'2020-08\"),\n",
       "       (288, 8.110e-01, b\" b'2020-06\"), (289, 3.646e-01, b\" b'2020-05\"),\n",
       "       (290, 1.138e-01, b\" b'2020-06\"), (291, 7.604e-01, b\" b'2020-11\"),\n",
       "       (292, 4.900e-02, b\" b'2020-07\"), (293, 3.876e-01, b\" b'2020-11\"),\n",
       "       (294, 4.976e-01, b\" b'2020-05\"), (295, 1.528e-01, b\" b'2020-12\"),\n",
       "       (296, 8.986e-01, b\" b'2020-11\"), (297, 3.985e-01, b\" b'2020-09\"),\n",
       "       (298, 8.688e-01, b\" b'2020-06\"), (299, 8.032e-01, b\" b'2020-07\"),\n",
       "       (300, 4.181e-01, b\" b'2020-10\"), (301, 3.843e-01, b\" b'2020-07\"),\n",
       "       (302, 7.383e-01, b\" b'2020-07\"), (303, 3.267e-01, b\" b'2020-05\"),\n",
       "       (304, 7.468e-01, b\" b'2020-10\"), (305, 8.708e-01, b\" b'2020-02\"),\n",
       "       (306, 7.668e-01, b\" b'2020-06\"), (307, 8.601e-01, b\" b'2020-04\"),\n",
       "       (308, 2.377e-01, b\" b'2020-09\"), (309, 4.540e-02, b\" b'2020-08\"),\n",
       "       (310, 4.388e-01, b\" b'2020-03\"), (311, 4.238e-01, b\" b'2020-04\"),\n",
       "       (312, 1.578e-01, b\" b'2020-08\"), (313, 3.870e-01, b\" b'2020-05\"),\n",
       "       (314, 9.342e-01, b\" b'2020-10\"), (315, 3.847e-01, b\" b'2020-06\"),\n",
       "       (316, 8.388e-01, b\" b'2020-04\"), (317, 3.017e-01, b\" b'2020-01\"),\n",
       "       (318, 7.119e-01, b\" b'2020-10\"), (319, 5.915e-01, b\" b'2020-11\"),\n",
       "       (320, 9.322e-01, b\" b'2020-10\"), (321, 2.391e-01, b\" b'2020-01\"),\n",
       "       (322, 8.455e-01, b\" b'2020-05\"), (323, 6.808e-01, b\" b'2020-06\"),\n",
       "       (324, 9.162e-01, b\" b'2020-11\"), (325, 1.553e-01, b\" b'2020-12\"),\n",
       "       (326, 1.989e-01, b\" b'2020-01\"), (327, 9.296e-01, b\" b'2020-08\"),\n",
       "       (328, 4.618e-01, b\" b'2020-09\"), (329, 1.822e-01, b\" b'2020-10\"),\n",
       "       (330, 9.794e-01, b\" b'2020-10\"), (331, 2.593e-01, b\" b'2020-08\"),\n",
       "       (332, 5.302e-01, b\" b'2020-09\"), (333, 4.437e-01, b\" b'2020-07\"),\n",
       "       (334, 7.527e-01, b\" b'2020-08\"), (335, 3.036e-01, b\" b'2020-11\"),\n",
       "       (336, 7.270e-02, b\" b'2020-06\"), (337, 5.340e-01, b\" b'2020-05\"),\n",
       "       (338, 3.713e-01, b\" b'2020-06\"), (339, 1.012e-01, b\" b'2020-07\"),\n",
       "       (340, 5.623e-01, b\" b'2020-03\"), (341, 6.372e-01, b\" b'2020-02\"),\n",
       "       (342, 2.221e-01, b\" b'2020-01\"), (343, 9.212e-01, b\" b'2020-04\"),\n",
       "       (344, 4.111e-01, b\" b'2020-02\"), (345, 6.072e-01, b\" b'2020-07\"),\n",
       "       (346, 4.611e-01, b\" b'2020-07\"), (347, 8.027e-01, b\" b'2020-04\"),\n",
       "       (348, 3.425e-01, b\" b'2020-12\"), (349, 3.748e-01, b\" b'2020-04\"),\n",
       "       (350, 5.233e-01, b\" b'2020-06\"), (351, 3.780e-02, b\" b'2020-07\"),\n",
       "       (352, 8.802e-01, b\" b'2020-11\"), (353, 6.418e-01, b\" b'2020-10\"),\n",
       "       (354, 3.172e-01, b\" b'2020-02\"), (355, 6.908e-01, b\" b'2020-01\"),\n",
       "       (356, 1.703e-01, b\" b'2020-04\"), (357, 4.090e-01, b\" b'2020-01\"),\n",
       "       (358, 5.834e-01, b\" b'2020-05\"), (359, 5.652e-01, b\" b'2020-06\"),\n",
       "       (360, 7.847e-01, b\" b'2020-11\"), (361, 3.378e-01, b\" b'2020-07\"),\n",
       "       (362, 2.516e-01, b\" b'2020-12\"), (363, 6.136e-01, b\" b'2020-11\"),\n",
       "       (364, 5.270e-02, b\" b'2020-10\"), (365, 8.831e-01, b\" b'2020-06\"),\n",
       "       (366, 2.434e-01, b\" b'2020-05\"), (367, 2.818e-01, b\" b'2020-03\"),\n",
       "       (368, 3.153e-01, b\" b'2020-07\"), (369, 6.273e-01, b\" b'2020-05\"),\n",
       "       (370, 6.069e-01, b\" b'2020-10\"), (371, 8.038e-01, b\" b'2020-05\"),\n",
       "       (372, 8.532e-01, b\" b'2020-05\"), (373, 9.393e-01, b\" b'2020-08\"),\n",
       "       (374, 4.775e-01, b\" b'2020-07\"), (375, 6.940e-02, b\" b'2020-05\"),\n",
       "       (376, 5.007e-01, b\" b'2020-12\"), (377, 9.915e-01, b\" b'2020-12\"),\n",
       "       (378, 8.322e-01, b\" b'2020-07\"), (379, 6.053e-01, b\" b'2020-06\"),\n",
       "       (380, 7.110e-02, b\" b'2020-01\"), (381, 9.995e-01, b\" b'2020-05\"),\n",
       "       (382, 7.724e-01, b\" b'2020-02\"), (383, 8.985e-01, b\" b'2020-03\"),\n",
       "       (384, 6.967e-01, b\" b'2020-06\"), (385, 6.592e-01, b\" b'2020-03\"),\n",
       "       (386, 4.139e-01, b\" b'2020-01\"), (387, 7.781e-01, b\" b'2020-03\"),\n",
       "       (388, 8.891e-01, b\" b'2020-12\"), (389, 2.101e-01, b\" b'2020-11\"),\n",
       "       (390, 2.584e-01, b\" b'2020-05\"), (391, 7.983e-01, b\" b'2020-05\"),\n",
       "       (392, 3.112e-01, b\" b'2020-04\"), (393, 7.319e-01, b\" b'2020-08\"),\n",
       "       (394, 9.275e-01, b\" b'2020-10\"), (395, 5.745e-01, b\" b'2020-02\"),\n",
       "       (396, 9.820e-02, b\" b'2020-10\"), (397, 5.033e-01, b\" b'2020-08\"),\n",
       "       (398, 1.459e-01, b\" b'2020-08\"), (399, 9.827e-01, b\" b'2020-05\"),\n",
       "       (400, 3.693e-01, b\" b'2020-04\"), (401, 4.380e-01, b\" b'2020-05\"),\n",
       "       (402, 4.023e-01, b\" b'2020-03\"), (403, 9.981e-01, b\" b'2020-12\"),\n",
       "       (404, 1.523e-01, b\" b'2020-05\"), (405, 1.055e-01, b\" b'2020-08\"),\n",
       "       (406, 7.199e-01, b\" b'2020-10\"), (407, 6.400e-02, b\" b'2020-06\"),\n",
       "       (408, 5.274e-01, b\" b'2020-04\"), (409, 4.192e-01, b\" b'2020-03\"),\n",
       "       (410, 9.803e-01, b\" b'2020-03\"), (411, 7.040e-01, b\" b'2020-11\"),\n",
       "       (412, 1.467e-01, b\" b'2020-07\"), (413, 5.475e-01, b\" b'2020-09\"),\n",
       "       (414, 8.760e-01, b\" b'2020-05\"), (415, 2.176e-01, b\" b'2020-01\"),\n",
       "       (416, 1.102e-01, b\" b'2020-10\"), (417, 8.544e-01, b\" b'2020-01\"),\n",
       "       (418, 8.463e-01, b\" b'2020-05\"), (419, 1.032e-01, b\" b'2020-11\"),\n",
       "       (420, 8.665e-01, b\" b'2020-06\"), (421, 9.801e-01, b\" b'2020-08\"),\n",
       "       (422, 6.048e-01, b\" b'2020-06\"), (423, 2.997e-01, b\" b'2020-08\"),\n",
       "       (424, 1.192e-01, b\" b'2020-11\"), (425, 4.352e-01, b\" b'2020-03\"),\n",
       "       (426, 2.774e-01, b\" b'2020-04\"), (427, 6.866e-01, b\" b'2020-11\"),\n",
       "       (428, 4.692e-01, b\" b'2020-12\"), (429, 9.573e-01, b\" b'2020-10\"),\n",
       "       (430, 3.439e-01, b\" b'2020-02\"), (431, 9.300e-03, b\" b'2020-07\"),\n",
       "       (432, 8.650e-02, b\" b'2020-02\"), (433, 9.334e-01, b\" b'2020-09\"),\n",
       "       (434, 3.483e-01, b\" b'2020-09\"), (435, 6.960e-02, b\" b'2020-12\"),\n",
       "       (436, 9.342e-01, b\" b'2020-04\"), (437, 1.100e-03, b\" b'2020-04\"),\n",
       "       (438, 8.370e-01, b\" b'2020-05\"), (439, 5.760e-01, b\" b'2020-12\"),\n",
       "       (440, 6.650e-02, b\" b'2020-02\"), (441, 7.235e-01, b\" b'2020-04\"),\n",
       "       (442, 4.801e-01, b\" b'2020-09\"), (443, 7.438e-01, b\" b'2020-04\"),\n",
       "       (444, 4.923e-01, b\" b'2020-02\"), (445, 5.420e-02, b\" b'2020-07\"),\n",
       "       (446, 5.711e-01, b\" b'2020-02\"), (447, 4.056e-01, b\" b'2020-06\"),\n",
       "       (448, 6.037e-01, b\" b'2020-09\"), (449, 4.290e-01, b\" b'2020-09\"),\n",
       "       (450, 5.300e-03, b\" b'2020-12\"), (451, 7.755e-01, b\" b'2020-05\"),\n",
       "       (452, 8.236e-01, b\" b'2020-01\"), (453, 5.656e-01, b\" b'2020-04\"),\n",
       "       (454, 7.988e-01, b\" b'2020-12\"), (455, 4.418e-01, b\" b'2020-11\"),\n",
       "       (456, 4.940e-01, b\" b'2020-08\"), (457, 4.131e-01, b\" b'2020-02\"),\n",
       "       (458, 6.889e-01, b\" b'2020-01\"), (459, 2.151e-01, b\" b'2020-04\"),\n",
       "       (460, 2.200e-02, b\" b'2020-08\"), (461, 4.687e-01, b\" b'2020-06\"),\n",
       "       (462, 2.752e-01, b\" b'2020-11\"), (463, 8.778e-01, b\" b'2020-10\"),\n",
       "       (464, 3.350e-01, b\" b'2020-12\"), (465, 7.840e-02, b\" b'2020-05\"),\n",
       "       (466, 4.667e-01, b\" b'2020-09\"), (467, 3.566e-01, b\" b'2020-05\"),\n",
       "       (468, 2.850e-01, b\" b'2020-01\"), (469, 1.005e-01, b\" b'2020-05\"),\n",
       "       (470, 3.531e-01, b\" b'2020-04\"), (471, 4.090e-01, b\" b'2020-02\"),\n",
       "       (472, 9.777e-01, b\" b'2020-03\"), (473, 6.808e-01, b\" b'2020-07\"),\n",
       "       (474, 2.382e-01, b\" b'2020-08\"), (475, 6.421e-01, b\" b'2020-01\"),\n",
       "       (476, 3.724e-01, b\" b'2020-03\"), (477, 6.848e-01, b\" b'2020-05\"),\n",
       "       (478, 3.105e-01, b\" b'2020-03\"), (479, 9.448e-01, b\" b'2020-12\"),\n",
       "       (480, 8.319e-01, b\" b'2020-12\"), (481, 7.173e-01, b\" b'2020-07\"),\n",
       "       (482, 2.601e-01, b\" b'2020-01\"), (483, 1.205e-01, b\" b'2020-04\"),\n",
       "       (484, 8.223e-01, b\" b'2020-08\"), (485, 3.975e-01, b\" b'2020-07\"),\n",
       "       (486, 6.391e-01, b\" b'2020-09\"), (487, 7.889e-01, b\" b'2020-10\"),\n",
       "       (488, 7.659e-01, b\" b'2020-10\"), (489, 3.581e-01, b\" b'2020-04\"),\n",
       "       (490, 6.858e-01, b\" b'2020-06\"), (491, 1.230e-02, b\" b'2020-08\"),\n",
       "       (492, 3.732e-01, b\" b'2020-05\"), (493, 1.806e-01, b\" b'2020-05\"),\n",
       "       (494, 4.547e-01, b\" b'2020-01\"), (495, 4.469e-01, b\" b'2020-09\"),\n",
       "       (496, 2.869e-01, b\" b'2020-09\"), (497, 4.347e-01, b\" b'2020-10\"),\n",
       "       (498, 9.227e-01, b\" b'2020-10\"), (499, 7.085e-01, b\" b'2020-10\"),\n",
       "       (500, 2.309e-01, b\" b'2020-09\"), (501, 9.630e-02, b\" b'2020-01\"),\n",
       "       (502, 1.857e-01, b\" b'2020-05\"), (503, 3.000e-04, b\" b'2020-12\"),\n",
       "       (504, 9.165e-01, b\" b'2020-04\"), (505, 7.546e-01, b\" b'2020-08\"),\n",
       "       (506, 7.695e-01, b\" b'2020-05\"), (507, 9.720e-02, b\" b'2020-12\"),\n",
       "       (508, 3.098e-01, b\" b'2020-06\"), (509, 1.840e-01, b\" b'2020-10\"),\n",
       "       (510, 4.301e-01, b\" b'2020-01\"), (511, 8.255e-01, b\" b'2020-08\"),\n",
       "       (512, 6.129e-01, b\" b'2020-02\"), (513, 5.508e-01, b\" b'2020-01\"),\n",
       "       (514, 6.665e-01, b\" b'2020-08\"), (515, 6.759e-01, b\" b'2020-05\"),\n",
       "       (516, 4.302e-01, b\" b'2020-12\"), (517, 4.503e-01, b\" b'2020-01\"),\n",
       "       (518, 3.800e-02, b\" b'2020-04\"), (519, 6.227e-01, b\" b'2020-10\"),\n",
       "       (520, 3.860e-02, b\" b'2020-06\"), (521, 5.035e-01, b\" b'2020-12\"),\n",
       "       (522, 2.720e-02, b\" b'2020-07\"), (523, 2.626e-01, b\" b'2020-11\"),\n",
       "       (524, 3.112e-01, b\" b'2020-09\"), (525, 3.631e-01, b\" b'2020-02\"),\n",
       "       (526, 5.040e-02, b\" b'2020-03\"), (527, 7.194e-01, b\" b'2020-12\"),\n",
       "       (528, 7.084e-01, b\" b'2020-09\"), (529, 3.619e-01, b\" b'2020-12\"),\n",
       "       (530, 6.568e-01, b\" b'2020-09\"), (531, 4.009e-01, b\" b'2020-03\"),\n",
       "       (532, 2.925e-01, b\" b'2020-01\"), (533, 4.663e-01, b\" b'2020-08\"),\n",
       "       (534, 6.164e-01, b\" b'2020-03\"), (535, 3.763e-01, b\" b'2020-05\"),\n",
       "       (536, 4.631e-01, b\" b'2020-01\"), (537, 6.181e-01, b\" b'2020-12\"),\n",
       "       (538, 8.750e-02, b\" b'2020-10\"), (539, 5.390e-01, b\" b'2020-09\"),\n",
       "       (540, 4.920e-02, b\" b'2020-05\"), (541, 7.983e-01, b\" b'2020-10\"),\n",
       "       (542, 1.679e-01, b\" b'2020-01\"), (543, 3.378e-01, b\" b'2020-07\"),\n",
       "       (544, 6.708e-01, b\" b'2020-01\"), (545, 7.519e-01, b\" b'2020-12\"),\n",
       "       (546, 8.401e-01, b\" b'2020-10\"), (547, 9.738e-01, b\" b'2020-06\"),\n",
       "       (548, 8.143e-01, b\" b'2020-06\"), (549, 6.762e-01, b\" b'2020-10\"),\n",
       "       (550, 9.539e-01, b\" b'2020-03\"), (551, 1.992e-01, b\" b'2020-08\"),\n",
       "       (552, 1.939e-01, b\" b'2020-01\"), (553, 9.509e-01, b\" b'2020-09\"),\n",
       "       (554, 5.114e-01, b\" b'2020-01\"), (555, 7.114e-01, b\" b'2020-01\"),\n",
       "       (556, 3.410e-01, b\" b'2020-12\"), (557, 8.160e-02, b\" b'2020-06\"),\n",
       "       (558, 5.000e-03, b\" b'2020-01\"), (559, 6.460e-01, b\" b'2020-12\"),\n",
       "       (560, 8.900e-01, b\" b'2020-07\"), (561, 6.744e-01, b\" b'2020-03\"),\n",
       "       (562, 2.008e-01, b\" b'2020-09\"), (563, 7.766e-01, b\" b'2020-11\"),\n",
       "       (564, 2.502e-01, b\" b'2020-11\"), (565, 8.951e-01, b\" b'2020-10\"),\n",
       "       (566, 6.666e-01, b\" b'2020-06\"), (567, 7.759e-01, b\" b'2020-01\"),\n",
       "       (568, 7.960e-02, b\" b'2020-10\"), (569, 3.681e-01, b\" b'2020-06\"),\n",
       "       (570, 5.859e-01, b\" b'2020-03\"), (571, 5.465e-01, b\" b'2020-10\"),\n",
       "       (572, 2.031e-01, b\" b'2020-07\"), (573, 5.377e-01, b\" b'2020-06\"),\n",
       "       (574, 9.984e-01, b\" b'2020-04\"), (575, 9.827e-01, b\" b'2020-05\"),\n",
       "       (576, 6.716e-01, b\" b'2020-01\"), (577, 2.369e-01, b\" b'2020-10\"),\n",
       "       (578, 5.710e-02, b\" b'2020-12\"), (579, 6.287e-01, b\" b'2020-05\"),\n",
       "       (580, 2.657e-01, b\" b'2020-07\"), (581, 6.563e-01, b\" b'2020-07\"),\n",
       "       (582, 7.068e-01, b\" b'2020-06\"), (583, 9.533e-01, b\" b'2020-08\"),\n",
       "       (584, 4.662e-01, b\" b'2020-05\"), (585, 2.691e-01, b\" b'2020-12\"),\n",
       "       (586, 9.121e-01, b\" b'2020-08\"), (587, 8.147e-01, b\" b'2020-02\"),\n",
       "       (588, 2.751e-01, b\" b'2020-04\"), (589, 9.724e-01, b\" b'2020-07\"),\n",
       "       (590, 8.323e-01, b\" b'2020-08\"), (591, 4.540e-01, b\" b'2020-08\"),\n",
       "       (592, 4.440e-01, b\" b'2020-09\"), (593, 1.551e-01, b\" b'2020-12\"),\n",
       "       (594, 9.051e-01, b\" b'2020-03\"), (595, 7.848e-01, b\" b'2020-02\"),\n",
       "       (596, 7.769e-01, b\" b'2020-10\"), (597, 7.140e-02, b\" b'2020-04\"),\n",
       "       (598, 2.360e-01, b\" b'2020-11\"), (599, 6.230e-02, b\" b'2020-08\"),\n",
       "       (600, 4.260e-02, b\" b'2020-04\"), (601, 7.340e-02, b\" b'2020-02\"),\n",
       "       (602, 9.684e-01, b\" b'2020-12\"), (603, 2.197e-01, b\" b'2020-10\"),\n",
       "       (604, 4.750e-01, b\" b'2020-04\"), (605, 9.047e-01, b\" b'2020-01\"),\n",
       "       (606, 3.186e-01, b\" b'2020-03\"), (607, 6.454e-01, b\" b'2020-03\"),\n",
       "       (608, 9.412e-01, b\" b'2020-02\"), (609, 6.540e-02, b\" b'2020-11\"),\n",
       "       (610, 8.897e-01, b\" b'2020-10\"), (611, 1.628e-01, b\" b'2020-01\"),\n",
       "       (612, 2.376e-01, b\" b'2020-07\"), (613, 6.102e-01, b\" b'2020-10\"),\n",
       "       (614, 2.920e-01, b\" b'2020-08\"), (615, 4.124e-01, b\" b'2020-04\"),\n",
       "       (616, 6.057e-01, b\" b'2020-04\"), (617, 6.435e-01, b\" b'2020-12\"),\n",
       "       (618, 7.664e-01, b\" b'2020-02\"), (619, 9.585e-01, b\" b'2020-04\"),\n",
       "       (620, 6.749e-01, b\" b'2020-03\"), (621, 2.118e-01, b\" b'2020-12\"),\n",
       "       (622, 9.181e-01, b\" b'2020-11\"), (623, 9.476e-01, b\" b'2020-12\"),\n",
       "       (624, 1.139e-01, b\" b'2020-04\"), (625, 2.142e-01, b\" b'2020-12\"),\n",
       "       (626, 1.745e-01, b\" b'2020-09\"), (627, 8.522e-01, b\" b'2020-05\"),\n",
       "       (628, 6.701e-01, b\" b'2020-08\"), (629, 5.532e-01, b\" b'2020-06\"),\n",
       "       (630, 8.696e-01, b\" b'2020-11\"), (631, 3.328e-01, b\" b'2020-04\"),\n",
       "       (632, 5.429e-01, b\" b'2020-04\"), (633, 4.471e-01, b\" b'2020-01\"),\n",
       "       (634, 2.604e-01, b\" b'2020-04\"), (635, 7.004e-01, b\" b'2020-12\"),\n",
       "       (636, 3.202e-01, b\" b'2020-08\"), (637, 6.568e-01, b\" b'2020-09\"),\n",
       "       (638, 7.310e-01, b\" b'2020-02\"), (639, 3.999e-01, b\" b'2020-06\"),\n",
       "       (640, 9.576e-01, b\" b'2020-08\"), (641, 7.897e-01, b\" b'2020-09\"),\n",
       "       (642, 4.624e-01, b\" b'2020-08\"), (643, 1.588e-01, b\" b'2020-08\"),\n",
       "       (644, 1.143e-01, b\" b'2020-04\"), (645, 3.525e-01, b\" b'2020-11\"),\n",
       "       (646, 8.161e-01, b\" b'2020-04\"), (647, 2.807e-01, b\" b'2020-11\"),\n",
       "       (648, 8.459e-01, b\" b'2020-08\"), (649, 3.174e-01, b\" b'2020-04\"),\n",
       "       (650, 5.187e-01, b\" b'2020-12\"), (651, 7.889e-01, b\" b'2020-08\"),\n",
       "       (652, 6.473e-01, b\" b'2020-06\"), (653, 7.426e-01, b\" b'2020-06\"),\n",
       "       (654, 6.048e-01, b\" b'2020-03\"), (655, 1.890e-01, b\" b'2020-03\"),\n",
       "       (656, 3.960e-01, b\" b'2020-03\"), (657, 2.276e-01, b\" b'2020-04\"),\n",
       "       (658, 5.386e-01, b\" b'2020-11\"), (659, 6.825e-01, b\" b'2020-11\"),\n",
       "       (660, 7.310e-02, b\" b'2020-02\"), (661, 7.780e-01, b\" b'2020-11\"),\n",
       "       (662, 2.562e-01, b\" b'2020-05\"), (663, 8.156e-01, b\" b'2020-01\"),\n",
       "       (664, 2.136e-01, b\" b'2020-05\"), (665, 2.312e-01, b\" b'2020-06\"),\n",
       "       (666, 9.925e-01, b\" b'2020-03\"), (667, 8.256e-01, b\" b'2020-12\"),\n",
       "       (668, 4.165e-01, b\" b'2020-05\"), (669, 9.914e-01, b\" b'2020-11\"),\n",
       "       (670, 9.499e-01, b\" b'2020-07\"), (671, 9.337e-01, b\" b'2020-02\"),\n",
       "       (672, 7.862e-01, b\" b'2020-05\"), (673, 7.008e-01, b\" b'2020-04\"),\n",
       "       (674, 8.842e-01, b\" b'2020-05\"), (675, 1.997e-01, b\" b'2020-08\"),\n",
       "       (676, 5.099e-01, b\" b'2020-11\"), (677, 3.637e-01, b\" b'2020-09\"),\n",
       "       (678, 5.400e-03, b\" b'2020-01\"), (679, 3.982e-01, b\" b'2020-06\"),\n",
       "       (680, 2.288e-01, b\" b'2020-02\"), (681, 1.921e-01, b\" b'2020-08\"),\n",
       "       (682, 3.149e-01, b\" b'2020-07\"), (683, 9.676e-01, b\" b'2020-01\"),\n",
       "       (684, 3.736e-01, b\" b'2020-11\"), (685, 9.400e-01, b\" b'2020-10\"),\n",
       "       (686, 5.685e-01, b\" b'2020-08\"), (687, 3.683e-01, b\" b'2020-11\"),\n",
       "       (688, 1.542e-01, b\" b'2020-08\"), (689, 8.265e-01, b\" b'2020-10\"),\n",
       "       (690, 8.110e-01, b\" b'2020-12\"), (691, 2.017e-01, b\" b'2020-06\"),\n",
       "       (692, 6.674e-01, b\" b'2020-01\"), (693, 9.055e-01, b\" b'2020-10\"),\n",
       "       (694, 6.810e-01, b\" b'2020-06\"), (695, 2.414e-01, b\" b'2020-04\"),\n",
       "       (696, 8.410e-02, b\" b'2020-10\"), (697, 6.328e-01, b\" b'2020-06\"),\n",
       "       (698, 8.152e-01, b\" b'2020-02\"), (699, 7.059e-01, b\" b'2020-04\"),\n",
       "       (700, 9.387e-01, b\" b'2020-01\"), (701, 6.893e-01, b\" b'2020-06\"),\n",
       "       (702, 9.245e-01, b\" b'2020-11\"), (703, 7.490e-01, b\" b'2020-10\"),\n",
       "       (704, 5.226e-01, b\" b'2020-11\"), (705, 9.476e-01, b\" b'2020-09\"),\n",
       "       (706, 2.955e-01, b\" b'2020-01\"), (707, 8.200e-03, b\" b'2020-11\"),\n",
       "       (708, 3.522e-01, b\" b'2020-12\"), (709, 6.075e-01, b\" b'2020-11\"),\n",
       "       (710, 1.781e-01, b\" b'2020-09\"), (711, 1.199e-01, b\" b'2020-11\"),\n",
       "       (712, 1.848e-01, b\" b'2020-04\"), (713, 7.384e-01, b\" b'2020-01\"),\n",
       "       (714, 5.887e-01, b\" b'2020-04\"), (715, 2.151e-01, b\" b'2020-08\"),\n",
       "       (716, 1.849e-01, b\" b'2020-08\"), (717, 2.935e-01, b\" b'2020-03\"),\n",
       "       (718, 7.447e-01, b\" b'2020-05\"), (719, 4.214e-01, b\" b'2020-10\"),\n",
       "       (720, 8.696e-01, b\" b'2020-04\"), (721, 4.790e-02, b\" b'2020-10\"),\n",
       "       (722, 9.458e-01, b\" b'2020-09\"), (723, 3.707e-01, b\" b'2020-01\"),\n",
       "       (724, 1.452e-01, b\" b'2020-04\"), (725, 4.138e-01, b\" b'2020-11\"),\n",
       "       (726, 2.178e-01, b\" b'2020-12\"), (727, 1.496e-01, b\" b'2020-06\"),\n",
       "       (728, 2.089e-01, b\" b'2020-08\"), (729, 9.959e-01, b\" b'2020-06\"),\n",
       "       (730, 8.667e-01, b\" b'2020-07\"), (731, 9.030e-01, b\" b'2020-10\"),\n",
       "       (732, 5.327e-01, b\" b'2020-01\"), (733, 3.207e-01, b\" b'2020-01\"),\n",
       "       (734, 6.176e-01, b\" b'2020-05\"), (735, 7.955e-01, b\" b'2020-05\"),\n",
       "       (736, 5.459e-01, b\" b'2020-01\"), (737, 5.000e-01, b\" b'2020-04\"),\n",
       "       (738, 5.724e-01, b\" b'2020-02\"), (739, 6.288e-01, b\" b'2020-09\"),\n",
       "       (740, 4.380e-01, b\" b'2020-04\"), (741, 3.307e-01, b\" b'2020-10\"),\n",
       "       (742, 8.432e-01, b\" b'2020-06\"), (743, 2.280e-02, b\" b'2020-10\"),\n",
       "       (744, 8.735e-01, b\" b'2020-04\"), (745, 9.644e-01, b\" b'2020-03\"),\n",
       "       (746, 6.140e-02, b\" b'2020-10\"), (747, 6.379e-01, b\" b'2020-09\"),\n",
       "       (748, 1.751e-01, b\" b'2020-03\"), (749, 5.111e-01, b\" b'2020-02\"),\n",
       "       (750, 1.838e-01, b\" b'2020-10\"), (751, 2.634e-01, b\" b'2020-03\"),\n",
       "       (752, 1.060e-01, b\" b'2020-04\"), (753, 7.966e-01, b\" b'2020-03\"),\n",
       "       (754, 5.765e-01, b\" b'2020-07\"), (755, 8.910e-01, b\" b'2020-06\"),\n",
       "       (756, 6.607e-01, b\" b'2020-11\"), (757, 4.812e-01, b\" b'2020-01\"),\n",
       "       (758, 9.450e-02, b\" b'2020-09\"), (759, 6.594e-01, b\" b'2020-03\"),\n",
       "       (760, 8.093e-01, b\" b'2020-05\"), (761, 8.564e-01, b\" b'2020-05\"),\n",
       "       (762, 5.755e-01, b\" b'2020-07\"), (763, 1.171e-01, b\" b'2020-12\"),\n",
       "       (764, 1.380e-01, b\" b'2020-01\"), (765, 2.330e-01, b\" b'2020-11\"),\n",
       "       (766, 1.356e-01, b\" b'2020-03\"), (767, 8.683e-01, b\" b'2020-03\"),\n",
       "       (768, 6.642e-01, b\" b'2020-12\"), (769, 5.726e-01, b\" b'2020-12\"),\n",
       "       (770, 3.849e-01, b\" b'2020-12\"), (771, 5.392e-01, b\" b'2020-02\"),\n",
       "       (772, 9.190e-01, b\" b'2020-10\"), (773, 9.076e-01, b\" b'2020-02\"),\n",
       "       (774, 3.282e-01, b\" b'2020-11\"), (775, 7.725e-01, b\" b'2020-07\"),\n",
       "       (776, 9.139e-01, b\" b'2020-05\"), (777, 9.382e-01, b\" b'2020-10\"),\n",
       "       (778, 6.232e-01, b\" b'2020-03\"), (779, 6.843e-01, b\" b'2020-05\"),\n",
       "       (780, 4.730e-01, b\" b'2020-08\"), (781, 5.620e-02, b\" b'2020-05\"),\n",
       "       (782, 8.272e-01, b\" b'2020-12\"), (783, 1.362e-01, b\" b'2020-02\"),\n",
       "       (784, 5.346e-01, b\" b'2020-12\"), (785, 6.257e-01, b\" b'2020-01\"),\n",
       "       (786, 1.062e-01, b\" b'2020-10\"), (787, 2.187e-01, b\" b'2020-04\"),\n",
       "       (788, 4.710e-02, b\" b'2020-07\"), (789, 2.563e-01, b\" b'2020-07\"),\n",
       "       (790, 6.515e-01, b\" b'2020-09\"), (791, 7.245e-01, b\" b'2020-08\"),\n",
       "       (792, 3.000e-04, b\" b'2020-03\"), (793, 8.922e-01, b\" b'2020-03\"),\n",
       "       (794, 5.800e-03, b\" b'2020-11\"), (795, 8.267e-01, b\" b'2020-09\"),\n",
       "       (796, 1.705e-01, b\" b'2020-08\"), (797, 8.424e-01, b\" b'2020-06\"),\n",
       "       (798, 6.853e-01, b\" b'2020-09\"), (799, 6.327e-01, b\" b'2020-10\"),\n",
       "       (800, 3.590e-02, b\" b'2020-09\"), (801, 1.812e-01, b\" b'2020-08\"),\n",
       "       (802, 7.025e-01, b\" b'2020-04\"), (803, 7.425e-01, b\" b'2020-09\"),\n",
       "       (804, 4.288e-01, b\" b'2020-08\"), (805, 3.340e-01, b\" b'2020-08\"),\n",
       "       (806, 2.583e-01, b\" b'2020-01\"), (807, 8.605e-01, b\" b'2020-06\"),\n",
       "       (808, 9.300e-02, b\" b'2020-09\"), (809, 5.658e-01, b\" b'2020-11\"),\n",
       "       (810, 2.014e-01, b\" b'2020-03\"), (811, 8.988e-01, b\" b'2020-06\"),\n",
       "       (812, 8.002e-01, b\" b'2020-10\"), (813, 4.789e-01, b\" b'2020-02\"),\n",
       "       (814, 6.378e-01, b\" b'2020-03\"), (815, 2.884e-01, b\" b'2020-09\"),\n",
       "       (816, 1.323e-01, b\" b'2020-02\"), (817, 9.811e-01, b\" b'2020-04\"),\n",
       "       (818, 7.611e-01, b\" b'2020-05\"), (819, 9.655e-01, b\" b'2020-01\"),\n",
       "       (820, 5.439e-01, b\" b'2020-05\"), (821, 3.766e-01, b\" b'2020-03\"),\n",
       "       (822, 8.262e-01, b\" b'2020-02\"), (823, 9.767e-01, b\" b'2020-01\"),\n",
       "       (824, 2.979e-01, b\" b'2020-05\"), (825, 4.368e-01, b\" b'2020-05\"),\n",
       "       (826, 4.699e-01, b\" b'2020-08\"), (827, 9.900e-01, b\" b'2020-12\"),\n",
       "       (828, 4.596e-01, b\" b'2020-07\"), (829, 2.439e-01, b\" b'2020-03\"),\n",
       "       (830, 4.726e-01, b\" b'2020-05\"), (831, 5.254e-01, b\" b'2020-06\"),\n",
       "       (832, 2.638e-01, b\" b'2020-01\"), (833, 6.952e-01, b\" b'2020-03\"),\n",
       "       (834, 5.251e-01, b\" b'2020-06\"), (835, 2.670e-01, b\" b'2020-02\"),\n",
       "       (836, 3.155e-01, b\" b'2020-02\"), (837, 6.776e-01, b\" b'2020-08\"),\n",
       "       (838, 2.104e-01, b\" b'2020-09\"), (839, 4.479e-01, b\" b'2020-11\"),\n",
       "       (840, 9.286e-01, b\" b'2020-02\"), (841, 6.777e-01, b\" b'2020-05\"),\n",
       "       (842, 5.697e-01, b\" b'2020-05\"), (843, 1.269e-01, b\" b'2020-10\"),\n",
       "       (844, 4.408e-01, b\" b'2020-02\"), (845, 3.784e-01, b\" b'2020-11\"),\n",
       "       (846, 4.916e-01, b\" b'2020-03\"), (847, 1.926e-01, b\" b'2020-05\"),\n",
       "       (848, 7.666e-01, b\" b'2020-12\"), (849, 8.050e-02, b\" b'2020-12\"),\n",
       "       (850, 8.325e-01, b\" b'2020-09\"), (851, 2.741e-01, b\" b'2020-06\"),\n",
       "       (852, 1.159e-01, b\" b'2020-07\"), (853, 2.951e-01, b\" b'2020-05\"),\n",
       "       (854, 8.985e-01, b\" b'2020-11\"), (855, 2.785e-01, b\" b'2020-12\"),\n",
       "       (856, 4.363e-01, b\" b'2020-11\"), (857, 7.024e-01, b\" b'2020-01\"),\n",
       "       (858, 8.660e-02, b\" b'2020-04\"), (859, 7.390e-02, b\" b'2020-02\"),\n",
       "       (860, 8.214e-01, b\" b'2020-10\"), (861, 4.090e-02, b\" b'2020-02\"),\n",
       "       (862, 9.559e-01, b\" b'2020-05\"), (863, 9.525e-01, b\" b'2020-09\"),\n",
       "       (864, 8.696e-01, b\" b'2020-11\"), (865, 8.290e-01, b\" b'2020-02\"),\n",
       "       (866, 7.906e-01, b\" b'2020-12\"), (867, 8.787e-01, b\" b'2020-09\"),\n",
       "       (868, 7.310e-02, b\" b'2020-02\"), (869, 3.075e-01, b\" b'2020-04\"),\n",
       "       (870, 1.250e-02, b\" b'2020-09\"), (871, 8.148e-01, b\" b'2020-10\"),\n",
       "       (872, 9.754e-01, b\" b'2020-05\"), (873, 5.671e-01, b\" b'2020-04\"),\n",
       "       (874, 7.871e-01, b\" b'2020-01\"), (875, 4.743e-01, b\" b'2020-12\"),\n",
       "       (876, 4.172e-01, b\" b'2020-05\"), (877, 8.006e-01, b\" b'2020-05\"),\n",
       "       (878, 2.225e-01, b\" b'2020-10\"), (879, 2.057e-01, b\" b'2020-03\"),\n",
       "       (880, 8.256e-01, b\" b'2020-03\"), (881, 6.662e-01, b\" b'2020-09\"),\n",
       "       (882, 4.582e-01, b\" b'2020-08\"), (883, 1.125e-01, b\" b'2020-07\"),\n",
       "       (884, 2.236e-01, b\" b'2020-08\"), (885, 5.439e-01, b\" b'2020-09\"),\n",
       "       (886, 9.040e-01, b\" b'2020-08\"), (887, 9.898e-01, b\" b'2020-06\"),\n",
       "       (888, 2.041e-01, b\" b'2020-05\"), (889, 7.903e-01, b\" b'2020-09\"),\n",
       "       (890, 2.913e-01, b\" b'2020-07\"), (891, 1.840e-01, b\" b'2020-02\"),\n",
       "       (892, 6.191e-01, b\" b'2020-04\"), (893, 4.626e-01, b\" b'2020-06\"),\n",
       "       (894, 4.204e-01, b\" b'2020-03\"), (895, 1.521e-01, b\" b'2020-03\"),\n",
       "       (896, 5.781e-01, b\" b'2020-07\"), (897, 3.258e-01, b\" b'2020-11\"),\n",
       "       (898, 3.086e-01, b\" b'2020-08\"), (899, 8.854e-01, b\" b'2020-08\"),\n",
       "       (900, 7.800e-02, b\" b'2020-02\"), (901, 4.000e-04, b\" b'2020-07\"),\n",
       "       (902, 1.590e-02, b\" b'2020-04\"), (903, 4.693e-01, b\" b'2020-01\"),\n",
       "       (904, 7.575e-01, b\" b'2020-06\"), (905, 6.780e-01, b\" b'2020-11\"),\n",
       "       (906, 9.962e-01, b\" b'2020-08\"), (907, 8.861e-01, b\" b'2020-01\"),\n",
       "       (908, 5.561e-01, b\" b'2020-05\"), (909, 9.169e-01, b\" b'2020-07\"),\n",
       "       (910, 4.920e-01, b\" b'2020-06\"), (911, 5.662e-01, b\" b'2020-12\"),\n",
       "       (912, 9.072e-01, b\" b'2020-08\"), (913, 1.925e-01, b\" b'2020-07\"),\n",
       "       (914, 8.053e-01, b\" b'2020-02\"), (915, 7.210e-02, b\" b'2020-05\"),\n",
       "       (916, 9.285e-01, b\" b'2020-09\"), (917, 2.247e-01, b\" b'2020-07\"),\n",
       "       (918, 1.148e-01, b\" b'2020-05\"), (919, 7.542e-01, b\" b'2020-02\"),\n",
       "       (920, 1.138e-01, b\" b'2020-10\"), (921, 5.792e-01, b\" b'2020-04\"),\n",
       "       (922, 2.103e-01, b\" b'2020-09\"), (923, 9.264e-01, b\" b'2020-12\"),\n",
       "       (924, 4.922e-01, b\" b'2020-09\"), (925, 6.805e-01, b\" b'2020-12\"),\n",
       "       (926, 8.276e-01, b\" b'2020-05\"), (927, 9.929e-01, b\" b'2020-04\"),\n",
       "       (928, 2.824e-01, b\" b'2020-03\"), (929, 3.231e-01, b\" b'2020-08\"),\n",
       "       (930, 6.616e-01, b\" b'2020-11\"), (931, 9.840e-01, b\" b'2020-12\"),\n",
       "       (932, 9.307e-01, b\" b'2020-02\"), (933, 1.205e-01, b\" b'2020-07\"),\n",
       "       (934, 7.988e-01, b\" b'2020-01\"), (935, 2.638e-01, b\" b'2020-06\"),\n",
       "       (936, 1.420e-02, b\" b'2020-06\"), (937, 6.080e-02, b\" b'2020-04\"),\n",
       "       (938, 7.845e-01, b\" b'2020-03\"), (939, 1.562e-01, b\" b'2020-08\"),\n",
       "       (940, 3.227e-01, b\" b'2020-01\"), (941, 4.474e-01, b\" b'2020-12\"),\n",
       "       (942, 5.113e-01, b\" b'2020-08\"), (943, 9.360e-01, b\" b'2020-04\"),\n",
       "       (944, 9.597e-01, b\" b'2020-07\"), (945, 4.288e-01, b\" b'2020-10\"),\n",
       "       (946, 8.404e-01, b\" b'2020-01\"), (947, 5.264e-01, b\" b'2020-03\"),\n",
       "       (948, 7.446e-01, b\" b'2020-01\"), (949, 4.780e-01, b\" b'2020-07\"),\n",
       "       (950, 4.000e-03, b\" b'2020-04\"), (951, 1.321e-01, b\" b'2020-04\"),\n",
       "       (952, 7.556e-01, b\" b'2020-01\"), (953, 6.016e-01, b\" b'2020-08\"),\n",
       "       (954, 7.535e-01, b\" b'2020-05\"), (955, 3.412e-01, b\" b'2020-07\"),\n",
       "       (956, 6.273e-01, b\" b'2020-07\"), (957, 4.821e-01, b\" b'2020-06\"),\n",
       "       (958, 5.500e-02, b\" b'2020-11\"), (959, 8.835e-01, b\" b'2020-04\"),\n",
       "       (960, 8.880e-01, b\" b'2020-05\"), (961, 2.938e-01, b\" b'2020-03\"),\n",
       "       (962, 2.670e-01, b\" b'2020-10\"), (963, 9.637e-01, b\" b'2020-02\"),\n",
       "       (964, 9.210e-01, b\" b'2020-12\"), (965, 6.389e-01, b\" b'2020-11\"),\n",
       "       (966, 1.068e-01, b\" b'2020-01\"), (967, 3.442e-01, b\" b'2020-05\"),\n",
       "       (968, 6.560e-02, b\" b'2020-05\"), (969, 7.000e-02, b\" b'2020-01\"),\n",
       "       (970, 6.847e-01, b\" b'2020-01\"), (971, 9.825e-01, b\" b'2020-06\"),\n",
       "       (972, 9.434e-01, b\" b'2020-06\"), (973, 5.600e-01, b\" b'2020-05\"),\n",
       "       (974, 8.859e-01, b\" b'2020-10\"), (975, 1.740e-02, b\" b'2020-03\"),\n",
       "       (976, 3.956e-01, b\" b'2020-01\"), (977, 5.805e-01, b\" b'2020-12\"),\n",
       "       (978, 3.717e-01, b\" b'2020-12\"), (979, 9.055e-01, b\" b'2020-01\"),\n",
       "       (980, 8.911e-01, b\" b'2020-12\"), (981, 3.271e-01, b\" b'2020-03\"),\n",
       "       (982, 2.612e-01, b\" b'2020-11\"), (983, 6.843e-01, b\" b'2020-04\"),\n",
       "       (984, 3.876e-01, b\" b'2020-01\"), (985, 6.886e-01, b\" b'2020-08\"),\n",
       "       (986, 2.989e-01, b\" b'2020-02\"), (987, 5.642e-01, b\" b'2020-03\"),\n",
       "       (988, 3.422e-01, b\" b'2020-02\"), (989, 1.126e-01, b\" b'2020-05\"),\n",
       "       (990, 3.030e-01, b\" b'2020-07\"), (991, 5.440e-02, b\" b'2020-05\"),\n",
       "       (992, 9.784e-01, b\" b'2020-05\"), (993, 1.710e-01, b\" b'2020-10\"),\n",
       "       (994, 1.095e-01, b\" b'2020-11\"), (995, 9.056e-01, b\" b'2020-09\"),\n",
       "       (996, 9.630e-01, b\" b'2020-05\"), (997, 7.315e-01, b\" b'2020-10\"),\n",
       "       (998, 4.008e-01, b\" b'2020-01\"), (999, 3.294e-01, b\" b'2020-01\")],\n",
       "      dtype=[('id', '<i4'), ('value', '<f4'), ('date', 'S10')])"
      ]
     },
     "execution_count": 199,
     "metadata": {},
     "output_type": "execute_result"
    }
   ],
   "source": [
    "x = np.load('./x.npy')\n",
    "x"
   ]
  },
  {
   "cell_type": "code",
   "execution_count": 201,
   "metadata": {},
   "outputs": [],
   "source": [
    "np.savez('x_a.npz', x, a)"
   ]
  },
  {
   "cell_type": "code",
   "execution_count": 208,
   "metadata": {},
   "outputs": [
    {
     "data": {
      "text/plain": [
       "NpzFile './x_a.npz' with keys: arr_0, arr_1"
      ]
     },
     "execution_count": 208,
     "metadata": {},
     "output_type": "execute_result"
    }
   ],
   "source": [
    "x_a = np.load('./x_a.npz')\n",
    "x_a"
   ]
  },
  {
   "cell_type": "code",
   "execution_count": 204,
   "metadata": {},
   "outputs": [
    {
     "data": {
      "text/plain": [
       "'arr_0'"
      ]
     },
     "execution_count": 204,
     "metadata": {},
     "output_type": "execute_result"
    }
   ],
   "source": [
    "x"
   ]
  },
  {
   "cell_type": "code",
   "execution_count": 205,
   "metadata": {},
   "outputs": [
    {
     "data": {
      "text/plain": [
       "'arr_1'"
      ]
     },
     "execution_count": 205,
     "metadata": {},
     "output_type": "execute_result"
    }
   ],
   "source": [
    "a"
   ]
  },
  {
   "cell_type": "code",
   "execution_count": 207,
   "metadata": {},
   "outputs": [
    {
     "data": {
      "text/plain": [
       "array([(  0, 3.363e-01, b\" b'2020-01\"), (  1, 3.415e-01, b\" b'2020-04\"),\n",
       "       (  2, 4.200e-02, b\" b'2020-02\"), (  3, 2.433e-01, b\" b'2020-09\"),\n",
       "       (  4, 2.100e-03, b\" b'2020-07\"), (  5, 1.264e-01, b\" b'2020-05\"),\n",
       "       (  6, 2.657e-01, b\" b'2020-04\"), (  7, 1.952e-01, b\" b'2020-06\"),\n",
       "       (  8, 7.788e-01, b\" b'2020-11\"), (  9, 9.068e-01, b\" b'2020-06\"),\n",
       "       ( 10, 3.172e-01, b\" b'2020-07\"), ( 11, 5.982e-01, b\" b'2020-04\"),\n",
       "       ( 12, 1.163e-01, b\" b'2020-11\"), ( 13, 3.502e-01, b\" b'2020-11\"),\n",
       "       ( 14, 7.134e-01, b\" b'2020-08\"), ( 15, 7.919e-01, b\" b'2020-02\"),\n",
       "       ( 16, 2.879e-01, b\" b'2020-04\"), ( 17, 6.707e-01, b\" b'2020-05\"),\n",
       "       ( 18, 1.695e-01, b\" b'2020-08\"), ( 19, 5.240e-01, b\" b'2020-01\"),\n",
       "       ( 20, 4.419e-01, b\" b'2020-12\"), ( 21, 7.211e-01, b\" b'2020-10\"),\n",
       "       ( 22, 2.294e-01, b\" b'2020-07\"), ( 23, 4.031e-01, b\" b'2020-02\"),\n",
       "       ( 24, 9.990e-01, b\" b'2020-02\"), ( 25, 7.969e-01, b\" b'2020-11\"),\n",
       "       ( 26, 6.301e-01, b\" b'2020-10\"), ( 27, 6.550e-02, b\" b'2020-12\"),\n",
       "       ( 28, 7.114e-01, b\" b'2020-11\"), ( 29, 2.970e-02, b\" b'2020-11\"),\n",
       "       ( 30, 8.484e-01, b\" b'2020-05\"), ( 31, 4.147e-01, b\" b'2020-12\"),\n",
       "       ( 32, 4.576e-01, b\" b'2020-03\"), ( 33, 1.332e-01, b\" b'2020-08\"),\n",
       "       ( 34, 3.770e-02, b\" b'2020-06\"), ( 35, 4.821e-01, b\" b'2020-09\"),\n",
       "       ( 36, 6.720e-02, b\" b'2020-05\"), ( 37, 4.543e-01, b\" b'2020-03\"),\n",
       "       ( 38, 1.265e-01, b\" b'2020-12\"), ( 39, 5.557e-01, b\" b'2020-10\"),\n",
       "       ( 40, 8.844e-01, b\" b'2020-07\"), ( 41, 9.657e-01, b\" b'2020-07\"),\n",
       "       ( 42, 1.979e-01, b\" b'2020-04\"), ( 43, 4.587e-01, b\" b'2020-07\"),\n",
       "       ( 44, 3.784e-01, b\" b'2020-09\"), ( 45, 5.301e-01, b\" b'2020-07\"),\n",
       "       ( 46, 3.074e-01, b\" b'2020-06\"), ( 47, 4.586e-01, b\" b'2020-03\"),\n",
       "       ( 48, 7.657e-01, b\" b'2020-07\"), ( 49, 8.210e-02, b\" b'2020-07\"),\n",
       "       ( 50, 2.001e-01, b\" b'2020-12\"), ( 51, 1.189e-01, b\" b'2020-04\"),\n",
       "       ( 52, 7.459e-01, b\" b'2020-06\"), ( 53, 7.912e-01, b\" b'2020-04\"),\n",
       "       ( 54, 4.748e-01, b\" b'2020-03\"), ( 55, 8.386e-01, b\" b'2020-08\"),\n",
       "       ( 56, 9.645e-01, b\" b'2020-11\"), ( 57, 5.870e-01, b\" b'2020-06\"),\n",
       "       ( 58, 2.687e-01, b\" b'2020-01\"), ( 59, 4.361e-01, b\" b'2020-11\"),\n",
       "       ( 60, 7.103e-01, b\" b'2020-06\"), ( 61, 4.694e-01, b\" b'2020-05\"),\n",
       "       ( 62, 1.761e-01, b\" b'2020-11\"), ( 63, 9.652e-01, b\" b'2020-03\"),\n",
       "       ( 64, 2.303e-01, b\" b'2020-07\"), ( 65, 7.820e-01, b\" b'2020-03\"),\n",
       "       ( 66, 2.911e-01, b\" b'2020-12\"), ( 67, 6.821e-01, b\" b'2020-02\"),\n",
       "       ( 68, 6.244e-01, b\" b'2020-03\"), ( 69, 3.356e-01, b\" b'2020-10\"),\n",
       "       ( 70, 4.531e-01, b\" b'2020-04\"), ( 71, 8.893e-01, b\" b'2020-02\"),\n",
       "       ( 72, 8.851e-01, b\" b'2020-06\"), ( 73, 1.016e-01, b\" b'2020-04\"),\n",
       "       ( 74, 1.529e-01, b\" b'2020-12\"), ( 75, 9.499e-01, b\" b'2020-09\"),\n",
       "       ( 76, 9.790e-02, b\" b'2020-09\"), ( 77, 9.973e-01, b\" b'2020-02\"),\n",
       "       ( 78, 7.066e-01, b\" b'2020-09\"), ( 79, 8.790e-01, b\" b'2020-05\"),\n",
       "       ( 80, 7.763e-01, b\" b'2020-04\"), ( 81, 6.345e-01, b\" b'2020-11\"),\n",
       "       ( 82, 6.864e-01, b\" b'2020-08\"), ( 83, 8.577e-01, b\" b'2020-06\"),\n",
       "       ( 84, 5.235e-01, b\" b'2020-02\"), ( 85, 1.981e-01, b\" b'2020-11\"),\n",
       "       ( 86, 6.720e-02, b\" b'2020-09\"), ( 87, 6.129e-01, b\" b'2020-04\"),\n",
       "       ( 88, 9.913e-01, b\" b'2020-06\"), ( 89, 1.541e-01, b\" b'2020-02\"),\n",
       "       ( 90, 5.992e-01, b\" b'2020-05\"), ( 91, 4.152e-01, b\" b'2020-06\"),\n",
       "       ( 92, 5.551e-01, b\" b'2020-08\"), ( 93, 1.592e-01, b\" b'2020-05\"),\n",
       "       ( 94, 7.597e-01, b\" b'2020-11\"), ( 95, 4.589e-01, b\" b'2020-07\"),\n",
       "       ( 96, 8.302e-01, b\" b'2020-05\"), ( 97, 5.815e-01, b\" b'2020-08\"),\n",
       "       ( 98, 3.895e-01, b\" b'2020-03\"), ( 99, 5.743e-01, b\" b'2020-06\"),\n",
       "       (100, 6.560e-01, b\" b'2020-09\"), (101, 4.271e-01, b\" b'2020-01\"),\n",
       "       (102, 9.340e-01, b\" b'2020-01\"), (103, 8.288e-01, b\" b'2020-01\"),\n",
       "       (104, 5.540e-02, b\" b'2020-03\"), (105, 7.700e-03, b\" b'2020-03\"),\n",
       "       (106, 9.194e-01, b\" b'2020-07\"), (107, 1.233e-01, b\" b'2020-10\"),\n",
       "       (108, 8.705e-01, b\" b'2020-07\"), (109, 5.607e-01, b\" b'2020-02\"),\n",
       "       (110, 1.045e-01, b\" b'2020-07\"), (111, 8.642e-01, b\" b'2020-08\"),\n",
       "       (112, 1.196e-01, b\" b'2020-03\"), (113, 9.068e-01, b\" b'2020-02\"),\n",
       "       (114, 7.760e-01, b\" b'2020-11\"), (115, 9.482e-01, b\" b'2020-04\"),\n",
       "       (116, 5.275e-01, b\" b'2020-12\"), (117, 6.364e-01, b\" b'2020-07\"),\n",
       "       (118, 3.176e-01, b\" b'2020-09\"), (119, 6.092e-01, b\" b'2020-07\"),\n",
       "       (120, 6.745e-01, b\" b'2020-06\"), (121, 4.667e-01, b\" b'2020-05\"),\n",
       "       (122, 8.003e-01, b\" b'2020-06\"), (123, 6.882e-01, b\" b'2020-06\"),\n",
       "       (124, 1.113e-01, b\" b'2020-04\"), (125, 5.220e-02, b\" b'2020-08\"),\n",
       "       (126, 8.463e-01, b\" b'2020-09\"), (127, 1.360e-02, b\" b'2020-10\"),\n",
       "       (128, 9.656e-01, b\" b'2020-04\"), (129, 6.510e-01, b\" b'2020-04\"),\n",
       "       (130, 3.444e-01, b\" b'2020-04\"), (131, 8.124e-01, b\" b'2020-03\"),\n",
       "       (132, 5.221e-01, b\" b'2020-07\"), (133, 2.648e-01, b\" b'2020-11\"),\n",
       "       (134, 3.481e-01, b\" b'2020-05\"), (135, 5.782e-01, b\" b'2020-12\"),\n",
       "       (136, 7.724e-01, b\" b'2020-10\"), (137, 8.200e-03, b\" b'2020-11\"),\n",
       "       (138, 4.283e-01, b\" b'2020-10\"), (139, 2.797e-01, b\" b'2020-10\"),\n",
       "       (140, 4.510e-02, b\" b'2020-07\"), (141, 2.153e-01, b\" b'2020-10\"),\n",
       "       (142, 7.422e-01, b\" b'2020-10\"), (143, 9.106e-01, b\" b'2020-05\"),\n",
       "       (144, 2.318e-01, b\" b'2020-07\"), (145, 7.393e-01, b\" b'2020-01\"),\n",
       "       (146, 2.205e-01, b\" b'2020-09\"), (147, 6.959e-01, b\" b'2020-10\"),\n",
       "       (148, 9.288e-01, b\" b'2020-10\"), (149, 3.350e-02, b\" b'2020-04\"),\n",
       "       (150, 2.839e-01, b\" b'2020-06\"), (151, 2.061e-01, b\" b'2020-02\"),\n",
       "       (152, 9.180e-01, b\" b'2020-11\"), (153, 6.079e-01, b\" b'2020-08\"),\n",
       "       (154, 9.264e-01, b\" b'2020-11\"), (155, 5.927e-01, b\" b'2020-10\"),\n",
       "       (156, 7.793e-01, b\" b'2020-10\"), (157, 6.128e-01, b\" b'2020-02\"),\n",
       "       (158, 6.720e-01, b\" b'2020-06\"), (159, 3.018e-01, b\" b'2020-09\"),\n",
       "       (160, 4.917e-01, b\" b'2020-06\"), (161, 6.047e-01, b\" b'2020-07\"),\n",
       "       (162, 5.548e-01, b\" b'2020-08\"), (163, 1.298e-01, b\" b'2020-07\"),\n",
       "       (164, 5.031e-01, b\" b'2020-01\"), (165, 8.438e-01, b\" b'2020-11\"),\n",
       "       (166, 7.054e-01, b\" b'2020-08\"), (167, 5.555e-01, b\" b'2020-09\"),\n",
       "       (168, 5.771e-01, b\" b'2020-01\"), (169, 9.441e-01, b\" b'2020-09\"),\n",
       "       (170, 4.177e-01, b\" b'2020-01\"), (171, 6.759e-01, b\" b'2020-03\"),\n",
       "       (172, 8.040e-02, b\" b'2020-03\"), (173, 9.164e-01, b\" b'2020-04\"),\n",
       "       (174, 9.594e-01, b\" b'2020-02\"), (175, 8.860e-02, b\" b'2020-07\"),\n",
       "       (176, 6.234e-01, b\" b'2020-06\"), (177, 6.380e-02, b\" b'2020-08\"),\n",
       "       (178, 6.268e-01, b\" b'2020-09\"), (179, 2.469e-01, b\" b'2020-03\"),\n",
       "       (180, 6.823e-01, b\" b'2020-10\"), (181, 3.205e-01, b\" b'2020-03\"),\n",
       "       (182, 1.137e-01, b\" b'2020-08\"), (183, 6.872e-01, b\" b'2020-08\"),\n",
       "       (184, 6.590e-01, b\" b'2020-03\"), (185, 9.942e-01, b\" b'2020-10\"),\n",
       "       (186, 5.579e-01, b\" b'2020-01\"), (187, 1.680e-02, b\" b'2020-05\"),\n",
       "       (188, 3.542e-01, b\" b'2020-04\"), (189, 7.954e-01, b\" b'2020-01\"),\n",
       "       (190, 3.325e-01, b\" b'2020-12\"), (191, 6.380e-01, b\" b'2020-10\"),\n",
       "       (192, 5.354e-01, b\" b'2020-08\"), (193, 3.883e-01, b\" b'2020-07\"),\n",
       "       (194, 3.077e-01, b\" b'2020-11\"), (195, 7.796e-01, b\" b'2020-10\"),\n",
       "       (196, 8.800e-03, b\" b'2020-07\"), (197, 3.810e-01, b\" b'2020-10\"),\n",
       "       (198, 1.672e-01, b\" b'2020-11\"), (199, 2.423e-01, b\" b'2020-07\"),\n",
       "       (200, 2.349e-01, b\" b'2020-07\"), (201, 6.807e-01, b\" b'2020-01\"),\n",
       "       (202, 9.341e-01, b\" b'2020-04\"), (203, 3.965e-01, b\" b'2020-01\"),\n",
       "       (204, 2.455e-01, b\" b'2020-11\"), (205, 1.212e-01, b\" b'2020-09\"),\n",
       "       (206, 7.837e-01, b\" b'2020-06\"), (207, 3.181e-01, b\" b'2020-03\"),\n",
       "       (208, 9.622e-01, b\" b'2020-05\"), (209, 4.375e-01, b\" b'2020-07\"),\n",
       "       (210, 7.853e-01, b\" b'2020-01\"), (211, 6.421e-01, b\" b'2020-08\"),\n",
       "       (212, 8.272e-01, b\" b'2020-07\"), (213, 1.003e-01, b\" b'2020-05\"),\n",
       "       (214, 3.141e-01, b\" b'2020-09\"), (215, 3.614e-01, b\" b'2020-09\"),\n",
       "       (216, 8.176e-01, b\" b'2020-04\"), (217, 7.967e-01, b\" b'2020-01\"),\n",
       "       (218, 4.890e-02, b\" b'2020-11\"), (219, 6.333e-01, b\" b'2020-04\"),\n",
       "       (220, 6.442e-01, b\" b'2020-08\"), (221, 7.230e-02, b\" b'2020-10\"),\n",
       "       (222, 8.234e-01, b\" b'2020-07\"), (223, 5.110e-02, b\" b'2020-04\"),\n",
       "       (224, 5.044e-01, b\" b'2020-10\"), (225, 8.635e-01, b\" b'2020-04\"),\n",
       "       (226, 3.310e-01, b\" b'2020-03\"), (227, 9.892e-01, b\" b'2020-05\"),\n",
       "       (228, 2.239e-01, b\" b'2020-02\"), (229, 5.921e-01, b\" b'2020-02\"),\n",
       "       (230, 1.070e-02, b\" b'2020-04\"), (231, 7.345e-01, b\" b'2020-05\"),\n",
       "       (232, 6.380e-01, b\" b'2020-04\"), (233, 2.212e-01, b\" b'2020-01\"),\n",
       "       (234, 5.349e-01, b\" b'2020-10\"), (235, 1.891e-01, b\" b'2020-03\"),\n",
       "       (236, 5.746e-01, b\" b'2020-11\"), (237, 3.797e-01, b\" b'2020-06\"),\n",
       "       (238, 5.199e-01, b\" b'2020-12\"), (239, 4.826e-01, b\" b'2020-11\"),\n",
       "       (240, 5.202e-01, b\" b'2020-05\"), (241, 6.375e-01, b\" b'2020-05\"),\n",
       "       (242, 7.559e-01, b\" b'2020-07\"), (243, 6.328e-01, b\" b'2020-08\"),\n",
       "       (244, 4.445e-01, b\" b'2020-06\"), (245, 2.649e-01, b\" b'2020-04\"),\n",
       "       (246, 9.212e-01, b\" b'2020-02\"), (247, 5.408e-01, b\" b'2020-11\"),\n",
       "       (248, 5.398e-01, b\" b'2020-06\"), (249, 5.105e-01, b\" b'2020-07\"),\n",
       "       (250, 5.180e-02, b\" b'2020-03\"), (251, 2.886e-01, b\" b'2020-03\"),\n",
       "       (252, 8.743e-01, b\" b'2020-06\"), (253, 5.122e-01, b\" b'2020-09\"),\n",
       "       (254, 8.820e-02, b\" b'2020-01\"), (255, 5.818e-01, b\" b'2020-02\"),\n",
       "       (256, 9.256e-01, b\" b'2020-07\"), (257, 8.874e-01, b\" b'2020-02\"),\n",
       "       (258, 7.436e-01, b\" b'2020-01\"), (259, 5.776e-01, b\" b'2020-05\"),\n",
       "       (260, 4.461e-01, b\" b'2020-03\"), (261, 1.835e-01, b\" b'2020-01\"),\n",
       "       (262, 6.335e-01, b\" b'2020-11\"), (263, 5.218e-01, b\" b'2020-02\"),\n",
       "       (264, 1.225e-01, b\" b'2020-12\"), (265, 2.762e-01, b\" b'2020-02\"),\n",
       "       (266, 6.413e-01, b\" b'2020-09\"), (267, 4.087e-01, b\" b'2020-07\"),\n",
       "       (268, 6.384e-01, b\" b'2020-07\"), (269, 7.382e-01, b\" b'2020-11\"),\n",
       "       (270, 3.640e-01, b\" b'2020-02\"), (271, 6.552e-01, b\" b'2020-01\"),\n",
       "       (272, 7.537e-01, b\" b'2020-06\"), (273, 8.464e-01, b\" b'2020-06\"),\n",
       "       (274, 7.897e-01, b\" b'2020-08\"), (275, 6.620e-02, b\" b'2020-05\"),\n",
       "       (276, 9.841e-01, b\" b'2020-04\"), (277, 3.925e-01, b\" b'2020-01\"),\n",
       "       (278, 2.600e-03, b\" b'2020-11\"), (279, 1.859e-01, b\" b'2020-01\"),\n",
       "       (280, 4.225e-01, b\" b'2020-02\"), (281, 8.160e-02, b\" b'2020-07\"),\n",
       "       (282, 4.880e-01, b\" b'2020-10\"), (283, 1.432e-01, b\" b'2020-06\"),\n",
       "       (284, 9.955e-01, b\" b'2020-04\"), (285, 5.597e-01, b\" b'2020-06\"),\n",
       "       (286, 6.350e-02, b\" b'2020-08\"), (287, 9.385e-01, b\" b'2020-08\"),\n",
       "       (288, 8.110e-01, b\" b'2020-06\"), (289, 3.646e-01, b\" b'2020-05\"),\n",
       "       (290, 1.138e-01, b\" b'2020-06\"), (291, 7.604e-01, b\" b'2020-11\"),\n",
       "       (292, 4.900e-02, b\" b'2020-07\"), (293, 3.876e-01, b\" b'2020-11\"),\n",
       "       (294, 4.976e-01, b\" b'2020-05\"), (295, 1.528e-01, b\" b'2020-12\"),\n",
       "       (296, 8.986e-01, b\" b'2020-11\"), (297, 3.985e-01, b\" b'2020-09\"),\n",
       "       (298, 8.688e-01, b\" b'2020-06\"), (299, 8.032e-01, b\" b'2020-07\"),\n",
       "       (300, 4.181e-01, b\" b'2020-10\"), (301, 3.843e-01, b\" b'2020-07\"),\n",
       "       (302, 7.383e-01, b\" b'2020-07\"), (303, 3.267e-01, b\" b'2020-05\"),\n",
       "       (304, 7.468e-01, b\" b'2020-10\"), (305, 8.708e-01, b\" b'2020-02\"),\n",
       "       (306, 7.668e-01, b\" b'2020-06\"), (307, 8.601e-01, b\" b'2020-04\"),\n",
       "       (308, 2.377e-01, b\" b'2020-09\"), (309, 4.540e-02, b\" b'2020-08\"),\n",
       "       (310, 4.388e-01, b\" b'2020-03\"), (311, 4.238e-01, b\" b'2020-04\"),\n",
       "       (312, 1.578e-01, b\" b'2020-08\"), (313, 3.870e-01, b\" b'2020-05\"),\n",
       "       (314, 9.342e-01, b\" b'2020-10\"), (315, 3.847e-01, b\" b'2020-06\"),\n",
       "       (316, 8.388e-01, b\" b'2020-04\"), (317, 3.017e-01, b\" b'2020-01\"),\n",
       "       (318, 7.119e-01, b\" b'2020-10\"), (319, 5.915e-01, b\" b'2020-11\"),\n",
       "       (320, 9.322e-01, b\" b'2020-10\"), (321, 2.391e-01, b\" b'2020-01\"),\n",
       "       (322, 8.455e-01, b\" b'2020-05\"), (323, 6.808e-01, b\" b'2020-06\"),\n",
       "       (324, 9.162e-01, b\" b'2020-11\"), (325, 1.553e-01, b\" b'2020-12\"),\n",
       "       (326, 1.989e-01, b\" b'2020-01\"), (327, 9.296e-01, b\" b'2020-08\"),\n",
       "       (328, 4.618e-01, b\" b'2020-09\"), (329, 1.822e-01, b\" b'2020-10\"),\n",
       "       (330, 9.794e-01, b\" b'2020-10\"), (331, 2.593e-01, b\" b'2020-08\"),\n",
       "       (332, 5.302e-01, b\" b'2020-09\"), (333, 4.437e-01, b\" b'2020-07\"),\n",
       "       (334, 7.527e-01, b\" b'2020-08\"), (335, 3.036e-01, b\" b'2020-11\"),\n",
       "       (336, 7.270e-02, b\" b'2020-06\"), (337, 5.340e-01, b\" b'2020-05\"),\n",
       "       (338, 3.713e-01, b\" b'2020-06\"), (339, 1.012e-01, b\" b'2020-07\"),\n",
       "       (340, 5.623e-01, b\" b'2020-03\"), (341, 6.372e-01, b\" b'2020-02\"),\n",
       "       (342, 2.221e-01, b\" b'2020-01\"), (343, 9.212e-01, b\" b'2020-04\"),\n",
       "       (344, 4.111e-01, b\" b'2020-02\"), (345, 6.072e-01, b\" b'2020-07\"),\n",
       "       (346, 4.611e-01, b\" b'2020-07\"), (347, 8.027e-01, b\" b'2020-04\"),\n",
       "       (348, 3.425e-01, b\" b'2020-12\"), (349, 3.748e-01, b\" b'2020-04\"),\n",
       "       (350, 5.233e-01, b\" b'2020-06\"), (351, 3.780e-02, b\" b'2020-07\"),\n",
       "       (352, 8.802e-01, b\" b'2020-11\"), (353, 6.418e-01, b\" b'2020-10\"),\n",
       "       (354, 3.172e-01, b\" b'2020-02\"), (355, 6.908e-01, b\" b'2020-01\"),\n",
       "       (356, 1.703e-01, b\" b'2020-04\"), (357, 4.090e-01, b\" b'2020-01\"),\n",
       "       (358, 5.834e-01, b\" b'2020-05\"), (359, 5.652e-01, b\" b'2020-06\"),\n",
       "       (360, 7.847e-01, b\" b'2020-11\"), (361, 3.378e-01, b\" b'2020-07\"),\n",
       "       (362, 2.516e-01, b\" b'2020-12\"), (363, 6.136e-01, b\" b'2020-11\"),\n",
       "       (364, 5.270e-02, b\" b'2020-10\"), (365, 8.831e-01, b\" b'2020-06\"),\n",
       "       (366, 2.434e-01, b\" b'2020-05\"), (367, 2.818e-01, b\" b'2020-03\"),\n",
       "       (368, 3.153e-01, b\" b'2020-07\"), (369, 6.273e-01, b\" b'2020-05\"),\n",
       "       (370, 6.069e-01, b\" b'2020-10\"), (371, 8.038e-01, b\" b'2020-05\"),\n",
       "       (372, 8.532e-01, b\" b'2020-05\"), (373, 9.393e-01, b\" b'2020-08\"),\n",
       "       (374, 4.775e-01, b\" b'2020-07\"), (375, 6.940e-02, b\" b'2020-05\"),\n",
       "       (376, 5.007e-01, b\" b'2020-12\"), (377, 9.915e-01, b\" b'2020-12\"),\n",
       "       (378, 8.322e-01, b\" b'2020-07\"), (379, 6.053e-01, b\" b'2020-06\"),\n",
       "       (380, 7.110e-02, b\" b'2020-01\"), (381, 9.995e-01, b\" b'2020-05\"),\n",
       "       (382, 7.724e-01, b\" b'2020-02\"), (383, 8.985e-01, b\" b'2020-03\"),\n",
       "       (384, 6.967e-01, b\" b'2020-06\"), (385, 6.592e-01, b\" b'2020-03\"),\n",
       "       (386, 4.139e-01, b\" b'2020-01\"), (387, 7.781e-01, b\" b'2020-03\"),\n",
       "       (388, 8.891e-01, b\" b'2020-12\"), (389, 2.101e-01, b\" b'2020-11\"),\n",
       "       (390, 2.584e-01, b\" b'2020-05\"), (391, 7.983e-01, b\" b'2020-05\"),\n",
       "       (392, 3.112e-01, b\" b'2020-04\"), (393, 7.319e-01, b\" b'2020-08\"),\n",
       "       (394, 9.275e-01, b\" b'2020-10\"), (395, 5.745e-01, b\" b'2020-02\"),\n",
       "       (396, 9.820e-02, b\" b'2020-10\"), (397, 5.033e-01, b\" b'2020-08\"),\n",
       "       (398, 1.459e-01, b\" b'2020-08\"), (399, 9.827e-01, b\" b'2020-05\"),\n",
       "       (400, 3.693e-01, b\" b'2020-04\"), (401, 4.380e-01, b\" b'2020-05\"),\n",
       "       (402, 4.023e-01, b\" b'2020-03\"), (403, 9.981e-01, b\" b'2020-12\"),\n",
       "       (404, 1.523e-01, b\" b'2020-05\"), (405, 1.055e-01, b\" b'2020-08\"),\n",
       "       (406, 7.199e-01, b\" b'2020-10\"), (407, 6.400e-02, b\" b'2020-06\"),\n",
       "       (408, 5.274e-01, b\" b'2020-04\"), (409, 4.192e-01, b\" b'2020-03\"),\n",
       "       (410, 9.803e-01, b\" b'2020-03\"), (411, 7.040e-01, b\" b'2020-11\"),\n",
       "       (412, 1.467e-01, b\" b'2020-07\"), (413, 5.475e-01, b\" b'2020-09\"),\n",
       "       (414, 8.760e-01, b\" b'2020-05\"), (415, 2.176e-01, b\" b'2020-01\"),\n",
       "       (416, 1.102e-01, b\" b'2020-10\"), (417, 8.544e-01, b\" b'2020-01\"),\n",
       "       (418, 8.463e-01, b\" b'2020-05\"), (419, 1.032e-01, b\" b'2020-11\"),\n",
       "       (420, 8.665e-01, b\" b'2020-06\"), (421, 9.801e-01, b\" b'2020-08\"),\n",
       "       (422, 6.048e-01, b\" b'2020-06\"), (423, 2.997e-01, b\" b'2020-08\"),\n",
       "       (424, 1.192e-01, b\" b'2020-11\"), (425, 4.352e-01, b\" b'2020-03\"),\n",
       "       (426, 2.774e-01, b\" b'2020-04\"), (427, 6.866e-01, b\" b'2020-11\"),\n",
       "       (428, 4.692e-01, b\" b'2020-12\"), (429, 9.573e-01, b\" b'2020-10\"),\n",
       "       (430, 3.439e-01, b\" b'2020-02\"), (431, 9.300e-03, b\" b'2020-07\"),\n",
       "       (432, 8.650e-02, b\" b'2020-02\"), (433, 9.334e-01, b\" b'2020-09\"),\n",
       "       (434, 3.483e-01, b\" b'2020-09\"), (435, 6.960e-02, b\" b'2020-12\"),\n",
       "       (436, 9.342e-01, b\" b'2020-04\"), (437, 1.100e-03, b\" b'2020-04\"),\n",
       "       (438, 8.370e-01, b\" b'2020-05\"), (439, 5.760e-01, b\" b'2020-12\"),\n",
       "       (440, 6.650e-02, b\" b'2020-02\"), (441, 7.235e-01, b\" b'2020-04\"),\n",
       "       (442, 4.801e-01, b\" b'2020-09\"), (443, 7.438e-01, b\" b'2020-04\"),\n",
       "       (444, 4.923e-01, b\" b'2020-02\"), (445, 5.420e-02, b\" b'2020-07\"),\n",
       "       (446, 5.711e-01, b\" b'2020-02\"), (447, 4.056e-01, b\" b'2020-06\"),\n",
       "       (448, 6.037e-01, b\" b'2020-09\"), (449, 4.290e-01, b\" b'2020-09\"),\n",
       "       (450, 5.300e-03, b\" b'2020-12\"), (451, 7.755e-01, b\" b'2020-05\"),\n",
       "       (452, 8.236e-01, b\" b'2020-01\"), (453, 5.656e-01, b\" b'2020-04\"),\n",
       "       (454, 7.988e-01, b\" b'2020-12\"), (455, 4.418e-01, b\" b'2020-11\"),\n",
       "       (456, 4.940e-01, b\" b'2020-08\"), (457, 4.131e-01, b\" b'2020-02\"),\n",
       "       (458, 6.889e-01, b\" b'2020-01\"), (459, 2.151e-01, b\" b'2020-04\"),\n",
       "       (460, 2.200e-02, b\" b'2020-08\"), (461, 4.687e-01, b\" b'2020-06\"),\n",
       "       (462, 2.752e-01, b\" b'2020-11\"), (463, 8.778e-01, b\" b'2020-10\"),\n",
       "       (464, 3.350e-01, b\" b'2020-12\"), (465, 7.840e-02, b\" b'2020-05\"),\n",
       "       (466, 4.667e-01, b\" b'2020-09\"), (467, 3.566e-01, b\" b'2020-05\"),\n",
       "       (468, 2.850e-01, b\" b'2020-01\"), (469, 1.005e-01, b\" b'2020-05\"),\n",
       "       (470, 3.531e-01, b\" b'2020-04\"), (471, 4.090e-01, b\" b'2020-02\"),\n",
       "       (472, 9.777e-01, b\" b'2020-03\"), (473, 6.808e-01, b\" b'2020-07\"),\n",
       "       (474, 2.382e-01, b\" b'2020-08\"), (475, 6.421e-01, b\" b'2020-01\"),\n",
       "       (476, 3.724e-01, b\" b'2020-03\"), (477, 6.848e-01, b\" b'2020-05\"),\n",
       "       (478, 3.105e-01, b\" b'2020-03\"), (479, 9.448e-01, b\" b'2020-12\"),\n",
       "       (480, 8.319e-01, b\" b'2020-12\"), (481, 7.173e-01, b\" b'2020-07\"),\n",
       "       (482, 2.601e-01, b\" b'2020-01\"), (483, 1.205e-01, b\" b'2020-04\"),\n",
       "       (484, 8.223e-01, b\" b'2020-08\"), (485, 3.975e-01, b\" b'2020-07\"),\n",
       "       (486, 6.391e-01, b\" b'2020-09\"), (487, 7.889e-01, b\" b'2020-10\"),\n",
       "       (488, 7.659e-01, b\" b'2020-10\"), (489, 3.581e-01, b\" b'2020-04\"),\n",
       "       (490, 6.858e-01, b\" b'2020-06\"), (491, 1.230e-02, b\" b'2020-08\"),\n",
       "       (492, 3.732e-01, b\" b'2020-05\"), (493, 1.806e-01, b\" b'2020-05\"),\n",
       "       (494, 4.547e-01, b\" b'2020-01\"), (495, 4.469e-01, b\" b'2020-09\"),\n",
       "       (496, 2.869e-01, b\" b'2020-09\"), (497, 4.347e-01, b\" b'2020-10\"),\n",
       "       (498, 9.227e-01, b\" b'2020-10\"), (499, 7.085e-01, b\" b'2020-10\"),\n",
       "       (500, 2.309e-01, b\" b'2020-09\"), (501, 9.630e-02, b\" b'2020-01\"),\n",
       "       (502, 1.857e-01, b\" b'2020-05\"), (503, 3.000e-04, b\" b'2020-12\"),\n",
       "       (504, 9.165e-01, b\" b'2020-04\"), (505, 7.546e-01, b\" b'2020-08\"),\n",
       "       (506, 7.695e-01, b\" b'2020-05\"), (507, 9.720e-02, b\" b'2020-12\"),\n",
       "       (508, 3.098e-01, b\" b'2020-06\"), (509, 1.840e-01, b\" b'2020-10\"),\n",
       "       (510, 4.301e-01, b\" b'2020-01\"), (511, 8.255e-01, b\" b'2020-08\"),\n",
       "       (512, 6.129e-01, b\" b'2020-02\"), (513, 5.508e-01, b\" b'2020-01\"),\n",
       "       (514, 6.665e-01, b\" b'2020-08\"), (515, 6.759e-01, b\" b'2020-05\"),\n",
       "       (516, 4.302e-01, b\" b'2020-12\"), (517, 4.503e-01, b\" b'2020-01\"),\n",
       "       (518, 3.800e-02, b\" b'2020-04\"), (519, 6.227e-01, b\" b'2020-10\"),\n",
       "       (520, 3.860e-02, b\" b'2020-06\"), (521, 5.035e-01, b\" b'2020-12\"),\n",
       "       (522, 2.720e-02, b\" b'2020-07\"), (523, 2.626e-01, b\" b'2020-11\"),\n",
       "       (524, 3.112e-01, b\" b'2020-09\"), (525, 3.631e-01, b\" b'2020-02\"),\n",
       "       (526, 5.040e-02, b\" b'2020-03\"), (527, 7.194e-01, b\" b'2020-12\"),\n",
       "       (528, 7.084e-01, b\" b'2020-09\"), (529, 3.619e-01, b\" b'2020-12\"),\n",
       "       (530, 6.568e-01, b\" b'2020-09\"), (531, 4.009e-01, b\" b'2020-03\"),\n",
       "       (532, 2.925e-01, b\" b'2020-01\"), (533, 4.663e-01, b\" b'2020-08\"),\n",
       "       (534, 6.164e-01, b\" b'2020-03\"), (535, 3.763e-01, b\" b'2020-05\"),\n",
       "       (536, 4.631e-01, b\" b'2020-01\"), (537, 6.181e-01, b\" b'2020-12\"),\n",
       "       (538, 8.750e-02, b\" b'2020-10\"), (539, 5.390e-01, b\" b'2020-09\"),\n",
       "       (540, 4.920e-02, b\" b'2020-05\"), (541, 7.983e-01, b\" b'2020-10\"),\n",
       "       (542, 1.679e-01, b\" b'2020-01\"), (543, 3.378e-01, b\" b'2020-07\"),\n",
       "       (544, 6.708e-01, b\" b'2020-01\"), (545, 7.519e-01, b\" b'2020-12\"),\n",
       "       (546, 8.401e-01, b\" b'2020-10\"), (547, 9.738e-01, b\" b'2020-06\"),\n",
       "       (548, 8.143e-01, b\" b'2020-06\"), (549, 6.762e-01, b\" b'2020-10\"),\n",
       "       (550, 9.539e-01, b\" b'2020-03\"), (551, 1.992e-01, b\" b'2020-08\"),\n",
       "       (552, 1.939e-01, b\" b'2020-01\"), (553, 9.509e-01, b\" b'2020-09\"),\n",
       "       (554, 5.114e-01, b\" b'2020-01\"), (555, 7.114e-01, b\" b'2020-01\"),\n",
       "       (556, 3.410e-01, b\" b'2020-12\"), (557, 8.160e-02, b\" b'2020-06\"),\n",
       "       (558, 5.000e-03, b\" b'2020-01\"), (559, 6.460e-01, b\" b'2020-12\"),\n",
       "       (560, 8.900e-01, b\" b'2020-07\"), (561, 6.744e-01, b\" b'2020-03\"),\n",
       "       (562, 2.008e-01, b\" b'2020-09\"), (563, 7.766e-01, b\" b'2020-11\"),\n",
       "       (564, 2.502e-01, b\" b'2020-11\"), (565, 8.951e-01, b\" b'2020-10\"),\n",
       "       (566, 6.666e-01, b\" b'2020-06\"), (567, 7.759e-01, b\" b'2020-01\"),\n",
       "       (568, 7.960e-02, b\" b'2020-10\"), (569, 3.681e-01, b\" b'2020-06\"),\n",
       "       (570, 5.859e-01, b\" b'2020-03\"), (571, 5.465e-01, b\" b'2020-10\"),\n",
       "       (572, 2.031e-01, b\" b'2020-07\"), (573, 5.377e-01, b\" b'2020-06\"),\n",
       "       (574, 9.984e-01, b\" b'2020-04\"), (575, 9.827e-01, b\" b'2020-05\"),\n",
       "       (576, 6.716e-01, b\" b'2020-01\"), (577, 2.369e-01, b\" b'2020-10\"),\n",
       "       (578, 5.710e-02, b\" b'2020-12\"), (579, 6.287e-01, b\" b'2020-05\"),\n",
       "       (580, 2.657e-01, b\" b'2020-07\"), (581, 6.563e-01, b\" b'2020-07\"),\n",
       "       (582, 7.068e-01, b\" b'2020-06\"), (583, 9.533e-01, b\" b'2020-08\"),\n",
       "       (584, 4.662e-01, b\" b'2020-05\"), (585, 2.691e-01, b\" b'2020-12\"),\n",
       "       (586, 9.121e-01, b\" b'2020-08\"), (587, 8.147e-01, b\" b'2020-02\"),\n",
       "       (588, 2.751e-01, b\" b'2020-04\"), (589, 9.724e-01, b\" b'2020-07\"),\n",
       "       (590, 8.323e-01, b\" b'2020-08\"), (591, 4.540e-01, b\" b'2020-08\"),\n",
       "       (592, 4.440e-01, b\" b'2020-09\"), (593, 1.551e-01, b\" b'2020-12\"),\n",
       "       (594, 9.051e-01, b\" b'2020-03\"), (595, 7.848e-01, b\" b'2020-02\"),\n",
       "       (596, 7.769e-01, b\" b'2020-10\"), (597, 7.140e-02, b\" b'2020-04\"),\n",
       "       (598, 2.360e-01, b\" b'2020-11\"), (599, 6.230e-02, b\" b'2020-08\"),\n",
       "       (600, 4.260e-02, b\" b'2020-04\"), (601, 7.340e-02, b\" b'2020-02\"),\n",
       "       (602, 9.684e-01, b\" b'2020-12\"), (603, 2.197e-01, b\" b'2020-10\"),\n",
       "       (604, 4.750e-01, b\" b'2020-04\"), (605, 9.047e-01, b\" b'2020-01\"),\n",
       "       (606, 3.186e-01, b\" b'2020-03\"), (607, 6.454e-01, b\" b'2020-03\"),\n",
       "       (608, 9.412e-01, b\" b'2020-02\"), (609, 6.540e-02, b\" b'2020-11\"),\n",
       "       (610, 8.897e-01, b\" b'2020-10\"), (611, 1.628e-01, b\" b'2020-01\"),\n",
       "       (612, 2.376e-01, b\" b'2020-07\"), (613, 6.102e-01, b\" b'2020-10\"),\n",
       "       (614, 2.920e-01, b\" b'2020-08\"), (615, 4.124e-01, b\" b'2020-04\"),\n",
       "       (616, 6.057e-01, b\" b'2020-04\"), (617, 6.435e-01, b\" b'2020-12\"),\n",
       "       (618, 7.664e-01, b\" b'2020-02\"), (619, 9.585e-01, b\" b'2020-04\"),\n",
       "       (620, 6.749e-01, b\" b'2020-03\"), (621, 2.118e-01, b\" b'2020-12\"),\n",
       "       (622, 9.181e-01, b\" b'2020-11\"), (623, 9.476e-01, b\" b'2020-12\"),\n",
       "       (624, 1.139e-01, b\" b'2020-04\"), (625, 2.142e-01, b\" b'2020-12\"),\n",
       "       (626, 1.745e-01, b\" b'2020-09\"), (627, 8.522e-01, b\" b'2020-05\"),\n",
       "       (628, 6.701e-01, b\" b'2020-08\"), (629, 5.532e-01, b\" b'2020-06\"),\n",
       "       (630, 8.696e-01, b\" b'2020-11\"), (631, 3.328e-01, b\" b'2020-04\"),\n",
       "       (632, 5.429e-01, b\" b'2020-04\"), (633, 4.471e-01, b\" b'2020-01\"),\n",
       "       (634, 2.604e-01, b\" b'2020-04\"), (635, 7.004e-01, b\" b'2020-12\"),\n",
       "       (636, 3.202e-01, b\" b'2020-08\"), (637, 6.568e-01, b\" b'2020-09\"),\n",
       "       (638, 7.310e-01, b\" b'2020-02\"), (639, 3.999e-01, b\" b'2020-06\"),\n",
       "       (640, 9.576e-01, b\" b'2020-08\"), (641, 7.897e-01, b\" b'2020-09\"),\n",
       "       (642, 4.624e-01, b\" b'2020-08\"), (643, 1.588e-01, b\" b'2020-08\"),\n",
       "       (644, 1.143e-01, b\" b'2020-04\"), (645, 3.525e-01, b\" b'2020-11\"),\n",
       "       (646, 8.161e-01, b\" b'2020-04\"), (647, 2.807e-01, b\" b'2020-11\"),\n",
       "       (648, 8.459e-01, b\" b'2020-08\"), (649, 3.174e-01, b\" b'2020-04\"),\n",
       "       (650, 5.187e-01, b\" b'2020-12\"), (651, 7.889e-01, b\" b'2020-08\"),\n",
       "       (652, 6.473e-01, b\" b'2020-06\"), (653, 7.426e-01, b\" b'2020-06\"),\n",
       "       (654, 6.048e-01, b\" b'2020-03\"), (655, 1.890e-01, b\" b'2020-03\"),\n",
       "       (656, 3.960e-01, b\" b'2020-03\"), (657, 2.276e-01, b\" b'2020-04\"),\n",
       "       (658, 5.386e-01, b\" b'2020-11\"), (659, 6.825e-01, b\" b'2020-11\"),\n",
       "       (660, 7.310e-02, b\" b'2020-02\"), (661, 7.780e-01, b\" b'2020-11\"),\n",
       "       (662, 2.562e-01, b\" b'2020-05\"), (663, 8.156e-01, b\" b'2020-01\"),\n",
       "       (664, 2.136e-01, b\" b'2020-05\"), (665, 2.312e-01, b\" b'2020-06\"),\n",
       "       (666, 9.925e-01, b\" b'2020-03\"), (667, 8.256e-01, b\" b'2020-12\"),\n",
       "       (668, 4.165e-01, b\" b'2020-05\"), (669, 9.914e-01, b\" b'2020-11\"),\n",
       "       (670, 9.499e-01, b\" b'2020-07\"), (671, 9.337e-01, b\" b'2020-02\"),\n",
       "       (672, 7.862e-01, b\" b'2020-05\"), (673, 7.008e-01, b\" b'2020-04\"),\n",
       "       (674, 8.842e-01, b\" b'2020-05\"), (675, 1.997e-01, b\" b'2020-08\"),\n",
       "       (676, 5.099e-01, b\" b'2020-11\"), (677, 3.637e-01, b\" b'2020-09\"),\n",
       "       (678, 5.400e-03, b\" b'2020-01\"), (679, 3.982e-01, b\" b'2020-06\"),\n",
       "       (680, 2.288e-01, b\" b'2020-02\"), (681, 1.921e-01, b\" b'2020-08\"),\n",
       "       (682, 3.149e-01, b\" b'2020-07\"), (683, 9.676e-01, b\" b'2020-01\"),\n",
       "       (684, 3.736e-01, b\" b'2020-11\"), (685, 9.400e-01, b\" b'2020-10\"),\n",
       "       (686, 5.685e-01, b\" b'2020-08\"), (687, 3.683e-01, b\" b'2020-11\"),\n",
       "       (688, 1.542e-01, b\" b'2020-08\"), (689, 8.265e-01, b\" b'2020-10\"),\n",
       "       (690, 8.110e-01, b\" b'2020-12\"), (691, 2.017e-01, b\" b'2020-06\"),\n",
       "       (692, 6.674e-01, b\" b'2020-01\"), (693, 9.055e-01, b\" b'2020-10\"),\n",
       "       (694, 6.810e-01, b\" b'2020-06\"), (695, 2.414e-01, b\" b'2020-04\"),\n",
       "       (696, 8.410e-02, b\" b'2020-10\"), (697, 6.328e-01, b\" b'2020-06\"),\n",
       "       (698, 8.152e-01, b\" b'2020-02\"), (699, 7.059e-01, b\" b'2020-04\"),\n",
       "       (700, 9.387e-01, b\" b'2020-01\"), (701, 6.893e-01, b\" b'2020-06\"),\n",
       "       (702, 9.245e-01, b\" b'2020-11\"), (703, 7.490e-01, b\" b'2020-10\"),\n",
       "       (704, 5.226e-01, b\" b'2020-11\"), (705, 9.476e-01, b\" b'2020-09\"),\n",
       "       (706, 2.955e-01, b\" b'2020-01\"), (707, 8.200e-03, b\" b'2020-11\"),\n",
       "       (708, 3.522e-01, b\" b'2020-12\"), (709, 6.075e-01, b\" b'2020-11\"),\n",
       "       (710, 1.781e-01, b\" b'2020-09\"), (711, 1.199e-01, b\" b'2020-11\"),\n",
       "       (712, 1.848e-01, b\" b'2020-04\"), (713, 7.384e-01, b\" b'2020-01\"),\n",
       "       (714, 5.887e-01, b\" b'2020-04\"), (715, 2.151e-01, b\" b'2020-08\"),\n",
       "       (716, 1.849e-01, b\" b'2020-08\"), (717, 2.935e-01, b\" b'2020-03\"),\n",
       "       (718, 7.447e-01, b\" b'2020-05\"), (719, 4.214e-01, b\" b'2020-10\"),\n",
       "       (720, 8.696e-01, b\" b'2020-04\"), (721, 4.790e-02, b\" b'2020-10\"),\n",
       "       (722, 9.458e-01, b\" b'2020-09\"), (723, 3.707e-01, b\" b'2020-01\"),\n",
       "       (724, 1.452e-01, b\" b'2020-04\"), (725, 4.138e-01, b\" b'2020-11\"),\n",
       "       (726, 2.178e-01, b\" b'2020-12\"), (727, 1.496e-01, b\" b'2020-06\"),\n",
       "       (728, 2.089e-01, b\" b'2020-08\"), (729, 9.959e-01, b\" b'2020-06\"),\n",
       "       (730, 8.667e-01, b\" b'2020-07\"), (731, 9.030e-01, b\" b'2020-10\"),\n",
       "       (732, 5.327e-01, b\" b'2020-01\"), (733, 3.207e-01, b\" b'2020-01\"),\n",
       "       (734, 6.176e-01, b\" b'2020-05\"), (735, 7.955e-01, b\" b'2020-05\"),\n",
       "       (736, 5.459e-01, b\" b'2020-01\"), (737, 5.000e-01, b\" b'2020-04\"),\n",
       "       (738, 5.724e-01, b\" b'2020-02\"), (739, 6.288e-01, b\" b'2020-09\"),\n",
       "       (740, 4.380e-01, b\" b'2020-04\"), (741, 3.307e-01, b\" b'2020-10\"),\n",
       "       (742, 8.432e-01, b\" b'2020-06\"), (743, 2.280e-02, b\" b'2020-10\"),\n",
       "       (744, 8.735e-01, b\" b'2020-04\"), (745, 9.644e-01, b\" b'2020-03\"),\n",
       "       (746, 6.140e-02, b\" b'2020-10\"), (747, 6.379e-01, b\" b'2020-09\"),\n",
       "       (748, 1.751e-01, b\" b'2020-03\"), (749, 5.111e-01, b\" b'2020-02\"),\n",
       "       (750, 1.838e-01, b\" b'2020-10\"), (751, 2.634e-01, b\" b'2020-03\"),\n",
       "       (752, 1.060e-01, b\" b'2020-04\"), (753, 7.966e-01, b\" b'2020-03\"),\n",
       "       (754, 5.765e-01, b\" b'2020-07\"), (755, 8.910e-01, b\" b'2020-06\"),\n",
       "       (756, 6.607e-01, b\" b'2020-11\"), (757, 4.812e-01, b\" b'2020-01\"),\n",
       "       (758, 9.450e-02, b\" b'2020-09\"), (759, 6.594e-01, b\" b'2020-03\"),\n",
       "       (760, 8.093e-01, b\" b'2020-05\"), (761, 8.564e-01, b\" b'2020-05\"),\n",
       "       (762, 5.755e-01, b\" b'2020-07\"), (763, 1.171e-01, b\" b'2020-12\"),\n",
       "       (764, 1.380e-01, b\" b'2020-01\"), (765, 2.330e-01, b\" b'2020-11\"),\n",
       "       (766, 1.356e-01, b\" b'2020-03\"), (767, 8.683e-01, b\" b'2020-03\"),\n",
       "       (768, 6.642e-01, b\" b'2020-12\"), (769, 5.726e-01, b\" b'2020-12\"),\n",
       "       (770, 3.849e-01, b\" b'2020-12\"), (771, 5.392e-01, b\" b'2020-02\"),\n",
       "       (772, 9.190e-01, b\" b'2020-10\"), (773, 9.076e-01, b\" b'2020-02\"),\n",
       "       (774, 3.282e-01, b\" b'2020-11\"), (775, 7.725e-01, b\" b'2020-07\"),\n",
       "       (776, 9.139e-01, b\" b'2020-05\"), (777, 9.382e-01, b\" b'2020-10\"),\n",
       "       (778, 6.232e-01, b\" b'2020-03\"), (779, 6.843e-01, b\" b'2020-05\"),\n",
       "       (780, 4.730e-01, b\" b'2020-08\"), (781, 5.620e-02, b\" b'2020-05\"),\n",
       "       (782, 8.272e-01, b\" b'2020-12\"), (783, 1.362e-01, b\" b'2020-02\"),\n",
       "       (784, 5.346e-01, b\" b'2020-12\"), (785, 6.257e-01, b\" b'2020-01\"),\n",
       "       (786, 1.062e-01, b\" b'2020-10\"), (787, 2.187e-01, b\" b'2020-04\"),\n",
       "       (788, 4.710e-02, b\" b'2020-07\"), (789, 2.563e-01, b\" b'2020-07\"),\n",
       "       (790, 6.515e-01, b\" b'2020-09\"), (791, 7.245e-01, b\" b'2020-08\"),\n",
       "       (792, 3.000e-04, b\" b'2020-03\"), (793, 8.922e-01, b\" b'2020-03\"),\n",
       "       (794, 5.800e-03, b\" b'2020-11\"), (795, 8.267e-01, b\" b'2020-09\"),\n",
       "       (796, 1.705e-01, b\" b'2020-08\"), (797, 8.424e-01, b\" b'2020-06\"),\n",
       "       (798, 6.853e-01, b\" b'2020-09\"), (799, 6.327e-01, b\" b'2020-10\"),\n",
       "       (800, 3.590e-02, b\" b'2020-09\"), (801, 1.812e-01, b\" b'2020-08\"),\n",
       "       (802, 7.025e-01, b\" b'2020-04\"), (803, 7.425e-01, b\" b'2020-09\"),\n",
       "       (804, 4.288e-01, b\" b'2020-08\"), (805, 3.340e-01, b\" b'2020-08\"),\n",
       "       (806, 2.583e-01, b\" b'2020-01\"), (807, 8.605e-01, b\" b'2020-06\"),\n",
       "       (808, 9.300e-02, b\" b'2020-09\"), (809, 5.658e-01, b\" b'2020-11\"),\n",
       "       (810, 2.014e-01, b\" b'2020-03\"), (811, 8.988e-01, b\" b'2020-06\"),\n",
       "       (812, 8.002e-01, b\" b'2020-10\"), (813, 4.789e-01, b\" b'2020-02\"),\n",
       "       (814, 6.378e-01, b\" b'2020-03\"), (815, 2.884e-01, b\" b'2020-09\"),\n",
       "       (816, 1.323e-01, b\" b'2020-02\"), (817, 9.811e-01, b\" b'2020-04\"),\n",
       "       (818, 7.611e-01, b\" b'2020-05\"), (819, 9.655e-01, b\" b'2020-01\"),\n",
       "       (820, 5.439e-01, b\" b'2020-05\"), (821, 3.766e-01, b\" b'2020-03\"),\n",
       "       (822, 8.262e-01, b\" b'2020-02\"), (823, 9.767e-01, b\" b'2020-01\"),\n",
       "       (824, 2.979e-01, b\" b'2020-05\"), (825, 4.368e-01, b\" b'2020-05\"),\n",
       "       (826, 4.699e-01, b\" b'2020-08\"), (827, 9.900e-01, b\" b'2020-12\"),\n",
       "       (828, 4.596e-01, b\" b'2020-07\"), (829, 2.439e-01, b\" b'2020-03\"),\n",
       "       (830, 4.726e-01, b\" b'2020-05\"), (831, 5.254e-01, b\" b'2020-06\"),\n",
       "       (832, 2.638e-01, b\" b'2020-01\"), (833, 6.952e-01, b\" b'2020-03\"),\n",
       "       (834, 5.251e-01, b\" b'2020-06\"), (835, 2.670e-01, b\" b'2020-02\"),\n",
       "       (836, 3.155e-01, b\" b'2020-02\"), (837, 6.776e-01, b\" b'2020-08\"),\n",
       "       (838, 2.104e-01, b\" b'2020-09\"), (839, 4.479e-01, b\" b'2020-11\"),\n",
       "       (840, 9.286e-01, b\" b'2020-02\"), (841, 6.777e-01, b\" b'2020-05\"),\n",
       "       (842, 5.697e-01, b\" b'2020-05\"), (843, 1.269e-01, b\" b'2020-10\"),\n",
       "       (844, 4.408e-01, b\" b'2020-02\"), (845, 3.784e-01, b\" b'2020-11\"),\n",
       "       (846, 4.916e-01, b\" b'2020-03\"), (847, 1.926e-01, b\" b'2020-05\"),\n",
       "       (848, 7.666e-01, b\" b'2020-12\"), (849, 8.050e-02, b\" b'2020-12\"),\n",
       "       (850, 8.325e-01, b\" b'2020-09\"), (851, 2.741e-01, b\" b'2020-06\"),\n",
       "       (852, 1.159e-01, b\" b'2020-07\"), (853, 2.951e-01, b\" b'2020-05\"),\n",
       "       (854, 8.985e-01, b\" b'2020-11\"), (855, 2.785e-01, b\" b'2020-12\"),\n",
       "       (856, 4.363e-01, b\" b'2020-11\"), (857, 7.024e-01, b\" b'2020-01\"),\n",
       "       (858, 8.660e-02, b\" b'2020-04\"), (859, 7.390e-02, b\" b'2020-02\"),\n",
       "       (860, 8.214e-01, b\" b'2020-10\"), (861, 4.090e-02, b\" b'2020-02\"),\n",
       "       (862, 9.559e-01, b\" b'2020-05\"), (863, 9.525e-01, b\" b'2020-09\"),\n",
       "       (864, 8.696e-01, b\" b'2020-11\"), (865, 8.290e-01, b\" b'2020-02\"),\n",
       "       (866, 7.906e-01, b\" b'2020-12\"), (867, 8.787e-01, b\" b'2020-09\"),\n",
       "       (868, 7.310e-02, b\" b'2020-02\"), (869, 3.075e-01, b\" b'2020-04\"),\n",
       "       (870, 1.250e-02, b\" b'2020-09\"), (871, 8.148e-01, b\" b'2020-10\"),\n",
       "       (872, 9.754e-01, b\" b'2020-05\"), (873, 5.671e-01, b\" b'2020-04\"),\n",
       "       (874, 7.871e-01, b\" b'2020-01\"), (875, 4.743e-01, b\" b'2020-12\"),\n",
       "       (876, 4.172e-01, b\" b'2020-05\"), (877, 8.006e-01, b\" b'2020-05\"),\n",
       "       (878, 2.225e-01, b\" b'2020-10\"), (879, 2.057e-01, b\" b'2020-03\"),\n",
       "       (880, 8.256e-01, b\" b'2020-03\"), (881, 6.662e-01, b\" b'2020-09\"),\n",
       "       (882, 4.582e-01, b\" b'2020-08\"), (883, 1.125e-01, b\" b'2020-07\"),\n",
       "       (884, 2.236e-01, b\" b'2020-08\"), (885, 5.439e-01, b\" b'2020-09\"),\n",
       "       (886, 9.040e-01, b\" b'2020-08\"), (887, 9.898e-01, b\" b'2020-06\"),\n",
       "       (888, 2.041e-01, b\" b'2020-05\"), (889, 7.903e-01, b\" b'2020-09\"),\n",
       "       (890, 2.913e-01, b\" b'2020-07\"), (891, 1.840e-01, b\" b'2020-02\"),\n",
       "       (892, 6.191e-01, b\" b'2020-04\"), (893, 4.626e-01, b\" b'2020-06\"),\n",
       "       (894, 4.204e-01, b\" b'2020-03\"), (895, 1.521e-01, b\" b'2020-03\"),\n",
       "       (896, 5.781e-01, b\" b'2020-07\"), (897, 3.258e-01, b\" b'2020-11\"),\n",
       "       (898, 3.086e-01, b\" b'2020-08\"), (899, 8.854e-01, b\" b'2020-08\"),\n",
       "       (900, 7.800e-02, b\" b'2020-02\"), (901, 4.000e-04, b\" b'2020-07\"),\n",
       "       (902, 1.590e-02, b\" b'2020-04\"), (903, 4.693e-01, b\" b'2020-01\"),\n",
       "       (904, 7.575e-01, b\" b'2020-06\"), (905, 6.780e-01, b\" b'2020-11\"),\n",
       "       (906, 9.962e-01, b\" b'2020-08\"), (907, 8.861e-01, b\" b'2020-01\"),\n",
       "       (908, 5.561e-01, b\" b'2020-05\"), (909, 9.169e-01, b\" b'2020-07\"),\n",
       "       (910, 4.920e-01, b\" b'2020-06\"), (911, 5.662e-01, b\" b'2020-12\"),\n",
       "       (912, 9.072e-01, b\" b'2020-08\"), (913, 1.925e-01, b\" b'2020-07\"),\n",
       "       (914, 8.053e-01, b\" b'2020-02\"), (915, 7.210e-02, b\" b'2020-05\"),\n",
       "       (916, 9.285e-01, b\" b'2020-09\"), (917, 2.247e-01, b\" b'2020-07\"),\n",
       "       (918, 1.148e-01, b\" b'2020-05\"), (919, 7.542e-01, b\" b'2020-02\"),\n",
       "       (920, 1.138e-01, b\" b'2020-10\"), (921, 5.792e-01, b\" b'2020-04\"),\n",
       "       (922, 2.103e-01, b\" b'2020-09\"), (923, 9.264e-01, b\" b'2020-12\"),\n",
       "       (924, 4.922e-01, b\" b'2020-09\"), (925, 6.805e-01, b\" b'2020-12\"),\n",
       "       (926, 8.276e-01, b\" b'2020-05\"), (927, 9.929e-01, b\" b'2020-04\"),\n",
       "       (928, 2.824e-01, b\" b'2020-03\"), (929, 3.231e-01, b\" b'2020-08\"),\n",
       "       (930, 6.616e-01, b\" b'2020-11\"), (931, 9.840e-01, b\" b'2020-12\"),\n",
       "       (932, 9.307e-01, b\" b'2020-02\"), (933, 1.205e-01, b\" b'2020-07\"),\n",
       "       (934, 7.988e-01, b\" b'2020-01\"), (935, 2.638e-01, b\" b'2020-06\"),\n",
       "       (936, 1.420e-02, b\" b'2020-06\"), (937, 6.080e-02, b\" b'2020-04\"),\n",
       "       (938, 7.845e-01, b\" b'2020-03\"), (939, 1.562e-01, b\" b'2020-08\"),\n",
       "       (940, 3.227e-01, b\" b'2020-01\"), (941, 4.474e-01, b\" b'2020-12\"),\n",
       "       (942, 5.113e-01, b\" b'2020-08\"), (943, 9.360e-01, b\" b'2020-04\"),\n",
       "       (944, 9.597e-01, b\" b'2020-07\"), (945, 4.288e-01, b\" b'2020-10\"),\n",
       "       (946, 8.404e-01, b\" b'2020-01\"), (947, 5.264e-01, b\" b'2020-03\"),\n",
       "       (948, 7.446e-01, b\" b'2020-01\"), (949, 4.780e-01, b\" b'2020-07\"),\n",
       "       (950, 4.000e-03, b\" b'2020-04\"), (951, 1.321e-01, b\" b'2020-04\"),\n",
       "       (952, 7.556e-01, b\" b'2020-01\"), (953, 6.016e-01, b\" b'2020-08\"),\n",
       "       (954, 7.535e-01, b\" b'2020-05\"), (955, 3.412e-01, b\" b'2020-07\"),\n",
       "       (956, 6.273e-01, b\" b'2020-07\"), (957, 4.821e-01, b\" b'2020-06\"),\n",
       "       (958, 5.500e-02, b\" b'2020-11\"), (959, 8.835e-01, b\" b'2020-04\"),\n",
       "       (960, 8.880e-01, b\" b'2020-05\"), (961, 2.938e-01, b\" b'2020-03\"),\n",
       "       (962, 2.670e-01, b\" b'2020-10\"), (963, 9.637e-01, b\" b'2020-02\"),\n",
       "       (964, 9.210e-01, b\" b'2020-12\"), (965, 6.389e-01, b\" b'2020-11\"),\n",
       "       (966, 1.068e-01, b\" b'2020-01\"), (967, 3.442e-01, b\" b'2020-05\"),\n",
       "       (968, 6.560e-02, b\" b'2020-05\"), (969, 7.000e-02, b\" b'2020-01\"),\n",
       "       (970, 6.847e-01, b\" b'2020-01\"), (971, 9.825e-01, b\" b'2020-06\"),\n",
       "       (972, 9.434e-01, b\" b'2020-06\"), (973, 5.600e-01, b\" b'2020-05\"),\n",
       "       (974, 8.859e-01, b\" b'2020-10\"), (975, 1.740e-02, b\" b'2020-03\"),\n",
       "       (976, 3.956e-01, b\" b'2020-01\"), (977, 5.805e-01, b\" b'2020-12\"),\n",
       "       (978, 3.717e-01, b\" b'2020-12\"), (979, 9.055e-01, b\" b'2020-01\"),\n",
       "       (980, 8.911e-01, b\" b'2020-12\"), (981, 3.271e-01, b\" b'2020-03\"),\n",
       "       (982, 2.612e-01, b\" b'2020-11\"), (983, 6.843e-01, b\" b'2020-04\"),\n",
       "       (984, 3.876e-01, b\" b'2020-01\"), (985, 6.886e-01, b\" b'2020-08\"),\n",
       "       (986, 2.989e-01, b\" b'2020-02\"), (987, 5.642e-01, b\" b'2020-03\"),\n",
       "       (988, 3.422e-01, b\" b'2020-02\"), (989, 1.126e-01, b\" b'2020-05\"),\n",
       "       (990, 3.030e-01, b\" b'2020-07\"), (991, 5.440e-02, b\" b'2020-05\"),\n",
       "       (992, 9.784e-01, b\" b'2020-05\"), (993, 1.710e-01, b\" b'2020-10\"),\n",
       "       (994, 1.095e-01, b\" b'2020-11\"), (995, 9.056e-01, b\" b'2020-09\"),\n",
       "       (996, 9.630e-01, b\" b'2020-05\"), (997, 7.315e-01, b\" b'2020-10\"),\n",
       "       (998, 4.008e-01, b\" b'2020-01\"), (999, 3.294e-01, b\" b'2020-01\")],\n",
       "      dtype=[('id', '<i4'), ('value', '<f4'), ('date', 'S10')])"
      ]
     },
     "execution_count": 207,
     "metadata": {},
     "output_type": "execute_result"
    }
   ],
   "source": [
    "x_a['arr_0']"
   ]
  },
  {
   "cell_type": "code",
   "execution_count": 209,
   "metadata": {},
   "outputs": [
    {
     "data": {
      "text/plain": [
       "matrix([[0, 1, 2],\n",
       "        [3, 4, 5],\n",
       "        [6, 7, 8]])"
      ]
     },
     "execution_count": 209,
     "metadata": {},
     "output_type": "execute_result"
    }
   ],
   "source": [
    "np.matrix(np.arange(9).reshape(3, 3))"
   ]
  },
  {
   "cell_type": "code",
   "execution_count": 210,
   "metadata": {},
   "outputs": [
    {
     "data": {
      "text/plain": [
       "array([[1., 0., 0.],\n",
       "       [0., 1., 0.],\n",
       "       [0., 0., 1.]])"
      ]
     },
     "execution_count": 210,
     "metadata": {},
     "output_type": "execute_result"
    }
   ],
   "source": [
    "np.identity(3)"
   ]
  },
  {
   "cell_type": "code",
   "execution_count": 211,
   "metadata": {},
   "outputs": [
    {
     "data": {
      "text/plain": [
       "matrix([[1, 2, 3],\n",
       "        [4, 5, 6],\n",
       "        [7, 8, 9]])"
      ]
     },
     "execution_count": 211,
     "metadata": {},
     "output_type": "execute_result"
    }
   ],
   "source": [
    "\n",
    "np.matrix('1 2 3; 4 5 6; 7 8 9')"
   ]
  },
  {
   "cell_type": "code",
   "execution_count": 212,
   "metadata": {},
   "outputs": [
    {
     "data": {
      "text/plain": [
       "matrix([[1, 2, 3],\n",
       "        [4, 5, 6],\n",
       "        [7, 8, 9]])"
      ]
     },
     "execution_count": 212,
     "metadata": {},
     "output_type": "execute_result"
    }
   ],
   "source": [
    "np.matrix([[1,2,3],[4,5,6],[7,8,9]])\n"
   ]
  },
  {
   "cell_type": "code",
   "execution_count": 213,
   "metadata": {},
   "outputs": [
    {
     "data": {
      "text/plain": [
       "'arr_1'"
      ]
     },
     "execution_count": 213,
     "metadata": {},
     "output_type": "execute_result"
    }
   ],
   "source": [
    "a"
   ]
  },
  {
   "cell_type": "code",
   "execution_count": 214,
   "metadata": {},
   "outputs": [
    {
     "data": {
      "text/plain": [
       "'arr_0'"
      ]
     },
     "execution_count": 214,
     "metadata": {},
     "output_type": "execute_result"
    }
   ],
   "source": [
    "x"
   ]
  },
  {
   "cell_type": "code",
   "execution_count": 215,
   "metadata": {},
   "outputs": [
    {
     "data": {
      "text/plain": [
       "array([[0, 1, 2],\n",
       "       [3, 4, 5],\n",
       "       [6, 7, 8]])"
      ]
     },
     "execution_count": 215,
     "metadata": {},
     "output_type": "execute_result"
    }
   ],
   "source": [
    "x = np.arange(9).reshape(3,3)\n",
    "x"
   ]
  },
  {
   "cell_type": "code",
   "execution_count": 216,
   "metadata": {},
   "outputs": [
    {
     "data": {
      "text/plain": [
       "array([[ 15,  18,  21],\n",
       "       [ 42,  54,  66],\n",
       "       [ 69,  90, 111]])"
      ]
     },
     "execution_count": 216,
     "metadata": {},
     "output_type": "execute_result"
    }
   ],
   "source": [
    "np.dot(x,x)"
   ]
  },
  {
   "cell_type": "code",
   "execution_count": 217,
   "metadata": {},
   "outputs": [
    {
     "ename": "AttributeError",
     "evalue": "'numpy.ndarray' object has no attribute 'I'",
     "output_type": "error",
     "traceback": [
      "\u001b[1;31m---------------------------------------------------------------------------\u001b[0m",
      "\u001b[1;31mAttributeError\u001b[0m                            Traceback (most recent call last)",
      "Cell \u001b[1;32mIn[217], line 1\u001b[0m\n\u001b[1;32m----> 1\u001b[0m \u001b[43mx\u001b[49m\u001b[38;5;241;43m.\u001b[39;49m\u001b[43mI\u001b[49m\n",
      "\u001b[1;31mAttributeError\u001b[0m: 'numpy.ndarray' object has no attribute 'I'"
     ]
    }
   ],
   "source": [
    "x.I"
   ]
  },
  {
   "cell_type": "code",
   "execution_count": 221,
   "metadata": {},
   "outputs": [
    {
     "data": {
      "text/plain": [
       "matrix([[0, 3, 6],\n",
       "        [1, 4, 7],\n",
       "        [2, 5, 8]])"
      ]
     },
     "execution_count": 221,
     "metadata": {},
     "output_type": "execute_result"
    }
   ],
   "source": [
    "x  = np.matrix(x)\n",
    "x.H"
   ]
  },
  {
   "cell_type": "code",
   "execution_count": 222,
   "metadata": {},
   "outputs": [],
   "source": [
    "A = np.mat('3 1 4; 1 5 9; 2 6 5')\n",
    "b = np.mat([[1], [2], [3]])\n",
    "x = A.I * b"
   ]
  },
  {
   "cell_type": "code",
   "execution_count": 223,
   "metadata": {},
   "outputs": [
    {
     "data": {
      "text/plain": [
       "matrix([[ 0.26666667],\n",
       "        [ 0.46666667],\n",
       "        [-0.06666667]])"
      ]
     },
     "execution_count": 223,
     "metadata": {},
     "output_type": "execute_result"
    }
   ],
   "source": [
    "x"
   ]
  },
  {
   "cell_type": "code",
   "execution_count": 224,
   "metadata": {},
   "outputs": [
    {
     "data": {
      "text/plain": [
       "matrix([[1.],\n",
       "        [2.],\n",
       "        [3.]])"
      ]
     },
     "execution_count": 224,
     "metadata": {},
     "output_type": "execute_result"
    }
   ],
   "source": [
    "A * x"
   ]
  },
  {
   "cell_type": "code",
   "execution_count": 225,
   "metadata": {},
   "outputs": [
    {
     "data": {
      "text/plain": [
       "matrix([[1],\n",
       "        [2],\n",
       "        [3]])"
      ]
     },
     "execution_count": 225,
     "metadata": {},
     "output_type": "execute_result"
    }
   ],
   "source": [
    "b"
   ]
  },
  {
   "cell_type": "code",
   "execution_count": 226,
   "metadata": {},
   "outputs": [
    {
     "data": {
      "text/plain": [
       "matrix([[False],\n",
       "        [False],\n",
       "        [ True]])"
      ]
     },
     "execution_count": 226,
     "metadata": {},
     "output_type": "execute_result"
    }
   ],
   "source": [
    "A * x == b"
   ]
  },
  {
   "cell_type": "code",
   "execution_count": 227,
   "metadata": {},
   "outputs": [
    {
     "data": {
      "text/plain": [
       "True"
      ]
     },
     "execution_count": 227,
     "metadata": {},
     "output_type": "execute_result"
    }
   ],
   "source": [
    "np.allclose(A * x, b)"
   ]
  },
  {
   "cell_type": "code",
   "execution_count": 228,
   "metadata": {},
   "outputs": [
    {
     "data": {
      "text/plain": [
       "array([[3, 1, 4],\n",
       "       [1, 5, 9],\n",
       "       [2, 6, 5]])"
      ]
     },
     "execution_count": 228,
     "metadata": {},
     "output_type": "execute_result"
    }
   ],
   "source": [
    "A.A"
   ]
  },
  {
   "cell_type": "code",
   "execution_count": 230,
   "metadata": {},
   "outputs": [
    {
     "data": {
      "text/plain": [
       "array([3, 1, 4, 1, 5, 9, 2, 6, 5])"
      ]
     },
     "execution_count": 230,
     "metadata": {},
     "output_type": "execute_result"
    }
   ],
   "source": [
    "A.A1"
   ]
  },
  {
   "cell_type": "code",
   "execution_count": 231,
   "metadata": {},
   "outputs": [
    {
     "ename": "UFuncTypeError",
     "evalue": "ufunc 'multiply' cannot use operands with types dtype('float64') and dtype('<M8[D]')",
     "output_type": "error",
     "traceback": [
      "\u001b[1;31m---------------------------------------------------------------------------\u001b[0m",
      "\u001b[1;31mUFuncTypeError\u001b[0m                            Traceback (most recent call last)",
      "Cell \u001b[1;32mIn[231], line 1\u001b[0m\n\u001b[1;32m----> 1\u001b[0m \u001b[43mnp\u001b[49m\u001b[38;5;241;43m.\u001b[39;49m\u001b[43mouter\u001b[49m\u001b[43m(\u001b[49m\u001b[43mx\u001b[49m\u001b[43m,\u001b[49m\u001b[43m \u001b[49m\u001b[43my\u001b[49m\u001b[43m)\u001b[49m\n",
      "File \u001b[1;32md:\\dev\\venv\\Lib\\site-packages\\numpy\\core\\numeric.py:925\u001b[0m, in \u001b[0;36mouter\u001b[1;34m(a, b, out)\u001b[0m\n\u001b[0;32m    923\u001b[0m a \u001b[38;5;241m=\u001b[39m asarray(a)\n\u001b[0;32m    924\u001b[0m b \u001b[38;5;241m=\u001b[39m asarray(b)\n\u001b[1;32m--> 925\u001b[0m \u001b[38;5;28;01mreturn\u001b[39;00m \u001b[43mmultiply\u001b[49m\u001b[43m(\u001b[49m\u001b[43ma\u001b[49m\u001b[38;5;241;43m.\u001b[39;49m\u001b[43mravel\u001b[49m\u001b[43m(\u001b[49m\u001b[43m)\u001b[49m\u001b[43m[\u001b[49m\u001b[43m:\u001b[49m\u001b[43m,\u001b[49m\u001b[43m \u001b[49m\u001b[43mnewaxis\u001b[49m\u001b[43m]\u001b[49m\u001b[43m,\u001b[49m\u001b[43m \u001b[49m\u001b[43mb\u001b[49m\u001b[38;5;241;43m.\u001b[39;49m\u001b[43mravel\u001b[49m\u001b[43m(\u001b[49m\u001b[43m)\u001b[49m\u001b[43m[\u001b[49m\u001b[43mnewaxis\u001b[49m\u001b[43m,\u001b[49m\u001b[43m \u001b[49m\u001b[43m:\u001b[49m\u001b[43m]\u001b[49m\u001b[43m,\u001b[49m\u001b[43m \u001b[49m\u001b[43mout\u001b[49m\u001b[43m)\u001b[49m\n",
      "\u001b[1;31mUFuncTypeError\u001b[0m: ufunc 'multiply' cannot use operands with types dtype('float64') and dtype('<M8[D]')"
     ]
    }
   ],
   "source": [
    "np.outer(x, y)"
   ]
  },
  {
   "cell_type": "code",
   "execution_count": 232,
   "metadata": {},
   "outputs": [
    {
     "data": {
      "text/plain": [
       "array([[10, 20, 30],\n",
       "       [20, 40, 60],\n",
       "       [30, 60, 90]])"
      ]
     },
     "execution_count": 232,
     "metadata": {},
     "output_type": "execute_result"
    }
   ],
   "source": [
    "np.outer(\n",
    "    np.array([[1], [2], [3]]),\n",
    "    np.array([[10], [20], [30]]),\n",
    ")"
   ]
  },
  {
   "cell_type": "code",
   "execution_count": 233,
   "metadata": {},
   "outputs": [
    {
     "data": {
      "text/plain": [
       "array([[10, 20],\n",
       "       [20, 40],\n",
       "       [30, 60]])"
      ]
     },
     "execution_count": 233,
     "metadata": {},
     "output_type": "execute_result"
    }
   ],
   "source": [
    "np.outer(\n",
    "    np.array([[1], [2], [3]]),\n",
    "    np.array([[10], [20]]),\n",
    ")"
   ]
  },
  {
   "cell_type": "code",
   "execution_count": 234,
   "metadata": {},
   "outputs": [
    {
     "data": {
      "text/plain": [
       "array([[10, 20, 30],\n",
       "       [20, 40, 60]])"
      ]
     },
     "execution_count": 234,
     "metadata": {},
     "output_type": "execute_result"
    }
   ],
   "source": [
    "np.outer(\n",
    "    np.array([[1], [2]]),\n",
    "    np.array([[10], [20], [30]]),\n",
    ")"
   ]
  },
  {
   "cell_type": "code",
   "execution_count": 235,
   "metadata": {},
   "outputs": [
    {
     "data": {
      "text/plain": [
       "array([[10, 20],\n",
       "       [20, 40],\n",
       "       [30, 60]])"
      ]
     },
     "execution_count": 235,
     "metadata": {},
     "output_type": "execute_result"
    }
   ],
   "source": [
    "np.outer(\n",
    "    np.array([[10], [20], [30]]),\n",
    "    np.array([[1], [2]]),\n",
    ")"
   ]
  },
  {
   "cell_type": "code",
   "execution_count": 236,
   "metadata": {},
   "outputs": [
    {
     "data": {
      "text/plain": [
       "array([-1,  2, -1])"
      ]
     },
     "execution_count": 236,
     "metadata": {},
     "output_type": "execute_result"
    }
   ],
   "source": [
    "np.cross(\n",
    "    [1,2,3],\n",
    "    [2,3,4]\n",
    ")"
   ]
  },
  {
   "cell_type": "code",
   "execution_count": 237,
   "metadata": {},
   "outputs": [
    {
     "data": {
      "text/plain": [
       "<module 'numpy.linalg' from 'd:\\\\dev\\\\venv\\\\Lib\\\\site-packages\\\\numpy\\\\linalg\\\\__init__.py'>"
      ]
     },
     "execution_count": 237,
     "metadata": {},
     "output_type": "execute_result"
    }
   ],
   "source": [
    "np.linalg"
   ]
  },
  {
   "cell_type": "code",
   "execution_count": 238,
   "metadata": {},
   "outputs": [
    {
     "data": {
      "text/plain": [
       "-90.0"
      ]
     },
     "execution_count": 238,
     "metadata": {},
     "output_type": "execute_result"
    }
   ],
   "source": [
    "np.linalg.det(A)"
   ]
  },
  {
   "cell_type": "code",
   "execution_count": 239,
   "metadata": {},
   "outputs": [
    {
     "data": {
      "text/plain": [
       "matrix([[3, 1, 4],\n",
       "        [1, 5, 9],\n",
       "        [2, 6, 5]])"
      ]
     },
     "execution_count": 239,
     "metadata": {},
     "output_type": "execute_result"
    }
   ],
   "source": [
    "A"
   ]
  },
  {
   "cell_type": "code",
   "execution_count": 240,
   "metadata": {},
   "outputs": [
    {
     "data": {
      "text/plain": [
       "matrix([[ 0.32222222, -0.21111111,  0.12222222],\n",
       "        [-0.14444444, -0.07777778,  0.25555556],\n",
       "        [ 0.04444444,  0.17777778, -0.15555556]])"
      ]
     },
     "execution_count": 240,
     "metadata": {},
     "output_type": "execute_result"
    }
   ],
   "source": [
    "np.linalg.inv(A)"
   ]
  },
  {
   "cell_type": "code",
   "execution_count": 242,
   "metadata": {},
   "outputs": [
    {
     "data": {
      "text/plain": [
       "matrix([[ 0.32222222, -0.21111111,  0.12222222],\n",
       "        [-0.14444444, -0.07777778,  0.25555556],\n",
       "        [ 0.04444444,  0.17777778, -0.15555556]])"
      ]
     },
     "execution_count": 242,
     "metadata": {},
     "output_type": "execute_result"
    }
   ],
   "source": [
    "np.matrix(A).I"
   ]
  },
  {
   "cell_type": "code",
   "execution_count": 243,
   "metadata": {},
   "outputs": [
    {
     "data": {
      "text/plain": [
       "matrix([[ 0.26666667],\n",
       "        [ 0.46666667],\n",
       "        [-0.06666667]])"
      ]
     },
     "execution_count": 243,
     "metadata": {},
     "output_type": "execute_result"
    }
   ],
   "source": [
    "np.linalg.solve(A, b)"
   ]
  },
  {
   "cell_type": "code",
   "execution_count": 244,
   "metadata": {},
   "outputs": [
    {
     "data": {
      "text/plain": [
       "SVDResult(U=matrix([[-0.32463251, -0.79898436, -0.50619929],\n",
       "        [-0.75307473, -0.1054674 ,  0.64942672],\n",
       "        [-0.57226932,  0.59203093, -0.56745679]]), S=array([13.58235799,  2.84547726,  2.32869289]), Vh=matrix([[-0.21141476, -0.55392606, -0.80527617],\n",
       "        [-0.46331722,  0.78224635, -0.41644663],\n",
       "        [-0.86060499, -0.28505536,  0.42202191]]))"
      ]
     },
     "execution_count": 244,
     "metadata": {},
     "output_type": "execute_result"
    }
   ],
   "source": [
    "np.linalg.svd(A)"
   ]
  },
  {
   "cell_type": "code",
   "execution_count": 245,
   "metadata": {},
   "outputs": [
    {
     "data": {
      "text/plain": [
       "array([3, 5, 5])"
      ]
     },
     "execution_count": 245,
     "metadata": {},
     "output_type": "execute_result"
    }
   ],
   "source": [
    "np.diag(A)"
   ]
  },
  {
   "cell_type": "code",
   "execution_count": 246,
   "metadata": {},
   "outputs": [
    {
     "ename": "ValueError",
     "evalue": "Input must be 1- or 2-d.",
     "output_type": "error",
     "traceback": [
      "\u001b[1;31m---------------------------------------------------------------------------\u001b[0m",
      "\u001b[1;31mValueError\u001b[0m                                Traceback (most recent call last)",
      "Cell \u001b[1;32mIn[246], line 1\u001b[0m\n\u001b[1;32m----> 1\u001b[0m \u001b[43mnp\u001b[49m\u001b[38;5;241;43m.\u001b[39;49m\u001b[43mdiag\u001b[49m\u001b[43m(\u001b[49m\u001b[38;5;241;43m4\u001b[39;49m\u001b[43m)\u001b[49m\n",
      "File \u001b[1;32md:\\dev\\venv\\Lib\\site-packages\\numpy\\lib\\twodim_base.py:303\u001b[0m, in \u001b[0;36mdiag\u001b[1;34m(v, k)\u001b[0m\n\u001b[0;32m    301\u001b[0m     \u001b[38;5;28;01mreturn\u001b[39;00m diagonal(v, k)\n\u001b[0;32m    302\u001b[0m \u001b[38;5;28;01melse\u001b[39;00m:\n\u001b[1;32m--> 303\u001b[0m     \u001b[38;5;28;01mraise\u001b[39;00m \u001b[38;5;167;01mValueError\u001b[39;00m(\u001b[38;5;124m\"\u001b[39m\u001b[38;5;124mInput must be 1- or 2-d.\u001b[39m\u001b[38;5;124m\"\u001b[39m)\n",
      "\u001b[1;31mValueError\u001b[0m: Input must be 1- or 2-d."
     ]
    }
   ],
   "source": [
    "np.diag(4)"
   ]
  },
  {
   "cell_type": "code",
   "execution_count": 247,
   "metadata": {},
   "outputs": [
    {
     "data": {
      "text/plain": [
       "array([[1, 0, 0],\n",
       "       [0, 2, 0],\n",
       "       [0, 0, 3]])"
      ]
     },
     "execution_count": 247,
     "metadata": {},
     "output_type": "execute_result"
    }
   ],
   "source": [
    "np.diag([1,2,3])"
   ]
  },
  {
   "cell_type": "code",
   "execution_count": 248,
   "metadata": {},
   "outputs": [
    {
     "data": {
      "text/plain": [
       "array([1, 4])"
      ]
     },
     "execution_count": 248,
     "metadata": {},
     "output_type": "execute_result"
    }
   ],
   "source": [
    "np.diag([[1,2],[3,4]])"
   ]
  },
  {
   "cell_type": "code",
   "execution_count": 249,
   "metadata": {},
   "outputs": [
    {
     "data": {
      "text/plain": [
       "False"
      ]
     },
     "execution_count": 249,
     "metadata": {},
     "output_type": "execute_result"
    }
   ],
   "source": [
    "np.poly == np.polynomial"
   ]
  },
  {
   "cell_type": "code",
   "execution_count": 252,
   "metadata": {},
   "outputs": [
    {
     "data": {
      "text/plain": [
       "'\\n    Find the coefficients of a polynomial with the given sequence of roots.\\n\\n    .. note::\\n       This forms part of the old polynomial API. Since version 1.4, the\\n       new polynomial API defined in `numpy.polynomial` is preferred.\\n       A summary of the differences can be found in the\\n       :doc:`transition guide </reference/routines.polynomials>`.\\n\\n    Returns the coefficients of the polynomial whose leading coefficient\\n    is one for the given sequence of zeros (multiple roots must be included\\n    in the sequence as many times as their multiplicity; see Examples).\\n    A square matrix (or array, which will be treated as a matrix) can also\\n    be given, in which case the coefficients of the characteristic polynomial\\n    of the matrix are returned.\\n\\n    Parameters\\n    ----------\\n    seq_of_zeros : array_like, shape (N,) or (N, N)\\n        A sequence of polynomial roots, or a square array or matrix object.\\n\\n    Returns\\n    -------\\n    c : ndarray\\n        1D array of polynomial coefficients from highest to lowest degree:\\n\\n        ``c[0] * x**(N) + c[1] * x**(N-1) + ... + c[N-1] * x + c[N]``\\n        where c[0] always equals 1.\\n\\n    Raises\\n    ------\\n    ValueError\\n        If input is the wrong shape (the input must be a 1-D or square\\n        2-D array).\\n\\n    See Also\\n    --------\\n    polyval : Compute polynomial values.\\n    roots : Return the roots of a polynomial.\\n    polyfit : Least squares polynomial fit.\\n    poly1d : A one-dimensional polynomial class.\\n\\n    Notes\\n    -----\\n    Specifying the roots of a polynomial still leaves one degree of\\n    freedom, typically represented by an undetermined leading\\n    coefficient. [1]_ In the case of this function, that coefficient -\\n    the first one in the returned array - is always taken as one. (If\\n    for some reason you have one other point, the only automatic way\\n    presently to leverage that information is to use ``polyfit``.)\\n\\n    The characteristic polynomial, :math:`p_a(t)`, of an `n`-by-`n`\\n    matrix **A** is given by\\n\\n        :math:`p_a(t) = \\\\mathrm{det}(t\\\\, \\\\mathbf{I} - \\\\mathbf{A})`,\\n\\n    where **I** is the `n`-by-`n` identity matrix. [2]_\\n\\n    References\\n    ----------\\n    .. [1] M. Sullivan and M. Sullivan, III, \"Algebra and Trigonometry,\\n       Enhanced With Graphing Utilities,\" Prentice-Hall, pg. 318, 1996.\\n\\n    .. [2] G. Strang, \"Linear Algebra and Its Applications, 2nd Edition,\"\\n       Academic Press, pg. 182, 1980.\\n\\n    Examples\\n    --------\\n    Given a sequence of a polynomial\\'s zeros:\\n\\n    >>> np.poly((0, 0, 0)) # Multiple root example\\n    array([1., 0., 0., 0.])\\n\\n    The line above represents z**3 + 0*z**2 + 0*z + 0.\\n\\n    >>> np.poly((-1./2, 0, 1./2))\\n    array([ 1.  ,  0.  , -0.25,  0.  ])\\n\\n    The line above represents z**3 - z/4\\n\\n    >>> np.poly((np.random.random(1)[0], 0, np.random.random(1)[0]))\\n    array([ 1.        , -0.77086955,  0.08618131,  0.        ]) # random\\n\\n    Given a square array object:\\n\\n    >>> P = np.array([[0, 1./3], [-1./2, 0]])\\n    >>> np.poly(P)\\n    array([1.        , 0.        , 0.16666667])\\n\\n    Note how in all cases the leading coefficient is always 1.\\n\\n    '"
      ]
     },
     "execution_count": 252,
     "metadata": {},
     "output_type": "execute_result"
    }
   ],
   "source": [
    "np.poly.__doc__"
   ]
  },
  {
   "cell_type": "code",
   "execution_count": 253,
   "metadata": {},
   "outputs": [
    {
     "data": {
      "text/plain": [
       "'\\nA sub-package for efficiently dealing with polynomials.\\n\\nWithin the documentation for this sub-package, a \"finite power series,\"\\ni.e., a polynomial (also referred to simply as a \"series\") is represented\\nby a 1-D numpy array of the polynomial\\'s coefficients, ordered from lowest\\norder term to highest.  For example, array([1,2,3]) represents\\n``P_0 + 2*P_1 + 3*P_2``, where P_n is the n-th order basis polynomial\\napplicable to the specific module in question, e.g., `polynomial` (which\\n\"wraps\" the \"standard\" basis) or `chebyshev`.  For optimal performance,\\nall operations on polynomials, including evaluation at an argument, are\\nimplemented as operations on the coefficients.  Additional (module-specific)\\ninformation can be found in the docstring for the module of interest.\\n\\nThis package provides *convenience classes* for each of six different kinds\\nof polynomials:\\n\\n         ========================    ================\\n         **Name**                    **Provides**\\n         ========================    ================\\n         `~polynomial.Polynomial`    Power series\\n         `~chebyshev.Chebyshev`      Chebyshev series\\n         `~legendre.Legendre`        Legendre series\\n         `~laguerre.Laguerre`        Laguerre series\\n         `~hermite.Hermite`          Hermite series\\n         `~hermite_e.HermiteE`       HermiteE series\\n         ========================    ================\\n\\nThese *convenience classes* provide a consistent interface for creating,\\nmanipulating, and fitting data with polynomials of different bases.\\nThe convenience classes are the preferred interface for the `~numpy.polynomial`\\npackage, and are available from the ``numpy.polynomial`` namespace.\\nThis eliminates the need to navigate to the corresponding submodules, e.g.\\n``np.polynomial.Polynomial`` or ``np.polynomial.Chebyshev`` instead of\\n``np.polynomial.polynomial.Polynomial`` or\\n``np.polynomial.chebyshev.Chebyshev``, respectively.\\nThe classes provide a more consistent and concise interface than the\\ntype-specific functions defined in the submodules for each type of polynomial.\\nFor example, to fit a Chebyshev polynomial with degree ``1`` to data given\\nby arrays ``xdata`` and ``ydata``, the\\n`~chebyshev.Chebyshev.fit` class method::\\n\\n    >>> from numpy.polynomial import Chebyshev\\n    >>> c = Chebyshev.fit(xdata, ydata, deg=1)\\n\\nis preferred over the `chebyshev.chebfit` function from the\\n``np.polynomial.chebyshev`` module::\\n\\n    >>> from numpy.polynomial.chebyshev import chebfit\\n    >>> c = chebfit(xdata, ydata, deg=1)\\n\\nSee :doc:`routines.polynomials.classes` for more details.\\n\\nConvenience Classes\\n===================\\n\\nThe following lists the various constants and methods common to all of\\nthe classes representing the various kinds of polynomials. In the following,\\nthe term ``Poly`` represents any one of the convenience classes (e.g.\\n`~polynomial.Polynomial`, `~chebyshev.Chebyshev`, `~hermite.Hermite`, etc.)\\nwhile the lowercase ``p`` represents an **instance** of a polynomial class.\\n\\nConstants\\n---------\\n\\n- ``Poly.domain``     -- Default domain\\n- ``Poly.window``     -- Default window\\n- ``Poly.basis_name`` -- String used to represent the basis\\n- ``Poly.maxpower``   -- Maximum value ``n`` such that ``p**n`` is allowed\\n- ``Poly.nickname``   -- String used in printing\\n\\nCreation\\n--------\\n\\nMethods for creating polynomial instances.\\n\\n- ``Poly.basis(degree)``    -- Basis polynomial of given degree\\n- ``Poly.identity()``       -- ``p`` where ``p(x) = x`` for all ``x``\\n- ``Poly.fit(x, y, deg)``   -- ``p`` of degree ``deg`` with coefficients\\n  determined by the least-squares fit to the data ``x``, ``y``\\n- ``Poly.fromroots(roots)`` -- ``p`` with specified roots\\n- ``p.copy()``              -- Create a copy of ``p``\\n\\nConversion\\n----------\\n\\nMethods for converting a polynomial instance of one kind to another.\\n\\n- ``p.cast(Poly)``    -- Convert ``p`` to instance of kind ``Poly``\\n- ``p.convert(Poly)`` -- Convert ``p`` to instance of kind ``Poly`` or map\\n  between ``domain`` and ``window``\\n\\nCalculus\\n--------\\n- ``p.deriv()`` -- Take the derivative of ``p``\\n- ``p.integ()`` -- Integrate ``p``\\n\\nValidation\\n----------\\n- ``Poly.has_samecoef(p1, p2)``   -- Check if coefficients match\\n- ``Poly.has_samedomain(p1, p2)`` -- Check if domains match\\n- ``Poly.has_sametype(p1, p2)``   -- Check if types match\\n- ``Poly.has_samewindow(p1, p2)`` -- Check if windows match\\n\\nMisc\\n----\\n- ``p.linspace()`` -- Return ``x, p(x)`` at equally-spaced points in ``domain``\\n- ``p.mapparms()`` -- Return the parameters for the linear mapping between\\n  ``domain`` and ``window``.\\n- ``p.roots()``    -- Return the roots of `p`.\\n- ``p.trim()``     -- Remove trailing coefficients.\\n- ``p.cutdeg(degree)`` -- Truncate p to given degree\\n- ``p.truncate(size)`` -- Truncate p to given size\\n\\n'"
      ]
     },
     "execution_count": 253,
     "metadata": {},
     "output_type": "execute_result"
    }
   ],
   "source": [
    "np.polynomial.__doc__"
   ]
  },
  {
   "cell_type": "code",
   "execution_count": 254,
   "metadata": {},
   "outputs": [
    {
     "data": {
      "text/plain": [
       "array([  1., -10.,  35., -50.,  24.])"
      ]
     },
     "execution_count": 254,
     "metadata": {},
     "output_type": "execute_result"
    }
   ],
   "source": [
    "np.poly(np.array([1,2,3,4]))"
   ]
  },
  {
   "cell_type": "code",
   "execution_count": 255,
   "metadata": {},
   "outputs": [
    {
     "data": {
      "text/plain": [
       "array([-1.65062919+0.j        , -0.1746854 +1.54686889j,\n",
       "       -0.1746854 -1.54686889j])"
      ]
     },
     "execution_count": 255,
     "metadata": {},
     "output_type": "execute_result"
    }
   ],
   "source": [
    "np.roots(np.array([1,2,3,4]))"
   ]
  },
  {
   "cell_type": "code",
   "execution_count": 256,
   "metadata": {},
   "outputs": [
    {
     "data": {
      "text/plain": [
       "194"
      ]
     },
     "execution_count": 256,
     "metadata": {},
     "output_type": "execute_result"
    }
   ],
   "source": [
    "np.polyval(np.array([1,2,3,4]), 5)"
   ]
  },
  {
   "cell_type": "code",
   "execution_count": 257,
   "metadata": {},
   "outputs": [
    {
     "data": {
      "text/plain": [
       "array([0.25      , 0.66666667, 1.5       , 4.        , 0.        ])"
      ]
     },
     "execution_count": 257,
     "metadata": {},
     "output_type": "execute_result"
    }
   ],
   "source": [
    "np.polyint(np.array([1,2,3,4]))"
   ]
  },
  {
   "cell_type": "code",
   "execution_count": 261,
   "metadata": {},
   "outputs": [
    {
     "data": {
      "text/plain": [
       "array([ True,  True,  True,  True])"
      ]
     },
     "execution_count": 261,
     "metadata": {},
     "output_type": "execute_result"
    }
   ],
   "source": [
    "np.polyder(np.polyint(np.array([1,2,3,4]))) == np.array([1,2,3,4])"
   ]
  },
  {
   "cell_type": "code",
   "execution_count": null,
   "metadata": {},
   "outputs": [],
   "source": []
  }
 ],
 "metadata": {
  "kernelspec": {
   "display_name": "venv",
   "language": "python",
   "name": "python3"
  },
  "language_info": {
   "codemirror_mode": {
    "name": "ipython",
    "version": 3
   },
   "file_extension": ".py",
   "mimetype": "text/x-python",
   "name": "python",
   "nbconvert_exporter": "python",
   "pygments_lexer": "ipython3",
   "version": "3.11.8"
  }
 },
 "nbformat": 4,
 "nbformat_minor": 2
}
