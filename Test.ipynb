{
 "cells": [
  {
   "cell_type": "code",
   "execution_count": 2,
   "metadata": {},
   "outputs": [],
   "source": [
    "s = \"\"\"Git, HTTP, API, RESTful API, SSL, Cookie, Session, Token, OAuth, Cloud, CDN, Load Balancing, Cache, Microservices, Webservices, Cloud Computing, Lazy Loading, Eager Loading, Database Transactions, Design Patterns, FTP, HTTPS, SSH, Asynchronous and Synchronous, How does internet works?, DNS, TLS, CORS, Encrypting Algorithms, Hashing Algorithms, SHA family, MD5, Integration Testing, Unit Testing, TDD, Functional Testing, CI/CD, Serverless, DRY, Reusability, Pluggability, Agile, UML, Scrum, GPG, CMS, SOAP, JWT, TCP/IP, PWA, SPA, WSGI, ASGI\"\"\""
   ]
  },
  {
   "cell_type": "code",
   "execution_count": 6,
   "metadata": {},
   "outputs": [],
   "source": [
    "f = open('th', 'w')\n",
    "for i in [i.strip() for i in s.split(',')]:\n",
    "    f.write(i+'\\n')\n",
    "f.close()"
   ]
  },
  {
   "cell_type": "code",
   "execution_count": null,
   "metadata": {},
   "outputs": [],
   "source": []
  }
 ],
 "metadata": {
  "kernelspec": {
   "display_name": "Python 3.11.0 ('dev-QlN82kKl')",
   "language": "python",
   "name": "python3"
  },
  "language_info": {
   "codemirror_mode": {
    "name": "ipython",
    "version": 3
   },
   "file_extension": ".py",
   "mimetype": "text/x-python",
   "name": "python",
   "nbconvert_exporter": "python",
   "pygments_lexer": "ipython3",
   "version": "3.11.0"
  },
  "orig_nbformat": 4,
  "vscode": {
   "interpreter": {
    "hash": "1453cd5144ae3196c08376347c290d3a48a08aae8c8578ea634debfff0ac3358"
   }
  }
 },
 "nbformat": 4,
 "nbformat_minor": 2
}
