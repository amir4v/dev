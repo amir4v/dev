{
 "cells": [
  {
   "cell_type": "code",
   "execution_count": 1,
   "metadata": {},
   "outputs": [],
   "source": [
    "from datetime import datetime, date, time, timedelta\n",
    "from dateutil.relativedelta import relativedelta\n",
    "from jdatetime import datetime as jdatetime"
   ]
  },
  {
   "cell_type": "code",
   "execution_count": 5,
   "metadata": {},
   "outputs": [
    {
     "data": {
      "text/plain": [
       "686"
      ]
     },
     "execution_count": 5,
     "metadata": {},
     "output_type": "execute_result"
    }
   ],
   "source": [
    "from datetime import datetime\n",
    "dt = datetime(2024, 11, 12) - datetime.now()\n",
    "dt.days"
   ]
  },
  {
   "cell_type": "code",
   "execution_count": 3,
   "metadata": {},
   "outputs": [
    {
     "data": {
      "text/plain": [
       "datetime.datetime(2024, 11, 12, 0, 0)"
      ]
     },
     "execution_count": 3,
     "metadata": {},
     "output_type": "execute_result"
    }
   ],
   "source": [
    "dt"
   ]
  },
  {
   "cell_type": "code",
   "execution_count": 4,
   "metadata": {},
   "outputs": [
    {
     "ename": "TypeError",
     "evalue": "cannot set 'month' attribute of immutable type 'datetime.datetime'",
     "output_type": "error",
     "traceback": [
      "\u001b[1;31m---------------------------------------------------------------------------\u001b[0m",
      "\u001b[1;31mTypeError\u001b[0m                                 Traceback (most recent call last)",
      "Cell \u001b[1;32mIn [4], line 1\u001b[0m\n\u001b[1;32m----> 1\u001b[0m _30 \u001b[39m=\u001b[39m datetime\u001b[39m.\u001b[39;49mmonth \u001b[39m=\u001b[39m \u001b[39m30\u001b[39m\n",
      "\u001b[1;31mTypeError\u001b[0m: cannot set 'month' attribute of immutable type 'datetime.datetime'"
     ]
    }
   ],
   "source": [
    "_30 = datetime.month = 30"
   ]
  },
  {
   "cell_type": "code",
   "execution_count": null,
   "metadata": {},
   "outputs": [
    {
     "data": {
      "text/plain": [
       "30"
      ]
     },
     "execution_count": 7,
     "metadata": {},
     "output_type": "execute_result"
    }
   ],
   "source": [
    "_30"
   ]
  },
  {
   "cell_type": "code",
   "execution_count": null,
   "metadata": {},
   "outputs": [],
   "source": []
  },
  {
   "cell_type": "code",
   "execution_count": null,
   "metadata": {},
   "outputs": [
    {
     "ename": "TypeError",
     "evalue": "unsupported operand type(s) for +: '<class 'jdatetime.datetime'>' and '<class 'dateutil.relativedelta.relativedelta'>'",
     "output_type": "error",
     "traceback": [
      "\u001b[1;31m---------------------------------------------------------------------------\u001b[0m",
      "\u001b[1;31mTypeError\u001b[0m                                 Traceback (most recent call last)",
      "Cell \u001b[1;32mIn [15], line 1\u001b[0m\n\u001b[1;32m----> 1\u001b[0m dt \u001b[39m+\u001b[39;49m relativedelta\u001b[39m.\u001b[39;49mrelativedelta(months\u001b[39m=\u001b[39;49m\u001b[39m30\u001b[39;49m)\n",
      "File \u001b[1;32mc:\\Users\\Amir\\.virtualenvs\\dev-QlN82kKl\\Lib\\site-packages\\jdatetime\\__init__.py:1025\u001b[0m, in \u001b[0;36mdatetime.__add__\u001b[1;34m(self, timedelta)\u001b[0m\n\u001b[0;32m   1023\u001b[0m \u001b[39mif\u001b[39;00m \u001b[39misinstance\u001b[39m(timedelta, py_datetime\u001b[39m.\u001b[39mtimedelta):\n\u001b[0;32m   1024\u001b[0m     \u001b[39mreturn\u001b[39;00m datetime\u001b[39m.\u001b[39mfromgregorian(datetime\u001b[39m=\u001b[39m\u001b[39mself\u001b[39m\u001b[39m.\u001b[39mtogregorian() \u001b[39m+\u001b[39m timedelta, locale\u001b[39m=\u001b[39m\u001b[39mself\u001b[39m\u001b[39m.\u001b[39mlocale)\n\u001b[1;32m-> 1025\u001b[0m \u001b[39mraise\u001b[39;00m \u001b[39mTypeError\u001b[39;00m(\n\u001b[0;32m   1026\u001b[0m     \u001b[39m\"\u001b[39m\u001b[39munsupported operand type(s) for +: \u001b[39m\u001b[39m'\u001b[39m\u001b[39m%s\u001b[39;00m\u001b[39m'\u001b[39m\u001b[39m and \u001b[39m\u001b[39m'\u001b[39m\u001b[39m%s\u001b[39;00m\u001b[39m'\u001b[39m\u001b[39m\"\u001b[39m \u001b[39m%\u001b[39m\n\u001b[0;32m   1027\u001b[0m     (\u001b[39mtype\u001b[39m(\u001b[39mself\u001b[39m), \u001b[39mtype\u001b[39m(timedelta)))\n",
      "\u001b[1;31mTypeError\u001b[0m: unsupported operand type(s) for +: '<class 'jdatetime.datetime'>' and '<class 'dateutil.relativedelta.relativedelta'>'"
     ]
    }
   ],
   "source": [
    "dt + relativedelta.relativedelta(months=30)"
   ]
  },
  {
   "cell_type": "code",
   "execution_count": null,
   "metadata": {},
   "outputs": [
    {
     "ename": "IndexError",
     "evalue": "list index out of range",
     "output_type": "error",
     "traceback": [
      "\u001b[1;31m---------------------------------------------------------------------------\u001b[0m",
      "\u001b[1;31mIndexError\u001b[0m                                Traceback (most recent call last)",
      "Cell \u001b[1;32mIn [21], line 1\u001b[0m\n\u001b[1;32m----> 1\u001b[0m dt\u001b[39m.\u001b[39;49mtogregorian()\n",
      "File \u001b[1;32mc:\\Users\\Amir\\.virtualenvs\\dev-QlN82kKl\\Lib\\site-packages\\jdatetime\\__init__.py:1243\u001b[0m, in \u001b[0;36mdatetime.togregorian\u001b[1;34m(self)\u001b[0m\n\u001b[0;32m   1241\u001b[0m \u001b[39mdef\u001b[39;00m \u001b[39mtogregorian\u001b[39m(\u001b[39mself\u001b[39m):\n\u001b[0;32m   1242\u001b[0m     \u001b[39m\"\"\"Convert current jalali date to gregorian and return datetime.datetime\"\"\"\u001b[39;00m\n\u001b[1;32m-> 1243\u001b[0m     gdate \u001b[39m=\u001b[39m date\u001b[39m.\u001b[39;49mtogregorian(\u001b[39mself\u001b[39;49m)\n\u001b[0;32m   1244\u001b[0m     \u001b[39mreturn\u001b[39;00m py_datetime\u001b[39m.\u001b[39mdatetime\u001b[39m.\u001b[39mcombine(gdate, \u001b[39mself\u001b[39m\u001b[39m.\u001b[39m__time)\n",
      "File \u001b[1;32mc:\\Users\\Amir\\.virtualenvs\\dev-QlN82kKl\\Lib\\site-packages\\jdatetime\\__init__.py:291\u001b[0m, in \u001b[0;36mdate.togregorian\u001b[1;34m(self)\u001b[0m\n\u001b[0;32m    289\u001b[0m \u001b[39mdef\u001b[39;00m \u001b[39mtogregorian\u001b[39m(\u001b[39mself\u001b[39m):\n\u001b[0;32m    290\u001b[0m     \u001b[39m\"\"\"Convert current jalali date to gregorian and return datetime.date\"\"\"\u001b[39;00m\n\u001b[1;32m--> 291\u001b[0m     (y, m, d) \u001b[39m=\u001b[39m JalaliToGregorian(\u001b[39mself\u001b[39;49m\u001b[39m.\u001b[39;49myear, \u001b[39mself\u001b[39;49m\u001b[39m.\u001b[39;49mmonth, \u001b[39mself\u001b[39;49m\u001b[39m.\u001b[39;49mday)\u001b[39m.\u001b[39mgetGregorianList()\n\u001b[0;32m    292\u001b[0m     \u001b[39mreturn\u001b[39;00m py_datetime\u001b[39m.\u001b[39mdate(y, m, d)\n",
      "File \u001b[1;32mc:\\Users\\Amir\\.virtualenvs\\dev-QlN82kKl\\Lib\\site-packages\\jdatetime\\jalali.py:77\u001b[0m, in \u001b[0;36mJalaliToGregorian.__init__\u001b[1;34m(self, jyear, jmonth, jday)\u001b[0m\n\u001b[0;32m     75\u001b[0m \u001b[39mself\u001b[39m\u001b[39m.\u001b[39mjmonth \u001b[39m=\u001b[39m jmonth\n\u001b[0;32m     76\u001b[0m \u001b[39mself\u001b[39m\u001b[39m.\u001b[39mjday \u001b[39m=\u001b[39m jday\n\u001b[1;32m---> 77\u001b[0m \u001b[39mself\u001b[39;49m\u001b[39m.\u001b[39;49m__jalaliToGregorian()\n",
      "File \u001b[1;32mc:\\Users\\Amir\\.virtualenvs\\dev-QlN82kKl\\Lib\\site-packages\\jdatetime\\jalali.py:90\u001b[0m, in \u001b[0;36mJalaliToGregorian.__jalaliToGregorian\u001b[1;34m(self)\u001b[0m\n\u001b[0;32m     88\u001b[0m j_day_no \u001b[39m=\u001b[39m \u001b[39m365\u001b[39m \u001b[39m*\u001b[39m jy \u001b[39m+\u001b[39m \u001b[39mint\u001b[39m(jy \u001b[39m/\u001b[39m\u001b[39m/\u001b[39m \u001b[39m33\u001b[39m) \u001b[39m*\u001b[39m \u001b[39m8\u001b[39m \u001b[39m+\u001b[39m (jy \u001b[39m%\u001b[39m \u001b[39m33\u001b[39m \u001b[39m+\u001b[39m \u001b[39m3\u001b[39m) \u001b[39m/\u001b[39m\u001b[39m/\u001b[39m \u001b[39m4\u001b[39m\n\u001b[0;32m     89\u001b[0m \u001b[39mfor\u001b[39;00m i \u001b[39min\u001b[39;00m \u001b[39mrange\u001b[39m(jm):\n\u001b[1;32m---> 90\u001b[0m     j_day_no \u001b[39m+\u001b[39m\u001b[39m=\u001b[39m j_days_in_month[i]\n\u001b[0;32m     92\u001b[0m j_day_no \u001b[39m+\u001b[39m\u001b[39m=\u001b[39m jd\n\u001b[0;32m     94\u001b[0m g_day_no \u001b[39m=\u001b[39m j_day_no \u001b[39m+\u001b[39m \u001b[39m79\u001b[39m\n",
      "\u001b[1;31mIndexError\u001b[0m: list index out of range"
     ]
    }
   ],
   "source": []
  },
  {
   "cell_type": "code",
   "execution_count": null,
   "metadata": {},
   "outputs": [],
   "source": []
  }
 ],
 "metadata": {
  "kernelspec": {
   "display_name": "Python 3.11.0 ('dev-QlN82kKl')",
   "language": "python",
   "name": "python3"
  },
  "language_info": {
   "codemirror_mode": {
    "name": "ipython",
    "version": 3
   },
   "file_extension": ".py",
   "mimetype": "text/x-python",
   "name": "python",
   "nbconvert_exporter": "python",
   "pygments_lexer": "ipython3",
   "version": "3.11.0"
  },
  "orig_nbformat": 4,
  "vscode": {
   "interpreter": {
    "hash": "1453cd5144ae3196c08376347c290d3a48a08aae8c8578ea634debfff0ac3358"
   }
  }
 },
 "nbformat": 4,
 "nbformat_minor": 2
}
