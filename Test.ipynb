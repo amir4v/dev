{
 "cells": [
  {
   "cell_type": "code",
   "execution_count": 1,
   "metadata": {},
   "outputs": [
    {
     "ename": "ModuleNotFoundError",
     "evalue": "No module named 'app'",
     "output_type": "error",
     "traceback": [
      "\u001b[1;31m---------------------------------------------------------------------------\u001b[0m",
      "\u001b[1;31mModuleNotFoundError\u001b[0m                       Traceback (most recent call last)",
      "Cell \u001b[1;32mIn [1], line 1\u001b[0m\n\u001b[1;32m----> 1\u001b[0m \u001b[39mfrom\u001b[39;00m \u001b[39mDjango_ORM_Separately\u001b[39;00m\u001b[39m.\u001b[39;00m\u001b[39mproxy\u001b[39;00m \u001b[39mimport\u001b[39;00m models\n",
      "File \u001b[1;32md:\\dev\\dev\\Django_ORM_Separately\\proxy.py:1\u001b[0m\n\u001b[1;32m----> 1\u001b[0m \u001b[39mfrom\u001b[39;00m \u001b[39m.\u001b[39;00m\u001b[39mmanage\u001b[39;00m \u001b[39mimport\u001b[39;00m init\n\u001b[0;32m      4\u001b[0m init()\n\u001b[0;32m      6\u001b[0m \u001b[39mfrom\u001b[39;00m \u001b[39mapp\u001b[39;00m \u001b[39mimport\u001b[39;00m models\n",
      "File \u001b[1;32md:\\dev\\dev\\Django_ORM_Separately\\manage.py:34\u001b[0m\n\u001b[0;32m     10\u001b[0m     settings\u001b[39m.\u001b[39mconfigure(\n\u001b[0;32m     11\u001b[0m         INSTALLED_APPS\u001b[39m=\u001b[39m[\n\u001b[0;32m     12\u001b[0m             \u001b[39m'\u001b[39m\u001b[39mapp\u001b[39m\u001b[39m'\u001b[39m,\n\u001b[1;32m   (...)\u001b[0m\n\u001b[0;32m     29\u001b[0m         }\n\u001b[0;32m     30\u001b[0m     )\n\u001b[0;32m     32\u001b[0m     django\u001b[39m.\u001b[39msetup()\n\u001b[1;32m---> 34\u001b[0m init()\n\u001b[0;32m     35\u001b[0m execute_from_command_line()\n",
      "File \u001b[1;32md:\\dev\\dev\\Django_ORM_Separately\\manage.py:32\u001b[0m, in \u001b[0;36minit\u001b[1;34m()\u001b[0m\n\u001b[0;32m      8\u001b[0m     \u001b[39mreturn\u001b[39;00m\n\u001b[0;32m     10\u001b[0m settings\u001b[39m.\u001b[39mconfigure(\n\u001b[0;32m     11\u001b[0m     INSTALLED_APPS\u001b[39m=\u001b[39m[\n\u001b[0;32m     12\u001b[0m         \u001b[39m'\u001b[39m\u001b[39mapp\u001b[39m\u001b[39m'\u001b[39m,\n\u001b[1;32m   (...)\u001b[0m\n\u001b[0;32m     29\u001b[0m     }\n\u001b[0;32m     30\u001b[0m )\n\u001b[1;32m---> 32\u001b[0m django\u001b[39m.\u001b[39;49msetup()\n",
      "File \u001b[1;32mc:\\Users\\Amir\\.virtualenvs\\dev-QlN82kKl\\Lib\\site-packages\\django\\__init__.py:24\u001b[0m, in \u001b[0;36msetup\u001b[1;34m(set_prefix)\u001b[0m\n\u001b[0;32m     20\u001b[0m \u001b[39mif\u001b[39;00m set_prefix:\n\u001b[0;32m     21\u001b[0m     set_script_prefix(\n\u001b[0;32m     22\u001b[0m         \u001b[39m'\u001b[39m\u001b[39m/\u001b[39m\u001b[39m'\u001b[39m \u001b[39mif\u001b[39;00m settings\u001b[39m.\u001b[39mFORCE_SCRIPT_NAME \u001b[39mis\u001b[39;00m \u001b[39mNone\u001b[39;00m \u001b[39melse\u001b[39;00m settings\u001b[39m.\u001b[39mFORCE_SCRIPT_NAME\n\u001b[0;32m     23\u001b[0m     )\n\u001b[1;32m---> 24\u001b[0m apps\u001b[39m.\u001b[39;49mpopulate(settings\u001b[39m.\u001b[39;49mINSTALLED_APPS)\n",
      "File \u001b[1;32mc:\\Users\\Amir\\.virtualenvs\\dev-QlN82kKl\\Lib\\site-packages\\django\\apps\\registry.py:91\u001b[0m, in \u001b[0;36mApps.populate\u001b[1;34m(self, installed_apps)\u001b[0m\n\u001b[0;32m     89\u001b[0m     app_config \u001b[39m=\u001b[39m entry\n\u001b[0;32m     90\u001b[0m \u001b[39melse\u001b[39;00m:\n\u001b[1;32m---> 91\u001b[0m     app_config \u001b[39m=\u001b[39m AppConfig\u001b[39m.\u001b[39;49mcreate(entry)\n\u001b[0;32m     92\u001b[0m \u001b[39mif\u001b[39;00m app_config\u001b[39m.\u001b[39mlabel \u001b[39min\u001b[39;00m \u001b[39mself\u001b[39m\u001b[39m.\u001b[39mapp_configs:\n\u001b[0;32m     93\u001b[0m     \u001b[39mraise\u001b[39;00m ImproperlyConfigured(\n\u001b[0;32m     94\u001b[0m         \u001b[39m\"\u001b[39m\u001b[39mApplication labels aren\u001b[39m\u001b[39m'\u001b[39m\u001b[39mt unique, \u001b[39m\u001b[39m\"\u001b[39m\n\u001b[0;32m     95\u001b[0m         \u001b[39m\"\u001b[39m\u001b[39mduplicates: \u001b[39m\u001b[39m%s\u001b[39;00m\u001b[39m\"\u001b[39m \u001b[39m%\u001b[39m app_config\u001b[39m.\u001b[39mlabel)\n",
      "File \u001b[1;32mc:\\Users\\Amir\\.virtualenvs\\dev-QlN82kKl\\Lib\\site-packages\\django\\apps\\config.py:224\u001b[0m, in \u001b[0;36mAppConfig.create\u001b[1;34m(cls, entry)\u001b[0m\n\u001b[0;32m    221\u001b[0m         \u001b[39mraise\u001b[39;00m \u001b[39mImportError\u001b[39;00m(msg)\n\u001b[0;32m    222\u001b[0m     \u001b[39melse\u001b[39;00m:\n\u001b[0;32m    223\u001b[0m         \u001b[39m# Re-trigger the module import exception.\u001b[39;00m\n\u001b[1;32m--> 224\u001b[0m         import_module(entry)\n\u001b[0;32m    226\u001b[0m \u001b[39m# Check for obvious errors. (This check prevents duck typing, but\u001b[39;00m\n\u001b[0;32m    227\u001b[0m \u001b[39m# it could be removed if it became a problem in practice.)\u001b[39;00m\n\u001b[0;32m    228\u001b[0m \u001b[39mif\u001b[39;00m \u001b[39mnot\u001b[39;00m \u001b[39missubclass\u001b[39m(app_config_class, AppConfig):\n",
      "File \u001b[1;32m~\\AppData\\Local\\Programs\\Python\\Python311\\Lib\\importlib\\__init__.py:126\u001b[0m, in \u001b[0;36mimport_module\u001b[1;34m(name, package)\u001b[0m\n\u001b[0;32m    124\u001b[0m             \u001b[39mbreak\u001b[39;00m\n\u001b[0;32m    125\u001b[0m         level \u001b[39m+\u001b[39m\u001b[39m=\u001b[39m \u001b[39m1\u001b[39m\n\u001b[1;32m--> 126\u001b[0m \u001b[39mreturn\u001b[39;00m _bootstrap\u001b[39m.\u001b[39;49m_gcd_import(name[level:], package, level)\n",
      "\u001b[1;31mModuleNotFoundError\u001b[0m: No module named 'app'"
     ]
    }
   ],
   "source": [
    "from Django_ORM_Separately.proxy import models"
   ]
  },
  {
   "cell_type": "code",
   "execution_count": null,
   "metadata": {},
   "outputs": [],
   "source": []
  }
 ],
 "metadata": {
  "kernelspec": {
   "display_name": "Python 3.11.0 ('dev-QlN82kKl')",
   "language": "python",
   "name": "python3"
  },
  "language_info": {
   "codemirror_mode": {
    "name": "ipython",
    "version": 3
   },
   "file_extension": ".py",
   "mimetype": "text/x-python",
   "name": "python",
   "nbconvert_exporter": "python",
   "pygments_lexer": "ipython3",
   "version": "3.11.0"
  },
  "orig_nbformat": 4,
  "vscode": {
   "interpreter": {
    "hash": "1453cd5144ae3196c08376347c290d3a48a08aae8c8578ea634debfff0ac3358"
   }
  }
 },
 "nbformat": 4,
 "nbformat_minor": 2
}
