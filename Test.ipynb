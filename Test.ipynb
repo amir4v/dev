{
 "cells": [
  {
   "cell_type": "code",
   "execution_count": 25,
   "metadata": {},
   "outputs": [
    {
     "data": {
      "text/plain": [
       "'\\nUser\\n    specs\\n        movies & series\\n        genres\\n\\nMatches %\\n    User-x & User-y : n%\\n\\nMatch means >= 50% same/like each other.\\n\\nQuery\\n    half of user specs IN any user(of all users: SELECT specs FROM USER) specs\\n        spec-1 OR spec-2 OR spec-3 OR ... LIKE specs\\n            if half of user specs was IN then there is a match\\n'"
      ]
     },
     "execution_count": 25,
     "metadata": {},
     "output_type": "execute_result"
    }
   ],
   "source": [
    "\"\"\"\n",
    "User\n",
    "    specs\n",
    "        movies & series\n",
    "        genres\n",
    "\n",
    "Matches %\n",
    "    User-x & User-y : n%\n",
    "\n",
    "Match means >= 50% same/like each other.\n",
    "\n",
    "Query\n",
    "    half of user specs IN any user(of all users: SELECT specs FROM USER) specs\n",
    "        spec-1 OR spec-2 OR spec-3 OR ... LIKE specs\n",
    "            if half of user specs was IN then there is a match\n",
    "\"\"\""
   ]
  },
  {
   "cell_type": "code",
   "execution_count": 39,
   "metadata": {},
   "outputs": [
    {
     "data": {
      "text/plain": [
       "60.0"
      ]
     },
     "execution_count": 39,
     "metadata": {},
     "output_type": "execute_result"
    }
   ],
   "source": [
    "u1 = {1,2,3,4,5}\n",
    "u2 = {3,4,5,6}\n",
    "co = u1.intersection(u2)\n",
    "\n",
    "u1 = len(u1)\n",
    "u2 = len(u2)\n",
    "co = len(co)\n",
    "\n",
    "co/u1 * 100"
   ]
  },
  {
   "cell_type": "code",
   "execution_count": null,
   "metadata": {},
   "outputs": [],
   "source": []
  }
 ],
 "metadata": {
  "kernelspec": {
   "display_name": "Python 3.11.0 ('dev-QlN82kKl')",
   "language": "python",
   "name": "python3"
  },
  "language_info": {
   "codemirror_mode": {
    "name": "ipython",
    "version": 3
   },
   "file_extension": ".py",
   "mimetype": "text/x-python",
   "name": "python",
   "nbconvert_exporter": "python",
   "pygments_lexer": "ipython3",
   "version": "3.11.0"
  },
  "orig_nbformat": 4,
  "vscode": {
   "interpreter": {
    "hash": "1453cd5144ae3196c08376347c290d3a48a08aae8c8578ea634debfff0ac3358"
   }
  }
 },
 "nbformat": 4,
 "nbformat_minor": 2
}
