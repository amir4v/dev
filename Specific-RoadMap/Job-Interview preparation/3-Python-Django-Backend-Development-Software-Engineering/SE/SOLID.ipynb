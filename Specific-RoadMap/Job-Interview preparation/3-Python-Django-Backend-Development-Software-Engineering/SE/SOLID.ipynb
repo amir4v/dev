{
 "cells": [
  {
   "cell_type": "markdown",
   "metadata": {},
   "source": [
    "# SOLID\n",
    "## 1. Single Responsibility Principle (SRP)\n",
    "## 2. Open-Closed Principle (OCP)\n",
    "## 3. Liskov Substitution Principle (LSP)\n",
    "## 4. Interface Segregation Principle (ISP)\n",
    "## 5. Dependency Inversion Principle (DIP)\n",
    "\n",
    "---"
   ]
  },
  {
   "cell_type": "markdown",
   "metadata": {},
   "source": [
    "The SOLID principles are a set of design principles that help developers create more maintainable and scalable software.\n",
    "Here's a detailed and practical explanation of each principle, along with best practices and examples:\n",
    "\n",
    "---"
   ]
  },
  {
   "cell_type": "markdown",
   "metadata": {},
   "source": [
    "1. Single Responsibility Principle (SRP)\n",
    "Definition:\n",
    "A class should have only one reason to change, meaning it should have only one job or responsibility.\n",
    "\n",
    "Best Practices:\n",
    "- Ensure each class has a single purpose.\n",
    "- If a class has more than one responsibility, split it into smaller classes."
   ]
  },
  {
   "cell_type": "code",
   "execution_count": 1,
   "metadata": {},
   "outputs": [],
   "source": [
    "class UserCreator:\n",
    "    def create_user(self, username, password):\n",
    "        # logic to create a user\n",
    "        pass\n",
    "\n",
    "class EmailSender:\n",
    "    def send_welcome_email(self, user):\n",
    "        # logic to send welcome email\n",
    "        pass"
   ]
  },
  {
   "cell_type": "markdown",
   "metadata": {},
   "source": [
    "2. Open/Closed Principle (OCP)\n",
    "Definition:\n",
    "Software entities (classes, modules, functions, etc.) should be open for extension but closed for modification.\n",
    "\n",
    "Best Practices:\n",
    "- Use interfaces or abstract classes to allow the addition of new functionalities without changing existing code.\n",
    "- Use inheritance and polymorphism to extend behaviors."
   ]
  },
  {
   "cell_type": "code",
   "execution_count": 2,
   "metadata": {},
   "outputs": [],
   "source": [
    "class PaymentProcessor:\n",
    "    def process_payment(self, payment_method):\n",
    "        payment_method.process()\n",
    "\n",
    "class PaymentMethod:\n",
    "    def process(self):\n",
    "        raise NotImplementedError\n",
    "\n",
    "class CreditPayment(PaymentMethod):\n",
    "    def process(self):\n",
    "        # logic to process credit payment\n",
    "        pass\n",
    "\n",
    "class PaypalPayment(PaymentMethod):\n",
    "    def process(self):\n",
    "        # logic to process paypal payment\n",
    "        pass"
   ]
  },
  {
   "cell_type": "markdown",
   "metadata": {},
   "source": [
    "3. Liskov Substitution Principle (LSP)\n",
    "Definition:\n",
    "Objects of a superclass should be replaceable with objects of a subclass without affecting the correctness of the program.\n",
    "\n",
    "Best Practices:\n",
    "- Ensure that subclasses override methods in a way that does not break functionality expected by the superclass.\n",
    "- Avoid violating the expected behavior of the base class in subclasses."
   ]
  },
  {
   "cell_type": "code",
   "execution_count": 3,
   "metadata": {},
   "outputs": [],
   "source": [
    "# ------------------------- Before applying Liskov Substitution Principle (LSP)\n",
    "\n",
    "class Bird:\n",
    "    def fly(self):\n",
    "        pass\n",
    "\n",
    "class Sparrow(Bird):\n",
    "    def fly(self):\n",
    "        # Sparrow can fly\n",
    "        pass\n",
    "\n",
    "class Ostrich(Bird):\n",
    "    def fly(self):\n",
    "        raise Exception(\"Ostrich can't fly\")\n",
    "\n",
    "# ----------------------------------------------------------------------- After\n",
    "\n",
    "class Bird:\n",
    "    pass\n",
    "\n",
    "class FlyingBird(Bird):\n",
    "    def fly(self):\n",
    "        pass\n",
    "\n",
    "class Sparrow(FlyingBird):\n",
    "    def fly(self):\n",
    "        # Sparrow can fly\n",
    "        pass\n",
    "\n",
    "class Ostrich(Bird):\n",
    "    # Ostrich doesn't inherit from FlyingBird since it can't fly.\n",
    "    pass"
   ]
  },
  {
   "cell_type": "markdown",
   "metadata": {},
   "source": [
    "4. Interface Segregation Principle (ISP)\n",
    "Definition:\n",
    "No client should be forced to depend on methods it does not use. Create specific interfaces instead of a general-purpose one.\n",
    "\n",
    "Best Practices:\n",
    "\n",
    "- Create smaller, more specific interfaces.\n",
    "- Avoid fat interfaces that contain unrelated methods."
   ]
  },
  {
   "cell_type": "code",
   "execution_count": 4,
   "metadata": {},
   "outputs": [],
   "source": [
    "class Workable:\n",
    "    def work(self):\n",
    "        pass\n",
    "class Eatable:\n",
    "    def eat(self):\n",
    "        pass\n",
    "\n",
    "class HumanWorker(Workable, Eatable):\n",
    "    def work(self):\n",
    "        # Human can work\n",
    "        pass\n",
    "    def eat(self):\n",
    "        # Human can eat\n",
    "        pass\n",
    "\n",
    "class RobotWorker(Workable):\n",
    "    def work(self):\n",
    "        # Robot can work\n",
    "        pass"
   ]
  },
  {
   "cell_type": "markdown",
   "metadata": {},
   "source": [
    "5. Dependency Inversion Principle (DIP)\n",
    "Definition:\n",
    "High-level modules should not depend on low-level modules. Both should depend on abstractions (e.g., interfaces). Abstractions should not depend on details. Details should depend on abstractions.\n",
    "\n",
    "Best Practices:\n",
    "- Depend on abstractions rather than concrete implementations.\n",
    "- Use dependency injection to pass dependencies."
   ]
  },
  {
   "cell_type": "code",
   "execution_count": 5,
   "metadata": {},
   "outputs": [],
   "source": [
    "class Database:\n",
    "    def connect(self):\n",
    "        pass\n",
    "\n",
    "class DatabaseInterface:\n",
    "    def connect(self):\n",
    "        pass\n",
    "\n",
    "class MySQLDatabase(DatabaseInterface):\n",
    "    def connect(self):\n",
    "        # MySQL specific connection logic\n",
    "        pass\n",
    "\n",
    "class UserService:\n",
    "    def __init__(self, db: DatabaseInterface):\n",
    "        self.db = db\n",
    "    def get_user(self, user_id):\n",
    "        self.db.connect()\n",
    "        # logic to get user\n",
    "        pass"
   ]
  },
  {
   "cell_type": "markdown",
   "metadata": {},
   "source": [
    "---\n",
    "\n",
    "### By adhering to the SOLID principles, you can create a more modular, maintainable, and scalable codebase. These principles help you avoid code smells and technical debt, making your software easier to extend and modify in the future."
   ]
  },
  {
   "cell_type": "markdown",
   "metadata": {},
   "source": []
  }
 ],
 "metadata": {
  "kernelspec": {
   "display_name": "venv",
   "language": "python",
   "name": "python3"
  },
  "language_info": {
   "codemirror_mode": {
    "name": "ipython",
    "version": 3
   },
   "file_extension": ".py",
   "mimetype": "text/x-python",
   "name": "python",
   "nbconvert_exporter": "python",
   "pygments_lexer": "ipython3",
   "version": "3.11.8"
  }
 },
 "nbformat": 4,
 "nbformat_minor": 2
}
