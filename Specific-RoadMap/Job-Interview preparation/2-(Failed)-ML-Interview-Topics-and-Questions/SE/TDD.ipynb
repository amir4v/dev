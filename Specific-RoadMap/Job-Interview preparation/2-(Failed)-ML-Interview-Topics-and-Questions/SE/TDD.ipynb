{
 "cells": [
  {
   "cell_type": "markdown",
   "metadata": {},
   "source": [
    "# TDD"
   ]
  },
  {
   "cell_type": "markdown",
   "metadata": {},
   "source": [
    "1. Write Tests\n",
    "2. Run The Tests\n",
    "3. Write The Actual Code (Logic/Business)\n",
    "4. Make All Tests Pass\n",
    "5. Refactor And Improve"
   ]
  },
  {
   "cell_type": "markdown",
   "metadata": {},
   "source": [
    "###### RED - GREEN - REFACTOR\n",
    "\n",
    "- The RED phase\n",
    "- The GREEN phase\n",
    "- The REFACTOR phase"
   ]
  },
  {
   "cell_type": "markdown",
   "metadata": {},
   "source": [
    "---"
   ]
  },
  {
   "cell_type": "code",
   "execution_count": null,
   "metadata": {},
   "outputs": [],
   "source": []
  }
 ],
 "metadata": {
  "language_info": {
   "name": "python"
  }
 },
 "nbformat": 4,
 "nbformat_minor": 2
}
